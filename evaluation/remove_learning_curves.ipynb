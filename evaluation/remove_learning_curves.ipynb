{
 "cells": [
  {
   "attachments": {},
   "cell_type": "markdown",
   "metadata": {},
   "source": [
    "### Notebook for removing learning curves\n",
    "We analyze the learning curves in preliminary_experiments and mode1_learning_curves.\n",
    "The learning curves takes up a lot of space.  This notebook can be used to remove the learning curves of shards stored in the results directory. We use this notebook to remove the learning curves of the first 2 shards of the mode1 experiments as we continue using these experiments for other analysis.\n",
    "\n",
    "Note that a shard with no learning curves is ca. 7 times smaller than a shard with learning curves and requires 20 times less memory if loading default pandas datatypes\n",
    "\n",
    "Set `PATH_TO_SHARD` for the shard to remove learning curves for"
   ]
  },
  {
   "cell_type": "code",
   "execution_count": 1,
   "metadata": {},
   "outputs": [],
   "source": [
    "import json\n",
    "import os\n",
    "from tqdm import tqdm\n",
    "import os"
   ]
  },
  {
   "cell_type": "code",
   "execution_count": 2,
   "metadata": {},
   "outputs": [],
   "source": [
    "PATH_TO_SHARD = 'results/mode1/processed/shards/2.ndjson'"
   ]
  },
  {
   "cell_type": "code",
   "execution_count": 3,
   "metadata": {},
   "outputs": [
    {
     "name": "stderr",
     "output_type": "stream",
     "text": [
      "100%|██████████| 3700/3700 [02:43<00:00, 22.61it/s]\n"
     ]
    }
   ],
   "source": [
    "# Read json, remove all learning curve data and store results in a temp file\n",
    "TEMP_FILE = f'{PATH_TO_SHARD}_temp'\n",
    "curves = [\"pretext_losses\", \"downstream_train_losses\", \"downstream_val_losses\", \"downstream_val_tuning_metrics\"]\n",
    "\n",
    "with open(PATH_TO_SHARD, 'r') as f:\n",
    "    with open(TEMP_FILE, 'w') as temp:\n",
    "      lines_temp = f.readlines()\n",
    "      for line in tqdm(lines_temp):\n",
    "          j = json.loads(line)\n",
    "          to_delete = []\n",
    "          for k,v in j.items():\n",
    "            if any(c in k for c in curves):\n",
    "                to_delete.append(k)\n",
    "          for k in to_delete:\n",
    "             del j[k]\n",
    "          temp.write(json.dumps(j))"
   ]
  },
  {
   "cell_type": "code",
   "execution_count": 4,
   "metadata": {},
   "outputs": [],
   "source": [
    "# Delete original data and rename temp file to the original name\n",
    "import os\n",
    "os.remove(PATH_TO_SHARD)\n",
    "os.rename(TEMP_FILE, PATH_TO_SHARD)"
   ]
  }
 ],
 "metadata": {
  "kernelspec": {
   "display_name": "thesis",
   "language": "python",
   "name": "python3"
  },
  "language_info": {
   "codemirror_mode": {
    "name": "ipython",
    "version": 3
   },
   "file_extension": ".py",
   "mimetype": "text/x-python",
   "name": "python",
   "nbconvert_exporter": "python",
   "pygments_lexer": "ipython3",
   "version": "3.10.9"
  },
  "orig_nbformat": 4
 },
 "nbformat": 4,
 "nbformat_minor": 2
}
