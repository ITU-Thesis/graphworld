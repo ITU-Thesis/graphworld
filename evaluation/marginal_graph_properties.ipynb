{
 "cells": [
  {
   "cell_type": "code",
   "execution_count": 54,
   "metadata": {},
   "outputs": [],
   "source": [
    "import pandas as pd\n",
    "import json\n",
    "from evaluation_utils import read_processed_shards\n",
    "import seaborn as sns\n",
    "import matplotlib.pyplot as plt\n",
    "from collections import defaultdict\n",
    "import numpy as np\n",
    "from matplotlib.ticker import PercentFormatter\n",
    "from scipy.stats import f_oneway\n"
   ]
  },
  {
   "cell_type": "code",
   "execution_count": 45,
   "metadata": {},
   "outputs": [],
   "source": [
    "PROCESSED_DIR = f'results/preliminary/processed'\n",
    "df = read_processed_shards(PROCESSED_DIR)"
   ]
  },
  {
   "cell_type": "code",
   "execution_count": 32,
   "metadata": {},
   "outputs": [
    {
     "data": {
      "text/plain": [
       "Index(['GIN_MEtAl_URL_val_f1_micro', 'GIN_MEtAl_URL_val_f1_macro',\n",
       "       'GIN_MEtAl_URL_val_rocauc_ovr', 'GIN_MEtAl_URL_val_rocauc_ovo',\n",
       "       'GIN_MEtAl_URL_val_logloss', 'GIN_MEtAl_URL_test_accuracy',\n",
       "       'GIN_MEtAl_URL_test_f1_micro', 'GIN_MEtAl_URL_test_f1_macro',\n",
       "       'GIN_MEtAl_URL_test_rocauc_ovr', 'GIN_MEtAl_URL_test_rocauc_ovo',\n",
       "       'GIN_MEtAl_URL_test_logloss', 'GIN_MEtAl_URL_train_pretext_epochs',\n",
       "       'GIN_MEtAl_URL_train_pretext_lr',\n",
       "       'GIN_MEtAl_URL_train_downstream_epochs',\n",
       "       'GIN_MEtAl_URL_train_downstream_lr', 'GIN_MEtAl_URL_train_patience',\n",
       "       'GIN_MEtAl_URL_encoder_in_channels',\n",
       "       'GIN_MEtAl_URL_encoder_hidden_channels',\n",
       "       'GIN_MEtAl_URL_encoder_num_layers', 'GIN_MEtAl_URL_encoder_dropout',\n",
       "       'GIN_MEtAl_URL_encoder_out_channels',\n",
       "       'GIN_MEtAl_URL_pretext_partial_reconstruction',\n",
       "       'GIN_MEtAl_URL_pretext_feature_mask_ratio',\n",
       "       'GIN_MEtAl_URL_pretext_embedding_mask_ratio',\n",
       "       'GIN_MEtAl_URL_pretext_ae_loss_weight',\n",
       "       'GIN_MEtAl_URL_pretext_fr_loss_weight',\n",
       "       'GIN_MEtAl_URL_pretext_er_loss_weight', 'GIN_MEtAl_URL_skipped',\n",
       "       'GIN_MEtAl_URL_pretext_losses', 'GIN_MEtAl_URL_downstream_val_losses',\n",
       "       'GIN_MEtAl_URL_downstream_train_losses',\n",
       "       'GIN_MEtAl_URL_downstream_val_tuning_metrics', 'bin_nvertex',\n",
       "       'bin_avg_degree', 'bin_feature_center_distance', 'bin_num_clusters',\n",
       "       'bin_cluster_size_slope', 'bin_power_exponent', 'bin_p_to_q_ratio',\n",
       "       'bin_min_deg'],\n",
       "      dtype='object')"
      ]
     },
     "execution_count": 32,
     "metadata": {},
     "output_type": "execute_result"
    }
   ],
   "source": [
    "df.columns[-40:]"
   ]
  },
  {
   "cell_type": "code",
   "execution_count": 51,
   "metadata": {},
   "outputs": [],
   "source": [
    "# Compute average test metric for each graph\n",
    "TEST_METRIC = 'test_rocauc_ovr'\n",
    "cols = [col for col in df.columns if TEST_METRIC in col]\n",
    "df[f'avg_{TEST_METRIC}'] = df[cols].mean(axis=1)"
   ]
  },
  {
   "cell_type": "code",
   "execution_count": 63,
   "metadata": {},
   "outputs": [
    {
     "name": "stderr",
     "output_type": "stream",
     "text": [
      "c:\\Users\\bertr\\miniconda3\\envs\\thesis\\lib\\site-packages\\scipy\\stats\\_stats_py.py:3861: DegenerateDataWarning: at least one input has length 0\n",
      "  warnings.warn(stats.DegenerateDataWarning('at least one input '\n",
      "c:\\Users\\bertr\\miniconda3\\envs\\thesis\\lib\\site-packages\\scipy\\stats\\_stats_py.py:3861: DegenerateDataWarning: at least one input has length 0\n",
      "  warnings.warn(stats.DegenerateDataWarning('at least one input '\n"
     ]
    },
    {
     "name": "stdout",
     "output_type": "stream",
     "text": [
      "Optimal nvertex bin: (465.0, 468.0]\n",
      "Optimal avg_degree bin: (10.48, 10.514]\n",
      "Optimal feature_center_distance bin: (2.063, 2.1]\n",
      "Optimal num_clusters bin: nan\n",
      "Optimal cluster_size_slope bin: (0.0793, 0.0873]\n",
      "Optimal power_exponent bin: nan\n",
      "Optimal p_to_q_ratio bin: (29.937, 30.862]\n",
      "Optimal min_deg bin: (1.999, 3.0]\n"
     ]
    }
   ],
   "source": [
    "# Bin each graph property into a fixed number of quantile bines\n",
    "GRAPH_PROPERTIES = ['nvertex', 'avg_degree', 'feature_center_distance', 'num_clusters',\n",
    "                    'cluster_size_slope', 'power_exponent', 'p_to_q_ratio', 'min_deg']\n",
    "BINS = 100\n",
    "\n",
    "for gp in GRAPH_PROPERTIES:\n",
    "    bins = pd.qcut(df[gp], q=BINS, duplicates='drop')\n",
    "    df[f'bin_{gp}'] = bins\n",
    "\n",
    "# create an empty dictionary to store the results\n",
    "results = {}\n",
    "\n",
    "# loop over each parameter\n",
    "for gp in GRAPH_PROPERTIES:\n",
    "\n",
    "    bin_f_stats = {}\n",
    "\n",
    "    # loop over each quantile bin\n",
    "    for b in df[f'bin_{gp}'].unique():\n",
    "        # filter the dataframe to only include rows where the current parameter is in bin i\n",
    "        df_i = df[df[f'bin_{gp}'] == b]\n",
    "        test_metric = df_i[f'avg_{TEST_METRIC}']\n",
    "\n",
    "        # compute the average F statistic between the other parameters and the test metric\n",
    "        f_stats = []\n",
    "        for gp_other in GRAPH_PROPERTIES:\n",
    "            if gp_other != gp:\n",
    "                gp_other = df_i[gp_other]\n",
    "                f_stat, p_val = f_oneway(gp_other, test_metric)\n",
    "                f_stats.append(f_stat)\n",
    "        bin_f_stats[b] = sum(f_stats) / len(f_stats)\n",
    "\n",
    "\n",
    "    # find the quantized value that produced the highest average F statistic\n",
    "    max_f_stat = max(bin_f_stats, key=bin_f_stats.get)\n",
    "    results[gp] = max_f_stat    \n",
    "for k,v in results.items():\n",
    "    print(f'Optimal {k} bin: {v}')"
   ]
  },
  {
   "cell_type": "code",
   "execution_count": 10,
   "metadata": {},
   "outputs": [
    {
     "data": {
      "text/plain": [
       "0      162.0\n",
       "1      248.0\n",
       "2      480.0\n",
       "3      263.0\n",
       "4      470.0\n",
       "       ...  \n",
       "995    244.0\n",
       "996    353.0\n",
       "997    502.0\n",
       "998    172.0\n",
       "999    296.0\n",
       "Name: num_nodes, Length: 1000, dtype: float64"
      ]
     },
     "execution_count": 10,
     "metadata": {},
     "output_type": "execute_result"
    }
   ],
   "source": []
  },
  {
   "cell_type": "code",
   "execution_count": null,
   "metadata": {},
   "outputs": [],
   "source": [
    "# Compute average GNN test metric\n",
    "def get_average_for_graphs(metric):\n",
    "    "
   ]
  }
 ],
 "metadata": {
  "kernelspec": {
   "display_name": "thesis",
   "language": "python",
   "name": "python3"
  },
  "language_info": {
   "codemirror_mode": {
    "name": "ipython",
    "version": 3
   },
   "file_extension": ".py",
   "mimetype": "text/x-python",
   "name": "python",
   "nbconvert_exporter": "python",
   "pygments_lexer": "ipython3",
   "version": "3.10.9"
  },
  "orig_nbformat": 4
 },
 "nbformat": 4,
 "nbformat_minor": 2
}
