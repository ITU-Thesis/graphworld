{
 "cells": [
  {
   "attachments": {},
   "cell_type": "markdown",
   "metadata": {},
   "source": [
    "### Global analysis (no marginalization)\n",
    "This notebook analyses and plots the global results of mode1 and mode4 with no marginalization on graph properties.\n",
    "\n",
    "\n",
    "The results are based on\n",
    "\n",
    "-----------\n",
    "OBS: Uncomment lines when mode4 is ready to be analysed. Feel free to add what you want"
   ]
  },
  {
   "cell_type": "code",
   "execution_count": null,
   "metadata": {},
   "outputs": [],
   "source": [
    "1+1"
   ]
  },
  {
   "cell_type": "code",
   "execution_count": null,
   "metadata": {},
   "outputs": [],
   "source": [
    "df = pd.DataFrame({\n",
    "    'a': [1, 2, 3],\n",
    "    'b': [9, 0, 10]\n",
    "})"
   ]
  },
  {
   "cell_type": "code",
   "execution_count": 13,
   "metadata": {},
   "outputs": [],
   "source": [
    "import pandas as pd\n",
    "import json\n",
    "from evaluation_utils import read_processed_shards, get_best_configuration_per_model\n",
    "import seaborn as sns\n",
    "import matplotlib.pyplot as plt\n",
    "from collections import defaultdict\n",
    "import numpy as np\n",
    "from matplotlib.ticker import PercentFormatter\n",
    "from scipy.stats import f_oneway\n",
    "from tqdm import tqdm\n",
    "import pylab as pl\n",
    "import matplotlib as mpl\n",
    "from collections import OrderedDict"
   ]
  },
  {
   "attachments": {},
   "cell_type": "markdown",
   "metadata": {},
   "source": [
    "##### CONSTANTS\n",
    "These constants are used to specify different views of our results which might be interesting"
   ]
  },
  {
   "cell_type": "code",
   "execution_count": 14,
   "metadata": {},
   "outputs": [],
   "source": [
    "# --------- DATA ---------\n",
    "MODE_1_PROCESSED_DIR = f'results/mode1/processed' # mode1\n",
    "#MODE_4_PROCESSED_DIR = f'results/mode1/processed' # mode4\n",
    "\n",
    "# --------- MODELS ---------\n",
    "GENERATION_FEATURES = ['AttributeMask', 'CorrupedEmbeddingsReconstruction', 'CorruptedFeaturesReconstruction']\n",
    "GENERATION_STRUCTURE = ['EdgeMask', 'GAE']\n",
    "GENERATION_ALL = GENERATION_FEATURES + GENERATION_STRUCTURE\n",
    "AUXILIARY_ALL = ['NodeClusteringWithAlignment', 'S2GRL', 'PairwiseAttrSim', 'GraphPartitioning']\n",
    "CONTRAST_SAME_SCALE = ['BGRL', 'GBT', 'GCA', 'SelfGNNPPR', 'SelfGNNSplit', 'MERIT']\n",
    "CONTRAST_CROSS_SCALE = ['DeepGraphInfomax', 'GraphInfoClust', 'SUBGCON']\n",
    "CONTRAST_ALL = CONTRAST_SAME_SCALE + CONTRAST_CROSS_SCALE\n",
    "HYBRID_ALL = ['G_Zoom', 'MEtAl', 'MVMI_FT']\n",
    "ALL_MODELS = GENERATION_ALL + AUXILIARY_ALL + CONTRAST_ALL + HYBRID_ALL\n",
    "N_MODELS = len(ALL_MODELS)\n",
    "\n",
    "# --------- ENCODERS ---------\n",
    "ENCODERS = ['GCN', 'GAT', 'GIN']\n",
    "\n",
    "# --------- TRAINING SCHEMES ---------\n",
    "TRAINING_SCHEMES = ['JL', 'PF', 'URL']\n",
    "\n",
    "# --------- TEST METRIC ---------\n",
    "TEST_METRIC = 'test_rocauc_ovr'"
   ]
  },
  {
   "attachments": {},
   "cell_type": "markdown",
   "metadata": {},
   "source": [
    "##### INDEXING\n",
    "General scheme of a column: `Encoder_model_scheme`\n",
    "Example of a column: `GCN_AttributeMask_JL`"
   ]
  },
  {
   "cell_type": "code",
   "execution_count": null,
   "metadata": {},
   "outputs": [],
   "source": [
    "def get_test_metric(df):\n",
    "    return df[df.columns in [TEST_METRIC] ]"
   ]
  },
  {
   "attachments": {},
   "cell_type": "markdown",
   "metadata": {},
   "source": [
    "##### READING DATA\n",
    "We read the data and remove graphs where any model has failed / crashed"
   ]
  },
  {
   "cell_type": "code",
   "execution_count": 16,
   "metadata": {},
   "outputs": [
    {
     "name": "stdout",
     "output_type": "stream",
     "text": [
      "1.ndjson\n",
      "2.ndjson\n"
     ]
    }
   ],
   "source": [
    "# --------- READING DATA ---------\n",
    "df1 = read_processed_shards(MODE_1_PROCESSED_DIR) # mode1\n",
    "df1.drop(['marginal_param', 'fixed_params'], axis=1, inplace=True)\n",
    "df1.dropna(axis=0, inplace=True)\n",
    "\n",
    "#df4 = read_processed_shards(PROCESSED_DIR_4) # mode4\n",
    "#df4.drop(['marginal_param', 'fixed_params'], axis=1, inplace=True)\n",
    "#df4.dropna(axis=0, inplace=True)"
   ]
  },
  {
   "attachments": {},
   "cell_type": "markdown",
   "metadata": {},
   "source": [
    "##### Mean and std global results for all models\n",
    "Here we report the mean and std test metric of all models per main category:\n",
    "- Generation-based\n",
    "- Auxiliary-based\n",
    "- Contrast-based\n",
    "- Hybrid\n"
   ]
  },
  {
   "cell_type": "code",
   "execution_count": null,
   "metadata": {},
   "outputs": [],
   "source": [
    "# --------- Mode1 ---------\n",
    "for m in ALL_MODELS:\n",
    "    \n",
    "    \n",
    "df1.groupby()"
   ]
  }
 ],
 "metadata": {
  "kernelspec": {
   "display_name": "thesis",
   "language": "python",
   "name": "python3"
  },
  "language_info": {
   "codemirror_mode": {
    "name": "ipython",
    "version": 3
   },
   "file_extension": ".py",
   "mimetype": "text/x-python",
   "name": "python",
   "nbconvert_exporter": "python",
   "pygments_lexer": "ipython3",
   "version": "3.10.9"
  },
  "orig_nbformat": 4
 },
 "nbformat": 4,
 "nbformat_minor": 2
}
