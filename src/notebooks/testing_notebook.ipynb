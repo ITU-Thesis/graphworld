{
 "cells": [
  {
   "attachments": {},
   "cell_type": "markdown",
   "metadata": {},
   "source": [
    "This file allows for testing the GraphWorld setup with GNN implementations.\n",
    "It is currently set up to test the SSL methods for the JL benchmarker.\n",
    "\n",
    "Through this notebook you can attach a debugger.\n",
    "Note that graph_tool does not work on windows, so we cannot use the graph generators.\n",
    "Instead, we use the standard datasets from PyG."
   ]
  },
  {
   "cell_type": "code",
   "execution_count": 1,
   "metadata": {},
   "outputs": [],
   "source": [
    "import os\n",
    "import sys\n",
    "module_path = os.path.abspath(os.path.join('..'))\n",
    "if module_path not in sys.path:\n",
    "    sys.path.append(module_path)\n",
    "\n",
    "from graph_world.self_supervised_learning.benchmarker_jl import NNNodeBenchmarkerJL\n",
    "from graph_world.models.basic_gnn import GCN\n",
    "from torch_geometric.datasets import Planetoid\n",
    "\n",
    "from graph_world.self_supervised_learning.pretext_tasks import *\n"
   ]
  },
  {
   "cell_type": "code",
   "execution_count": 2,
   "metadata": {},
   "outputs": [],
   "source": [
    "# Parameter setup (for cora)\n",
    "benchmark_params = {\n",
    "    'epochs' : 50,\n",
    "    'lr' : 0.01,\n",
    "    'lambda' : 1\n",
    "}\n",
    "\n",
    "h_params = {\n",
    "    'in_channels' : 1433,\n",
    "    'hidden_channels' : 16,\n",
    "    'num_layers' : 2,\n",
    "    'dropout' : 0.5,\n",
    "    #\"embedding_corruption_ratio\" : 0.1, \n",
    "    #\"partial_embedding_reconstruction\" : True\n",
    "}\n",
    "\n",
    "generator_config = {\n",
    "    'num_clusters' : 7\n",
    "}\n",
    "\n",
    "pretext_tasks = [AutoEncoding]"
   ]
  },
  {
   "cell_type": "code",
   "execution_count": 3,
   "metadata": {},
   "outputs": [],
   "source": [
    "# Get dataset\n",
    "dataset = Planetoid(root='/tmp/Cora', name='Cora')[0]"
   ]
  },
  {
   "cell_type": "code",
   "execution_count": 5,
   "metadata": {},
   "outputs": [
    {
     "name": "stdout",
     "output_type": "stream",
     "text": [
      "GCN(1433, 16, num_layers=2)\n"
     ]
    },
    {
     "data": {
      "text/plain": [
       "([1.9709248542785645,\n",
       "  1.9560898542404175,\n",
       "  1.9460448026657104,\n",
       "  1.9289556741714478,\n",
       "  1.9091475009918213,\n",
       "  1.905465006828308,\n",
       "  1.8811860084533691,\n",
       "  1.8559999465942383,\n",
       "  1.8289926052093506,\n",
       "  1.7787970304489136,\n",
       "  1.744362235069275,\n",
       "  1.6953823566436768,\n",
       "  1.693399429321289,\n",
       "  1.5920978784561157,\n",
       "  1.5415722131729126,\n",
       "  1.5384175777435303,\n",
       "  1.5545663833618164,\n",
       "  1.4152867794036865,\n",
       "  1.3280062675476074,\n",
       "  1.3726187944412231,\n",
       "  1.258575677871704,\n",
       "  1.1728696823120117,\n",
       "  1.1490118503570557,\n",
       "  1.1479023694992065,\n",
       "  1.0467125177383423,\n",
       "  0.9645215272903442,\n",
       "  0.9640455842018127,\n",
       "  0.9798706769943237,\n",
       "  0.8645495176315308,\n",
       "  0.8162862658500671,\n",
       "  0.8062866926193237,\n",
       "  0.6952652931213379,\n",
       "  0.6964900493621826,\n",
       "  0.7294121384620667,\n",
       "  0.5854201316833496,\n",
       "  0.7321053147315979,\n",
       "  0.6793482303619385,\n",
       "  0.6392207741737366,\n",
       "  0.5541570782661438,\n",
       "  0.49288591742515564,\n",
       "  0.5233592391014099,\n",
       "  0.5682645440101624,\n",
       "  0.5767819285392761,\n",
       "  0.6078652739524841,\n",
       "  0.5113683342933655,\n",
       "  0.4658941626548767,\n",
       "  0.45651131868362427,\n",
       "  0.48973938822746277,\n",
       "  0.5456904172897339,\n",
       "  0.6086251139640808],\n",
       " {'accuracy': 0.734,\n",
       "  'f1_micro': 0.734,\n",
       "  'f1_macro': 0.732424577231544,\n",
       "  'rocauc_ovr': 0.8575306822592508,\n",
       "  'rocauc_ovo': 0.8575306822592508,\n",
       "  'logloss': 2.521139224124896},\n",
       " {'accuracy': 0.728,\n",
       "  'f1_micro': 0.728,\n",
       "  'f1_macro': 0.7153881844513883,\n",
       "  'rocauc_ovr': 0.8504018912138386,\n",
       "  'rocauc_ovo': 0.8504018912138386,\n",
       "  'logloss': 2.560512437355257})"
      ]
     },
     "execution_count": 5,
     "metadata": {},
     "output_type": "execute_result"
    }
   ],
   "source": [
    "# Training. You can attach a debugger to w/e is needed inside train\n",
    "benchmarker = NNNodeBenchmarkerJL(generator_config=generator_config, model_class=GCN, \n",
    "                benchmark_params=benchmark_params, h_params=h_params, pretext_tasks=pretext_tasks)\n",
    "benchmarker.SetMasks(train_mask=dataset.train_mask, val_mask=dataset.val_mask, test_mask=dataset.test_mask)\n",
    "benchmarker.train(data=dataset, tuning_metric=\"rocauc_ovr\", tuning_metric_is_loss=False)"
   ]
  },
  {
   "cell_type": "code",
   "execution_count": null,
   "metadata": {},
   "outputs": [],
   "source": []
  }
 ],
 "metadata": {
  "kernelspec": {
   "display_name": "thesis",
   "language": "python",
   "name": "python3"
  },
  "language_info": {
   "codemirror_mode": {
    "name": "ipython",
    "version": 3
   },
   "file_extension": ".py",
   "mimetype": "text/x-python",
   "name": "python",
   "nbconvert_exporter": "python",
   "pygments_lexer": "ipython3",
   "version": "3.10.9"
  },
  "orig_nbformat": 4,
  "vscode": {
   "interpreter": {
    "hash": "c7ab25521b35298f0c482908cd2836fcd803c6b8449977de01eb4d32cc96d8dc"
   }
  }
 },
 "nbformat": 4,
 "nbformat_minor": 2
}
