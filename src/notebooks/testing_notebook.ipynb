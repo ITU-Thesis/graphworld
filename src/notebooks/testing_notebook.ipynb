{
 "cells": [
  {
   "attachments": {},
   "cell_type": "markdown",
   "metadata": {},
   "source": [
    "This file allows for testing the GraphWorld setup with GNN implementations.\n",
    "It is currently set up to test the SSL methods for the JL benchmarker.\n",
    "\n",
    "Through this notebook you can attach a debugger.\n",
    "Note that graph_tool does not work on windows, so we cannot use the graph generators.\n",
    "Instead, we use the standard datasets from PyG."
   ]
  },
  {
   "cell_type": "code",
   "execution_count": 1,
   "metadata": {},
   "outputs": [],
   "source": [
    "import os\n",
    "import sys\n",
    "module_path = os.path.abspath(os.path.join('..'))\n",
    "if module_path not in sys.path:\n",
    "    sys.path.append(module_path)\n",
    "\n",
    "from graph_world.self_supervised_learning.benchmarker_jl import NNNodeBenchmarkerJL\n",
    "from graph_world.models.basic_gnn import GCN\n",
    "from torch_geometric.datasets import Planetoid\n",
    "\n",
    "from graph_world.self_supervised_learning.pretext_tasks import *\n"
   ]
  },
  {
   "cell_type": "code",
   "execution_count": 2,
   "metadata": {},
   "outputs": [],
   "source": [
    "# Parameter setup (for cora)\n",
    "benchmark_params = {\n",
    "    'epochs' : 50,\n",
    "    'lr' : 0.01,\n",
    "    'lambda' : 1\n",
    "}\n",
    "\n",
    "h_params = {\n",
    "    'in_channels' : 1433,\n",
    "    'hidden_channels' : 16,\n",
    "    'num_layers' : 2,\n",
    "    'dropout' : 0.5,\n",
    "    \"embedding_corruption_ratio\" : 0.1, \n",
    "    \"partial_embedding_reconstruction\" : True,\n",
    "    'n_clusters': 200\n",
    "}\n",
    "\n",
    "generator_config = {\n",
    "    'num_clusters' : 7,\n",
    "}\n",
    "\n",
    "pretext_tasks = [NodeClusteringWithAlignment]"
   ]
  },
  {
   "cell_type": "code",
   "execution_count": 3,
   "metadata": {},
   "outputs": [],
   "source": [
    "# Get dataset\n",
    "dataset = Planetoid(root='/tmp/Cora', name='Cora')[0]"
   ]
  },
  {
   "cell_type": "code",
   "execution_count": 47,
   "metadata": {},
   "outputs": [],
   "source": [
    "from sklearn.cluster import KMeans\n",
    "\n",
    "# Step 0: Setup\n",
    "train_mask = dataset.train_mask\n",
    "X = dataset.x\n",
    "y = dataset.y\n",
    "num_classes = y.unique().shape[0]\n",
    "feat_dim = X.shape[1]\n",
    "centroids_labeled = torch.zeros((num_classes, feat_dim))\n",
    "n_clusters=200\n",
    "random_state=1\n",
    "\n",
    "# Step 1: Compute centroids in each cluster by the mean in each class\n",
    "for cn in range(num_classes):\n",
    "    lf = X[train_mask]\n",
    "    ll = y[train_mask]\n",
    "    centroids_labeled[cn] = lf[ll == cn].mean(axis=0)\n",
    "\n",
    "# Step 2: Set cluster labels for each node\n",
    "cluster_labels = torch.ones(y.shape, dtype=torch.int64) * -1\n",
    "cluster_labels[train_mask] = y[train_mask]\n",
    "\n",
    "# Step 3: Train KMeans on all points\n",
    "kmeans = KMeans(n_clusters=n_clusters, random_state=random_state).fit(X)\n",
    "\n",
    "# Step 4: Perform alignment mechanism\n",
    "# 1) Compute its centroids\n",
    "# 2) Find cluster closest to the centroid computed in step 1\n",
    "# 3) Assign all unlabeled nodes to that closest cluster.\n",
    "\n",
    "for cn in range(n_clusters):\n",
    "    # v_l\n",
    "    centroids_unlabeled = X[kmeans.labels_ == cn].mean(axis=0)\n",
    "\n",
    "    # Equation 5\n",
    "    label_for_cluster = np.linalg.norm(centroids_labeled - centroids_unlabeled, axis=1).argmin()\n",
    "    for node in np.where(kmeans.labels_ == cn)[0]:\n",
    "        if not train_mask[node]:\n",
    "            cluster_labels[node] = label_for_cluster\n",
    "        \n",
    "pseudo_labels = cluster_labels"
   ]
  },
  {
   "cell_type": "code",
   "execution_count": 4,
   "metadata": {},
   "outputs": [
    {
     "name": "stdout",
     "output_type": "stream",
     "text": [
      "GCN(1433, 16, num_layers=2)\n"
     ]
    },
    {
     "data": {
      "text/plain": [
       "([3.8831515312194824,\n",
       "  3.8361587524414062,\n",
       "  3.781806468963623,\n",
       "  3.708414077758789,\n",
       "  3.6395370960235596,\n",
       "  3.586761713027954,\n",
       "  3.5007543563842773,\n",
       "  3.4798481464385986,\n",
       "  3.3896591663360596,\n",
       "  3.314657688140869,\n",
       "  3.2314326763153076,\n",
       "  3.1372103691101074,\n",
       "  3.0012292861938477,\n",
       "  2.9711737632751465,\n",
       "  2.9290904998779297,\n",
       "  2.8051087856292725,\n",
       "  2.792025089263916,\n",
       "  2.691007137298584,\n",
       "  2.6372809410095215,\n",
       "  2.6427688598632812,\n",
       "  2.4474406242370605,\n",
       "  2.467951536178589,\n",
       "  2.513339042663574,\n",
       "  2.289475202560425,\n",
       "  2.383141040802002,\n",
       "  2.192713499069214,\n",
       "  2.195323944091797,\n",
       "  2.0936620235443115,\n",
       "  2.22123384475708,\n",
       "  2.1294121742248535,\n",
       "  2.0268070697784424,\n",
       "  2.0474939346313477,\n",
       "  2.025908946990967,\n",
       "  2.055022716522217,\n",
       "  1.9677447080612183,\n",
       "  1.7958502769470215,\n",
       "  1.9264920949935913,\n",
       "  1.825606346130371,\n",
       "  1.859749674797058,\n",
       "  1.857128620147705,\n",
       "  1.7803820371627808,\n",
       "  1.7667732238769531,\n",
       "  1.6591300964355469,\n",
       "  1.813990831375122,\n",
       "  1.6925104856491089,\n",
       "  1.6272449493408203,\n",
       "  1.6607710123062134,\n",
       "  1.7106233835220337,\n",
       "  1.7086931467056274,\n",
       "  1.7364155054092407],\n",
       " {'accuracy': 0.784,\n",
       "  'f1_micro': 0.7840000000000001,\n",
       "  'f1_macro': 0.7707889805309469,\n",
       "  'rocauc_ovr': 0.8729118196041881,\n",
       "  'rocauc_ovo': 0.8729118196041881,\n",
       "  'logloss': 2.8222340853363277},\n",
       " {'accuracy': 0.752,\n",
       "  'f1_micro': 0.752,\n",
       "  'f1_macro': 0.7378556164204743,\n",
       "  'rocauc_ovr': 0.8567030587332265,\n",
       "  'rocauc_ovo': 0.8567030587332265,\n",
       "  'logloss': 3.18581242492795})"
      ]
     },
     "execution_count": 4,
     "metadata": {},
     "output_type": "execute_result"
    }
   ],
   "source": [
    "# Training. You can attach a debugger to w/e is needed inside train\n",
    "benchmarker = NNNodeBenchmarkerJL(generator_config=generator_config, model_class=GCN, \n",
    "                benchmark_params=benchmark_params, h_params=h_params, pretext_tasks=pretext_tasks)\n",
    "benchmarker.SetMasks(train_mask=dataset.train_mask, val_mask=dataset.val_mask, test_mask=dataset.test_mask)\n",
    "benchmarker.train(data=dataset, tuning_metric=\"rocauc_ovr\", tuning_metric_is_loss=False)"
   ]
  },
  {
   "cell_type": "code",
   "execution_count": null,
   "metadata": {},
   "outputs": [],
   "source": []
  }
 ],
 "metadata": {
  "kernelspec": {
   "display_name": "base",
   "language": "python",
   "name": "python3"
  },
  "language_info": {
   "codemirror_mode": {
    "name": "ipython",
    "version": 3
   },
   "file_extension": ".py",
   "mimetype": "text/x-python",
   "name": "python",
   "nbconvert_exporter": "python",
   "pygments_lexer": "ipython3",
   "version": "3.9.13"
  },
  "orig_nbformat": 4,
  "vscode": {
   "interpreter": {
    "hash": "4d9defa72c2715dab9f7f172572cd30a1ab1a2083462d32ef96aadb7c6e0c73b"
   }
  }
 },
 "nbformat": 4,
 "nbformat_minor": 2
}
