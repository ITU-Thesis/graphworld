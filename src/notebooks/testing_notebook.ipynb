{
 "cells": [
  {
   "attachments": {},
   "cell_type": "markdown",
   "metadata": {},
   "source": [
    "This file allows for testing the GraphWorld setup with GNN implementations.\n",
    "It is currently set up to test the SSL methods for the JL benchmarker.\n",
    "\n",
    "Through this notebook you can attach a debugger.\n",
    "Note that graph_tool does not work on windows, so we cannot use the graph generators.\n",
    "Instead, we use the standard datasets from PyG."
   ]
  },
  {
   "cell_type": "code",
   "execution_count": 1,
   "metadata": {},
   "outputs": [],
   "source": [
    "import os\n",
    "import sys\n",
    "module_path = os.path.abspath(os.path.join('..'))\n",
    "if module_path not in sys.path:\n",
    "    sys.path.append(module_path)\n",
    "\n",
    "from graph_world.self_supervised_learning.benchmarker_jl import NNNodeBenchmarkerJL\n",
    "from graph_world.models.basic_gnn import GCN, SuperGAT\n",
    "from torch_geometric.datasets import Planetoid\n",
    "\n",
    "from graph_world.self_supervised_learning.pretext_tasks.generation_based import *\n"
   ]
  },
  {
   "cell_type": "code",
   "execution_count": 5,
   "metadata": {},
   "outputs": [],
   "source": [
    "# Parameter setup (for cora)\n",
    "benchmark_params = {\n",
    "    'epochs' : 50,\n",
    "    'lr' : 0.01,\n",
    "    'lambda' : 1\n",
    "}\n",
    "\n",
    "h_params = {\n",
    "    'in_channels' : 1433,\n",
    "    'hidden_channels' : 16,\n",
    "    'num_layers' : 2,\n",
    "    'dropout' : 0.5,\n",
    "    'discriminator_lr' : 0.001, \n",
    "    'discriminator_epochs': 5\n",
    "}\n",
    "\n",
    "generator_config = {\n",
    "    'num_clusters' : 7,\n",
    "}\n",
    "\n",
    "pretext_tasks = []"
   ]
  },
  {
   "cell_type": "code",
   "execution_count": 3,
   "metadata": {},
   "outputs": [],
   "source": [
    "# Get dataset\n",
    "dataset = Planetoid(root='/tmp/Cora', name='Cora')[0]"
   ]
  },
  {
   "cell_type": "code",
   "execution_count": 6,
   "metadata": {},
   "outputs": [
    {
     "name": "stdout",
     "output_type": "stream",
     "text": [
      "SuperGAT(1433, 16, num_layers=2)\n"
     ]
    },
    {
     "data": {
      "text/plain": [
       "([3.2995212078094482,\n",
       "  3.2147326469421387,\n",
       "  3.1985435485839844,\n",
       "  3.1269564628601074,\n",
       "  3.0820417404174805,\n",
       "  3.0327281951904297,\n",
       "  2.980465888977051,\n",
       "  2.9274628162384033,\n",
       "  2.8463196754455566,\n",
       "  2.761274576187134,\n",
       "  2.6786985397338867,\n",
       "  2.6320202350616455,\n",
       "  2.570024251937866,\n",
       "  2.50586199760437,\n",
       "  2.516237735748291,\n",
       "  2.406540870666504,\n",
       "  2.328005313873291,\n",
       "  2.291395425796509,\n",
       "  2.188843250274658,\n",
       "  2.1232876777648926,\n",
       "  2.0720391273498535,\n",
       "  2.087611675262451,\n",
       "  2.0641469955444336,\n",
       "  2.0378832817077637,\n",
       "  1.983559250831604,\n",
       "  1.9759840965270996,\n",
       "  1.8590819835662842,\n",
       "  1.8897135257720947,\n",
       "  2.0731348991394043,\n",
       "  1.881394624710083,\n",
       "  1.782278299331665,\n",
       "  1.8607068061828613,\n",
       "  1.6620237827301025,\n",
       "  1.7999651432037354,\n",
       "  1.7140982151031494,\n",
       "  1.685241460800171,\n",
       "  1.6436266899108887,\n",
       "  1.6470811367034912,\n",
       "  1.5391649007797241,\n",
       "  1.6231169700622559,\n",
       "  1.6134604215621948,\n",
       "  1.6488776206970215,\n",
       "  1.6383600234985352,\n",
       "  1.6557807922363281,\n",
       "  1.6147969961166382,\n",
       "  1.6283692121505737,\n",
       "  1.574575424194336,\n",
       "  1.4920275211334229,\n",
       "  1.478506326675415,\n",
       "  1.4847787618637085],\n",
       " {'accuracy': 0.76,\n",
       "  'f1_micro': 0.76,\n",
       "  'f1_macro': 0.7495156535713388,\n",
       "  'rocauc_ovr': 0.86930485424194,\n",
       "  'rocauc_ovo': 0.86930485424194,\n",
       "  'logloss': 2.1757697082285414},\n",
       " {'accuracy': 0.75,\n",
       "  'f1_micro': 0.75,\n",
       "  'f1_macro': 0.7407807276629015,\n",
       "  'rocauc_ovr': 0.8650161140317055,\n",
       "  'rocauc_ovo': 0.8650161140317055,\n",
       "  'logloss': 2.6238711212108266})"
      ]
     },
     "execution_count": 6,
     "metadata": {},
     "output_type": "execute_result"
    }
   ],
   "source": [
    "# Training. You can attach a debugger to w/e is needed inside train\n",
    "benchmarker = NNNodeBenchmarkerJL(generator_config=generator_config, model_class=GCN, \n",
    "                benchmark_params=benchmark_params, h_params=h_params, pretext_tasks=pretext_tasks)\n",
    "benchmarker.SetMasks(train_mask=dataset.train_mask, val_mask=dataset.val_mask, test_mask=dataset.test_mask)\n",
    "benchmarker.train(data=dataset, tuning_metric=\"rocauc_ovr\", tuning_metric_is_loss=False)"
   ]
  },
  {
   "cell_type": "code",
   "execution_count": null,
   "metadata": {},
   "outputs": [],
   "source": []
  }
 ],
 "metadata": {
  "kernelspec": {
   "display_name": "thesis",
   "language": "python",
   "name": "python3"
  },
  "language_info": {
   "codemirror_mode": {
    "name": "ipython",
    "version": 3
   },
   "file_extension": ".py",
   "mimetype": "text/x-python",
   "name": "python",
   "nbconvert_exporter": "python",
   "pygments_lexer": "ipython3",
   "version": "3.10.9"
  },
  "orig_nbformat": 4,
  "vscode": {
   "interpreter": {
    "hash": "c7ab25521b35298f0c482908cd2836fcd803c6b8449977de01eb4d32cc96d8dc"
   }
  }
 },
 "nbformat": 4,
 "nbformat_minor": 2
}
