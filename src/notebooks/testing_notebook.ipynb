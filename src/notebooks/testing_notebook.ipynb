{
 "cells": [
  {
   "attachments": {},
   "cell_type": "markdown",
   "metadata": {},
   "source": [
    "This file allows for testing the GraphWorld setup with GNN implementations.\n",
    "It is currently set up to test the SSL methods for the JL benchmarker.\n",
    "\n",
    "Through this notebook you can attach a debugger.\n",
    "Note that graph_tool does not work on windows, so we cannot use the graph generators.\n",
    "Instead, we use the standard datasets from PyG."
   ]
  },
  {
   "cell_type": "code",
   "execution_count": 1,
   "metadata": {},
   "outputs": [],
   "source": [
    "import os\n",
    "import sys\n",
    "module_path = os.path.abspath(os.path.join('..'))\n",
    "if module_path not in sys.path:\n",
    "    sys.path.append(module_path)\n",
    "\n",
    "from graph_world.self_supervised_learning.benchmarker_jl import NNNodeBenchmarkerJL\n",
    "from graph_world.models.basic_gnn import GCN, SuperGAT\n",
    "from torch_geometric.datasets import Planetoid\n",
    "\n",
    "from graph_world.self_supervised_learning.pretext_tasks.contrastive_based import *\n"
   ]
  },
  {
   "cell_type": "code",
   "execution_count": 6,
   "metadata": {},
   "outputs": [],
   "source": [
    "# Parameter setup (for cora)\n",
    "benchmark_params = {\n",
    "    'epochs' : 500,\n",
    "    'lr' : 0.01,\n",
    "    'lambda' : 1\n",
    "}\n",
    "\n",
    "h_params = {\n",
    "    'in_channels' : 1433,\n",
    "    'hidden_channels' : 16,\n",
    "    'num_layers' : 2,\n",
    "    'dropout' : 0.5,\n",
    "    'edge_mask_ratio' : 0.2,\n",
    "    'feature_mask_ratio' : 0.3\n",
    "}\n",
    "\n",
    "generator_config = {\n",
    "    'num_clusters' : 7,\n",
    "}\n",
    "\n",
    "pretext_task = GBT"
   ]
  },
  {
   "cell_type": "code",
   "execution_count": 3,
   "metadata": {},
   "outputs": [],
   "source": [
    "# Get dataset\n",
    "dataset = Planetoid(root='/tmp/Cora', name='Cora')[0]"
   ]
  },
  {
   "cell_type": "code",
   "execution_count": 7,
   "metadata": {},
   "outputs": [
    {
     "name": "stdout",
     "output_type": "stream",
     "text": [
      "GCN(1433, 16, num_layers=2)\n",
      "tensor(13.5242, grad_fn=<AddBackward0>)\n",
      "tensor(13.0090, grad_fn=<AddBackward0>)\n"
     ]
    },
    {
     "name": "stderr",
     "output_type": "stream",
     "text": [
      "c:\\Users\\bertr\\miniconda3\\envs\\thesis\\lib\\site-packages\\torch_geometric\\deprecation.py:12: UserWarning: 'dropout_adj' is deprecated, use 'dropout_edge' instead\n",
      "  warnings.warn(out)\n",
      "c:\\Users\\bertr\\miniconda3\\envs\\thesis\\lib\\site-packages\\torch_geometric\\deprecation.py:12: UserWarning: 'dropout_adj' is deprecated, use 'dropout_edge' instead\n",
      "  warnings.warn(out)\n",
      "c:\\Users\\bertr\\miniconda3\\envs\\thesis\\lib\\site-packages\\torch_geometric\\deprecation.py:12: UserWarning: 'dropout_adj' is deprecated, use 'dropout_edge' instead\n",
      "  warnings.warn(out)\n"
     ]
    },
    {
     "name": "stdout",
     "output_type": "stream",
     "text": [
      "tensor(10.6090, grad_fn=<AddBackward0>)\n",
      "tensor(9.0832, grad_fn=<AddBackward0>)\n",
      "tensor(9.4364, grad_fn=<AddBackward0>)\n"
     ]
    },
    {
     "name": "stderr",
     "output_type": "stream",
     "text": [
      "c:\\Users\\bertr\\miniconda3\\envs\\thesis\\lib\\site-packages\\torch_geometric\\deprecation.py:12: UserWarning: 'dropout_adj' is deprecated, use 'dropout_edge' instead\n",
      "  warnings.warn(out)\n",
      "c:\\Users\\bertr\\miniconda3\\envs\\thesis\\lib\\site-packages\\torch_geometric\\deprecation.py:12: UserWarning: 'dropout_adj' is deprecated, use 'dropout_edge' instead\n",
      "  warnings.warn(out)\n",
      "c:\\Users\\bertr\\miniconda3\\envs\\thesis\\lib\\site-packages\\torch_geometric\\deprecation.py:12: UserWarning: 'dropout_adj' is deprecated, use 'dropout_edge' instead\n",
      "  warnings.warn(out)\n",
      "c:\\Users\\bertr\\miniconda3\\envs\\thesis\\lib\\site-packages\\torch_geometric\\deprecation.py:12: UserWarning: 'dropout_adj' is deprecated, use 'dropout_edge' instead\n",
      "  warnings.warn(out)\n",
      "c:\\Users\\bertr\\miniconda3\\envs\\thesis\\lib\\site-packages\\torch_geometric\\deprecation.py:12: UserWarning: 'dropout_adj' is deprecated, use 'dropout_edge' instead\n",
      "  warnings.warn(out)\n"
     ]
    },
    {
     "name": "stdout",
     "output_type": "stream",
     "text": [
      "tensor(8.1568, grad_fn=<AddBackward0>)\n",
      "tensor(7.9933, grad_fn=<AddBackward0>)\n",
      "tensor(7.4111, grad_fn=<AddBackward0>)\n"
     ]
    },
    {
     "name": "stderr",
     "output_type": "stream",
     "text": [
      "c:\\Users\\bertr\\miniconda3\\envs\\thesis\\lib\\site-packages\\torch_geometric\\deprecation.py:12: UserWarning: 'dropout_adj' is deprecated, use 'dropout_edge' instead\n",
      "  warnings.warn(out)\n",
      "c:\\Users\\bertr\\miniconda3\\envs\\thesis\\lib\\site-packages\\torch_geometric\\deprecation.py:12: UserWarning: 'dropout_adj' is deprecated, use 'dropout_edge' instead\n",
      "  warnings.warn(out)\n",
      "c:\\Users\\bertr\\miniconda3\\envs\\thesis\\lib\\site-packages\\torch_geometric\\deprecation.py:12: UserWarning: 'dropout_adj' is deprecated, use 'dropout_edge' instead\n",
      "  warnings.warn(out)\n"
     ]
    },
    {
     "name": "stdout",
     "output_type": "stream",
     "text": [
      "tensor(7.3177, grad_fn=<AddBackward0>)\n",
      "tensor(6.8017, grad_fn=<AddBackward0>)\n",
      "tensor(6.6114, grad_fn=<AddBackward0>)\n"
     ]
    },
    {
     "name": "stderr",
     "output_type": "stream",
     "text": [
      "c:\\Users\\bertr\\miniconda3\\envs\\thesis\\lib\\site-packages\\torch_geometric\\deprecation.py:12: UserWarning: 'dropout_adj' is deprecated, use 'dropout_edge' instead\n",
      "  warnings.warn(out)\n",
      "c:\\Users\\bertr\\miniconda3\\envs\\thesis\\lib\\site-packages\\torch_geometric\\deprecation.py:12: UserWarning: 'dropout_adj' is deprecated, use 'dropout_edge' instead\n",
      "  warnings.warn(out)\n"
     ]
    },
    {
     "name": "stdout",
     "output_type": "stream",
     "text": [
      "tensor(6.3729, grad_fn=<AddBackward0>)\n",
      "tensor(6.5310, grad_fn=<AddBackward0>)\n"
     ]
    },
    {
     "name": "stderr",
     "output_type": "stream",
     "text": [
      "c:\\Users\\bertr\\miniconda3\\envs\\thesis\\lib\\site-packages\\torch_geometric\\deprecation.py:12: UserWarning: 'dropout_adj' is deprecated, use 'dropout_edge' instead\n",
      "  warnings.warn(out)\n",
      "c:\\Users\\bertr\\miniconda3\\envs\\thesis\\lib\\site-packages\\torch_geometric\\deprecation.py:12: UserWarning: 'dropout_adj' is deprecated, use 'dropout_edge' instead\n",
      "  warnings.warn(out)\n",
      "c:\\Users\\bertr\\miniconda3\\envs\\thesis\\lib\\site-packages\\torch_geometric\\deprecation.py:12: UserWarning: 'dropout_adj' is deprecated, use 'dropout_edge' instead\n",
      "  warnings.warn(out)\n"
     ]
    },
    {
     "name": "stdout",
     "output_type": "stream",
     "text": [
      "tensor(6.2330, grad_fn=<AddBackward0>)\n",
      "tensor(5.7961, grad_fn=<AddBackward0>)\n",
      "tensor(5.5252, grad_fn=<AddBackward0>)\n",
      "tensor(5.6852, grad_fn=<AddBackward0>)\n"
     ]
    },
    {
     "name": "stderr",
     "output_type": "stream",
     "text": [
      "c:\\Users\\bertr\\miniconda3\\envs\\thesis\\lib\\site-packages\\torch_geometric\\deprecation.py:12: UserWarning: 'dropout_adj' is deprecated, use 'dropout_edge' instead\n",
      "  warnings.warn(out)\n",
      "c:\\Users\\bertr\\miniconda3\\envs\\thesis\\lib\\site-packages\\torch_geometric\\deprecation.py:12: UserWarning: 'dropout_adj' is deprecated, use 'dropout_edge' instead\n",
      "  warnings.warn(out)\n",
      "c:\\Users\\bertr\\miniconda3\\envs\\thesis\\lib\\site-packages\\torch_geometric\\deprecation.py:12: UserWarning: 'dropout_adj' is deprecated, use 'dropout_edge' instead\n",
      "  warnings.warn(out)\n"
     ]
    },
    {
     "name": "stdout",
     "output_type": "stream",
     "text": [
      "tensor(5.7117, grad_fn=<AddBackward0>)\n",
      "tensor(5.3810, grad_fn=<AddBackward0>)\n",
      "tensor(5.2960, grad_fn=<AddBackward0>)\n"
     ]
    },
    {
     "name": "stderr",
     "output_type": "stream",
     "text": [
      "c:\\Users\\bertr\\miniconda3\\envs\\thesis\\lib\\site-packages\\torch_geometric\\deprecation.py:12: UserWarning: 'dropout_adj' is deprecated, use 'dropout_edge' instead\n",
      "  warnings.warn(out)\n",
      "c:\\Users\\bertr\\miniconda3\\envs\\thesis\\lib\\site-packages\\torch_geometric\\deprecation.py:12: UserWarning: 'dropout_adj' is deprecated, use 'dropout_edge' instead\n",
      "  warnings.warn(out)\n",
      "c:\\Users\\bertr\\miniconda3\\envs\\thesis\\lib\\site-packages\\torch_geometric\\deprecation.py:12: UserWarning: 'dropout_adj' is deprecated, use 'dropout_edge' instead\n",
      "  warnings.warn(out)\n"
     ]
    },
    {
     "name": "stdout",
     "output_type": "stream",
     "text": [
      "tensor(5.1410, grad_fn=<AddBackward0>)\n",
      "tensor(5.1134, grad_fn=<AddBackward0>)\n",
      "tensor(4.9710, grad_fn=<AddBackward0>)\n"
     ]
    },
    {
     "name": "stderr",
     "output_type": "stream",
     "text": [
      "c:\\Users\\bertr\\miniconda3\\envs\\thesis\\lib\\site-packages\\torch_geometric\\deprecation.py:12: UserWarning: 'dropout_adj' is deprecated, use 'dropout_edge' instead\n",
      "  warnings.warn(out)\n",
      "c:\\Users\\bertr\\miniconda3\\envs\\thesis\\lib\\site-packages\\torch_geometric\\deprecation.py:12: UserWarning: 'dropout_adj' is deprecated, use 'dropout_edge' instead\n",
      "  warnings.warn(out)\n",
      "c:\\Users\\bertr\\miniconda3\\envs\\thesis\\lib\\site-packages\\torch_geometric\\deprecation.py:12: UserWarning: 'dropout_adj' is deprecated, use 'dropout_edge' instead\n",
      "  warnings.warn(out)\n"
     ]
    },
    {
     "name": "stdout",
     "output_type": "stream",
     "text": [
      "tensor(5.0610, grad_fn=<AddBackward0>)\n",
      "tensor(5.2139, grad_fn=<AddBackward0>)\n",
      "tensor(5.0846, grad_fn=<AddBackward0>)\n"
     ]
    },
    {
     "name": "stderr",
     "output_type": "stream",
     "text": [
      "c:\\Users\\bertr\\miniconda3\\envs\\thesis\\lib\\site-packages\\torch_geometric\\deprecation.py:12: UserWarning: 'dropout_adj' is deprecated, use 'dropout_edge' instead\n",
      "  warnings.warn(out)\n",
      "c:\\Users\\bertr\\miniconda3\\envs\\thesis\\lib\\site-packages\\torch_geometric\\deprecation.py:12: UserWarning: 'dropout_adj' is deprecated, use 'dropout_edge' instead\n",
      "  warnings.warn(out)\n",
      "c:\\Users\\bertr\\miniconda3\\envs\\thesis\\lib\\site-packages\\torch_geometric\\deprecation.py:12: UserWarning: 'dropout_adj' is deprecated, use 'dropout_edge' instead\n",
      "  warnings.warn(out)\n"
     ]
    },
    {
     "name": "stdout",
     "output_type": "stream",
     "text": [
      "tensor(4.9501, grad_fn=<AddBackward0>)\n",
      "tensor(4.9607, grad_fn=<AddBackward0>)\n",
      "tensor(4.8912, grad_fn=<AddBackward0>)\n"
     ]
    },
    {
     "name": "stderr",
     "output_type": "stream",
     "text": [
      "c:\\Users\\bertr\\miniconda3\\envs\\thesis\\lib\\site-packages\\torch_geometric\\deprecation.py:12: UserWarning: 'dropout_adj' is deprecated, use 'dropout_edge' instead\n",
      "  warnings.warn(out)\n",
      "c:\\Users\\bertr\\miniconda3\\envs\\thesis\\lib\\site-packages\\torch_geometric\\deprecation.py:12: UserWarning: 'dropout_adj' is deprecated, use 'dropout_edge' instead\n",
      "  warnings.warn(out)\n",
      "c:\\Users\\bertr\\miniconda3\\envs\\thesis\\lib\\site-packages\\torch_geometric\\deprecation.py:12: UserWarning: 'dropout_adj' is deprecated, use 'dropout_edge' instead\n",
      "  warnings.warn(out)\n"
     ]
    },
    {
     "name": "stdout",
     "output_type": "stream",
     "text": [
      "tensor(4.9000, grad_fn=<AddBackward0>)\n",
      "tensor(4.9232, grad_fn=<AddBackward0>)\n"
     ]
    },
    {
     "name": "stderr",
     "output_type": "stream",
     "text": [
      "c:\\Users\\bertr\\miniconda3\\envs\\thesis\\lib\\site-packages\\torch_geometric\\deprecation.py:12: UserWarning: 'dropout_adj' is deprecated, use 'dropout_edge' instead\n",
      "  warnings.warn(out)\n",
      "c:\\Users\\bertr\\miniconda3\\envs\\thesis\\lib\\site-packages\\torch_geometric\\deprecation.py:12: UserWarning: 'dropout_adj' is deprecated, use 'dropout_edge' instead\n",
      "  warnings.warn(out)\n",
      "c:\\Users\\bertr\\miniconda3\\envs\\thesis\\lib\\site-packages\\torch_geometric\\deprecation.py:12: UserWarning: 'dropout_adj' is deprecated, use 'dropout_edge' instead\n",
      "  warnings.warn(out)\n"
     ]
    },
    {
     "name": "stdout",
     "output_type": "stream",
     "text": [
      "tensor(4.9254, grad_fn=<AddBackward0>)\n",
      "tensor(4.9086, grad_fn=<AddBackward0>)\n",
      "tensor(5.0622, grad_fn=<AddBackward0>)\n"
     ]
    },
    {
     "name": "stderr",
     "output_type": "stream",
     "text": [
      "c:\\Users\\bertr\\miniconda3\\envs\\thesis\\lib\\site-packages\\torch_geometric\\deprecation.py:12: UserWarning: 'dropout_adj' is deprecated, use 'dropout_edge' instead\n",
      "  warnings.warn(out)\n",
      "c:\\Users\\bertr\\miniconda3\\envs\\thesis\\lib\\site-packages\\torch_geometric\\deprecation.py:12: UserWarning: 'dropout_adj' is deprecated, use 'dropout_edge' instead\n",
      "  warnings.warn(out)\n",
      "c:\\Users\\bertr\\miniconda3\\envs\\thesis\\lib\\site-packages\\torch_geometric\\deprecation.py:12: UserWarning: 'dropout_adj' is deprecated, use 'dropout_edge' instead\n",
      "  warnings.warn(out)\n"
     ]
    },
    {
     "name": "stdout",
     "output_type": "stream",
     "text": [
      "tensor(5.0725, grad_fn=<AddBackward0>)\n",
      "tensor(5.0489, grad_fn=<AddBackward0>)\n",
      "tensor(4.8238, grad_fn=<AddBackward0>)\n"
     ]
    },
    {
     "name": "stderr",
     "output_type": "stream",
     "text": [
      "c:\\Users\\bertr\\miniconda3\\envs\\thesis\\lib\\site-packages\\torch_geometric\\deprecation.py:12: UserWarning: 'dropout_adj' is deprecated, use 'dropout_edge' instead\n",
      "  warnings.warn(out)\n",
      "c:\\Users\\bertr\\miniconda3\\envs\\thesis\\lib\\site-packages\\torch_geometric\\deprecation.py:12: UserWarning: 'dropout_adj' is deprecated, use 'dropout_edge' instead\n",
      "  warnings.warn(out)\n",
      "c:\\Users\\bertr\\miniconda3\\envs\\thesis\\lib\\site-packages\\torch_geometric\\deprecation.py:12: UserWarning: 'dropout_adj' is deprecated, use 'dropout_edge' instead\n",
      "  warnings.warn(out)\n"
     ]
    },
    {
     "name": "stdout",
     "output_type": "stream",
     "text": [
      "tensor(4.9990, grad_fn=<AddBackward0>)\n",
      "tensor(4.9997, grad_fn=<AddBackward0>)\n",
      "tensor(4.9735, grad_fn=<AddBackward0>)\n",
      "tensor(5.0040, grad_fn=<AddBackward0>)\n",
      "tensor(4.9478, grad_fn=<AddBackward0>)\n"
     ]
    },
    {
     "name": "stderr",
     "output_type": "stream",
     "text": [
      "c:\\Users\\bertr\\miniconda3\\envs\\thesis\\lib\\site-packages\\torch_geometric\\deprecation.py:12: UserWarning: 'dropout_adj' is deprecated, use 'dropout_edge' instead\n",
      "  warnings.warn(out)\n",
      "c:\\Users\\bertr\\miniconda3\\envs\\thesis\\lib\\site-packages\\torch_geometric\\deprecation.py:12: UserWarning: 'dropout_adj' is deprecated, use 'dropout_edge' instead\n",
      "  warnings.warn(out)\n",
      "c:\\Users\\bertr\\miniconda3\\envs\\thesis\\lib\\site-packages\\torch_geometric\\deprecation.py:12: UserWarning: 'dropout_adj' is deprecated, use 'dropout_edge' instead\n",
      "  warnings.warn(out)\n"
     ]
    },
    {
     "name": "stdout",
     "output_type": "stream",
     "text": [
      "tensor(4.8515, grad_fn=<AddBackward0>)\n",
      "tensor(4.9031, grad_fn=<AddBackward0>)\n"
     ]
    },
    {
     "name": "stderr",
     "output_type": "stream",
     "text": [
      "c:\\Users\\bertr\\miniconda3\\envs\\thesis\\lib\\site-packages\\torch_geometric\\deprecation.py:12: UserWarning: 'dropout_adj' is deprecated, use 'dropout_edge' instead\n",
      "  warnings.warn(out)\n",
      "c:\\Users\\bertr\\miniconda3\\envs\\thesis\\lib\\site-packages\\torch_geometric\\deprecation.py:12: UserWarning: 'dropout_adj' is deprecated, use 'dropout_edge' instead\n",
      "  warnings.warn(out)\n",
      "c:\\Users\\bertr\\miniconda3\\envs\\thesis\\lib\\site-packages\\torch_geometric\\deprecation.py:12: UserWarning: 'dropout_adj' is deprecated, use 'dropout_edge' instead\n",
      "  warnings.warn(out)\n"
     ]
    },
    {
     "name": "stdout",
     "output_type": "stream",
     "text": [
      "tensor(4.8912, grad_fn=<AddBackward0>)\n",
      "tensor(4.8616, grad_fn=<AddBackward0>)\n"
     ]
    },
    {
     "name": "stderr",
     "output_type": "stream",
     "text": [
      "c:\\Users\\bertr\\miniconda3\\envs\\thesis\\lib\\site-packages\\torch_geometric\\deprecation.py:12: UserWarning: 'dropout_adj' is deprecated, use 'dropout_edge' instead\n",
      "  warnings.warn(out)\n",
      "c:\\Users\\bertr\\miniconda3\\envs\\thesis\\lib\\site-packages\\torch_geometric\\deprecation.py:12: UserWarning: 'dropout_adj' is deprecated, use 'dropout_edge' instead\n",
      "  warnings.warn(out)\n",
      "c:\\Users\\bertr\\miniconda3\\envs\\thesis\\lib\\site-packages\\torch_geometric\\deprecation.py:12: UserWarning: 'dropout_adj' is deprecated, use 'dropout_edge' instead\n",
      "  warnings.warn(out)\n"
     ]
    },
    {
     "name": "stdout",
     "output_type": "stream",
     "text": [
      "tensor(4.7975, grad_fn=<AddBackward0>)\n",
      "tensor(4.7622, grad_fn=<AddBackward0>)\n",
      "tensor(4.7639, grad_fn=<AddBackward0>)\n"
     ]
    },
    {
     "name": "stderr",
     "output_type": "stream",
     "text": [
      "c:\\Users\\bertr\\miniconda3\\envs\\thesis\\lib\\site-packages\\torch_geometric\\deprecation.py:12: UserWarning: 'dropout_adj' is deprecated, use 'dropout_edge' instead\n",
      "  warnings.warn(out)\n",
      "c:\\Users\\bertr\\miniconda3\\envs\\thesis\\lib\\site-packages\\torch_geometric\\deprecation.py:12: UserWarning: 'dropout_adj' is deprecated, use 'dropout_edge' instead\n",
      "  warnings.warn(out)\n",
      "c:\\Users\\bertr\\miniconda3\\envs\\thesis\\lib\\site-packages\\torch_geometric\\deprecation.py:12: UserWarning: 'dropout_adj' is deprecated, use 'dropout_edge' instead\n",
      "  warnings.warn(out)\n"
     ]
    },
    {
     "name": "stdout",
     "output_type": "stream",
     "text": [
      "tensor(4.7798, grad_fn=<AddBackward0>)\n",
      "tensor(4.7923, grad_fn=<AddBackward0>)\n",
      "tensor(4.7508, grad_fn=<AddBackward0>)\n"
     ]
    },
    {
     "name": "stderr",
     "output_type": "stream",
     "text": [
      "c:\\Users\\bertr\\miniconda3\\envs\\thesis\\lib\\site-packages\\torch_geometric\\deprecation.py:12: UserWarning: 'dropout_adj' is deprecated, use 'dropout_edge' instead\n",
      "  warnings.warn(out)\n",
      "c:\\Users\\bertr\\miniconda3\\envs\\thesis\\lib\\site-packages\\torch_geometric\\deprecation.py:12: UserWarning: 'dropout_adj' is deprecated, use 'dropout_edge' instead\n",
      "  warnings.warn(out)\n",
      "c:\\Users\\bertr\\miniconda3\\envs\\thesis\\lib\\site-packages\\torch_geometric\\deprecation.py:12: UserWarning: 'dropout_adj' is deprecated, use 'dropout_edge' instead\n",
      "  warnings.warn(out)\n"
     ]
    },
    {
     "name": "stdout",
     "output_type": "stream",
     "text": [
      "tensor(4.8145, grad_fn=<AddBackward0>)\n",
      "tensor(4.6866, grad_fn=<AddBackward0>)\n",
      "tensor(4.6385, grad_fn=<AddBackward0>)\n",
      "tensor(4.8588, grad_fn=<AddBackward0>)\n",
      "tensor(4.6649, grad_fn=<AddBackward0>)\n"
     ]
    },
    {
     "name": "stderr",
     "output_type": "stream",
     "text": [
      "c:\\Users\\bertr\\miniconda3\\envs\\thesis\\lib\\site-packages\\torch_geometric\\deprecation.py:12: UserWarning: 'dropout_adj' is deprecated, use 'dropout_edge' instead\n",
      "  warnings.warn(out)\n",
      "c:\\Users\\bertr\\miniconda3\\envs\\thesis\\lib\\site-packages\\torch_geometric\\deprecation.py:12: UserWarning: 'dropout_adj' is deprecated, use 'dropout_edge' instead\n",
      "  warnings.warn(out)\n",
      "c:\\Users\\bertr\\miniconda3\\envs\\thesis\\lib\\site-packages\\torch_geometric\\deprecation.py:12: UserWarning: 'dropout_adj' is deprecated, use 'dropout_edge' instead\n",
      "  warnings.warn(out)\n"
     ]
    },
    {
     "name": "stdout",
     "output_type": "stream",
     "text": [
      "tensor(4.6367, grad_fn=<AddBackward0>)\n",
      "tensor(4.6464, grad_fn=<AddBackward0>)\n",
      "tensor(4.5423, grad_fn=<AddBackward0>)\n"
     ]
    },
    {
     "name": "stderr",
     "output_type": "stream",
     "text": [
      "c:\\Users\\bertr\\miniconda3\\envs\\thesis\\lib\\site-packages\\torch_geometric\\deprecation.py:12: UserWarning: 'dropout_adj' is deprecated, use 'dropout_edge' instead\n",
      "  warnings.warn(out)\n",
      "c:\\Users\\bertr\\miniconda3\\envs\\thesis\\lib\\site-packages\\torch_geometric\\deprecation.py:12: UserWarning: 'dropout_adj' is deprecated, use 'dropout_edge' instead\n",
      "  warnings.warn(out)\n",
      "c:\\Users\\bertr\\miniconda3\\envs\\thesis\\lib\\site-packages\\torch_geometric\\deprecation.py:12: UserWarning: 'dropout_adj' is deprecated, use 'dropout_edge' instead\n",
      "  warnings.warn(out)\n"
     ]
    },
    {
     "name": "stdout",
     "output_type": "stream",
     "text": [
      "tensor(4.5034, grad_fn=<AddBackward0>)\n",
      "tensor(4.4595, grad_fn=<AddBackward0>)\n",
      "tensor(4.3508, grad_fn=<AddBackward0>)\n"
     ]
    },
    {
     "name": "stderr",
     "output_type": "stream",
     "text": [
      "c:\\Users\\bertr\\miniconda3\\envs\\thesis\\lib\\site-packages\\torch_geometric\\deprecation.py:12: UserWarning: 'dropout_adj' is deprecated, use 'dropout_edge' instead\n",
      "  warnings.warn(out)\n",
      "c:\\Users\\bertr\\miniconda3\\envs\\thesis\\lib\\site-packages\\torch_geometric\\deprecation.py:12: UserWarning: 'dropout_adj' is deprecated, use 'dropout_edge' instead\n",
      "  warnings.warn(out)\n",
      "c:\\Users\\bertr\\miniconda3\\envs\\thesis\\lib\\site-packages\\torch_geometric\\deprecation.py:12: UserWarning: 'dropout_adj' is deprecated, use 'dropout_edge' instead\n",
      "  warnings.warn(out)\n"
     ]
    },
    {
     "name": "stdout",
     "output_type": "stream",
     "text": [
      "tensor(4.3823, grad_fn=<AddBackward0>)\n",
      "tensor(4.3421, grad_fn=<AddBackward0>)\n",
      "tensor(4.2503, grad_fn=<AddBackward0>)\n"
     ]
    },
    {
     "name": "stderr",
     "output_type": "stream",
     "text": [
      "c:\\Users\\bertr\\miniconda3\\envs\\thesis\\lib\\site-packages\\torch_geometric\\deprecation.py:12: UserWarning: 'dropout_adj' is deprecated, use 'dropout_edge' instead\n",
      "  warnings.warn(out)\n",
      "c:\\Users\\bertr\\miniconda3\\envs\\thesis\\lib\\site-packages\\torch_geometric\\deprecation.py:12: UserWarning: 'dropout_adj' is deprecated, use 'dropout_edge' instead\n",
      "  warnings.warn(out)\n",
      "c:\\Users\\bertr\\miniconda3\\envs\\thesis\\lib\\site-packages\\torch_geometric\\deprecation.py:12: UserWarning: 'dropout_adj' is deprecated, use 'dropout_edge' instead\n",
      "  warnings.warn(out)\n",
      "c:\\Users\\bertr\\miniconda3\\envs\\thesis\\lib\\site-packages\\torch_geometric\\deprecation.py:12: UserWarning: 'dropout_adj' is deprecated, use 'dropout_edge' instead\n",
      "  warnings.warn(out)\n",
      "c:\\Users\\bertr\\miniconda3\\envs\\thesis\\lib\\site-packages\\torch_geometric\\deprecation.py:12: UserWarning: 'dropout_adj' is deprecated, use 'dropout_edge' instead\n",
      "  warnings.warn(out)\n"
     ]
    },
    {
     "name": "stdout",
     "output_type": "stream",
     "text": [
      "tensor(4.1505, grad_fn=<AddBackward0>)\n",
      "tensor(4.2458, grad_fn=<AddBackward0>)\n",
      "tensor(4.0389, grad_fn=<AddBackward0>)\n",
      "tensor(4.0608, grad_fn=<AddBackward0>)\n",
      "tensor(4.0722, grad_fn=<AddBackward0>)\n"
     ]
    },
    {
     "name": "stderr",
     "output_type": "stream",
     "text": [
      "c:\\Users\\bertr\\miniconda3\\envs\\thesis\\lib\\site-packages\\torch_geometric\\deprecation.py:12: UserWarning: 'dropout_adj' is deprecated, use 'dropout_edge' instead\n",
      "  warnings.warn(out)\n",
      "c:\\Users\\bertr\\miniconda3\\envs\\thesis\\lib\\site-packages\\torch_geometric\\deprecation.py:12: UserWarning: 'dropout_adj' is deprecated, use 'dropout_edge' instead\n",
      "  warnings.warn(out)\n",
      "c:\\Users\\bertr\\miniconda3\\envs\\thesis\\lib\\site-packages\\torch_geometric\\deprecation.py:12: UserWarning: 'dropout_adj' is deprecated, use 'dropout_edge' instead\n",
      "  warnings.warn(out)\n"
     ]
    },
    {
     "name": "stdout",
     "output_type": "stream",
     "text": [
      "tensor(4.2559, grad_fn=<AddBackward0>)\n",
      "tensor(3.8212, grad_fn=<AddBackward0>)\n",
      "tensor(3.7956, grad_fn=<AddBackward0>)\n"
     ]
    },
    {
     "name": "stderr",
     "output_type": "stream",
     "text": [
      "c:\\Users\\bertr\\miniconda3\\envs\\thesis\\lib\\site-packages\\torch_geometric\\deprecation.py:12: UserWarning: 'dropout_adj' is deprecated, use 'dropout_edge' instead\n",
      "  warnings.warn(out)\n",
      "c:\\Users\\bertr\\miniconda3\\envs\\thesis\\lib\\site-packages\\torch_geometric\\deprecation.py:12: UserWarning: 'dropout_adj' is deprecated, use 'dropout_edge' instead\n",
      "  warnings.warn(out)\n",
      "c:\\Users\\bertr\\miniconda3\\envs\\thesis\\lib\\site-packages\\torch_geometric\\deprecation.py:12: UserWarning: 'dropout_adj' is deprecated, use 'dropout_edge' instead\n",
      "  warnings.warn(out)\n"
     ]
    },
    {
     "name": "stdout",
     "output_type": "stream",
     "text": [
      "tensor(4.0349, grad_fn=<AddBackward0>)\n",
      "tensor(3.8724, grad_fn=<AddBackward0>)\n",
      "tensor(4.1049, grad_fn=<AddBackward0>)\n"
     ]
    },
    {
     "name": "stderr",
     "output_type": "stream",
     "text": [
      "c:\\Users\\bertr\\miniconda3\\envs\\thesis\\lib\\site-packages\\torch_geometric\\deprecation.py:12: UserWarning: 'dropout_adj' is deprecated, use 'dropout_edge' instead\n",
      "  warnings.warn(out)\n",
      "c:\\Users\\bertr\\miniconda3\\envs\\thesis\\lib\\site-packages\\torch_geometric\\deprecation.py:12: UserWarning: 'dropout_adj' is deprecated, use 'dropout_edge' instead\n",
      "  warnings.warn(out)\n",
      "c:\\Users\\bertr\\miniconda3\\envs\\thesis\\lib\\site-packages\\torch_geometric\\deprecation.py:12: UserWarning: 'dropout_adj' is deprecated, use 'dropout_edge' instead\n",
      "  warnings.warn(out)\n"
     ]
    },
    {
     "name": "stdout",
     "output_type": "stream",
     "text": [
      "tensor(4.0155, grad_fn=<AddBackward0>)\n",
      "tensor(3.8674, grad_fn=<AddBackward0>)\n"
     ]
    },
    {
     "name": "stderr",
     "output_type": "stream",
     "text": [
      "c:\\Users\\bertr\\miniconda3\\envs\\thesis\\lib\\site-packages\\torch_geometric\\deprecation.py:12: UserWarning: 'dropout_adj' is deprecated, use 'dropout_edge' instead\n",
      "  warnings.warn(out)\n",
      "c:\\Users\\bertr\\miniconda3\\envs\\thesis\\lib\\site-packages\\torch_geometric\\deprecation.py:12: UserWarning: 'dropout_adj' is deprecated, use 'dropout_edge' instead\n",
      "  warnings.warn(out)\n"
     ]
    },
    {
     "name": "stdout",
     "output_type": "stream",
     "text": [
      "tensor(3.8452, grad_fn=<AddBackward0>)\n",
      "tensor(3.7757, grad_fn=<AddBackward0>)\n"
     ]
    },
    {
     "name": "stderr",
     "output_type": "stream",
     "text": [
      "c:\\Users\\bertr\\miniconda3\\envs\\thesis\\lib\\site-packages\\torch_geometric\\deprecation.py:12: UserWarning: 'dropout_adj' is deprecated, use 'dropout_edge' instead\n",
      "  warnings.warn(out)\n",
      "c:\\Users\\bertr\\miniconda3\\envs\\thesis\\lib\\site-packages\\torch_geometric\\deprecation.py:12: UserWarning: 'dropout_adj' is deprecated, use 'dropout_edge' instead\n",
      "  warnings.warn(out)\n",
      "c:\\Users\\bertr\\miniconda3\\envs\\thesis\\lib\\site-packages\\torch_geometric\\deprecation.py:12: UserWarning: 'dropout_adj' is deprecated, use 'dropout_edge' instead\n",
      "  warnings.warn(out)\n"
     ]
    },
    {
     "name": "stdout",
     "output_type": "stream",
     "text": [
      "tensor(3.7775, grad_fn=<AddBackward0>)\n",
      "tensor(3.7688, grad_fn=<AddBackward0>)\n",
      "tensor(3.7283, grad_fn=<AddBackward0>)\n"
     ]
    },
    {
     "name": "stderr",
     "output_type": "stream",
     "text": [
      "c:\\Users\\bertr\\miniconda3\\envs\\thesis\\lib\\site-packages\\torch_geometric\\deprecation.py:12: UserWarning: 'dropout_adj' is deprecated, use 'dropout_edge' instead\n",
      "  warnings.warn(out)\n",
      "c:\\Users\\bertr\\miniconda3\\envs\\thesis\\lib\\site-packages\\torch_geometric\\deprecation.py:12: UserWarning: 'dropout_adj' is deprecated, use 'dropout_edge' instead\n",
      "  warnings.warn(out)\n",
      "c:\\Users\\bertr\\miniconda3\\envs\\thesis\\lib\\site-packages\\torch_geometric\\deprecation.py:12: UserWarning: 'dropout_adj' is deprecated, use 'dropout_edge' instead\n",
      "  warnings.warn(out)\n"
     ]
    },
    {
     "name": "stdout",
     "output_type": "stream",
     "text": [
      "tensor(3.8582, grad_fn=<AddBackward0>)\n",
      "tensor(3.8215, grad_fn=<AddBackward0>)\n",
      "tensor(3.7443, grad_fn=<AddBackward0>)\n"
     ]
    },
    {
     "name": "stderr",
     "output_type": "stream",
     "text": [
      "c:\\Users\\bertr\\miniconda3\\envs\\thesis\\lib\\site-packages\\torch_geometric\\deprecation.py:12: UserWarning: 'dropout_adj' is deprecated, use 'dropout_edge' instead\n",
      "  warnings.warn(out)\n",
      "c:\\Users\\bertr\\miniconda3\\envs\\thesis\\lib\\site-packages\\torch_geometric\\deprecation.py:12: UserWarning: 'dropout_adj' is deprecated, use 'dropout_edge' instead\n",
      "  warnings.warn(out)\n",
      "c:\\Users\\bertr\\miniconda3\\envs\\thesis\\lib\\site-packages\\torch_geometric\\deprecation.py:12: UserWarning: 'dropout_adj' is deprecated, use 'dropout_edge' instead\n",
      "  warnings.warn(out)\n"
     ]
    },
    {
     "name": "stdout",
     "output_type": "stream",
     "text": [
      "tensor(3.8143, grad_fn=<AddBackward0>)\n",
      "tensor(3.7117, grad_fn=<AddBackward0>)\n"
     ]
    },
    {
     "name": "stderr",
     "output_type": "stream",
     "text": [
      "c:\\Users\\bertr\\miniconda3\\envs\\thesis\\lib\\site-packages\\torch_geometric\\deprecation.py:12: UserWarning: 'dropout_adj' is deprecated, use 'dropout_edge' instead\n",
      "  warnings.warn(out)\n",
      "c:\\Users\\bertr\\miniconda3\\envs\\thesis\\lib\\site-packages\\torch_geometric\\deprecation.py:12: UserWarning: 'dropout_adj' is deprecated, use 'dropout_edge' instead\n",
      "  warnings.warn(out)\n",
      "c:\\Users\\bertr\\miniconda3\\envs\\thesis\\lib\\site-packages\\torch_geometric\\deprecation.py:12: UserWarning: 'dropout_adj' is deprecated, use 'dropout_edge' instead\n",
      "  warnings.warn(out)\n"
     ]
    },
    {
     "name": "stdout",
     "output_type": "stream",
     "text": [
      "tensor(3.6239, grad_fn=<AddBackward0>)\n",
      "tensor(3.9899, grad_fn=<AddBackward0>)\n",
      "tensor(3.7420, grad_fn=<AddBackward0>)\n"
     ]
    },
    {
     "name": "stderr",
     "output_type": "stream",
     "text": [
      "c:\\Users\\bertr\\miniconda3\\envs\\thesis\\lib\\site-packages\\torch_geometric\\deprecation.py:12: UserWarning: 'dropout_adj' is deprecated, use 'dropout_edge' instead\n",
      "  warnings.warn(out)\n",
      "c:\\Users\\bertr\\miniconda3\\envs\\thesis\\lib\\site-packages\\torch_geometric\\deprecation.py:12: UserWarning: 'dropout_adj' is deprecated, use 'dropout_edge' instead\n",
      "  warnings.warn(out)\n",
      "c:\\Users\\bertr\\miniconda3\\envs\\thesis\\lib\\site-packages\\torch_geometric\\deprecation.py:12: UserWarning: 'dropout_adj' is deprecated, use 'dropout_edge' instead\n",
      "  warnings.warn(out)\n"
     ]
    },
    {
     "name": "stdout",
     "output_type": "stream",
     "text": [
      "tensor(3.9024, grad_fn=<AddBackward0>)\n",
      "tensor(3.8665, grad_fn=<AddBackward0>)\n",
      "tensor(3.7242, grad_fn=<AddBackward0>)\n"
     ]
    },
    {
     "name": "stderr",
     "output_type": "stream",
     "text": [
      "c:\\Users\\bertr\\miniconda3\\envs\\thesis\\lib\\site-packages\\torch_geometric\\deprecation.py:12: UserWarning: 'dropout_adj' is deprecated, use 'dropout_edge' instead\n",
      "  warnings.warn(out)\n",
      "c:\\Users\\bertr\\miniconda3\\envs\\thesis\\lib\\site-packages\\torch_geometric\\deprecation.py:12: UserWarning: 'dropout_adj' is deprecated, use 'dropout_edge' instead\n",
      "  warnings.warn(out)\n",
      "c:\\Users\\bertr\\miniconda3\\envs\\thesis\\lib\\site-packages\\torch_geometric\\deprecation.py:12: UserWarning: 'dropout_adj' is deprecated, use 'dropout_edge' instead\n",
      "  warnings.warn(out)\n"
     ]
    },
    {
     "name": "stdout",
     "output_type": "stream",
     "text": [
      "tensor(3.8518, grad_fn=<AddBackward0>)\n",
      "tensor(3.9810, grad_fn=<AddBackward0>)\n",
      "tensor(3.7575, grad_fn=<AddBackward0>)\n",
      "tensor(3.6677, grad_fn=<AddBackward0>)\n"
     ]
    },
    {
     "name": "stderr",
     "output_type": "stream",
     "text": [
      "c:\\Users\\bertr\\miniconda3\\envs\\thesis\\lib\\site-packages\\torch_geometric\\deprecation.py:12: UserWarning: 'dropout_adj' is deprecated, use 'dropout_edge' instead\n",
      "  warnings.warn(out)\n",
      "c:\\Users\\bertr\\miniconda3\\envs\\thesis\\lib\\site-packages\\torch_geometric\\deprecation.py:12: UserWarning: 'dropout_adj' is deprecated, use 'dropout_edge' instead\n",
      "  warnings.warn(out)\n",
      "c:\\Users\\bertr\\miniconda3\\envs\\thesis\\lib\\site-packages\\torch_geometric\\deprecation.py:12: UserWarning: 'dropout_adj' is deprecated, use 'dropout_edge' instead\n",
      "  warnings.warn(out)\n"
     ]
    },
    {
     "name": "stdout",
     "output_type": "stream",
     "text": [
      "tensor(3.8598, grad_fn=<AddBackward0>)\n",
      "tensor(3.7426, grad_fn=<AddBackward0>)\n",
      "tensor(3.7882, grad_fn=<AddBackward0>)\n",
      "tensor(3.7063, grad_fn=<AddBackward0>)\n"
     ]
    },
    {
     "name": "stderr",
     "output_type": "stream",
     "text": [
      "c:\\Users\\bertr\\miniconda3\\envs\\thesis\\lib\\site-packages\\torch_geometric\\deprecation.py:12: UserWarning: 'dropout_adj' is deprecated, use 'dropout_edge' instead\n",
      "  warnings.warn(out)\n",
      "c:\\Users\\bertr\\miniconda3\\envs\\thesis\\lib\\site-packages\\torch_geometric\\deprecation.py:12: UserWarning: 'dropout_adj' is deprecated, use 'dropout_edge' instead\n",
      "  warnings.warn(out)\n",
      "c:\\Users\\bertr\\miniconda3\\envs\\thesis\\lib\\site-packages\\torch_geometric\\deprecation.py:12: UserWarning: 'dropout_adj' is deprecated, use 'dropout_edge' instead\n",
      "  warnings.warn(out)\n"
     ]
    },
    {
     "name": "stdout",
     "output_type": "stream",
     "text": [
      "tensor(3.7119, grad_fn=<AddBackward0>)\n",
      "tensor(3.6535, grad_fn=<AddBackward0>)\n",
      "tensor(3.6894, grad_fn=<AddBackward0>)\n"
     ]
    },
    {
     "name": "stderr",
     "output_type": "stream",
     "text": [
      "c:\\Users\\bertr\\miniconda3\\envs\\thesis\\lib\\site-packages\\torch_geometric\\deprecation.py:12: UserWarning: 'dropout_adj' is deprecated, use 'dropout_edge' instead\n",
      "  warnings.warn(out)\n",
      "c:\\Users\\bertr\\miniconda3\\envs\\thesis\\lib\\site-packages\\torch_geometric\\deprecation.py:12: UserWarning: 'dropout_adj' is deprecated, use 'dropout_edge' instead\n",
      "  warnings.warn(out)\n",
      "c:\\Users\\bertr\\miniconda3\\envs\\thesis\\lib\\site-packages\\torch_geometric\\deprecation.py:12: UserWarning: 'dropout_adj' is deprecated, use 'dropout_edge' instead\n",
      "  warnings.warn(out)\n"
     ]
    },
    {
     "name": "stdout",
     "output_type": "stream",
     "text": [
      "tensor(3.6732, grad_fn=<AddBackward0>)\n",
      "tensor(3.8985, grad_fn=<AddBackward0>)\n",
      "tensor(3.6233, grad_fn=<AddBackward0>)\n"
     ]
    },
    {
     "name": "stderr",
     "output_type": "stream",
     "text": [
      "c:\\Users\\bertr\\miniconda3\\envs\\thesis\\lib\\site-packages\\torch_geometric\\deprecation.py:12: UserWarning: 'dropout_adj' is deprecated, use 'dropout_edge' instead\n",
      "  warnings.warn(out)\n",
      "c:\\Users\\bertr\\miniconda3\\envs\\thesis\\lib\\site-packages\\torch_geometric\\deprecation.py:12: UserWarning: 'dropout_adj' is deprecated, use 'dropout_edge' instead\n",
      "  warnings.warn(out)\n",
      "c:\\Users\\bertr\\miniconda3\\envs\\thesis\\lib\\site-packages\\torch_geometric\\deprecation.py:12: UserWarning: 'dropout_adj' is deprecated, use 'dropout_edge' instead\n",
      "  warnings.warn(out)\n"
     ]
    },
    {
     "name": "stdout",
     "output_type": "stream",
     "text": [
      "tensor(3.7857, grad_fn=<AddBackward0>)\n",
      "tensor(3.6562, grad_fn=<AddBackward0>)\n",
      "tensor(3.7938, grad_fn=<AddBackward0>)\n"
     ]
    },
    {
     "name": "stderr",
     "output_type": "stream",
     "text": [
      "c:\\Users\\bertr\\miniconda3\\envs\\thesis\\lib\\site-packages\\torch_geometric\\deprecation.py:12: UserWarning: 'dropout_adj' is deprecated, use 'dropout_edge' instead\n",
      "  warnings.warn(out)\n",
      "c:\\Users\\bertr\\miniconda3\\envs\\thesis\\lib\\site-packages\\torch_geometric\\deprecation.py:12: UserWarning: 'dropout_adj' is deprecated, use 'dropout_edge' instead\n",
      "  warnings.warn(out)\n",
      "c:\\Users\\bertr\\miniconda3\\envs\\thesis\\lib\\site-packages\\torch_geometric\\deprecation.py:12: UserWarning: 'dropout_adj' is deprecated, use 'dropout_edge' instead\n",
      "  warnings.warn(out)\n"
     ]
    },
    {
     "name": "stdout",
     "output_type": "stream",
     "text": [
      "tensor(3.7613, grad_fn=<AddBackward0>)\n",
      "tensor(3.6440, grad_fn=<AddBackward0>)\n",
      "tensor(4.0576, grad_fn=<AddBackward0>)\n"
     ]
    },
    {
     "name": "stderr",
     "output_type": "stream",
     "text": [
      "c:\\Users\\bertr\\miniconda3\\envs\\thesis\\lib\\site-packages\\torch_geometric\\deprecation.py:12: UserWarning: 'dropout_adj' is deprecated, use 'dropout_edge' instead\n",
      "  warnings.warn(out)\n",
      "c:\\Users\\bertr\\miniconda3\\envs\\thesis\\lib\\site-packages\\torch_geometric\\deprecation.py:12: UserWarning: 'dropout_adj' is deprecated, use 'dropout_edge' instead\n",
      "  warnings.warn(out)\n",
      "c:\\Users\\bertr\\miniconda3\\envs\\thesis\\lib\\site-packages\\torch_geometric\\deprecation.py:12: UserWarning: 'dropout_adj' is deprecated, use 'dropout_edge' instead\n",
      "  warnings.warn(out)\n",
      "c:\\Users\\bertr\\miniconda3\\envs\\thesis\\lib\\site-packages\\torch_geometric\\deprecation.py:12: UserWarning: 'dropout_adj' is deprecated, use 'dropout_edge' instead\n",
      "  warnings.warn(out)\n"
     ]
    },
    {
     "name": "stdout",
     "output_type": "stream",
     "text": [
      "tensor(3.6859, grad_fn=<AddBackward0>)\n",
      "tensor(3.8732, grad_fn=<AddBackward0>)\n",
      "tensor(3.8040, grad_fn=<AddBackward0>)\n"
     ]
    },
    {
     "name": "stderr",
     "output_type": "stream",
     "text": [
      "c:\\Users\\bertr\\miniconda3\\envs\\thesis\\lib\\site-packages\\torch_geometric\\deprecation.py:12: UserWarning: 'dropout_adj' is deprecated, use 'dropout_edge' instead\n",
      "  warnings.warn(out)\n",
      "c:\\Users\\bertr\\miniconda3\\envs\\thesis\\lib\\site-packages\\torch_geometric\\deprecation.py:12: UserWarning: 'dropout_adj' is deprecated, use 'dropout_edge' instead\n",
      "  warnings.warn(out)\n",
      "c:\\Users\\bertr\\miniconda3\\envs\\thesis\\lib\\site-packages\\torch_geometric\\deprecation.py:12: UserWarning: 'dropout_adj' is deprecated, use 'dropout_edge' instead\n",
      "  warnings.warn(out)\n"
     ]
    },
    {
     "name": "stdout",
     "output_type": "stream",
     "text": [
      "tensor(3.7092, grad_fn=<AddBackward0>)\n",
      "tensor(3.5511, grad_fn=<AddBackward0>)\n",
      "tensor(3.7020, grad_fn=<AddBackward0>)\n"
     ]
    },
    {
     "name": "stderr",
     "output_type": "stream",
     "text": [
      "c:\\Users\\bertr\\miniconda3\\envs\\thesis\\lib\\site-packages\\torch_geometric\\deprecation.py:12: UserWarning: 'dropout_adj' is deprecated, use 'dropout_edge' instead\n",
      "  warnings.warn(out)\n",
      "c:\\Users\\bertr\\miniconda3\\envs\\thesis\\lib\\site-packages\\torch_geometric\\deprecation.py:12: UserWarning: 'dropout_adj' is deprecated, use 'dropout_edge' instead\n",
      "  warnings.warn(out)\n",
      "c:\\Users\\bertr\\miniconda3\\envs\\thesis\\lib\\site-packages\\torch_geometric\\deprecation.py:12: UserWarning: 'dropout_adj' is deprecated, use 'dropout_edge' instead\n",
      "  warnings.warn(out)\n"
     ]
    },
    {
     "name": "stdout",
     "output_type": "stream",
     "text": [
      "tensor(3.6799, grad_fn=<AddBackward0>)\n",
      "tensor(3.6915, grad_fn=<AddBackward0>)\n",
      "tensor(3.7230, grad_fn=<AddBackward0>)\n"
     ]
    },
    {
     "name": "stderr",
     "output_type": "stream",
     "text": [
      "c:\\Users\\bertr\\miniconda3\\envs\\thesis\\lib\\site-packages\\torch_geometric\\deprecation.py:12: UserWarning: 'dropout_adj' is deprecated, use 'dropout_edge' instead\n",
      "  warnings.warn(out)\n",
      "c:\\Users\\bertr\\miniconda3\\envs\\thesis\\lib\\site-packages\\torch_geometric\\deprecation.py:12: UserWarning: 'dropout_adj' is deprecated, use 'dropout_edge' instead\n",
      "  warnings.warn(out)\n",
      "c:\\Users\\bertr\\miniconda3\\envs\\thesis\\lib\\site-packages\\torch_geometric\\deprecation.py:12: UserWarning: 'dropout_adj' is deprecated, use 'dropout_edge' instead\n",
      "  warnings.warn(out)\n"
     ]
    },
    {
     "name": "stdout",
     "output_type": "stream",
     "text": [
      "tensor(3.7018, grad_fn=<AddBackward0>)\n",
      "tensor(3.5764, grad_fn=<AddBackward0>)\n",
      "tensor(3.6832, grad_fn=<AddBackward0>)\n"
     ]
    },
    {
     "name": "stderr",
     "output_type": "stream",
     "text": [
      "c:\\Users\\bertr\\miniconda3\\envs\\thesis\\lib\\site-packages\\torch_geometric\\deprecation.py:12: UserWarning: 'dropout_adj' is deprecated, use 'dropout_edge' instead\n",
      "  warnings.warn(out)\n",
      "c:\\Users\\bertr\\miniconda3\\envs\\thesis\\lib\\site-packages\\torch_geometric\\deprecation.py:12: UserWarning: 'dropout_adj' is deprecated, use 'dropout_edge' instead\n",
      "  warnings.warn(out)\n",
      "c:\\Users\\bertr\\miniconda3\\envs\\thesis\\lib\\site-packages\\torch_geometric\\deprecation.py:12: UserWarning: 'dropout_adj' is deprecated, use 'dropout_edge' instead\n",
      "  warnings.warn(out)\n"
     ]
    },
    {
     "name": "stdout",
     "output_type": "stream",
     "text": [
      "tensor(3.6564, grad_fn=<AddBackward0>)\n",
      "tensor(3.7958, grad_fn=<AddBackward0>)\n",
      "tensor(3.5622, grad_fn=<AddBackward0>)\n"
     ]
    },
    {
     "name": "stderr",
     "output_type": "stream",
     "text": [
      "c:\\Users\\bertr\\miniconda3\\envs\\thesis\\lib\\site-packages\\torch_geometric\\deprecation.py:12: UserWarning: 'dropout_adj' is deprecated, use 'dropout_edge' instead\n",
      "  warnings.warn(out)\n",
      "c:\\Users\\bertr\\miniconda3\\envs\\thesis\\lib\\site-packages\\torch_geometric\\deprecation.py:12: UserWarning: 'dropout_adj' is deprecated, use 'dropout_edge' instead\n",
      "  warnings.warn(out)\n",
      "c:\\Users\\bertr\\miniconda3\\envs\\thesis\\lib\\site-packages\\torch_geometric\\deprecation.py:12: UserWarning: 'dropout_adj' is deprecated, use 'dropout_edge' instead\n",
      "  warnings.warn(out)\n"
     ]
    },
    {
     "name": "stdout",
     "output_type": "stream",
     "text": [
      "tensor(3.6686, grad_fn=<AddBackward0>)\n",
      "tensor(3.8926, grad_fn=<AddBackward0>)\n",
      "tensor(3.5709, grad_fn=<AddBackward0>)\n"
     ]
    },
    {
     "name": "stderr",
     "output_type": "stream",
     "text": [
      "c:\\Users\\bertr\\miniconda3\\envs\\thesis\\lib\\site-packages\\torch_geometric\\deprecation.py:12: UserWarning: 'dropout_adj' is deprecated, use 'dropout_edge' instead\n",
      "  warnings.warn(out)\n",
      "c:\\Users\\bertr\\miniconda3\\envs\\thesis\\lib\\site-packages\\torch_geometric\\deprecation.py:12: UserWarning: 'dropout_adj' is deprecated, use 'dropout_edge' instead\n",
      "  warnings.warn(out)\n",
      "c:\\Users\\bertr\\miniconda3\\envs\\thesis\\lib\\site-packages\\torch_geometric\\deprecation.py:12: UserWarning: 'dropout_adj' is deprecated, use 'dropout_edge' instead\n",
      "  warnings.warn(out)\n"
     ]
    },
    {
     "name": "stdout",
     "output_type": "stream",
     "text": [
      "tensor(3.5870, grad_fn=<AddBackward0>)\n",
      "tensor(3.6880, grad_fn=<AddBackward0>)\n",
      "tensor(3.7486, grad_fn=<AddBackward0>)\n"
     ]
    },
    {
     "name": "stderr",
     "output_type": "stream",
     "text": [
      "c:\\Users\\bertr\\miniconda3\\envs\\thesis\\lib\\site-packages\\torch_geometric\\deprecation.py:12: UserWarning: 'dropout_adj' is deprecated, use 'dropout_edge' instead\n",
      "  warnings.warn(out)\n",
      "c:\\Users\\bertr\\miniconda3\\envs\\thesis\\lib\\site-packages\\torch_geometric\\deprecation.py:12: UserWarning: 'dropout_adj' is deprecated, use 'dropout_edge' instead\n",
      "  warnings.warn(out)\n",
      "c:\\Users\\bertr\\miniconda3\\envs\\thesis\\lib\\site-packages\\torch_geometric\\deprecation.py:12: UserWarning: 'dropout_adj' is deprecated, use 'dropout_edge' instead\n",
      "  warnings.warn(out)\n"
     ]
    },
    {
     "name": "stdout",
     "output_type": "stream",
     "text": [
      "tensor(3.6664, grad_fn=<AddBackward0>)\n",
      "tensor(3.7920, grad_fn=<AddBackward0>)\n"
     ]
    },
    {
     "name": "stderr",
     "output_type": "stream",
     "text": [
      "c:\\Users\\bertr\\miniconda3\\envs\\thesis\\lib\\site-packages\\torch_geometric\\deprecation.py:12: UserWarning: 'dropout_adj' is deprecated, use 'dropout_edge' instead\n",
      "  warnings.warn(out)\n",
      "c:\\Users\\bertr\\miniconda3\\envs\\thesis\\lib\\site-packages\\torch_geometric\\deprecation.py:12: UserWarning: 'dropout_adj' is deprecated, use 'dropout_edge' instead\n",
      "  warnings.warn(out)\n"
     ]
    },
    {
     "name": "stdout",
     "output_type": "stream",
     "text": [
      "tensor(3.6287, grad_fn=<AddBackward0>)\n",
      "tensor(3.7784, grad_fn=<AddBackward0>)\n"
     ]
    },
    {
     "name": "stderr",
     "output_type": "stream",
     "text": [
      "c:\\Users\\bertr\\miniconda3\\envs\\thesis\\lib\\site-packages\\torch_geometric\\deprecation.py:12: UserWarning: 'dropout_adj' is deprecated, use 'dropout_edge' instead\n",
      "  warnings.warn(out)\n",
      "c:\\Users\\bertr\\miniconda3\\envs\\thesis\\lib\\site-packages\\torch_geometric\\deprecation.py:12: UserWarning: 'dropout_adj' is deprecated, use 'dropout_edge' instead\n",
      "  warnings.warn(out)\n",
      "c:\\Users\\bertr\\miniconda3\\envs\\thesis\\lib\\site-packages\\torch_geometric\\deprecation.py:12: UserWarning: 'dropout_adj' is deprecated, use 'dropout_edge' instead\n",
      "  warnings.warn(out)\n"
     ]
    },
    {
     "name": "stdout",
     "output_type": "stream",
     "text": [
      "tensor(3.5780, grad_fn=<AddBackward0>)\n",
      "tensor(3.7376, grad_fn=<AddBackward0>)\n",
      "tensor(3.6959, grad_fn=<AddBackward0>)\n"
     ]
    },
    {
     "name": "stderr",
     "output_type": "stream",
     "text": [
      "c:\\Users\\bertr\\miniconda3\\envs\\thesis\\lib\\site-packages\\torch_geometric\\deprecation.py:12: UserWarning: 'dropout_adj' is deprecated, use 'dropout_edge' instead\n",
      "  warnings.warn(out)\n",
      "c:\\Users\\bertr\\miniconda3\\envs\\thesis\\lib\\site-packages\\torch_geometric\\deprecation.py:12: UserWarning: 'dropout_adj' is deprecated, use 'dropout_edge' instead\n",
      "  warnings.warn(out)\n",
      "c:\\Users\\bertr\\miniconda3\\envs\\thesis\\lib\\site-packages\\torch_geometric\\deprecation.py:12: UserWarning: 'dropout_adj' is deprecated, use 'dropout_edge' instead\n",
      "  warnings.warn(out)\n",
      "c:\\Users\\bertr\\miniconda3\\envs\\thesis\\lib\\site-packages\\torch_geometric\\deprecation.py:12: UserWarning: 'dropout_adj' is deprecated, use 'dropout_edge' instead\n",
      "  warnings.warn(out)\n"
     ]
    },
    {
     "name": "stdout",
     "output_type": "stream",
     "text": [
      "tensor(3.6160, grad_fn=<AddBackward0>)\n",
      "tensor(3.6310, grad_fn=<AddBackward0>)\n",
      "tensor(3.6374, grad_fn=<AddBackward0>)\n",
      "tensor(3.5905, grad_fn=<AddBackward0>)\n",
      "tensor(3.6702, grad_fn=<AddBackward0>)\n",
      "tensor(3.5729, grad_fn=<AddBackward0>)\n",
      "tensor(3.5640, grad_fn=<AddBackward0>)\n"
     ]
    },
    {
     "name": "stderr",
     "output_type": "stream",
     "text": [
      "c:\\Users\\bertr\\miniconda3\\envs\\thesis\\lib\\site-packages\\torch_geometric\\deprecation.py:12: UserWarning: 'dropout_adj' is deprecated, use 'dropout_edge' instead\n",
      "  warnings.warn(out)\n",
      "c:\\Users\\bertr\\miniconda3\\envs\\thesis\\lib\\site-packages\\torch_geometric\\deprecation.py:12: UserWarning: 'dropout_adj' is deprecated, use 'dropout_edge' instead\n",
      "  warnings.warn(out)\n",
      "c:\\Users\\bertr\\miniconda3\\envs\\thesis\\lib\\site-packages\\torch_geometric\\deprecation.py:12: UserWarning: 'dropout_adj' is deprecated, use 'dropout_edge' instead\n",
      "  warnings.warn(out)\n",
      "c:\\Users\\bertr\\miniconda3\\envs\\thesis\\lib\\site-packages\\torch_geometric\\deprecation.py:12: UserWarning: 'dropout_adj' is deprecated, use 'dropout_edge' instead\n",
      "  warnings.warn(out)\n",
      "c:\\Users\\bertr\\miniconda3\\envs\\thesis\\lib\\site-packages\\torch_geometric\\deprecation.py:12: UserWarning: 'dropout_adj' is deprecated, use 'dropout_edge' instead\n",
      "  warnings.warn(out)\n",
      "c:\\Users\\bertr\\miniconda3\\envs\\thesis\\lib\\site-packages\\torch_geometric\\deprecation.py:12: UserWarning: 'dropout_adj' is deprecated, use 'dropout_edge' instead\n",
      "  warnings.warn(out)\n"
     ]
    },
    {
     "name": "stdout",
     "output_type": "stream",
     "text": [
      "tensor(3.6401, grad_fn=<AddBackward0>)\n",
      "tensor(3.6624, grad_fn=<AddBackward0>)\n",
      "tensor(3.6929, grad_fn=<AddBackward0>)\n"
     ]
    },
    {
     "name": "stderr",
     "output_type": "stream",
     "text": [
      "c:\\Users\\bertr\\miniconda3\\envs\\thesis\\lib\\site-packages\\torch_geometric\\deprecation.py:12: UserWarning: 'dropout_adj' is deprecated, use 'dropout_edge' instead\n",
      "  warnings.warn(out)\n",
      "c:\\Users\\bertr\\miniconda3\\envs\\thesis\\lib\\site-packages\\torch_geometric\\deprecation.py:12: UserWarning: 'dropout_adj' is deprecated, use 'dropout_edge' instead\n",
      "  warnings.warn(out)\n",
      "c:\\Users\\bertr\\miniconda3\\envs\\thesis\\lib\\site-packages\\torch_geometric\\deprecation.py:12: UserWarning: 'dropout_adj' is deprecated, use 'dropout_edge' instead\n",
      "  warnings.warn(out)\n"
     ]
    },
    {
     "name": "stdout",
     "output_type": "stream",
     "text": [
      "tensor(3.8118, grad_fn=<AddBackward0>)\n",
      "tensor(3.5691, grad_fn=<AddBackward0>)\n",
      "tensor(3.5496, grad_fn=<AddBackward0>)\n"
     ]
    },
    {
     "name": "stderr",
     "output_type": "stream",
     "text": [
      "c:\\Users\\bertr\\miniconda3\\envs\\thesis\\lib\\site-packages\\torch_geometric\\deprecation.py:12: UserWarning: 'dropout_adj' is deprecated, use 'dropout_edge' instead\n",
      "  warnings.warn(out)\n",
      "c:\\Users\\bertr\\miniconda3\\envs\\thesis\\lib\\site-packages\\torch_geometric\\deprecation.py:12: UserWarning: 'dropout_adj' is deprecated, use 'dropout_edge' instead\n",
      "  warnings.warn(out)\n",
      "c:\\Users\\bertr\\miniconda3\\envs\\thesis\\lib\\site-packages\\torch_geometric\\deprecation.py:12: UserWarning: 'dropout_adj' is deprecated, use 'dropout_edge' instead\n",
      "  warnings.warn(out)\n"
     ]
    },
    {
     "name": "stdout",
     "output_type": "stream",
     "text": [
      "tensor(3.6620, grad_fn=<AddBackward0>)\n",
      "tensor(3.5391, grad_fn=<AddBackward0>)\n",
      "tensor(3.7402, grad_fn=<AddBackward0>)\n"
     ]
    },
    {
     "name": "stderr",
     "output_type": "stream",
     "text": [
      "c:\\Users\\bertr\\miniconda3\\envs\\thesis\\lib\\site-packages\\torch_geometric\\deprecation.py:12: UserWarning: 'dropout_adj' is deprecated, use 'dropout_edge' instead\n",
      "  warnings.warn(out)\n",
      "c:\\Users\\bertr\\miniconda3\\envs\\thesis\\lib\\site-packages\\torch_geometric\\deprecation.py:12: UserWarning: 'dropout_adj' is deprecated, use 'dropout_edge' instead\n",
      "  warnings.warn(out)\n",
      "c:\\Users\\bertr\\miniconda3\\envs\\thesis\\lib\\site-packages\\torch_geometric\\deprecation.py:12: UserWarning: 'dropout_adj' is deprecated, use 'dropout_edge' instead\n",
      "  warnings.warn(out)\n"
     ]
    },
    {
     "name": "stdout",
     "output_type": "stream",
     "text": [
      "tensor(3.5615, grad_fn=<AddBackward0>)\n",
      "tensor(3.7349, grad_fn=<AddBackward0>)\n",
      "tensor(3.5807, grad_fn=<AddBackward0>)\n"
     ]
    },
    {
     "name": "stderr",
     "output_type": "stream",
     "text": [
      "c:\\Users\\bertr\\miniconda3\\envs\\thesis\\lib\\site-packages\\torch_geometric\\deprecation.py:12: UserWarning: 'dropout_adj' is deprecated, use 'dropout_edge' instead\n",
      "  warnings.warn(out)\n",
      "c:\\Users\\bertr\\miniconda3\\envs\\thesis\\lib\\site-packages\\torch_geometric\\deprecation.py:12: UserWarning: 'dropout_adj' is deprecated, use 'dropout_edge' instead\n",
      "  warnings.warn(out)\n",
      "c:\\Users\\bertr\\miniconda3\\envs\\thesis\\lib\\site-packages\\torch_geometric\\deprecation.py:12: UserWarning: 'dropout_adj' is deprecated, use 'dropout_edge' instead\n",
      "  warnings.warn(out)\n"
     ]
    },
    {
     "name": "stdout",
     "output_type": "stream",
     "text": [
      "tensor(3.4982, grad_fn=<AddBackward0>)\n",
      "tensor(3.6584, grad_fn=<AddBackward0>)\n",
      "tensor(3.7423, grad_fn=<AddBackward0>)\n"
     ]
    },
    {
     "name": "stderr",
     "output_type": "stream",
     "text": [
      "c:\\Users\\bertr\\miniconda3\\envs\\thesis\\lib\\site-packages\\torch_geometric\\deprecation.py:12: UserWarning: 'dropout_adj' is deprecated, use 'dropout_edge' instead\n",
      "  warnings.warn(out)\n",
      "c:\\Users\\bertr\\miniconda3\\envs\\thesis\\lib\\site-packages\\torch_geometric\\deprecation.py:12: UserWarning: 'dropout_adj' is deprecated, use 'dropout_edge' instead\n",
      "  warnings.warn(out)\n"
     ]
    },
    {
     "name": "stdout",
     "output_type": "stream",
     "text": [
      "tensor(3.5609, grad_fn=<AddBackward0>)\n",
      "tensor(3.8276, grad_fn=<AddBackward0>)\n",
      "tensor(3.6756, grad_fn=<AddBackward0>)\n"
     ]
    },
    {
     "name": "stderr",
     "output_type": "stream",
     "text": [
      "c:\\Users\\bertr\\miniconda3\\envs\\thesis\\lib\\site-packages\\torch_geometric\\deprecation.py:12: UserWarning: 'dropout_adj' is deprecated, use 'dropout_edge' instead\n",
      "  warnings.warn(out)\n",
      "c:\\Users\\bertr\\miniconda3\\envs\\thesis\\lib\\site-packages\\torch_geometric\\deprecation.py:12: UserWarning: 'dropout_adj' is deprecated, use 'dropout_edge' instead\n",
      "  warnings.warn(out)\n",
      "c:\\Users\\bertr\\miniconda3\\envs\\thesis\\lib\\site-packages\\torch_geometric\\deprecation.py:12: UserWarning: 'dropout_adj' is deprecated, use 'dropout_edge' instead\n",
      "  warnings.warn(out)\n"
     ]
    },
    {
     "name": "stdout",
     "output_type": "stream",
     "text": [
      "tensor(3.5504, grad_fn=<AddBackward0>)\n",
      "tensor(3.5715, grad_fn=<AddBackward0>)\n",
      "tensor(3.6468, grad_fn=<AddBackward0>)\n"
     ]
    },
    {
     "name": "stderr",
     "output_type": "stream",
     "text": [
      "c:\\Users\\bertr\\miniconda3\\envs\\thesis\\lib\\site-packages\\torch_geometric\\deprecation.py:12: UserWarning: 'dropout_adj' is deprecated, use 'dropout_edge' instead\n",
      "  warnings.warn(out)\n",
      "c:\\Users\\bertr\\miniconda3\\envs\\thesis\\lib\\site-packages\\torch_geometric\\deprecation.py:12: UserWarning: 'dropout_adj' is deprecated, use 'dropout_edge' instead\n",
      "  warnings.warn(out)\n",
      "c:\\Users\\bertr\\miniconda3\\envs\\thesis\\lib\\site-packages\\torch_geometric\\deprecation.py:12: UserWarning: 'dropout_adj' is deprecated, use 'dropout_edge' instead\n",
      "  warnings.warn(out)\n"
     ]
    },
    {
     "name": "stdout",
     "output_type": "stream",
     "text": [
      "tensor(3.5600, grad_fn=<AddBackward0>)\n",
      "tensor(3.5060, grad_fn=<AddBackward0>)\n",
      "tensor(3.5387, grad_fn=<AddBackward0>)\n"
     ]
    },
    {
     "name": "stderr",
     "output_type": "stream",
     "text": [
      "c:\\Users\\bertr\\miniconda3\\envs\\thesis\\lib\\site-packages\\torch_geometric\\deprecation.py:12: UserWarning: 'dropout_adj' is deprecated, use 'dropout_edge' instead\n",
      "  warnings.warn(out)\n",
      "c:\\Users\\bertr\\miniconda3\\envs\\thesis\\lib\\site-packages\\torch_geometric\\deprecation.py:12: UserWarning: 'dropout_adj' is deprecated, use 'dropout_edge' instead\n",
      "  warnings.warn(out)\n",
      "c:\\Users\\bertr\\miniconda3\\envs\\thesis\\lib\\site-packages\\torch_geometric\\deprecation.py:12: UserWarning: 'dropout_adj' is deprecated, use 'dropout_edge' instead\n",
      "  warnings.warn(out)\n"
     ]
    },
    {
     "name": "stdout",
     "output_type": "stream",
     "text": [
      "tensor(3.4936, grad_fn=<AddBackward0>)\n",
      "tensor(3.5531, grad_fn=<AddBackward0>)\n",
      "tensor(3.5912, grad_fn=<AddBackward0>)\n"
     ]
    },
    {
     "name": "stderr",
     "output_type": "stream",
     "text": [
      "c:\\Users\\bertr\\miniconda3\\envs\\thesis\\lib\\site-packages\\torch_geometric\\deprecation.py:12: UserWarning: 'dropout_adj' is deprecated, use 'dropout_edge' instead\n",
      "  warnings.warn(out)\n",
      "c:\\Users\\bertr\\miniconda3\\envs\\thesis\\lib\\site-packages\\torch_geometric\\deprecation.py:12: UserWarning: 'dropout_adj' is deprecated, use 'dropout_edge' instead\n",
      "  warnings.warn(out)\n",
      "c:\\Users\\bertr\\miniconda3\\envs\\thesis\\lib\\site-packages\\torch_geometric\\deprecation.py:12: UserWarning: 'dropout_adj' is deprecated, use 'dropout_edge' instead\n",
      "  warnings.warn(out)\n"
     ]
    },
    {
     "name": "stdout",
     "output_type": "stream",
     "text": [
      "tensor(3.5370, grad_fn=<AddBackward0>)\n",
      "tensor(3.5804, grad_fn=<AddBackward0>)\n"
     ]
    },
    {
     "name": "stderr",
     "output_type": "stream",
     "text": [
      "c:\\Users\\bertr\\miniconda3\\envs\\thesis\\lib\\site-packages\\torch_geometric\\deprecation.py:12: UserWarning: 'dropout_adj' is deprecated, use 'dropout_edge' instead\n",
      "  warnings.warn(out)\n",
      "c:\\Users\\bertr\\miniconda3\\envs\\thesis\\lib\\site-packages\\torch_geometric\\deprecation.py:12: UserWarning: 'dropout_adj' is deprecated, use 'dropout_edge' instead\n",
      "  warnings.warn(out)\n",
      "c:\\Users\\bertr\\miniconda3\\envs\\thesis\\lib\\site-packages\\torch_geometric\\deprecation.py:12: UserWarning: 'dropout_adj' is deprecated, use 'dropout_edge' instead\n",
      "  warnings.warn(out)\n"
     ]
    },
    {
     "name": "stdout",
     "output_type": "stream",
     "text": [
      "tensor(3.6941, grad_fn=<AddBackward0>)\n",
      "tensor(3.6261, grad_fn=<AddBackward0>)\n",
      "tensor(3.7386, grad_fn=<AddBackward0>)\n"
     ]
    },
    {
     "name": "stderr",
     "output_type": "stream",
     "text": [
      "c:\\Users\\bertr\\miniconda3\\envs\\thesis\\lib\\site-packages\\torch_geometric\\deprecation.py:12: UserWarning: 'dropout_adj' is deprecated, use 'dropout_edge' instead\n",
      "  warnings.warn(out)\n",
      "c:\\Users\\bertr\\miniconda3\\envs\\thesis\\lib\\site-packages\\torch_geometric\\deprecation.py:12: UserWarning: 'dropout_adj' is deprecated, use 'dropout_edge' instead\n",
      "  warnings.warn(out)\n",
      "c:\\Users\\bertr\\miniconda3\\envs\\thesis\\lib\\site-packages\\torch_geometric\\deprecation.py:12: UserWarning: 'dropout_adj' is deprecated, use 'dropout_edge' instead\n",
      "  warnings.warn(out)\n"
     ]
    },
    {
     "name": "stdout",
     "output_type": "stream",
     "text": [
      "tensor(3.5423, grad_fn=<AddBackward0>)\n",
      "tensor(3.5163, grad_fn=<AddBackward0>)\n",
      "tensor(3.5248, grad_fn=<AddBackward0>)\n"
     ]
    },
    {
     "name": "stderr",
     "output_type": "stream",
     "text": [
      "c:\\Users\\bertr\\miniconda3\\envs\\thesis\\lib\\site-packages\\torch_geometric\\deprecation.py:12: UserWarning: 'dropout_adj' is deprecated, use 'dropout_edge' instead\n",
      "  warnings.warn(out)\n",
      "c:\\Users\\bertr\\miniconda3\\envs\\thesis\\lib\\site-packages\\torch_geometric\\deprecation.py:12: UserWarning: 'dropout_adj' is deprecated, use 'dropout_edge' instead\n",
      "  warnings.warn(out)\n",
      "c:\\Users\\bertr\\miniconda3\\envs\\thesis\\lib\\site-packages\\torch_geometric\\deprecation.py:12: UserWarning: 'dropout_adj' is deprecated, use 'dropout_edge' instead\n",
      "  warnings.warn(out)\n"
     ]
    },
    {
     "name": "stdout",
     "output_type": "stream",
     "text": [
      "tensor(3.6208, grad_fn=<AddBackward0>)\n",
      "tensor(3.5270, grad_fn=<AddBackward0>)\n",
      "tensor(3.6727, grad_fn=<AddBackward0>)\n"
     ]
    },
    {
     "name": "stderr",
     "output_type": "stream",
     "text": [
      "c:\\Users\\bertr\\miniconda3\\envs\\thesis\\lib\\site-packages\\torch_geometric\\deprecation.py:12: UserWarning: 'dropout_adj' is deprecated, use 'dropout_edge' instead\n",
      "  warnings.warn(out)\n",
      "c:\\Users\\bertr\\miniconda3\\envs\\thesis\\lib\\site-packages\\torch_geometric\\deprecation.py:12: UserWarning: 'dropout_adj' is deprecated, use 'dropout_edge' instead\n",
      "  warnings.warn(out)\n",
      "c:\\Users\\bertr\\miniconda3\\envs\\thesis\\lib\\site-packages\\torch_geometric\\deprecation.py:12: UserWarning: 'dropout_adj' is deprecated, use 'dropout_edge' instead\n",
      "  warnings.warn(out)\n"
     ]
    },
    {
     "name": "stdout",
     "output_type": "stream",
     "text": [
      "tensor(3.5366, grad_fn=<AddBackward0>)\n",
      "tensor(3.7454, grad_fn=<AddBackward0>)\n",
      "tensor(3.9052, grad_fn=<AddBackward0>)\n"
     ]
    },
    {
     "name": "stderr",
     "output_type": "stream",
     "text": [
      "c:\\Users\\bertr\\miniconda3\\envs\\thesis\\lib\\site-packages\\torch_geometric\\deprecation.py:12: UserWarning: 'dropout_adj' is deprecated, use 'dropout_edge' instead\n",
      "  warnings.warn(out)\n",
      "c:\\Users\\bertr\\miniconda3\\envs\\thesis\\lib\\site-packages\\torch_geometric\\deprecation.py:12: UserWarning: 'dropout_adj' is deprecated, use 'dropout_edge' instead\n",
      "  warnings.warn(out)\n",
      "c:\\Users\\bertr\\miniconda3\\envs\\thesis\\lib\\site-packages\\torch_geometric\\deprecation.py:12: UserWarning: 'dropout_adj' is deprecated, use 'dropout_edge' instead\n",
      "  warnings.warn(out)\n"
     ]
    },
    {
     "name": "stdout",
     "output_type": "stream",
     "text": [
      "tensor(3.5850, grad_fn=<AddBackward0>)\n",
      "tensor(3.6366, grad_fn=<AddBackward0>)\n",
      "tensor(3.5405, grad_fn=<AddBackward0>)\n"
     ]
    },
    {
     "name": "stderr",
     "output_type": "stream",
     "text": [
      "c:\\Users\\bertr\\miniconda3\\envs\\thesis\\lib\\site-packages\\torch_geometric\\deprecation.py:12: UserWarning: 'dropout_adj' is deprecated, use 'dropout_edge' instead\n",
      "  warnings.warn(out)\n",
      "c:\\Users\\bertr\\miniconda3\\envs\\thesis\\lib\\site-packages\\torch_geometric\\deprecation.py:12: UserWarning: 'dropout_adj' is deprecated, use 'dropout_edge' instead\n",
      "  warnings.warn(out)\n",
      "c:\\Users\\bertr\\miniconda3\\envs\\thesis\\lib\\site-packages\\torch_geometric\\deprecation.py:12: UserWarning: 'dropout_adj' is deprecated, use 'dropout_edge' instead\n",
      "  warnings.warn(out)\n"
     ]
    },
    {
     "name": "stdout",
     "output_type": "stream",
     "text": [
      "tensor(3.5866, grad_fn=<AddBackward0>)\n",
      "tensor(3.4867, grad_fn=<AddBackward0>)\n",
      "tensor(3.5892, grad_fn=<AddBackward0>)\n"
     ]
    },
    {
     "name": "stderr",
     "output_type": "stream",
     "text": [
      "c:\\Users\\bertr\\miniconda3\\envs\\thesis\\lib\\site-packages\\torch_geometric\\deprecation.py:12: UserWarning: 'dropout_adj' is deprecated, use 'dropout_edge' instead\n",
      "  warnings.warn(out)\n",
      "c:\\Users\\bertr\\miniconda3\\envs\\thesis\\lib\\site-packages\\torch_geometric\\deprecation.py:12: UserWarning: 'dropout_adj' is deprecated, use 'dropout_edge' instead\n",
      "  warnings.warn(out)\n",
      "c:\\Users\\bertr\\miniconda3\\envs\\thesis\\lib\\site-packages\\torch_geometric\\deprecation.py:12: UserWarning: 'dropout_adj' is deprecated, use 'dropout_edge' instead\n",
      "  warnings.warn(out)\n"
     ]
    },
    {
     "name": "stdout",
     "output_type": "stream",
     "text": [
      "tensor(3.5124, grad_fn=<AddBackward0>)\n",
      "tensor(3.7475, grad_fn=<AddBackward0>)\n",
      "tensor(3.5787, grad_fn=<AddBackward0>)\n",
      "tensor(3.4710, grad_fn=<AddBackward0>)\n"
     ]
    },
    {
     "name": "stderr",
     "output_type": "stream",
     "text": [
      "c:\\Users\\bertr\\miniconda3\\envs\\thesis\\lib\\site-packages\\torch_geometric\\deprecation.py:12: UserWarning: 'dropout_adj' is deprecated, use 'dropout_edge' instead\n",
      "  warnings.warn(out)\n",
      "c:\\Users\\bertr\\miniconda3\\envs\\thesis\\lib\\site-packages\\torch_geometric\\deprecation.py:12: UserWarning: 'dropout_adj' is deprecated, use 'dropout_edge' instead\n",
      "  warnings.warn(out)\n"
     ]
    },
    {
     "name": "stdout",
     "output_type": "stream",
     "text": [
      "tensor(3.5937, grad_fn=<AddBackward0>)\n",
      "tensor(3.5642, grad_fn=<AddBackward0>)\n",
      "tensor(3.4906, grad_fn=<AddBackward0>)\n"
     ]
    },
    {
     "name": "stderr",
     "output_type": "stream",
     "text": [
      "c:\\Users\\bertr\\miniconda3\\envs\\thesis\\lib\\site-packages\\torch_geometric\\deprecation.py:12: UserWarning: 'dropout_adj' is deprecated, use 'dropout_edge' instead\n",
      "  warnings.warn(out)\n",
      "c:\\Users\\bertr\\miniconda3\\envs\\thesis\\lib\\site-packages\\torch_geometric\\deprecation.py:12: UserWarning: 'dropout_adj' is deprecated, use 'dropout_edge' instead\n",
      "  warnings.warn(out)\n",
      "c:\\Users\\bertr\\miniconda3\\envs\\thesis\\lib\\site-packages\\torch_geometric\\deprecation.py:12: UserWarning: 'dropout_adj' is deprecated, use 'dropout_edge' instead\n",
      "  warnings.warn(out)\n"
     ]
    },
    {
     "name": "stdout",
     "output_type": "stream",
     "text": [
      "tensor(3.6012, grad_fn=<AddBackward0>)\n",
      "tensor(3.6769, grad_fn=<AddBackward0>)\n",
      "tensor(3.5766, grad_fn=<AddBackward0>)\n"
     ]
    },
    {
     "name": "stderr",
     "output_type": "stream",
     "text": [
      "c:\\Users\\bertr\\miniconda3\\envs\\thesis\\lib\\site-packages\\torch_geometric\\deprecation.py:12: UserWarning: 'dropout_adj' is deprecated, use 'dropout_edge' instead\n",
      "  warnings.warn(out)\n",
      "c:\\Users\\bertr\\miniconda3\\envs\\thesis\\lib\\site-packages\\torch_geometric\\deprecation.py:12: UserWarning: 'dropout_adj' is deprecated, use 'dropout_edge' instead\n",
      "  warnings.warn(out)\n",
      "c:\\Users\\bertr\\miniconda3\\envs\\thesis\\lib\\site-packages\\torch_geometric\\deprecation.py:12: UserWarning: 'dropout_adj' is deprecated, use 'dropout_edge' instead\n",
      "  warnings.warn(out)\n"
     ]
    },
    {
     "name": "stdout",
     "output_type": "stream",
     "text": [
      "tensor(3.6151, grad_fn=<AddBackward0>)\n",
      "tensor(3.6682, grad_fn=<AddBackward0>)\n",
      "tensor(3.5689, grad_fn=<AddBackward0>)\n"
     ]
    },
    {
     "name": "stderr",
     "output_type": "stream",
     "text": [
      "c:\\Users\\bertr\\miniconda3\\envs\\thesis\\lib\\site-packages\\torch_geometric\\deprecation.py:12: UserWarning: 'dropout_adj' is deprecated, use 'dropout_edge' instead\n",
      "  warnings.warn(out)\n",
      "c:\\Users\\bertr\\miniconda3\\envs\\thesis\\lib\\site-packages\\torch_geometric\\deprecation.py:12: UserWarning: 'dropout_adj' is deprecated, use 'dropout_edge' instead\n",
      "  warnings.warn(out)\n",
      "c:\\Users\\bertr\\miniconda3\\envs\\thesis\\lib\\site-packages\\torch_geometric\\deprecation.py:12: UserWarning: 'dropout_adj' is deprecated, use 'dropout_edge' instead\n",
      "  warnings.warn(out)\n"
     ]
    },
    {
     "name": "stdout",
     "output_type": "stream",
     "text": [
      "tensor(3.9053, grad_fn=<AddBackward0>)\n",
      "tensor(3.6448, grad_fn=<AddBackward0>)\n",
      "tensor(3.6061, grad_fn=<AddBackward0>)\n"
     ]
    },
    {
     "name": "stderr",
     "output_type": "stream",
     "text": [
      "c:\\Users\\bertr\\miniconda3\\envs\\thesis\\lib\\site-packages\\torch_geometric\\deprecation.py:12: UserWarning: 'dropout_adj' is deprecated, use 'dropout_edge' instead\n",
      "  warnings.warn(out)\n",
      "c:\\Users\\bertr\\miniconda3\\envs\\thesis\\lib\\site-packages\\torch_geometric\\deprecation.py:12: UserWarning: 'dropout_adj' is deprecated, use 'dropout_edge' instead\n",
      "  warnings.warn(out)\n",
      "c:\\Users\\bertr\\miniconda3\\envs\\thesis\\lib\\site-packages\\torch_geometric\\deprecation.py:12: UserWarning: 'dropout_adj' is deprecated, use 'dropout_edge' instead\n",
      "  warnings.warn(out)\n"
     ]
    },
    {
     "name": "stdout",
     "output_type": "stream",
     "text": [
      "tensor(3.5292, grad_fn=<AddBackward0>)\n",
      "tensor(3.4682, grad_fn=<AddBackward0>)\n",
      "tensor(3.5676, grad_fn=<AddBackward0>)\n"
     ]
    },
    {
     "name": "stderr",
     "output_type": "stream",
     "text": [
      "c:\\Users\\bertr\\miniconda3\\envs\\thesis\\lib\\site-packages\\torch_geometric\\deprecation.py:12: UserWarning: 'dropout_adj' is deprecated, use 'dropout_edge' instead\n",
      "  warnings.warn(out)\n",
      "c:\\Users\\bertr\\miniconda3\\envs\\thesis\\lib\\site-packages\\torch_geometric\\deprecation.py:12: UserWarning: 'dropout_adj' is deprecated, use 'dropout_edge' instead\n",
      "  warnings.warn(out)\n",
      "c:\\Users\\bertr\\miniconda3\\envs\\thesis\\lib\\site-packages\\torch_geometric\\deprecation.py:12: UserWarning: 'dropout_adj' is deprecated, use 'dropout_edge' instead\n",
      "  warnings.warn(out)\n"
     ]
    },
    {
     "name": "stdout",
     "output_type": "stream",
     "text": [
      "tensor(3.7306, grad_fn=<AddBackward0>)\n",
      "tensor(3.6899, grad_fn=<AddBackward0>)\n",
      "tensor(3.6285, grad_fn=<AddBackward0>)\n"
     ]
    },
    {
     "name": "stderr",
     "output_type": "stream",
     "text": [
      "c:\\Users\\bertr\\miniconda3\\envs\\thesis\\lib\\site-packages\\torch_geometric\\deprecation.py:12: UserWarning: 'dropout_adj' is deprecated, use 'dropout_edge' instead\n",
      "  warnings.warn(out)\n",
      "c:\\Users\\bertr\\miniconda3\\envs\\thesis\\lib\\site-packages\\torch_geometric\\deprecation.py:12: UserWarning: 'dropout_adj' is deprecated, use 'dropout_edge' instead\n",
      "  warnings.warn(out)\n",
      "c:\\Users\\bertr\\miniconda3\\envs\\thesis\\lib\\site-packages\\torch_geometric\\deprecation.py:12: UserWarning: 'dropout_adj' is deprecated, use 'dropout_edge' instead\n",
      "  warnings.warn(out)\n"
     ]
    },
    {
     "name": "stdout",
     "output_type": "stream",
     "text": [
      "tensor(3.5126, grad_fn=<AddBackward0>)\n",
      "tensor(3.5226, grad_fn=<AddBackward0>)\n",
      "tensor(3.6176, grad_fn=<AddBackward0>)\n",
      "tensor(3.5064, grad_fn=<AddBackward0>)\n"
     ]
    },
    {
     "name": "stderr",
     "output_type": "stream",
     "text": [
      "c:\\Users\\bertr\\miniconda3\\envs\\thesis\\lib\\site-packages\\torch_geometric\\deprecation.py:12: UserWarning: 'dropout_adj' is deprecated, use 'dropout_edge' instead\n",
      "  warnings.warn(out)\n",
      "c:\\Users\\bertr\\miniconda3\\envs\\thesis\\lib\\site-packages\\torch_geometric\\deprecation.py:12: UserWarning: 'dropout_adj' is deprecated, use 'dropout_edge' instead\n",
      "  warnings.warn(out)\n",
      "c:\\Users\\bertr\\miniconda3\\envs\\thesis\\lib\\site-packages\\torch_geometric\\deprecation.py:12: UserWarning: 'dropout_adj' is deprecated, use 'dropout_edge' instead\n",
      "  warnings.warn(out)\n",
      "c:\\Users\\bertr\\miniconda3\\envs\\thesis\\lib\\site-packages\\torch_geometric\\deprecation.py:12: UserWarning: 'dropout_adj' is deprecated, use 'dropout_edge' instead\n",
      "  warnings.warn(out)\n",
      "c:\\Users\\bertr\\miniconda3\\envs\\thesis\\lib\\site-packages\\torch_geometric\\deprecation.py:12: UserWarning: 'dropout_adj' is deprecated, use 'dropout_edge' instead\n",
      "  warnings.warn(out)\n",
      "c:\\Users\\bertr\\miniconda3\\envs\\thesis\\lib\\site-packages\\torch_geometric\\deprecation.py:12: UserWarning: 'dropout_adj' is deprecated, use 'dropout_edge' instead\n",
      "  warnings.warn(out)\n"
     ]
    },
    {
     "name": "stdout",
     "output_type": "stream",
     "text": [
      "tensor(3.6000, grad_fn=<AddBackward0>)\n",
      "tensor(3.6364, grad_fn=<AddBackward0>)\n",
      "tensor(3.7094, grad_fn=<AddBackward0>)\n"
     ]
    },
    {
     "name": "stderr",
     "output_type": "stream",
     "text": [
      "c:\\Users\\bertr\\miniconda3\\envs\\thesis\\lib\\site-packages\\torch_geometric\\deprecation.py:12: UserWarning: 'dropout_adj' is deprecated, use 'dropout_edge' instead\n",
      "  warnings.warn(out)\n",
      "c:\\Users\\bertr\\miniconda3\\envs\\thesis\\lib\\site-packages\\torch_geometric\\deprecation.py:12: UserWarning: 'dropout_adj' is deprecated, use 'dropout_edge' instead\n",
      "  warnings.warn(out)\n",
      "c:\\Users\\bertr\\miniconda3\\envs\\thesis\\lib\\site-packages\\torch_geometric\\deprecation.py:12: UserWarning: 'dropout_adj' is deprecated, use 'dropout_edge' instead\n",
      "  warnings.warn(out)\n"
     ]
    },
    {
     "name": "stdout",
     "output_type": "stream",
     "text": [
      "tensor(3.7703, grad_fn=<AddBackward0>)\n",
      "tensor(3.5467, grad_fn=<AddBackward0>)\n",
      "tensor(3.5892, grad_fn=<AddBackward0>)\n"
     ]
    },
    {
     "name": "stderr",
     "output_type": "stream",
     "text": [
      "c:\\Users\\bertr\\miniconda3\\envs\\thesis\\lib\\site-packages\\torch_geometric\\deprecation.py:12: UserWarning: 'dropout_adj' is deprecated, use 'dropout_edge' instead\n",
      "  warnings.warn(out)\n",
      "c:\\Users\\bertr\\miniconda3\\envs\\thesis\\lib\\site-packages\\torch_geometric\\deprecation.py:12: UserWarning: 'dropout_adj' is deprecated, use 'dropout_edge' instead\n",
      "  warnings.warn(out)\n",
      "c:\\Users\\bertr\\miniconda3\\envs\\thesis\\lib\\site-packages\\torch_geometric\\deprecation.py:12: UserWarning: 'dropout_adj' is deprecated, use 'dropout_edge' instead\n",
      "  warnings.warn(out)\n"
     ]
    },
    {
     "name": "stdout",
     "output_type": "stream",
     "text": [
      "tensor(3.6243, grad_fn=<AddBackward0>)\n",
      "tensor(3.5400, grad_fn=<AddBackward0>)\n",
      "tensor(3.5699, grad_fn=<AddBackward0>)\n"
     ]
    },
    {
     "name": "stderr",
     "output_type": "stream",
     "text": [
      "c:\\Users\\bertr\\miniconda3\\envs\\thesis\\lib\\site-packages\\torch_geometric\\deprecation.py:12: UserWarning: 'dropout_adj' is deprecated, use 'dropout_edge' instead\n",
      "  warnings.warn(out)\n",
      "c:\\Users\\bertr\\miniconda3\\envs\\thesis\\lib\\site-packages\\torch_geometric\\deprecation.py:12: UserWarning: 'dropout_adj' is deprecated, use 'dropout_edge' instead\n",
      "  warnings.warn(out)\n",
      "c:\\Users\\bertr\\miniconda3\\envs\\thesis\\lib\\site-packages\\torch_geometric\\deprecation.py:12: UserWarning: 'dropout_adj' is deprecated, use 'dropout_edge' instead\n",
      "  warnings.warn(out)\n",
      "c:\\Users\\bertr\\miniconda3\\envs\\thesis\\lib\\site-packages\\torch_geometric\\deprecation.py:12: UserWarning: 'dropout_adj' is deprecated, use 'dropout_edge' instead\n",
      "  warnings.warn(out)\n"
     ]
    },
    {
     "name": "stdout",
     "output_type": "stream",
     "text": [
      "tensor(3.5268, grad_fn=<AddBackward0>)\n",
      "tensor(3.6268, grad_fn=<AddBackward0>)\n",
      "tensor(3.5287, grad_fn=<AddBackward0>)\n",
      "tensor(3.5235, grad_fn=<AddBackward0>)\n",
      "tensor(3.5855, grad_fn=<AddBackward0>)\n",
      "tensor(3.5917, grad_fn=<AddBackward0>)\n"
     ]
    },
    {
     "name": "stderr",
     "output_type": "stream",
     "text": [
      "c:\\Users\\bertr\\miniconda3\\envs\\thesis\\lib\\site-packages\\torch_geometric\\deprecation.py:12: UserWarning: 'dropout_adj' is deprecated, use 'dropout_edge' instead\n",
      "  warnings.warn(out)\n",
      "c:\\Users\\bertr\\miniconda3\\envs\\thesis\\lib\\site-packages\\torch_geometric\\deprecation.py:12: UserWarning: 'dropout_adj' is deprecated, use 'dropout_edge' instead\n",
      "  warnings.warn(out)\n",
      "c:\\Users\\bertr\\miniconda3\\envs\\thesis\\lib\\site-packages\\torch_geometric\\deprecation.py:12: UserWarning: 'dropout_adj' is deprecated, use 'dropout_edge' instead\n",
      "  warnings.warn(out)\n"
     ]
    },
    {
     "name": "stdout",
     "output_type": "stream",
     "text": [
      "tensor(3.5047, grad_fn=<AddBackward0>)\n",
      "tensor(3.5998, grad_fn=<AddBackward0>)\n",
      "tensor(3.4918, grad_fn=<AddBackward0>)\n"
     ]
    },
    {
     "name": "stderr",
     "output_type": "stream",
     "text": [
      "c:\\Users\\bertr\\miniconda3\\envs\\thesis\\lib\\site-packages\\torch_geometric\\deprecation.py:12: UserWarning: 'dropout_adj' is deprecated, use 'dropout_edge' instead\n",
      "  warnings.warn(out)\n",
      "c:\\Users\\bertr\\miniconda3\\envs\\thesis\\lib\\site-packages\\torch_geometric\\deprecation.py:12: UserWarning: 'dropout_adj' is deprecated, use 'dropout_edge' instead\n",
      "  warnings.warn(out)\n",
      "c:\\Users\\bertr\\miniconda3\\envs\\thesis\\lib\\site-packages\\torch_geometric\\deprecation.py:12: UserWarning: 'dropout_adj' is deprecated, use 'dropout_edge' instead\n",
      "  warnings.warn(out)\n"
     ]
    },
    {
     "name": "stdout",
     "output_type": "stream",
     "text": [
      "tensor(3.5975, grad_fn=<AddBackward0>)\n",
      "tensor(3.6016, grad_fn=<AddBackward0>)\n",
      "tensor(3.5918, grad_fn=<AddBackward0>)\n"
     ]
    },
    {
     "name": "stderr",
     "output_type": "stream",
     "text": [
      "c:\\Users\\bertr\\miniconda3\\envs\\thesis\\lib\\site-packages\\torch_geometric\\deprecation.py:12: UserWarning: 'dropout_adj' is deprecated, use 'dropout_edge' instead\n",
      "  warnings.warn(out)\n",
      "c:\\Users\\bertr\\miniconda3\\envs\\thesis\\lib\\site-packages\\torch_geometric\\deprecation.py:12: UserWarning: 'dropout_adj' is deprecated, use 'dropout_edge' instead\n",
      "  warnings.warn(out)\n",
      "c:\\Users\\bertr\\miniconda3\\envs\\thesis\\lib\\site-packages\\torch_geometric\\deprecation.py:12: UserWarning: 'dropout_adj' is deprecated, use 'dropout_edge' instead\n",
      "  warnings.warn(out)\n"
     ]
    },
    {
     "name": "stdout",
     "output_type": "stream",
     "text": [
      "tensor(3.7506, grad_fn=<AddBackward0>)\n",
      "tensor(3.4604, grad_fn=<AddBackward0>)\n",
      "tensor(3.6122, grad_fn=<AddBackward0>)\n"
     ]
    },
    {
     "name": "stderr",
     "output_type": "stream",
     "text": [
      "c:\\Users\\bertr\\miniconda3\\envs\\thesis\\lib\\site-packages\\torch_geometric\\deprecation.py:12: UserWarning: 'dropout_adj' is deprecated, use 'dropout_edge' instead\n",
      "  warnings.warn(out)\n",
      "c:\\Users\\bertr\\miniconda3\\envs\\thesis\\lib\\site-packages\\torch_geometric\\deprecation.py:12: UserWarning: 'dropout_adj' is deprecated, use 'dropout_edge' instead\n",
      "  warnings.warn(out)\n",
      "c:\\Users\\bertr\\miniconda3\\envs\\thesis\\lib\\site-packages\\torch_geometric\\deprecation.py:12: UserWarning: 'dropout_adj' is deprecated, use 'dropout_edge' instead\n",
      "  warnings.warn(out)\n"
     ]
    },
    {
     "name": "stdout",
     "output_type": "stream",
     "text": [
      "tensor(3.5867, grad_fn=<AddBackward0>)\n",
      "tensor(3.5104, grad_fn=<AddBackward0>)\n",
      "tensor(3.5391, grad_fn=<AddBackward0>)\n"
     ]
    },
    {
     "name": "stderr",
     "output_type": "stream",
     "text": [
      "c:\\Users\\bertr\\miniconda3\\envs\\thesis\\lib\\site-packages\\torch_geometric\\deprecation.py:12: UserWarning: 'dropout_adj' is deprecated, use 'dropout_edge' instead\n",
      "  warnings.warn(out)\n",
      "c:\\Users\\bertr\\miniconda3\\envs\\thesis\\lib\\site-packages\\torch_geometric\\deprecation.py:12: UserWarning: 'dropout_adj' is deprecated, use 'dropout_edge' instead\n",
      "  warnings.warn(out)\n",
      "c:\\Users\\bertr\\miniconda3\\envs\\thesis\\lib\\site-packages\\torch_geometric\\deprecation.py:12: UserWarning: 'dropout_adj' is deprecated, use 'dropout_edge' instead\n",
      "  warnings.warn(out)\n"
     ]
    },
    {
     "name": "stdout",
     "output_type": "stream",
     "text": [
      "tensor(3.5260, grad_fn=<AddBackward0>)\n",
      "tensor(3.5683, grad_fn=<AddBackward0>)\n",
      "tensor(3.5101, grad_fn=<AddBackward0>)\n"
     ]
    },
    {
     "name": "stderr",
     "output_type": "stream",
     "text": [
      "c:\\Users\\bertr\\miniconda3\\envs\\thesis\\lib\\site-packages\\torch_geometric\\deprecation.py:12: UserWarning: 'dropout_adj' is deprecated, use 'dropout_edge' instead\n",
      "  warnings.warn(out)\n",
      "c:\\Users\\bertr\\miniconda3\\envs\\thesis\\lib\\site-packages\\torch_geometric\\deprecation.py:12: UserWarning: 'dropout_adj' is deprecated, use 'dropout_edge' instead\n",
      "  warnings.warn(out)\n",
      "c:\\Users\\bertr\\miniconda3\\envs\\thesis\\lib\\site-packages\\torch_geometric\\deprecation.py:12: UserWarning: 'dropout_adj' is deprecated, use 'dropout_edge' instead\n",
      "  warnings.warn(out)\n"
     ]
    },
    {
     "name": "stdout",
     "output_type": "stream",
     "text": [
      "tensor(3.5677, grad_fn=<AddBackward0>)\n",
      "tensor(3.5763, grad_fn=<AddBackward0>)\n",
      "tensor(3.5582, grad_fn=<AddBackward0>)\n"
     ]
    },
    {
     "name": "stderr",
     "output_type": "stream",
     "text": [
      "c:\\Users\\bertr\\miniconda3\\envs\\thesis\\lib\\site-packages\\torch_geometric\\deprecation.py:12: UserWarning: 'dropout_adj' is deprecated, use 'dropout_edge' instead\n",
      "  warnings.warn(out)\n",
      "c:\\Users\\bertr\\miniconda3\\envs\\thesis\\lib\\site-packages\\torch_geometric\\deprecation.py:12: UserWarning: 'dropout_adj' is deprecated, use 'dropout_edge' instead\n",
      "  warnings.warn(out)\n",
      "c:\\Users\\bertr\\miniconda3\\envs\\thesis\\lib\\site-packages\\torch_geometric\\deprecation.py:12: UserWarning: 'dropout_adj' is deprecated, use 'dropout_edge' instead\n",
      "  warnings.warn(out)\n"
     ]
    },
    {
     "name": "stdout",
     "output_type": "stream",
     "text": [
      "tensor(3.4772, grad_fn=<AddBackward0>)\n",
      "tensor(3.5235, grad_fn=<AddBackward0>)\n",
      "tensor(3.5100, grad_fn=<AddBackward0>)\n"
     ]
    },
    {
     "name": "stderr",
     "output_type": "stream",
     "text": [
      "c:\\Users\\bertr\\miniconda3\\envs\\thesis\\lib\\site-packages\\torch_geometric\\deprecation.py:12: UserWarning: 'dropout_adj' is deprecated, use 'dropout_edge' instead\n",
      "  warnings.warn(out)\n",
      "c:\\Users\\bertr\\miniconda3\\envs\\thesis\\lib\\site-packages\\torch_geometric\\deprecation.py:12: UserWarning: 'dropout_adj' is deprecated, use 'dropout_edge' instead\n",
      "  warnings.warn(out)\n",
      "c:\\Users\\bertr\\miniconda3\\envs\\thesis\\lib\\site-packages\\torch_geometric\\deprecation.py:12: UserWarning: 'dropout_adj' is deprecated, use 'dropout_edge' instead\n",
      "  warnings.warn(out)\n"
     ]
    },
    {
     "name": "stdout",
     "output_type": "stream",
     "text": [
      "tensor(3.5677, grad_fn=<AddBackward0>)\n",
      "tensor(3.5156, grad_fn=<AddBackward0>)\n",
      "tensor(3.5347, grad_fn=<AddBackward0>)\n"
     ]
    },
    {
     "name": "stderr",
     "output_type": "stream",
     "text": [
      "c:\\Users\\bertr\\miniconda3\\envs\\thesis\\lib\\site-packages\\torch_geometric\\deprecation.py:12: UserWarning: 'dropout_adj' is deprecated, use 'dropout_edge' instead\n",
      "  warnings.warn(out)\n",
      "c:\\Users\\bertr\\miniconda3\\envs\\thesis\\lib\\site-packages\\torch_geometric\\deprecation.py:12: UserWarning: 'dropout_adj' is deprecated, use 'dropout_edge' instead\n",
      "  warnings.warn(out)\n",
      "c:\\Users\\bertr\\miniconda3\\envs\\thesis\\lib\\site-packages\\torch_geometric\\deprecation.py:12: UserWarning: 'dropout_adj' is deprecated, use 'dropout_edge' instead\n",
      "  warnings.warn(out)\n"
     ]
    },
    {
     "name": "stdout",
     "output_type": "stream",
     "text": [
      "tensor(3.5243, grad_fn=<AddBackward0>)\n",
      "tensor(3.4783, grad_fn=<AddBackward0>)\n",
      "tensor(3.6608, grad_fn=<AddBackward0>)\n"
     ]
    },
    {
     "name": "stderr",
     "output_type": "stream",
     "text": [
      "c:\\Users\\bertr\\miniconda3\\envs\\thesis\\lib\\site-packages\\torch_geometric\\deprecation.py:12: UserWarning: 'dropout_adj' is deprecated, use 'dropout_edge' instead\n",
      "  warnings.warn(out)\n",
      "c:\\Users\\bertr\\miniconda3\\envs\\thesis\\lib\\site-packages\\torch_geometric\\deprecation.py:12: UserWarning: 'dropout_adj' is deprecated, use 'dropout_edge' instead\n",
      "  warnings.warn(out)\n",
      "c:\\Users\\bertr\\miniconda3\\envs\\thesis\\lib\\site-packages\\torch_geometric\\deprecation.py:12: UserWarning: 'dropout_adj' is deprecated, use 'dropout_edge' instead\n",
      "  warnings.warn(out)\n"
     ]
    },
    {
     "name": "stdout",
     "output_type": "stream",
     "text": [
      "tensor(3.5915, grad_fn=<AddBackward0>)\n",
      "tensor(3.6072, grad_fn=<AddBackward0>)\n",
      "tensor(3.5095, grad_fn=<AddBackward0>)\n"
     ]
    },
    {
     "name": "stderr",
     "output_type": "stream",
     "text": [
      "c:\\Users\\bertr\\miniconda3\\envs\\thesis\\lib\\site-packages\\torch_geometric\\deprecation.py:12: UserWarning: 'dropout_adj' is deprecated, use 'dropout_edge' instead\n",
      "  warnings.warn(out)\n",
      "c:\\Users\\bertr\\miniconda3\\envs\\thesis\\lib\\site-packages\\torch_geometric\\deprecation.py:12: UserWarning: 'dropout_adj' is deprecated, use 'dropout_edge' instead\n",
      "  warnings.warn(out)\n",
      "c:\\Users\\bertr\\miniconda3\\envs\\thesis\\lib\\site-packages\\torch_geometric\\deprecation.py:12: UserWarning: 'dropout_adj' is deprecated, use 'dropout_edge' instead\n",
      "  warnings.warn(out)\n",
      "c:\\Users\\bertr\\miniconda3\\envs\\thesis\\lib\\site-packages\\torch_geometric\\deprecation.py:12: UserWarning: 'dropout_adj' is deprecated, use 'dropout_edge' instead\n",
      "  warnings.warn(out)\n"
     ]
    },
    {
     "name": "stdout",
     "output_type": "stream",
     "text": [
      "tensor(3.6393, grad_fn=<AddBackward0>)\n",
      "tensor(3.5077, grad_fn=<AddBackward0>)\n",
      "tensor(3.6003, grad_fn=<AddBackward0>)\n"
     ]
    },
    {
     "name": "stderr",
     "output_type": "stream",
     "text": [
      "c:\\Users\\bertr\\miniconda3\\envs\\thesis\\lib\\site-packages\\torch_geometric\\deprecation.py:12: UserWarning: 'dropout_adj' is deprecated, use 'dropout_edge' instead\n",
      "  warnings.warn(out)\n",
      "c:\\Users\\bertr\\miniconda3\\envs\\thesis\\lib\\site-packages\\torch_geometric\\deprecation.py:12: UserWarning: 'dropout_adj' is deprecated, use 'dropout_edge' instead\n",
      "  warnings.warn(out)\n",
      "c:\\Users\\bertr\\miniconda3\\envs\\thesis\\lib\\site-packages\\torch_geometric\\deprecation.py:12: UserWarning: 'dropout_adj' is deprecated, use 'dropout_edge' instead\n",
      "  warnings.warn(out)\n"
     ]
    },
    {
     "name": "stdout",
     "output_type": "stream",
     "text": [
      "tensor(3.4924, grad_fn=<AddBackward0>)\n",
      "tensor(3.5279, grad_fn=<AddBackward0>)\n",
      "tensor(3.6753, grad_fn=<AddBackward0>)\n"
     ]
    },
    {
     "name": "stderr",
     "output_type": "stream",
     "text": [
      "c:\\Users\\bertr\\miniconda3\\envs\\thesis\\lib\\site-packages\\torch_geometric\\deprecation.py:12: UserWarning: 'dropout_adj' is deprecated, use 'dropout_edge' instead\n",
      "  warnings.warn(out)\n",
      "c:\\Users\\bertr\\miniconda3\\envs\\thesis\\lib\\site-packages\\torch_geometric\\deprecation.py:12: UserWarning: 'dropout_adj' is deprecated, use 'dropout_edge' instead\n",
      "  warnings.warn(out)\n",
      "c:\\Users\\bertr\\miniconda3\\envs\\thesis\\lib\\site-packages\\torch_geometric\\deprecation.py:12: UserWarning: 'dropout_adj' is deprecated, use 'dropout_edge' instead\n",
      "  warnings.warn(out)\n"
     ]
    },
    {
     "name": "stdout",
     "output_type": "stream",
     "text": [
      "tensor(3.5084, grad_fn=<AddBackward0>)\n",
      "tensor(3.5112, grad_fn=<AddBackward0>)\n",
      "tensor(3.6320, grad_fn=<AddBackward0>)\n"
     ]
    },
    {
     "name": "stderr",
     "output_type": "stream",
     "text": [
      "c:\\Users\\bertr\\miniconda3\\envs\\thesis\\lib\\site-packages\\torch_geometric\\deprecation.py:12: UserWarning: 'dropout_adj' is deprecated, use 'dropout_edge' instead\n",
      "  warnings.warn(out)\n",
      "c:\\Users\\bertr\\miniconda3\\envs\\thesis\\lib\\site-packages\\torch_geometric\\deprecation.py:12: UserWarning: 'dropout_adj' is deprecated, use 'dropout_edge' instead\n",
      "  warnings.warn(out)\n",
      "c:\\Users\\bertr\\miniconda3\\envs\\thesis\\lib\\site-packages\\torch_geometric\\deprecation.py:12: UserWarning: 'dropout_adj' is deprecated, use 'dropout_edge' instead\n",
      "  warnings.warn(out)\n"
     ]
    },
    {
     "name": "stdout",
     "output_type": "stream",
     "text": [
      "tensor(3.5568, grad_fn=<AddBackward0>)\n",
      "tensor(3.4764, grad_fn=<AddBackward0>)\n",
      "tensor(3.4811, grad_fn=<AddBackward0>)\n"
     ]
    },
    {
     "name": "stderr",
     "output_type": "stream",
     "text": [
      "c:\\Users\\bertr\\miniconda3\\envs\\thesis\\lib\\site-packages\\torch_geometric\\deprecation.py:12: UserWarning: 'dropout_adj' is deprecated, use 'dropout_edge' instead\n",
      "  warnings.warn(out)\n",
      "c:\\Users\\bertr\\miniconda3\\envs\\thesis\\lib\\site-packages\\torch_geometric\\deprecation.py:12: UserWarning: 'dropout_adj' is deprecated, use 'dropout_edge' instead\n",
      "  warnings.warn(out)\n",
      "c:\\Users\\bertr\\miniconda3\\envs\\thesis\\lib\\site-packages\\torch_geometric\\deprecation.py:12: UserWarning: 'dropout_adj' is deprecated, use 'dropout_edge' instead\n",
      "  warnings.warn(out)\n"
     ]
    },
    {
     "name": "stdout",
     "output_type": "stream",
     "text": [
      "tensor(3.5373, grad_fn=<AddBackward0>)\n",
      "tensor(3.5774, grad_fn=<AddBackward0>)\n",
      "tensor(3.5297, grad_fn=<AddBackward0>)\n"
     ]
    },
    {
     "name": "stderr",
     "output_type": "stream",
     "text": [
      "c:\\Users\\bertr\\miniconda3\\envs\\thesis\\lib\\site-packages\\torch_geometric\\deprecation.py:12: UserWarning: 'dropout_adj' is deprecated, use 'dropout_edge' instead\n",
      "  warnings.warn(out)\n",
      "c:\\Users\\bertr\\miniconda3\\envs\\thesis\\lib\\site-packages\\torch_geometric\\deprecation.py:12: UserWarning: 'dropout_adj' is deprecated, use 'dropout_edge' instead\n",
      "  warnings.warn(out)\n",
      "c:\\Users\\bertr\\miniconda3\\envs\\thesis\\lib\\site-packages\\torch_geometric\\deprecation.py:12: UserWarning: 'dropout_adj' is deprecated, use 'dropout_edge' instead\n",
      "  warnings.warn(out)\n"
     ]
    },
    {
     "name": "stdout",
     "output_type": "stream",
     "text": [
      "tensor(3.5331, grad_fn=<AddBackward0>)\n",
      "tensor(3.5149, grad_fn=<AddBackward0>)\n",
      "tensor(3.5190, grad_fn=<AddBackward0>)\n"
     ]
    },
    {
     "name": "stderr",
     "output_type": "stream",
     "text": [
      "c:\\Users\\bertr\\miniconda3\\envs\\thesis\\lib\\site-packages\\torch_geometric\\deprecation.py:12: UserWarning: 'dropout_adj' is deprecated, use 'dropout_edge' instead\n",
      "  warnings.warn(out)\n",
      "c:\\Users\\bertr\\miniconda3\\envs\\thesis\\lib\\site-packages\\torch_geometric\\deprecation.py:12: UserWarning: 'dropout_adj' is deprecated, use 'dropout_edge' instead\n",
      "  warnings.warn(out)\n",
      "c:\\Users\\bertr\\miniconda3\\envs\\thesis\\lib\\site-packages\\torch_geometric\\deprecation.py:12: UserWarning: 'dropout_adj' is deprecated, use 'dropout_edge' instead\n",
      "  warnings.warn(out)\n"
     ]
    },
    {
     "name": "stdout",
     "output_type": "stream",
     "text": [
      "tensor(3.5268, grad_fn=<AddBackward0>)\n",
      "tensor(3.5181, grad_fn=<AddBackward0>)\n",
      "tensor(3.7049, grad_fn=<AddBackward0>)\n"
     ]
    },
    {
     "name": "stderr",
     "output_type": "stream",
     "text": [
      "c:\\Users\\bertr\\miniconda3\\envs\\thesis\\lib\\site-packages\\torch_geometric\\deprecation.py:12: UserWarning: 'dropout_adj' is deprecated, use 'dropout_edge' instead\n",
      "  warnings.warn(out)\n",
      "c:\\Users\\bertr\\miniconda3\\envs\\thesis\\lib\\site-packages\\torch_geometric\\deprecation.py:12: UserWarning: 'dropout_adj' is deprecated, use 'dropout_edge' instead\n",
      "  warnings.warn(out)\n",
      "c:\\Users\\bertr\\miniconda3\\envs\\thesis\\lib\\site-packages\\torch_geometric\\deprecation.py:12: UserWarning: 'dropout_adj' is deprecated, use 'dropout_edge' instead\n",
      "  warnings.warn(out)\n"
     ]
    },
    {
     "name": "stdout",
     "output_type": "stream",
     "text": [
      "tensor(3.6025, grad_fn=<AddBackward0>)\n",
      "tensor(3.4420, grad_fn=<AddBackward0>)\n",
      "tensor(3.5335, grad_fn=<AddBackward0>)\n"
     ]
    },
    {
     "name": "stderr",
     "output_type": "stream",
     "text": [
      "c:\\Users\\bertr\\miniconda3\\envs\\thesis\\lib\\site-packages\\torch_geometric\\deprecation.py:12: UserWarning: 'dropout_adj' is deprecated, use 'dropout_edge' instead\n",
      "  warnings.warn(out)\n",
      "c:\\Users\\bertr\\miniconda3\\envs\\thesis\\lib\\site-packages\\torch_geometric\\deprecation.py:12: UserWarning: 'dropout_adj' is deprecated, use 'dropout_edge' instead\n",
      "  warnings.warn(out)\n",
      "c:\\Users\\bertr\\miniconda3\\envs\\thesis\\lib\\site-packages\\torch_geometric\\deprecation.py:12: UserWarning: 'dropout_adj' is deprecated, use 'dropout_edge' instead\n",
      "  warnings.warn(out)\n",
      "c:\\Users\\bertr\\miniconda3\\envs\\thesis\\lib\\site-packages\\torch_geometric\\deprecation.py:12: UserWarning: 'dropout_adj' is deprecated, use 'dropout_edge' instead\n",
      "  warnings.warn(out)\n"
     ]
    },
    {
     "name": "stdout",
     "output_type": "stream",
     "text": [
      "tensor(3.5377, grad_fn=<AddBackward0>)\n",
      "tensor(3.5878, grad_fn=<AddBackward0>)\n",
      "tensor(3.6205, grad_fn=<AddBackward0>)\n"
     ]
    },
    {
     "name": "stderr",
     "output_type": "stream",
     "text": [
      "c:\\Users\\bertr\\miniconda3\\envs\\thesis\\lib\\site-packages\\torch_geometric\\deprecation.py:12: UserWarning: 'dropout_adj' is deprecated, use 'dropout_edge' instead\n",
      "  warnings.warn(out)\n",
      "c:\\Users\\bertr\\miniconda3\\envs\\thesis\\lib\\site-packages\\torch_geometric\\deprecation.py:12: UserWarning: 'dropout_adj' is deprecated, use 'dropout_edge' instead\n",
      "  warnings.warn(out)\n",
      "c:\\Users\\bertr\\miniconda3\\envs\\thesis\\lib\\site-packages\\torch_geometric\\deprecation.py:12: UserWarning: 'dropout_adj' is deprecated, use 'dropout_edge' instead\n",
      "  warnings.warn(out)\n"
     ]
    },
    {
     "name": "stdout",
     "output_type": "stream",
     "text": [
      "tensor(3.5982, grad_fn=<AddBackward0>)\n",
      "tensor(3.5802, grad_fn=<AddBackward0>)\n",
      "tensor(3.5770, grad_fn=<AddBackward0>)\n"
     ]
    },
    {
     "name": "stderr",
     "output_type": "stream",
     "text": [
      "c:\\Users\\bertr\\miniconda3\\envs\\thesis\\lib\\site-packages\\torch_geometric\\deprecation.py:12: UserWarning: 'dropout_adj' is deprecated, use 'dropout_edge' instead\n",
      "  warnings.warn(out)\n",
      "c:\\Users\\bertr\\miniconda3\\envs\\thesis\\lib\\site-packages\\torch_geometric\\deprecation.py:12: UserWarning: 'dropout_adj' is deprecated, use 'dropout_edge' instead\n",
      "  warnings.warn(out)\n",
      "c:\\Users\\bertr\\miniconda3\\envs\\thesis\\lib\\site-packages\\torch_geometric\\deprecation.py:12: UserWarning: 'dropout_adj' is deprecated, use 'dropout_edge' instead\n",
      "  warnings.warn(out)\n"
     ]
    },
    {
     "name": "stdout",
     "output_type": "stream",
     "text": [
      "tensor(3.6379, grad_fn=<AddBackward0>)\n",
      "tensor(3.5912, grad_fn=<AddBackward0>)\n",
      "tensor(3.5875, grad_fn=<AddBackward0>)\n"
     ]
    },
    {
     "name": "stderr",
     "output_type": "stream",
     "text": [
      "c:\\Users\\bertr\\miniconda3\\envs\\thesis\\lib\\site-packages\\torch_geometric\\deprecation.py:12: UserWarning: 'dropout_adj' is deprecated, use 'dropout_edge' instead\n",
      "  warnings.warn(out)\n",
      "c:\\Users\\bertr\\miniconda3\\envs\\thesis\\lib\\site-packages\\torch_geometric\\deprecation.py:12: UserWarning: 'dropout_adj' is deprecated, use 'dropout_edge' instead\n",
      "  warnings.warn(out)\n",
      "c:\\Users\\bertr\\miniconda3\\envs\\thesis\\lib\\site-packages\\torch_geometric\\deprecation.py:12: UserWarning: 'dropout_adj' is deprecated, use 'dropout_edge' instead\n",
      "  warnings.warn(out)\n"
     ]
    },
    {
     "name": "stdout",
     "output_type": "stream",
     "text": [
      "tensor(3.5715, grad_fn=<AddBackward0>)\n",
      "tensor(3.5217, grad_fn=<AddBackward0>)\n",
      "tensor(3.4841, grad_fn=<AddBackward0>)\n"
     ]
    },
    {
     "name": "stderr",
     "output_type": "stream",
     "text": [
      "c:\\Users\\bertr\\miniconda3\\envs\\thesis\\lib\\site-packages\\torch_geometric\\deprecation.py:12: UserWarning: 'dropout_adj' is deprecated, use 'dropout_edge' instead\n",
      "  warnings.warn(out)\n",
      "c:\\Users\\bertr\\miniconda3\\envs\\thesis\\lib\\site-packages\\torch_geometric\\deprecation.py:12: UserWarning: 'dropout_adj' is deprecated, use 'dropout_edge' instead\n",
      "  warnings.warn(out)\n",
      "c:\\Users\\bertr\\miniconda3\\envs\\thesis\\lib\\site-packages\\torch_geometric\\deprecation.py:12: UserWarning: 'dropout_adj' is deprecated, use 'dropout_edge' instead\n",
      "  warnings.warn(out)\n"
     ]
    },
    {
     "name": "stdout",
     "output_type": "stream",
     "text": [
      "tensor(3.5581, grad_fn=<AddBackward0>)\n",
      "tensor(3.4709, grad_fn=<AddBackward0>)\n",
      "tensor(3.5247, grad_fn=<AddBackward0>)\n"
     ]
    },
    {
     "name": "stderr",
     "output_type": "stream",
     "text": [
      "c:\\Users\\bertr\\miniconda3\\envs\\thesis\\lib\\site-packages\\torch_geometric\\deprecation.py:12: UserWarning: 'dropout_adj' is deprecated, use 'dropout_edge' instead\n",
      "  warnings.warn(out)\n",
      "c:\\Users\\bertr\\miniconda3\\envs\\thesis\\lib\\site-packages\\torch_geometric\\deprecation.py:12: UserWarning: 'dropout_adj' is deprecated, use 'dropout_edge' instead\n",
      "  warnings.warn(out)\n",
      "c:\\Users\\bertr\\miniconda3\\envs\\thesis\\lib\\site-packages\\torch_geometric\\deprecation.py:12: UserWarning: 'dropout_adj' is deprecated, use 'dropout_edge' instead\n",
      "  warnings.warn(out)\n"
     ]
    },
    {
     "name": "stdout",
     "output_type": "stream",
     "text": [
      "tensor(3.5301, grad_fn=<AddBackward0>)\n",
      "tensor(3.5007, grad_fn=<AddBackward0>)\n",
      "tensor(3.5799, grad_fn=<AddBackward0>)\n"
     ]
    },
    {
     "name": "stderr",
     "output_type": "stream",
     "text": [
      "c:\\Users\\bertr\\miniconda3\\envs\\thesis\\lib\\site-packages\\torch_geometric\\deprecation.py:12: UserWarning: 'dropout_adj' is deprecated, use 'dropout_edge' instead\n",
      "  warnings.warn(out)\n",
      "c:\\Users\\bertr\\miniconda3\\envs\\thesis\\lib\\site-packages\\torch_geometric\\deprecation.py:12: UserWarning: 'dropout_adj' is deprecated, use 'dropout_edge' instead\n",
      "  warnings.warn(out)\n",
      "c:\\Users\\bertr\\miniconda3\\envs\\thesis\\lib\\site-packages\\torch_geometric\\deprecation.py:12: UserWarning: 'dropout_adj' is deprecated, use 'dropout_edge' instead\n",
      "  warnings.warn(out)\n"
     ]
    },
    {
     "name": "stdout",
     "output_type": "stream",
     "text": [
      "tensor(3.7438, grad_fn=<AddBackward0>)\n",
      "tensor(3.6016, grad_fn=<AddBackward0>)\n",
      "tensor(3.5141, grad_fn=<AddBackward0>)\n"
     ]
    },
    {
     "name": "stderr",
     "output_type": "stream",
     "text": [
      "c:\\Users\\bertr\\miniconda3\\envs\\thesis\\lib\\site-packages\\torch_geometric\\deprecation.py:12: UserWarning: 'dropout_adj' is deprecated, use 'dropout_edge' instead\n",
      "  warnings.warn(out)\n",
      "c:\\Users\\bertr\\miniconda3\\envs\\thesis\\lib\\site-packages\\torch_geometric\\deprecation.py:12: UserWarning: 'dropout_adj' is deprecated, use 'dropout_edge' instead\n",
      "  warnings.warn(out)\n",
      "c:\\Users\\bertr\\miniconda3\\envs\\thesis\\lib\\site-packages\\torch_geometric\\deprecation.py:12: UserWarning: 'dropout_adj' is deprecated, use 'dropout_edge' instead\n",
      "  warnings.warn(out)\n"
     ]
    },
    {
     "name": "stdout",
     "output_type": "stream",
     "text": [
      "tensor(3.6131, grad_fn=<AddBackward0>)\n",
      "tensor(3.5586, grad_fn=<AddBackward0>)\n",
      "tensor(3.4974, grad_fn=<AddBackward0>)\n"
     ]
    },
    {
     "name": "stderr",
     "output_type": "stream",
     "text": [
      "c:\\Users\\bertr\\miniconda3\\envs\\thesis\\lib\\site-packages\\torch_geometric\\deprecation.py:12: UserWarning: 'dropout_adj' is deprecated, use 'dropout_edge' instead\n",
      "  warnings.warn(out)\n",
      "c:\\Users\\bertr\\miniconda3\\envs\\thesis\\lib\\site-packages\\torch_geometric\\deprecation.py:12: UserWarning: 'dropout_adj' is deprecated, use 'dropout_edge' instead\n",
      "  warnings.warn(out)\n",
      "c:\\Users\\bertr\\miniconda3\\envs\\thesis\\lib\\site-packages\\torch_geometric\\deprecation.py:12: UserWarning: 'dropout_adj' is deprecated, use 'dropout_edge' instead\n",
      "  warnings.warn(out)\n"
     ]
    },
    {
     "name": "stdout",
     "output_type": "stream",
     "text": [
      "tensor(3.5750, grad_fn=<AddBackward0>)\n",
      "tensor(3.4631, grad_fn=<AddBackward0>)\n",
      "tensor(3.4878, grad_fn=<AddBackward0>)\n"
     ]
    },
    {
     "name": "stderr",
     "output_type": "stream",
     "text": [
      "c:\\Users\\bertr\\miniconda3\\envs\\thesis\\lib\\site-packages\\torch_geometric\\deprecation.py:12: UserWarning: 'dropout_adj' is deprecated, use 'dropout_edge' instead\n",
      "  warnings.warn(out)\n",
      "c:\\Users\\bertr\\miniconda3\\envs\\thesis\\lib\\site-packages\\torch_geometric\\deprecation.py:12: UserWarning: 'dropout_adj' is deprecated, use 'dropout_edge' instead\n",
      "  warnings.warn(out)\n",
      "c:\\Users\\bertr\\miniconda3\\envs\\thesis\\lib\\site-packages\\torch_geometric\\deprecation.py:12: UserWarning: 'dropout_adj' is deprecated, use 'dropout_edge' instead\n",
      "  warnings.warn(out)\n"
     ]
    },
    {
     "name": "stdout",
     "output_type": "stream",
     "text": [
      "tensor(3.5069, grad_fn=<AddBackward0>)\n",
      "tensor(3.5149, grad_fn=<AddBackward0>)\n",
      "tensor(3.5050, grad_fn=<AddBackward0>)\n"
     ]
    },
    {
     "name": "stderr",
     "output_type": "stream",
     "text": [
      "c:\\Users\\bertr\\miniconda3\\envs\\thesis\\lib\\site-packages\\torch_geometric\\deprecation.py:12: UserWarning: 'dropout_adj' is deprecated, use 'dropout_edge' instead\n",
      "  warnings.warn(out)\n",
      "c:\\Users\\bertr\\miniconda3\\envs\\thesis\\lib\\site-packages\\torch_geometric\\deprecation.py:12: UserWarning: 'dropout_adj' is deprecated, use 'dropout_edge' instead\n",
      "  warnings.warn(out)\n",
      "c:\\Users\\bertr\\miniconda3\\envs\\thesis\\lib\\site-packages\\torch_geometric\\deprecation.py:12: UserWarning: 'dropout_adj' is deprecated, use 'dropout_edge' instead\n",
      "  warnings.warn(out)\n"
     ]
    },
    {
     "name": "stdout",
     "output_type": "stream",
     "text": [
      "tensor(3.4587, grad_fn=<AddBackward0>)\n",
      "tensor(3.6894, grad_fn=<AddBackward0>)\n",
      "tensor(3.5135, grad_fn=<AddBackward0>)\n"
     ]
    },
    {
     "name": "stderr",
     "output_type": "stream",
     "text": [
      "c:\\Users\\bertr\\miniconda3\\envs\\thesis\\lib\\site-packages\\torch_geometric\\deprecation.py:12: UserWarning: 'dropout_adj' is deprecated, use 'dropout_edge' instead\n",
      "  warnings.warn(out)\n",
      "c:\\Users\\bertr\\miniconda3\\envs\\thesis\\lib\\site-packages\\torch_geometric\\deprecation.py:12: UserWarning: 'dropout_adj' is deprecated, use 'dropout_edge' instead\n",
      "  warnings.warn(out)\n",
      "c:\\Users\\bertr\\miniconda3\\envs\\thesis\\lib\\site-packages\\torch_geometric\\deprecation.py:12: UserWarning: 'dropout_adj' is deprecated, use 'dropout_edge' instead\n",
      "  warnings.warn(out)\n",
      "c:\\Users\\bertr\\miniconda3\\envs\\thesis\\lib\\site-packages\\torch_geometric\\deprecation.py:12: UserWarning: 'dropout_adj' is deprecated, use 'dropout_edge' instead\n",
      "  warnings.warn(out)\n"
     ]
    },
    {
     "name": "stdout",
     "output_type": "stream",
     "text": [
      "tensor(3.5111, grad_fn=<AddBackward0>)\n",
      "tensor(3.5551, grad_fn=<AddBackward0>)\n",
      "tensor(3.6185, grad_fn=<AddBackward0>)\n",
      "tensor(3.6214, grad_fn=<AddBackward0>)\n",
      "tensor(3.4682, grad_fn=<AddBackward0>)\n",
      "tensor(3.5557, grad_fn=<AddBackward0>)\n"
     ]
    },
    {
     "name": "stderr",
     "output_type": "stream",
     "text": [
      "c:\\Users\\bertr\\miniconda3\\envs\\thesis\\lib\\site-packages\\torch_geometric\\deprecation.py:12: UserWarning: 'dropout_adj' is deprecated, use 'dropout_edge' instead\n",
      "  warnings.warn(out)\n",
      "c:\\Users\\bertr\\miniconda3\\envs\\thesis\\lib\\site-packages\\torch_geometric\\deprecation.py:12: UserWarning: 'dropout_adj' is deprecated, use 'dropout_edge' instead\n",
      "  warnings.warn(out)\n",
      "c:\\Users\\bertr\\miniconda3\\envs\\thesis\\lib\\site-packages\\torch_geometric\\deprecation.py:12: UserWarning: 'dropout_adj' is deprecated, use 'dropout_edge' instead\n",
      "  warnings.warn(out)\n"
     ]
    },
    {
     "name": "stdout",
     "output_type": "stream",
     "text": [
      "tensor(3.5506, grad_fn=<AddBackward0>)\n",
      "tensor(3.5017, grad_fn=<AddBackward0>)\n",
      "tensor(3.6175, grad_fn=<AddBackward0>)\n"
     ]
    },
    {
     "name": "stderr",
     "output_type": "stream",
     "text": [
      "c:\\Users\\bertr\\miniconda3\\envs\\thesis\\lib\\site-packages\\torch_geometric\\deprecation.py:12: UserWarning: 'dropout_adj' is deprecated, use 'dropout_edge' instead\n",
      "  warnings.warn(out)\n",
      "c:\\Users\\bertr\\miniconda3\\envs\\thesis\\lib\\site-packages\\torch_geometric\\deprecation.py:12: UserWarning: 'dropout_adj' is deprecated, use 'dropout_edge' instead\n",
      "  warnings.warn(out)\n",
      "c:\\Users\\bertr\\miniconda3\\envs\\thesis\\lib\\site-packages\\torch_geometric\\deprecation.py:12: UserWarning: 'dropout_adj' is deprecated, use 'dropout_edge' instead\n",
      "  warnings.warn(out)\n"
     ]
    },
    {
     "name": "stdout",
     "output_type": "stream",
     "text": [
      "tensor(3.6521, grad_fn=<AddBackward0>)\n",
      "tensor(3.5586, grad_fn=<AddBackward0>)\n",
      "tensor(3.6034, grad_fn=<AddBackward0>)\n"
     ]
    },
    {
     "name": "stderr",
     "output_type": "stream",
     "text": [
      "c:\\Users\\bertr\\miniconda3\\envs\\thesis\\lib\\site-packages\\torch_geometric\\deprecation.py:12: UserWarning: 'dropout_adj' is deprecated, use 'dropout_edge' instead\n",
      "  warnings.warn(out)\n",
      "c:\\Users\\bertr\\miniconda3\\envs\\thesis\\lib\\site-packages\\torch_geometric\\deprecation.py:12: UserWarning: 'dropout_adj' is deprecated, use 'dropout_edge' instead\n",
      "  warnings.warn(out)\n",
      "c:\\Users\\bertr\\miniconda3\\envs\\thesis\\lib\\site-packages\\torch_geometric\\deprecation.py:12: UserWarning: 'dropout_adj' is deprecated, use 'dropout_edge' instead\n",
      "  warnings.warn(out)\n"
     ]
    },
    {
     "name": "stdout",
     "output_type": "stream",
     "text": [
      "tensor(3.5775, grad_fn=<AddBackward0>)\n",
      "tensor(3.4903, grad_fn=<AddBackward0>)\n",
      "tensor(3.5220, grad_fn=<AddBackward0>)\n"
     ]
    },
    {
     "name": "stderr",
     "output_type": "stream",
     "text": [
      "c:\\Users\\bertr\\miniconda3\\envs\\thesis\\lib\\site-packages\\torch_geometric\\deprecation.py:12: UserWarning: 'dropout_adj' is deprecated, use 'dropout_edge' instead\n",
      "  warnings.warn(out)\n",
      "c:\\Users\\bertr\\miniconda3\\envs\\thesis\\lib\\site-packages\\torch_geometric\\deprecation.py:12: UserWarning: 'dropout_adj' is deprecated, use 'dropout_edge' instead\n",
      "  warnings.warn(out)\n",
      "c:\\Users\\bertr\\miniconda3\\envs\\thesis\\lib\\site-packages\\torch_geometric\\deprecation.py:12: UserWarning: 'dropout_adj' is deprecated, use 'dropout_edge' instead\n",
      "  warnings.warn(out)\n"
     ]
    },
    {
     "name": "stdout",
     "output_type": "stream",
     "text": [
      "tensor(3.4972, grad_fn=<AddBackward0>)\n",
      "tensor(3.4784, grad_fn=<AddBackward0>)\n",
      "tensor(3.5545, grad_fn=<AddBackward0>)\n"
     ]
    },
    {
     "name": "stderr",
     "output_type": "stream",
     "text": [
      "c:\\Users\\bertr\\miniconda3\\envs\\thesis\\lib\\site-packages\\torch_geometric\\deprecation.py:12: UserWarning: 'dropout_adj' is deprecated, use 'dropout_edge' instead\n",
      "  warnings.warn(out)\n",
      "c:\\Users\\bertr\\miniconda3\\envs\\thesis\\lib\\site-packages\\torch_geometric\\deprecation.py:12: UserWarning: 'dropout_adj' is deprecated, use 'dropout_edge' instead\n",
      "  warnings.warn(out)\n",
      "c:\\Users\\bertr\\miniconda3\\envs\\thesis\\lib\\site-packages\\torch_geometric\\deprecation.py:12: UserWarning: 'dropout_adj' is deprecated, use 'dropout_edge' instead\n",
      "  warnings.warn(out)\n",
      "c:\\Users\\bertr\\miniconda3\\envs\\thesis\\lib\\site-packages\\torch_geometric\\deprecation.py:12: UserWarning: 'dropout_adj' is deprecated, use 'dropout_edge' instead\n",
      "  warnings.warn(out)\n"
     ]
    },
    {
     "name": "stdout",
     "output_type": "stream",
     "text": [
      "tensor(3.4722, grad_fn=<AddBackward0>)\n",
      "tensor(3.5406, grad_fn=<AddBackward0>)\n"
     ]
    },
    {
     "name": "stderr",
     "output_type": "stream",
     "text": [
      "c:\\Users\\bertr\\miniconda3\\envs\\thesis\\lib\\site-packages\\torch_geometric\\deprecation.py:12: UserWarning: 'dropout_adj' is deprecated, use 'dropout_edge' instead\n",
      "  warnings.warn(out)\n",
      "c:\\Users\\bertr\\miniconda3\\envs\\thesis\\lib\\site-packages\\torch_geometric\\deprecation.py:12: UserWarning: 'dropout_adj' is deprecated, use 'dropout_edge' instead\n",
      "  warnings.warn(out)\n",
      "c:\\Users\\bertr\\miniconda3\\envs\\thesis\\lib\\site-packages\\torch_geometric\\deprecation.py:12: UserWarning: 'dropout_adj' is deprecated, use 'dropout_edge' instead\n",
      "  warnings.warn(out)\n"
     ]
    },
    {
     "name": "stdout",
     "output_type": "stream",
     "text": [
      "tensor(3.5594, grad_fn=<AddBackward0>)\n",
      "tensor(3.4523, grad_fn=<AddBackward0>)\n",
      "tensor(3.6323, grad_fn=<AddBackward0>)\n"
     ]
    },
    {
     "name": "stderr",
     "output_type": "stream",
     "text": [
      "c:\\Users\\bertr\\miniconda3\\envs\\thesis\\lib\\site-packages\\torch_geometric\\deprecation.py:12: UserWarning: 'dropout_adj' is deprecated, use 'dropout_edge' instead\n",
      "  warnings.warn(out)\n",
      "c:\\Users\\bertr\\miniconda3\\envs\\thesis\\lib\\site-packages\\torch_geometric\\deprecation.py:12: UserWarning: 'dropout_adj' is deprecated, use 'dropout_edge' instead\n",
      "  warnings.warn(out)\n",
      "c:\\Users\\bertr\\miniconda3\\envs\\thesis\\lib\\site-packages\\torch_geometric\\deprecation.py:12: UserWarning: 'dropout_adj' is deprecated, use 'dropout_edge' instead\n",
      "  warnings.warn(out)\n"
     ]
    },
    {
     "name": "stdout",
     "output_type": "stream",
     "text": [
      "tensor(3.5052, grad_fn=<AddBackward0>)\n",
      "tensor(3.5703, grad_fn=<AddBackward0>)\n",
      "tensor(3.5269, grad_fn=<AddBackward0>)\n"
     ]
    },
    {
     "name": "stderr",
     "output_type": "stream",
     "text": [
      "c:\\Users\\bertr\\miniconda3\\envs\\thesis\\lib\\site-packages\\torch_geometric\\deprecation.py:12: UserWarning: 'dropout_adj' is deprecated, use 'dropout_edge' instead\n",
      "  warnings.warn(out)\n",
      "c:\\Users\\bertr\\miniconda3\\envs\\thesis\\lib\\site-packages\\torch_geometric\\deprecation.py:12: UserWarning: 'dropout_adj' is deprecated, use 'dropout_edge' instead\n",
      "  warnings.warn(out)\n",
      "c:\\Users\\bertr\\miniconda3\\envs\\thesis\\lib\\site-packages\\torch_geometric\\deprecation.py:12: UserWarning: 'dropout_adj' is deprecated, use 'dropout_edge' instead\n",
      "  warnings.warn(out)\n"
     ]
    },
    {
     "name": "stdout",
     "output_type": "stream",
     "text": [
      "tensor(3.6503, grad_fn=<AddBackward0>)\n",
      "tensor(3.6626, grad_fn=<AddBackward0>)\n",
      "tensor(3.5647, grad_fn=<AddBackward0>)\n"
     ]
    },
    {
     "name": "stderr",
     "output_type": "stream",
     "text": [
      "c:\\Users\\bertr\\miniconda3\\envs\\thesis\\lib\\site-packages\\torch_geometric\\deprecation.py:12: UserWarning: 'dropout_adj' is deprecated, use 'dropout_edge' instead\n",
      "  warnings.warn(out)\n",
      "c:\\Users\\bertr\\miniconda3\\envs\\thesis\\lib\\site-packages\\torch_geometric\\deprecation.py:12: UserWarning: 'dropout_adj' is deprecated, use 'dropout_edge' instead\n",
      "  warnings.warn(out)\n",
      "c:\\Users\\bertr\\miniconda3\\envs\\thesis\\lib\\site-packages\\torch_geometric\\deprecation.py:12: UserWarning: 'dropout_adj' is deprecated, use 'dropout_edge' instead\n",
      "  warnings.warn(out)\n"
     ]
    },
    {
     "name": "stdout",
     "output_type": "stream",
     "text": [
      "tensor(3.4792, grad_fn=<AddBackward0>)\n",
      "tensor(3.4987, grad_fn=<AddBackward0>)\n",
      "tensor(3.6636, grad_fn=<AddBackward0>)\n"
     ]
    },
    {
     "name": "stderr",
     "output_type": "stream",
     "text": [
      "c:\\Users\\bertr\\miniconda3\\envs\\thesis\\lib\\site-packages\\torch_geometric\\deprecation.py:12: UserWarning: 'dropout_adj' is deprecated, use 'dropout_edge' instead\n",
      "  warnings.warn(out)\n",
      "c:\\Users\\bertr\\miniconda3\\envs\\thesis\\lib\\site-packages\\torch_geometric\\deprecation.py:12: UserWarning: 'dropout_adj' is deprecated, use 'dropout_edge' instead\n",
      "  warnings.warn(out)\n",
      "c:\\Users\\bertr\\miniconda3\\envs\\thesis\\lib\\site-packages\\torch_geometric\\deprecation.py:12: UserWarning: 'dropout_adj' is deprecated, use 'dropout_edge' instead\n",
      "  warnings.warn(out)\n"
     ]
    },
    {
     "name": "stdout",
     "output_type": "stream",
     "text": [
      "tensor(3.4865, grad_fn=<AddBackward0>)\n",
      "tensor(3.6404, grad_fn=<AddBackward0>)\n",
      "tensor(3.4813, grad_fn=<AddBackward0>)\n"
     ]
    },
    {
     "name": "stderr",
     "output_type": "stream",
     "text": [
      "c:\\Users\\bertr\\miniconda3\\envs\\thesis\\lib\\site-packages\\torch_geometric\\deprecation.py:12: UserWarning: 'dropout_adj' is deprecated, use 'dropout_edge' instead\n",
      "  warnings.warn(out)\n",
      "c:\\Users\\bertr\\miniconda3\\envs\\thesis\\lib\\site-packages\\torch_geometric\\deprecation.py:12: UserWarning: 'dropout_adj' is deprecated, use 'dropout_edge' instead\n",
      "  warnings.warn(out)\n",
      "c:\\Users\\bertr\\miniconda3\\envs\\thesis\\lib\\site-packages\\torch_geometric\\deprecation.py:12: UserWarning: 'dropout_adj' is deprecated, use 'dropout_edge' instead\n",
      "  warnings.warn(out)\n"
     ]
    },
    {
     "name": "stdout",
     "output_type": "stream",
     "text": [
      "tensor(3.5831, grad_fn=<AddBackward0>)\n",
      "tensor(3.5856, grad_fn=<AddBackward0>)\n",
      "tensor(3.6432, grad_fn=<AddBackward0>)\n"
     ]
    },
    {
     "name": "stderr",
     "output_type": "stream",
     "text": [
      "c:\\Users\\bertr\\miniconda3\\envs\\thesis\\lib\\site-packages\\torch_geometric\\deprecation.py:12: UserWarning: 'dropout_adj' is deprecated, use 'dropout_edge' instead\n",
      "  warnings.warn(out)\n",
      "c:\\Users\\bertr\\miniconda3\\envs\\thesis\\lib\\site-packages\\torch_geometric\\deprecation.py:12: UserWarning: 'dropout_adj' is deprecated, use 'dropout_edge' instead\n",
      "  warnings.warn(out)\n",
      "c:\\Users\\bertr\\miniconda3\\envs\\thesis\\lib\\site-packages\\torch_geometric\\deprecation.py:12: UserWarning: 'dropout_adj' is deprecated, use 'dropout_edge' instead\n",
      "  warnings.warn(out)\n"
     ]
    },
    {
     "name": "stdout",
     "output_type": "stream",
     "text": [
      "tensor(3.5369, grad_fn=<AddBackward0>)\n",
      "tensor(3.6617, grad_fn=<AddBackward0>)\n",
      "tensor(3.5555, grad_fn=<AddBackward0>)\n"
     ]
    },
    {
     "name": "stderr",
     "output_type": "stream",
     "text": [
      "c:\\Users\\bertr\\miniconda3\\envs\\thesis\\lib\\site-packages\\torch_geometric\\deprecation.py:12: UserWarning: 'dropout_adj' is deprecated, use 'dropout_edge' instead\n",
      "  warnings.warn(out)\n",
      "c:\\Users\\bertr\\miniconda3\\envs\\thesis\\lib\\site-packages\\torch_geometric\\deprecation.py:12: UserWarning: 'dropout_adj' is deprecated, use 'dropout_edge' instead\n",
      "  warnings.warn(out)\n",
      "c:\\Users\\bertr\\miniconda3\\envs\\thesis\\lib\\site-packages\\torch_geometric\\deprecation.py:12: UserWarning: 'dropout_adj' is deprecated, use 'dropout_edge' instead\n",
      "  warnings.warn(out)\n"
     ]
    },
    {
     "name": "stdout",
     "output_type": "stream",
     "text": [
      "tensor(3.6505, grad_fn=<AddBackward0>)\n",
      "tensor(3.4667, grad_fn=<AddBackward0>)\n",
      "tensor(3.4953, grad_fn=<AddBackward0>)\n"
     ]
    },
    {
     "name": "stderr",
     "output_type": "stream",
     "text": [
      "c:\\Users\\bertr\\miniconda3\\envs\\thesis\\lib\\site-packages\\torch_geometric\\deprecation.py:12: UserWarning: 'dropout_adj' is deprecated, use 'dropout_edge' instead\n",
      "  warnings.warn(out)\n",
      "c:\\Users\\bertr\\miniconda3\\envs\\thesis\\lib\\site-packages\\torch_geometric\\deprecation.py:12: UserWarning: 'dropout_adj' is deprecated, use 'dropout_edge' instead\n",
      "  warnings.warn(out)\n",
      "c:\\Users\\bertr\\miniconda3\\envs\\thesis\\lib\\site-packages\\torch_geometric\\deprecation.py:12: UserWarning: 'dropout_adj' is deprecated, use 'dropout_edge' instead\n",
      "  warnings.warn(out)\n",
      "c:\\Users\\bertr\\miniconda3\\envs\\thesis\\lib\\site-packages\\torch_geometric\\deprecation.py:12: UserWarning: 'dropout_adj' is deprecated, use 'dropout_edge' instead\n",
      "  warnings.warn(out)\n"
     ]
    },
    {
     "name": "stdout",
     "output_type": "stream",
     "text": [
      "tensor(3.5001, grad_fn=<AddBackward0>)\n",
      "tensor(3.4999, grad_fn=<AddBackward0>)\n",
      "tensor(3.5012, grad_fn=<AddBackward0>)\n",
      "tensor(3.5981, grad_fn=<AddBackward0>)\n",
      "tensor(3.4831, grad_fn=<AddBackward0>)\n",
      "tensor(3.6283, grad_fn=<AddBackward0>)\n"
     ]
    },
    {
     "name": "stderr",
     "output_type": "stream",
     "text": [
      "c:\\Users\\bertr\\miniconda3\\envs\\thesis\\lib\\site-packages\\torch_geometric\\deprecation.py:12: UserWarning: 'dropout_adj' is deprecated, use 'dropout_edge' instead\n",
      "  warnings.warn(out)\n",
      "c:\\Users\\bertr\\miniconda3\\envs\\thesis\\lib\\site-packages\\torch_geometric\\deprecation.py:12: UserWarning: 'dropout_adj' is deprecated, use 'dropout_edge' instead\n",
      "  warnings.warn(out)\n",
      "c:\\Users\\bertr\\miniconda3\\envs\\thesis\\lib\\site-packages\\torch_geometric\\deprecation.py:12: UserWarning: 'dropout_adj' is deprecated, use 'dropout_edge' instead\n",
      "  warnings.warn(out)\n"
     ]
    },
    {
     "name": "stdout",
     "output_type": "stream",
     "text": [
      "tensor(3.4499, grad_fn=<AddBackward0>)\n",
      "tensor(3.5260, grad_fn=<AddBackward0>)\n",
      "tensor(3.5374, grad_fn=<AddBackward0>)\n"
     ]
    },
    {
     "name": "stderr",
     "output_type": "stream",
     "text": [
      "c:\\Users\\bertr\\miniconda3\\envs\\thesis\\lib\\site-packages\\torch_geometric\\deprecation.py:12: UserWarning: 'dropout_adj' is deprecated, use 'dropout_edge' instead\n",
      "  warnings.warn(out)\n",
      "c:\\Users\\bertr\\miniconda3\\envs\\thesis\\lib\\site-packages\\torch_geometric\\deprecation.py:12: UserWarning: 'dropout_adj' is deprecated, use 'dropout_edge' instead\n",
      "  warnings.warn(out)\n",
      "c:\\Users\\bertr\\miniconda3\\envs\\thesis\\lib\\site-packages\\torch_geometric\\deprecation.py:12: UserWarning: 'dropout_adj' is deprecated, use 'dropout_edge' instead\n",
      "  warnings.warn(out)\n",
      "c:\\Users\\bertr\\miniconda3\\envs\\thesis\\lib\\site-packages\\torch_geometric\\deprecation.py:12: UserWarning: 'dropout_adj' is deprecated, use 'dropout_edge' instead\n",
      "  warnings.warn(out)\n"
     ]
    },
    {
     "name": "stdout",
     "output_type": "stream",
     "text": [
      "tensor(3.5167, grad_fn=<AddBackward0>)\n",
      "tensor(3.5258, grad_fn=<AddBackward0>)\n",
      "tensor(3.4951, grad_fn=<AddBackward0>)\n"
     ]
    },
    {
     "name": "stderr",
     "output_type": "stream",
     "text": [
      "c:\\Users\\bertr\\miniconda3\\envs\\thesis\\lib\\site-packages\\torch_geometric\\deprecation.py:12: UserWarning: 'dropout_adj' is deprecated, use 'dropout_edge' instead\n",
      "  warnings.warn(out)\n",
      "c:\\Users\\bertr\\miniconda3\\envs\\thesis\\lib\\site-packages\\torch_geometric\\deprecation.py:12: UserWarning: 'dropout_adj' is deprecated, use 'dropout_edge' instead\n",
      "  warnings.warn(out)\n",
      "c:\\Users\\bertr\\miniconda3\\envs\\thesis\\lib\\site-packages\\torch_geometric\\deprecation.py:12: UserWarning: 'dropout_adj' is deprecated, use 'dropout_edge' instead\n",
      "  warnings.warn(out)\n"
     ]
    },
    {
     "name": "stdout",
     "output_type": "stream",
     "text": [
      "tensor(3.5541, grad_fn=<AddBackward0>)\n",
      "tensor(3.4689, grad_fn=<AddBackward0>)\n",
      "tensor(3.5589, grad_fn=<AddBackward0>)\n"
     ]
    },
    {
     "name": "stderr",
     "output_type": "stream",
     "text": [
      "c:\\Users\\bertr\\miniconda3\\envs\\thesis\\lib\\site-packages\\torch_geometric\\deprecation.py:12: UserWarning: 'dropout_adj' is deprecated, use 'dropout_edge' instead\n",
      "  warnings.warn(out)\n",
      "c:\\Users\\bertr\\miniconda3\\envs\\thesis\\lib\\site-packages\\torch_geometric\\deprecation.py:12: UserWarning: 'dropout_adj' is deprecated, use 'dropout_edge' instead\n",
      "  warnings.warn(out)\n",
      "c:\\Users\\bertr\\miniconda3\\envs\\thesis\\lib\\site-packages\\torch_geometric\\deprecation.py:12: UserWarning: 'dropout_adj' is deprecated, use 'dropout_edge' instead\n",
      "  warnings.warn(out)\n"
     ]
    },
    {
     "name": "stdout",
     "output_type": "stream",
     "text": [
      "tensor(3.5198, grad_fn=<AddBackward0>)\n",
      "tensor(3.5333, grad_fn=<AddBackward0>)\n",
      "tensor(3.5255, grad_fn=<AddBackward0>)\n"
     ]
    },
    {
     "name": "stderr",
     "output_type": "stream",
     "text": [
      "c:\\Users\\bertr\\miniconda3\\envs\\thesis\\lib\\site-packages\\torch_geometric\\deprecation.py:12: UserWarning: 'dropout_adj' is deprecated, use 'dropout_edge' instead\n",
      "  warnings.warn(out)\n",
      "c:\\Users\\bertr\\miniconda3\\envs\\thesis\\lib\\site-packages\\torch_geometric\\deprecation.py:12: UserWarning: 'dropout_adj' is deprecated, use 'dropout_edge' instead\n",
      "  warnings.warn(out)\n",
      "c:\\Users\\bertr\\miniconda3\\envs\\thesis\\lib\\site-packages\\torch_geometric\\deprecation.py:12: UserWarning: 'dropout_adj' is deprecated, use 'dropout_edge' instead\n",
      "  warnings.warn(out)\n"
     ]
    },
    {
     "name": "stdout",
     "output_type": "stream",
     "text": [
      "tensor(3.6661, grad_fn=<AddBackward0>)\n",
      "tensor(3.5251, grad_fn=<AddBackward0>)\n",
      "tensor(3.4786, grad_fn=<AddBackward0>)\n"
     ]
    },
    {
     "name": "stderr",
     "output_type": "stream",
     "text": [
      "c:\\Users\\bertr\\miniconda3\\envs\\thesis\\lib\\site-packages\\torch_geometric\\deprecation.py:12: UserWarning: 'dropout_adj' is deprecated, use 'dropout_edge' instead\n",
      "  warnings.warn(out)\n",
      "c:\\Users\\bertr\\miniconda3\\envs\\thesis\\lib\\site-packages\\torch_geometric\\deprecation.py:12: UserWarning: 'dropout_adj' is deprecated, use 'dropout_edge' instead\n",
      "  warnings.warn(out)\n",
      "c:\\Users\\bertr\\miniconda3\\envs\\thesis\\lib\\site-packages\\torch_geometric\\deprecation.py:12: UserWarning: 'dropout_adj' is deprecated, use 'dropout_edge' instead\n",
      "  warnings.warn(out)\n"
     ]
    },
    {
     "name": "stdout",
     "output_type": "stream",
     "text": [
      "tensor(3.5282, grad_fn=<AddBackward0>)\n",
      "tensor(3.6911, grad_fn=<AddBackward0>)\n",
      "tensor(3.5496, grad_fn=<AddBackward0>)\n"
     ]
    },
    {
     "name": "stderr",
     "output_type": "stream",
     "text": [
      "c:\\Users\\bertr\\miniconda3\\envs\\thesis\\lib\\site-packages\\torch_geometric\\deprecation.py:12: UserWarning: 'dropout_adj' is deprecated, use 'dropout_edge' instead\n",
      "  warnings.warn(out)\n",
      "c:\\Users\\bertr\\miniconda3\\envs\\thesis\\lib\\site-packages\\torch_geometric\\deprecation.py:12: UserWarning: 'dropout_adj' is deprecated, use 'dropout_edge' instead\n",
      "  warnings.warn(out)\n",
      "c:\\Users\\bertr\\miniconda3\\envs\\thesis\\lib\\site-packages\\torch_geometric\\deprecation.py:12: UserWarning: 'dropout_adj' is deprecated, use 'dropout_edge' instead\n",
      "  warnings.warn(out)\n"
     ]
    },
    {
     "name": "stdout",
     "output_type": "stream",
     "text": [
      "tensor(3.4666, grad_fn=<AddBackward0>)\n",
      "tensor(3.5943, grad_fn=<AddBackward0>)\n",
      "tensor(3.5230, grad_fn=<AddBackward0>)\n"
     ]
    },
    {
     "name": "stderr",
     "output_type": "stream",
     "text": [
      "c:\\Users\\bertr\\miniconda3\\envs\\thesis\\lib\\site-packages\\torch_geometric\\deprecation.py:12: UserWarning: 'dropout_adj' is deprecated, use 'dropout_edge' instead\n",
      "  warnings.warn(out)\n",
      "c:\\Users\\bertr\\miniconda3\\envs\\thesis\\lib\\site-packages\\torch_geometric\\deprecation.py:12: UserWarning: 'dropout_adj' is deprecated, use 'dropout_edge' instead\n",
      "  warnings.warn(out)\n",
      "c:\\Users\\bertr\\miniconda3\\envs\\thesis\\lib\\site-packages\\torch_geometric\\deprecation.py:12: UserWarning: 'dropout_adj' is deprecated, use 'dropout_edge' instead\n",
      "  warnings.warn(out)\n"
     ]
    },
    {
     "name": "stdout",
     "output_type": "stream",
     "text": [
      "tensor(3.4834, grad_fn=<AddBackward0>)\n",
      "tensor(3.5576, grad_fn=<AddBackward0>)\n",
      "tensor(3.4974, grad_fn=<AddBackward0>)\n"
     ]
    },
    {
     "name": "stderr",
     "output_type": "stream",
     "text": [
      "c:\\Users\\bertr\\miniconda3\\envs\\thesis\\lib\\site-packages\\torch_geometric\\deprecation.py:12: UserWarning: 'dropout_adj' is deprecated, use 'dropout_edge' instead\n",
      "  warnings.warn(out)\n",
      "c:\\Users\\bertr\\miniconda3\\envs\\thesis\\lib\\site-packages\\torch_geometric\\deprecation.py:12: UserWarning: 'dropout_adj' is deprecated, use 'dropout_edge' instead\n",
      "  warnings.warn(out)\n",
      "c:\\Users\\bertr\\miniconda3\\envs\\thesis\\lib\\site-packages\\torch_geometric\\deprecation.py:12: UserWarning: 'dropout_adj' is deprecated, use 'dropout_edge' instead\n",
      "  warnings.warn(out)\n"
     ]
    },
    {
     "name": "stdout",
     "output_type": "stream",
     "text": [
      "tensor(3.5176, grad_fn=<AddBackward0>)\n",
      "tensor(3.5752, grad_fn=<AddBackward0>)\n",
      "tensor(3.4882, grad_fn=<AddBackward0>)\n"
     ]
    },
    {
     "name": "stderr",
     "output_type": "stream",
     "text": [
      "c:\\Users\\bertr\\miniconda3\\envs\\thesis\\lib\\site-packages\\torch_geometric\\deprecation.py:12: UserWarning: 'dropout_adj' is deprecated, use 'dropout_edge' instead\n",
      "  warnings.warn(out)\n",
      "c:\\Users\\bertr\\miniconda3\\envs\\thesis\\lib\\site-packages\\torch_geometric\\deprecation.py:12: UserWarning: 'dropout_adj' is deprecated, use 'dropout_edge' instead\n",
      "  warnings.warn(out)\n",
      "c:\\Users\\bertr\\miniconda3\\envs\\thesis\\lib\\site-packages\\torch_geometric\\deprecation.py:12: UserWarning: 'dropout_adj' is deprecated, use 'dropout_edge' instead\n",
      "  warnings.warn(out)\n"
     ]
    },
    {
     "name": "stdout",
     "output_type": "stream",
     "text": [
      "tensor(3.4902, grad_fn=<AddBackward0>)\n",
      "tensor(3.4740, grad_fn=<AddBackward0>)\n",
      "tensor(3.4854, grad_fn=<AddBackward0>)\n"
     ]
    },
    {
     "name": "stderr",
     "output_type": "stream",
     "text": [
      "c:\\Users\\bertr\\miniconda3\\envs\\thesis\\lib\\site-packages\\torch_geometric\\deprecation.py:12: UserWarning: 'dropout_adj' is deprecated, use 'dropout_edge' instead\n",
      "  warnings.warn(out)\n",
      "c:\\Users\\bertr\\miniconda3\\envs\\thesis\\lib\\site-packages\\torch_geometric\\deprecation.py:12: UserWarning: 'dropout_adj' is deprecated, use 'dropout_edge' instead\n",
      "  warnings.warn(out)\n",
      "c:\\Users\\bertr\\miniconda3\\envs\\thesis\\lib\\site-packages\\torch_geometric\\deprecation.py:12: UserWarning: 'dropout_adj' is deprecated, use 'dropout_edge' instead\n",
      "  warnings.warn(out)\n"
     ]
    },
    {
     "name": "stdout",
     "output_type": "stream",
     "text": [
      "tensor(3.5199, grad_fn=<AddBackward0>)\n",
      "tensor(3.5154, grad_fn=<AddBackward0>)\n",
      "tensor(3.4882, grad_fn=<AddBackward0>)\n"
     ]
    },
    {
     "name": "stderr",
     "output_type": "stream",
     "text": [
      "c:\\Users\\bertr\\miniconda3\\envs\\thesis\\lib\\site-packages\\torch_geometric\\deprecation.py:12: UserWarning: 'dropout_adj' is deprecated, use 'dropout_edge' instead\n",
      "  warnings.warn(out)\n",
      "c:\\Users\\bertr\\miniconda3\\envs\\thesis\\lib\\site-packages\\torch_geometric\\deprecation.py:12: UserWarning: 'dropout_adj' is deprecated, use 'dropout_edge' instead\n",
      "  warnings.warn(out)\n",
      "c:\\Users\\bertr\\miniconda3\\envs\\thesis\\lib\\site-packages\\torch_geometric\\deprecation.py:12: UserWarning: 'dropout_adj' is deprecated, use 'dropout_edge' instead\n",
      "  warnings.warn(out)\n",
      "c:\\Users\\bertr\\miniconda3\\envs\\thesis\\lib\\site-packages\\torch_geometric\\deprecation.py:12: UserWarning: 'dropout_adj' is deprecated, use 'dropout_edge' instead\n",
      "  warnings.warn(out)\n"
     ]
    },
    {
     "name": "stdout",
     "output_type": "stream",
     "text": [
      "tensor(3.4920, grad_fn=<AddBackward0>)\n",
      "tensor(3.4783, grad_fn=<AddBackward0>)\n",
      "tensor(3.4918, grad_fn=<AddBackward0>)\n"
     ]
    },
    {
     "name": "stderr",
     "output_type": "stream",
     "text": [
      "c:\\Users\\bertr\\miniconda3\\envs\\thesis\\lib\\site-packages\\torch_geometric\\deprecation.py:12: UserWarning: 'dropout_adj' is deprecated, use 'dropout_edge' instead\n",
      "  warnings.warn(out)\n",
      "c:\\Users\\bertr\\miniconda3\\envs\\thesis\\lib\\site-packages\\torch_geometric\\deprecation.py:12: UserWarning: 'dropout_adj' is deprecated, use 'dropout_edge' instead\n",
      "  warnings.warn(out)\n",
      "c:\\Users\\bertr\\miniconda3\\envs\\thesis\\lib\\site-packages\\torch_geometric\\deprecation.py:12: UserWarning: 'dropout_adj' is deprecated, use 'dropout_edge' instead\n",
      "  warnings.warn(out)\n"
     ]
    },
    {
     "name": "stdout",
     "output_type": "stream",
     "text": [
      "tensor(3.5177, grad_fn=<AddBackward0>)\n",
      "tensor(3.5099, grad_fn=<AddBackward0>)\n",
      "tensor(3.5447, grad_fn=<AddBackward0>)\n"
     ]
    },
    {
     "name": "stderr",
     "output_type": "stream",
     "text": [
      "c:\\Users\\bertr\\miniconda3\\envs\\thesis\\lib\\site-packages\\torch_geometric\\deprecation.py:12: UserWarning: 'dropout_adj' is deprecated, use 'dropout_edge' instead\n",
      "  warnings.warn(out)\n",
      "c:\\Users\\bertr\\miniconda3\\envs\\thesis\\lib\\site-packages\\torch_geometric\\deprecation.py:12: UserWarning: 'dropout_adj' is deprecated, use 'dropout_edge' instead\n",
      "  warnings.warn(out)\n",
      "c:\\Users\\bertr\\miniconda3\\envs\\thesis\\lib\\site-packages\\torch_geometric\\deprecation.py:12: UserWarning: 'dropout_adj' is deprecated, use 'dropout_edge' instead\n",
      "  warnings.warn(out)\n"
     ]
    },
    {
     "name": "stdout",
     "output_type": "stream",
     "text": [
      "tensor(3.4619, grad_fn=<AddBackward0>)\n",
      "tensor(3.5004, grad_fn=<AddBackward0>)\n",
      "tensor(3.4909, grad_fn=<AddBackward0>)\n"
     ]
    },
    {
     "name": "stderr",
     "output_type": "stream",
     "text": [
      "c:\\Users\\bertr\\miniconda3\\envs\\thesis\\lib\\site-packages\\torch_geometric\\deprecation.py:12: UserWarning: 'dropout_adj' is deprecated, use 'dropout_edge' instead\n",
      "  warnings.warn(out)\n",
      "c:\\Users\\bertr\\miniconda3\\envs\\thesis\\lib\\site-packages\\torch_geometric\\deprecation.py:12: UserWarning: 'dropout_adj' is deprecated, use 'dropout_edge' instead\n",
      "  warnings.warn(out)\n",
      "c:\\Users\\bertr\\miniconda3\\envs\\thesis\\lib\\site-packages\\torch_geometric\\deprecation.py:12: UserWarning: 'dropout_adj' is deprecated, use 'dropout_edge' instead\n",
      "  warnings.warn(out)\n"
     ]
    },
    {
     "name": "stdout",
     "output_type": "stream",
     "text": [
      "tensor(3.4605, grad_fn=<AddBackward0>)\n",
      "tensor(3.5228, grad_fn=<AddBackward0>)\n",
      "tensor(3.6598, grad_fn=<AddBackward0>)\n"
     ]
    },
    {
     "name": "stderr",
     "output_type": "stream",
     "text": [
      "c:\\Users\\bertr\\miniconda3\\envs\\thesis\\lib\\site-packages\\torch_geometric\\deprecation.py:12: UserWarning: 'dropout_adj' is deprecated, use 'dropout_edge' instead\n",
      "  warnings.warn(out)\n",
      "c:\\Users\\bertr\\miniconda3\\envs\\thesis\\lib\\site-packages\\torch_geometric\\deprecation.py:12: UserWarning: 'dropout_adj' is deprecated, use 'dropout_edge' instead\n",
      "  warnings.warn(out)\n",
      "c:\\Users\\bertr\\miniconda3\\envs\\thesis\\lib\\site-packages\\torch_geometric\\deprecation.py:12: UserWarning: 'dropout_adj' is deprecated, use 'dropout_edge' instead\n",
      "  warnings.warn(out)\n"
     ]
    },
    {
     "name": "stdout",
     "output_type": "stream",
     "text": [
      "tensor(3.4672, grad_fn=<AddBackward0>)\n",
      "tensor(3.4984, grad_fn=<AddBackward0>)\n",
      "tensor(3.4897, grad_fn=<AddBackward0>)\n"
     ]
    },
    {
     "name": "stderr",
     "output_type": "stream",
     "text": [
      "c:\\Users\\bertr\\miniconda3\\envs\\thesis\\lib\\site-packages\\torch_geometric\\deprecation.py:12: UserWarning: 'dropout_adj' is deprecated, use 'dropout_edge' instead\n",
      "  warnings.warn(out)\n",
      "c:\\Users\\bertr\\miniconda3\\envs\\thesis\\lib\\site-packages\\torch_geometric\\deprecation.py:12: UserWarning: 'dropout_adj' is deprecated, use 'dropout_edge' instead\n",
      "  warnings.warn(out)\n",
      "c:\\Users\\bertr\\miniconda3\\envs\\thesis\\lib\\site-packages\\torch_geometric\\deprecation.py:12: UserWarning: 'dropout_adj' is deprecated, use 'dropout_edge' instead\n",
      "  warnings.warn(out)\n"
     ]
    },
    {
     "name": "stdout",
     "output_type": "stream",
     "text": [
      "tensor(3.5095, grad_fn=<AddBackward0>)\n",
      "tensor(3.5078, grad_fn=<AddBackward0>)\n",
      "tensor(3.5261, grad_fn=<AddBackward0>)\n"
     ]
    },
    {
     "name": "stderr",
     "output_type": "stream",
     "text": [
      "c:\\Users\\bertr\\miniconda3\\envs\\thesis\\lib\\site-packages\\torch_geometric\\deprecation.py:12: UserWarning: 'dropout_adj' is deprecated, use 'dropout_edge' instead\n",
      "  warnings.warn(out)\n",
      "c:\\Users\\bertr\\miniconda3\\envs\\thesis\\lib\\site-packages\\torch_geometric\\deprecation.py:12: UserWarning: 'dropout_adj' is deprecated, use 'dropout_edge' instead\n",
      "  warnings.warn(out)\n",
      "c:\\Users\\bertr\\miniconda3\\envs\\thesis\\lib\\site-packages\\torch_geometric\\deprecation.py:12: UserWarning: 'dropout_adj' is deprecated, use 'dropout_edge' instead\n",
      "  warnings.warn(out)\n"
     ]
    },
    {
     "name": "stdout",
     "output_type": "stream",
     "text": [
      "tensor(3.5061, grad_fn=<AddBackward0>)\n",
      "tensor(3.5364, grad_fn=<AddBackward0>)\n",
      "tensor(3.4776, grad_fn=<AddBackward0>)\n"
     ]
    },
    {
     "name": "stderr",
     "output_type": "stream",
     "text": [
      "c:\\Users\\bertr\\miniconda3\\envs\\thesis\\lib\\site-packages\\torch_geometric\\deprecation.py:12: UserWarning: 'dropout_adj' is deprecated, use 'dropout_edge' instead\n",
      "  warnings.warn(out)\n",
      "c:\\Users\\bertr\\miniconda3\\envs\\thesis\\lib\\site-packages\\torch_geometric\\deprecation.py:12: UserWarning: 'dropout_adj' is deprecated, use 'dropout_edge' instead\n",
      "  warnings.warn(out)\n",
      "c:\\Users\\bertr\\miniconda3\\envs\\thesis\\lib\\site-packages\\torch_geometric\\deprecation.py:12: UserWarning: 'dropout_adj' is deprecated, use 'dropout_edge' instead\n",
      "  warnings.warn(out)\n"
     ]
    },
    {
     "name": "stdout",
     "output_type": "stream",
     "text": [
      "tensor(3.5341, grad_fn=<AddBackward0>)\n",
      "tensor(3.5318, grad_fn=<AddBackward0>)\n",
      "tensor(3.5504, grad_fn=<AddBackward0>)\n"
     ]
    },
    {
     "name": "stderr",
     "output_type": "stream",
     "text": [
      "c:\\Users\\bertr\\miniconda3\\envs\\thesis\\lib\\site-packages\\torch_geometric\\deprecation.py:12: UserWarning: 'dropout_adj' is deprecated, use 'dropout_edge' instead\n",
      "  warnings.warn(out)\n",
      "c:\\Users\\bertr\\miniconda3\\envs\\thesis\\lib\\site-packages\\torch_geometric\\deprecation.py:12: UserWarning: 'dropout_adj' is deprecated, use 'dropout_edge' instead\n",
      "  warnings.warn(out)\n",
      "c:\\Users\\bertr\\miniconda3\\envs\\thesis\\lib\\site-packages\\torch_geometric\\deprecation.py:12: UserWarning: 'dropout_adj' is deprecated, use 'dropout_edge' instead\n",
      "  warnings.warn(out)\n"
     ]
    },
    {
     "name": "stdout",
     "output_type": "stream",
     "text": [
      "tensor(3.4833, grad_fn=<AddBackward0>)\n",
      "tensor(3.4524, grad_fn=<AddBackward0>)\n",
      "tensor(3.5691, grad_fn=<AddBackward0>)\n"
     ]
    },
    {
     "name": "stderr",
     "output_type": "stream",
     "text": [
      "c:\\Users\\bertr\\miniconda3\\envs\\thesis\\lib\\site-packages\\torch_geometric\\deprecation.py:12: UserWarning: 'dropout_adj' is deprecated, use 'dropout_edge' instead\n",
      "  warnings.warn(out)\n",
      "c:\\Users\\bertr\\miniconda3\\envs\\thesis\\lib\\site-packages\\torch_geometric\\deprecation.py:12: UserWarning: 'dropout_adj' is deprecated, use 'dropout_edge' instead\n",
      "  warnings.warn(out)\n",
      "c:\\Users\\bertr\\miniconda3\\envs\\thesis\\lib\\site-packages\\torch_geometric\\deprecation.py:12: UserWarning: 'dropout_adj' is deprecated, use 'dropout_edge' instead\n",
      "  warnings.warn(out)\n"
     ]
    },
    {
     "name": "stdout",
     "output_type": "stream",
     "text": [
      "tensor(3.5632, grad_fn=<AddBackward0>)\n",
      "tensor(3.5382, grad_fn=<AddBackward0>)\n",
      "tensor(3.5440, grad_fn=<AddBackward0>)\n"
     ]
    },
    {
     "name": "stderr",
     "output_type": "stream",
     "text": [
      "c:\\Users\\bertr\\miniconda3\\envs\\thesis\\lib\\site-packages\\torch_geometric\\deprecation.py:12: UserWarning: 'dropout_adj' is deprecated, use 'dropout_edge' instead\n",
      "  warnings.warn(out)\n",
      "c:\\Users\\bertr\\miniconda3\\envs\\thesis\\lib\\site-packages\\torch_geometric\\deprecation.py:12: UserWarning: 'dropout_adj' is deprecated, use 'dropout_edge' instead\n",
      "  warnings.warn(out)\n",
      "c:\\Users\\bertr\\miniconda3\\envs\\thesis\\lib\\site-packages\\torch_geometric\\deprecation.py:12: UserWarning: 'dropout_adj' is deprecated, use 'dropout_edge' instead\n",
      "  warnings.warn(out)\n"
     ]
    },
    {
     "name": "stdout",
     "output_type": "stream",
     "text": [
      "tensor(3.5243, grad_fn=<AddBackward0>)\n",
      "tensor(3.4743, grad_fn=<AddBackward0>)\n",
      "tensor(3.5137, grad_fn=<AddBackward0>)\n",
      "tensor(3.5638, grad_fn=<AddBackward0>)\n"
     ]
    },
    {
     "name": "stderr",
     "output_type": "stream",
     "text": [
      "c:\\Users\\bertr\\miniconda3\\envs\\thesis\\lib\\site-packages\\torch_geometric\\deprecation.py:12: UserWarning: 'dropout_adj' is deprecated, use 'dropout_edge' instead\n",
      "  warnings.warn(out)\n",
      "c:\\Users\\bertr\\miniconda3\\envs\\thesis\\lib\\site-packages\\torch_geometric\\deprecation.py:12: UserWarning: 'dropout_adj' is deprecated, use 'dropout_edge' instead\n",
      "  warnings.warn(out)\n",
      "c:\\Users\\bertr\\miniconda3\\envs\\thesis\\lib\\site-packages\\torch_geometric\\deprecation.py:12: UserWarning: 'dropout_adj' is deprecated, use 'dropout_edge' instead\n",
      "  warnings.warn(out)\n"
     ]
    },
    {
     "name": "stdout",
     "output_type": "stream",
     "text": [
      "tensor(3.6439, grad_fn=<AddBackward0>)\n",
      "tensor(3.5282, grad_fn=<AddBackward0>)\n",
      "tensor(3.5138, grad_fn=<AddBackward0>)\n"
     ]
    },
    {
     "name": "stderr",
     "output_type": "stream",
     "text": [
      "c:\\Users\\bertr\\miniconda3\\envs\\thesis\\lib\\site-packages\\torch_geometric\\deprecation.py:12: UserWarning: 'dropout_adj' is deprecated, use 'dropout_edge' instead\n",
      "  warnings.warn(out)\n",
      "c:\\Users\\bertr\\miniconda3\\envs\\thesis\\lib\\site-packages\\torch_geometric\\deprecation.py:12: UserWarning: 'dropout_adj' is deprecated, use 'dropout_edge' instead\n",
      "  warnings.warn(out)\n",
      "c:\\Users\\bertr\\miniconda3\\envs\\thesis\\lib\\site-packages\\torch_geometric\\deprecation.py:12: UserWarning: 'dropout_adj' is deprecated, use 'dropout_edge' instead\n",
      "  warnings.warn(out)\n"
     ]
    },
    {
     "name": "stdout",
     "output_type": "stream",
     "text": [
      "tensor(3.4799, grad_fn=<AddBackward0>)\n",
      "tensor(3.5741, grad_fn=<AddBackward0>)\n"
     ]
    },
    {
     "name": "stderr",
     "output_type": "stream",
     "text": [
      "c:\\Users\\bertr\\miniconda3\\envs\\thesis\\lib\\site-packages\\torch_geometric\\deprecation.py:12: UserWarning: 'dropout_adj' is deprecated, use 'dropout_edge' instead\n",
      "  warnings.warn(out)\n",
      "c:\\Users\\bertr\\miniconda3\\envs\\thesis\\lib\\site-packages\\torch_geometric\\deprecation.py:12: UserWarning: 'dropout_adj' is deprecated, use 'dropout_edge' instead\n",
      "  warnings.warn(out)\n",
      "c:\\Users\\bertr\\miniconda3\\envs\\thesis\\lib\\site-packages\\torch_geometric\\deprecation.py:12: UserWarning: 'dropout_adj' is deprecated, use 'dropout_edge' instead\n",
      "  warnings.warn(out)\n",
      "c:\\Users\\bertr\\miniconda3\\envs\\thesis\\lib\\site-packages\\torch_geometric\\deprecation.py:12: UserWarning: 'dropout_adj' is deprecated, use 'dropout_edge' instead\n",
      "  warnings.warn(out)\n"
     ]
    },
    {
     "name": "stdout",
     "output_type": "stream",
     "text": [
      "tensor(3.6055, grad_fn=<AddBackward0>)\n",
      "tensor(3.5644, grad_fn=<AddBackward0>)\n",
      "tensor(3.5256, grad_fn=<AddBackward0>)\n",
      "tensor(3.5942, grad_fn=<AddBackward0>)\n",
      "tensor(3.5508, grad_fn=<AddBackward0>)\n",
      "tensor(3.5446, grad_fn=<AddBackward0>)\n",
      "tensor(3.5647, grad_fn=<AddBackward0>)\n"
     ]
    },
    {
     "name": "stderr",
     "output_type": "stream",
     "text": [
      "c:\\Users\\bertr\\miniconda3\\envs\\thesis\\lib\\site-packages\\torch_geometric\\deprecation.py:12: UserWarning: 'dropout_adj' is deprecated, use 'dropout_edge' instead\n",
      "  warnings.warn(out)\n",
      "c:\\Users\\bertr\\miniconda3\\envs\\thesis\\lib\\site-packages\\torch_geometric\\deprecation.py:12: UserWarning: 'dropout_adj' is deprecated, use 'dropout_edge' instead\n",
      "  warnings.warn(out)\n",
      "c:\\Users\\bertr\\miniconda3\\envs\\thesis\\lib\\site-packages\\torch_geometric\\deprecation.py:12: UserWarning: 'dropout_adj' is deprecated, use 'dropout_edge' instead\n",
      "  warnings.warn(out)\n",
      "c:\\Users\\bertr\\miniconda3\\envs\\thesis\\lib\\site-packages\\torch_geometric\\deprecation.py:12: UserWarning: 'dropout_adj' is deprecated, use 'dropout_edge' instead\n",
      "  warnings.warn(out)\n"
     ]
    },
    {
     "name": "stdout",
     "output_type": "stream",
     "text": [
      "tensor(3.6881, grad_fn=<AddBackward0>)\n",
      "tensor(3.5001, grad_fn=<AddBackward0>)\n",
      "tensor(3.5206, grad_fn=<AddBackward0>)\n",
      "tensor(3.5078, grad_fn=<AddBackward0>)\n"
     ]
    },
    {
     "name": "stderr",
     "output_type": "stream",
     "text": [
      "c:\\Users\\bertr\\miniconda3\\envs\\thesis\\lib\\site-packages\\torch_geometric\\deprecation.py:12: UserWarning: 'dropout_adj' is deprecated, use 'dropout_edge' instead\n",
      "  warnings.warn(out)\n",
      "c:\\Users\\bertr\\miniconda3\\envs\\thesis\\lib\\site-packages\\torch_geometric\\deprecation.py:12: UserWarning: 'dropout_adj' is deprecated, use 'dropout_edge' instead\n",
      "  warnings.warn(out)\n",
      "c:\\Users\\bertr\\miniconda3\\envs\\thesis\\lib\\site-packages\\torch_geometric\\deprecation.py:12: UserWarning: 'dropout_adj' is deprecated, use 'dropout_edge' instead\n",
      "  warnings.warn(out)\n",
      "c:\\Users\\bertr\\miniconda3\\envs\\thesis\\lib\\site-packages\\torch_geometric\\deprecation.py:12: UserWarning: 'dropout_adj' is deprecated, use 'dropout_edge' instead\n",
      "  warnings.warn(out)\n",
      "c:\\Users\\bertr\\miniconda3\\envs\\thesis\\lib\\site-packages\\torch_geometric\\deprecation.py:12: UserWarning: 'dropout_adj' is deprecated, use 'dropout_edge' instead\n",
      "  warnings.warn(out)\n",
      "c:\\Users\\bertr\\miniconda3\\envs\\thesis\\lib\\site-packages\\torch_geometric\\deprecation.py:12: UserWarning: 'dropout_adj' is deprecated, use 'dropout_edge' instead\n",
      "  warnings.warn(out)\n"
     ]
    },
    {
     "name": "stdout",
     "output_type": "stream",
     "text": [
      "tensor(3.6445, grad_fn=<AddBackward0>)\n",
      "tensor(3.4719, grad_fn=<AddBackward0>)\n",
      "tensor(3.4605, grad_fn=<AddBackward0>)\n"
     ]
    },
    {
     "name": "stderr",
     "output_type": "stream",
     "text": [
      "c:\\Users\\bertr\\miniconda3\\envs\\thesis\\lib\\site-packages\\torch_geometric\\deprecation.py:12: UserWarning: 'dropout_adj' is deprecated, use 'dropout_edge' instead\n",
      "  warnings.warn(out)\n",
      "c:\\Users\\bertr\\miniconda3\\envs\\thesis\\lib\\site-packages\\torch_geometric\\deprecation.py:12: UserWarning: 'dropout_adj' is deprecated, use 'dropout_edge' instead\n",
      "  warnings.warn(out)\n",
      "c:\\Users\\bertr\\miniconda3\\envs\\thesis\\lib\\site-packages\\torch_geometric\\deprecation.py:12: UserWarning: 'dropout_adj' is deprecated, use 'dropout_edge' instead\n",
      "  warnings.warn(out)\n"
     ]
    },
    {
     "name": "stdout",
     "output_type": "stream",
     "text": [
      "tensor(3.5004, grad_fn=<AddBackward0>)\n",
      "tensor(3.5576, grad_fn=<AddBackward0>)\n",
      "tensor(3.4958, grad_fn=<AddBackward0>)\n"
     ]
    },
    {
     "name": "stderr",
     "output_type": "stream",
     "text": [
      "c:\\Users\\bertr\\miniconda3\\envs\\thesis\\lib\\site-packages\\torch_geometric\\deprecation.py:12: UserWarning: 'dropout_adj' is deprecated, use 'dropout_edge' instead\n",
      "  warnings.warn(out)\n",
      "c:\\Users\\bertr\\miniconda3\\envs\\thesis\\lib\\site-packages\\torch_geometric\\deprecation.py:12: UserWarning: 'dropout_adj' is deprecated, use 'dropout_edge' instead\n",
      "  warnings.warn(out)\n",
      "c:\\Users\\bertr\\miniconda3\\envs\\thesis\\lib\\site-packages\\torch_geometric\\deprecation.py:12: UserWarning: 'dropout_adj' is deprecated, use 'dropout_edge' instead\n",
      "  warnings.warn(out)\n"
     ]
    },
    {
     "name": "stdout",
     "output_type": "stream",
     "text": [
      "tensor(3.4689, grad_fn=<AddBackward0>)\n",
      "tensor(3.5300, grad_fn=<AddBackward0>)\n",
      "tensor(3.4890, grad_fn=<AddBackward0>)\n"
     ]
    },
    {
     "name": "stderr",
     "output_type": "stream",
     "text": [
      "c:\\Users\\bertr\\miniconda3\\envs\\thesis\\lib\\site-packages\\torch_geometric\\deprecation.py:12: UserWarning: 'dropout_adj' is deprecated, use 'dropout_edge' instead\n",
      "  warnings.warn(out)\n",
      "c:\\Users\\bertr\\miniconda3\\envs\\thesis\\lib\\site-packages\\torch_geometric\\deprecation.py:12: UserWarning: 'dropout_adj' is deprecated, use 'dropout_edge' instead\n",
      "  warnings.warn(out)\n",
      "c:\\Users\\bertr\\miniconda3\\envs\\thesis\\lib\\site-packages\\torch_geometric\\deprecation.py:12: UserWarning: 'dropout_adj' is deprecated, use 'dropout_edge' instead\n",
      "  warnings.warn(out)\n"
     ]
    },
    {
     "name": "stdout",
     "output_type": "stream",
     "text": [
      "tensor(3.5461, grad_fn=<AddBackward0>)\n",
      "tensor(3.4515, grad_fn=<AddBackward0>)\n",
      "tensor(3.5507, grad_fn=<AddBackward0>)\n"
     ]
    },
    {
     "name": "stderr",
     "output_type": "stream",
     "text": [
      "c:\\Users\\bertr\\miniconda3\\envs\\thesis\\lib\\site-packages\\torch_geometric\\deprecation.py:12: UserWarning: 'dropout_adj' is deprecated, use 'dropout_edge' instead\n",
      "  warnings.warn(out)\n",
      "c:\\Users\\bertr\\miniconda3\\envs\\thesis\\lib\\site-packages\\torch_geometric\\deprecation.py:12: UserWarning: 'dropout_adj' is deprecated, use 'dropout_edge' instead\n",
      "  warnings.warn(out)\n",
      "c:\\Users\\bertr\\miniconda3\\envs\\thesis\\lib\\site-packages\\torch_geometric\\deprecation.py:12: UserWarning: 'dropout_adj' is deprecated, use 'dropout_edge' instead\n",
      "  warnings.warn(out)\n"
     ]
    },
    {
     "name": "stdout",
     "output_type": "stream",
     "text": [
      "tensor(3.4779, grad_fn=<AddBackward0>)\n",
      "tensor(3.5111, grad_fn=<AddBackward0>)\n",
      "tensor(3.5014, grad_fn=<AddBackward0>)\n"
     ]
    },
    {
     "name": "stderr",
     "output_type": "stream",
     "text": [
      "c:\\Users\\bertr\\miniconda3\\envs\\thesis\\lib\\site-packages\\torch_geometric\\deprecation.py:12: UserWarning: 'dropout_adj' is deprecated, use 'dropout_edge' instead\n",
      "  warnings.warn(out)\n",
      "c:\\Users\\bertr\\miniconda3\\envs\\thesis\\lib\\site-packages\\torch_geometric\\deprecation.py:12: UserWarning: 'dropout_adj' is deprecated, use 'dropout_edge' instead\n",
      "  warnings.warn(out)\n",
      "c:\\Users\\bertr\\miniconda3\\envs\\thesis\\lib\\site-packages\\torch_geometric\\deprecation.py:12: UserWarning: 'dropout_adj' is deprecated, use 'dropout_edge' instead\n",
      "  warnings.warn(out)\n"
     ]
    },
    {
     "name": "stdout",
     "output_type": "stream",
     "text": [
      "tensor(3.7833, grad_fn=<AddBackward0>)\n",
      "tensor(3.6832, grad_fn=<AddBackward0>)\n",
      "tensor(3.4931, grad_fn=<AddBackward0>)\n"
     ]
    },
    {
     "name": "stderr",
     "output_type": "stream",
     "text": [
      "c:\\Users\\bertr\\miniconda3\\envs\\thesis\\lib\\site-packages\\torch_geometric\\deprecation.py:12: UserWarning: 'dropout_adj' is deprecated, use 'dropout_edge' instead\n",
      "  warnings.warn(out)\n",
      "c:\\Users\\bertr\\miniconda3\\envs\\thesis\\lib\\site-packages\\torch_geometric\\deprecation.py:12: UserWarning: 'dropout_adj' is deprecated, use 'dropout_edge' instead\n",
      "  warnings.warn(out)\n",
      "c:\\Users\\bertr\\miniconda3\\envs\\thesis\\lib\\site-packages\\torch_geometric\\deprecation.py:12: UserWarning: 'dropout_adj' is deprecated, use 'dropout_edge' instead\n",
      "  warnings.warn(out)\n"
     ]
    },
    {
     "name": "stdout",
     "output_type": "stream",
     "text": [
      "tensor(3.5328, grad_fn=<AddBackward0>)\n",
      "tensor(3.4886, grad_fn=<AddBackward0>)\n",
      "tensor(3.4551, grad_fn=<AddBackward0>)\n"
     ]
    },
    {
     "name": "stderr",
     "output_type": "stream",
     "text": [
      "c:\\Users\\bertr\\miniconda3\\envs\\thesis\\lib\\site-packages\\torch_geometric\\deprecation.py:12: UserWarning: 'dropout_adj' is deprecated, use 'dropout_edge' instead\n",
      "  warnings.warn(out)\n",
      "c:\\Users\\bertr\\miniconda3\\envs\\thesis\\lib\\site-packages\\torch_geometric\\deprecation.py:12: UserWarning: 'dropout_adj' is deprecated, use 'dropout_edge' instead\n",
      "  warnings.warn(out)\n",
      "c:\\Users\\bertr\\miniconda3\\envs\\thesis\\lib\\site-packages\\torch_geometric\\deprecation.py:12: UserWarning: 'dropout_adj' is deprecated, use 'dropout_edge' instead\n",
      "  warnings.warn(out)\n",
      "c:\\Users\\bertr\\miniconda3\\envs\\thesis\\lib\\site-packages\\torch_geometric\\deprecation.py:12: UserWarning: 'dropout_adj' is deprecated, use 'dropout_edge' instead\n",
      "  warnings.warn(out)\n"
     ]
    },
    {
     "name": "stdout",
     "output_type": "stream",
     "text": [
      "tensor(3.6407, grad_fn=<AddBackward0>)\n",
      "tensor(3.5137, grad_fn=<AddBackward0>)\n",
      "tensor(3.4599, grad_fn=<AddBackward0>)\n",
      "tensor(3.4303, grad_fn=<AddBackward0>)\n",
      "tensor(3.5627, grad_fn=<AddBackward0>)\n",
      "tensor(3.6403, grad_fn=<AddBackward0>)\n"
     ]
    },
    {
     "name": "stderr",
     "output_type": "stream",
     "text": [
      "c:\\Users\\bertr\\miniconda3\\envs\\thesis\\lib\\site-packages\\torch_geometric\\deprecation.py:12: UserWarning: 'dropout_adj' is deprecated, use 'dropout_edge' instead\n",
      "  warnings.warn(out)\n",
      "c:\\Users\\bertr\\miniconda3\\envs\\thesis\\lib\\site-packages\\torch_geometric\\deprecation.py:12: UserWarning: 'dropout_adj' is deprecated, use 'dropout_edge' instead\n",
      "  warnings.warn(out)\n",
      "c:\\Users\\bertr\\miniconda3\\envs\\thesis\\lib\\site-packages\\torch_geometric\\deprecation.py:12: UserWarning: 'dropout_adj' is deprecated, use 'dropout_edge' instead\n",
      "  warnings.warn(out)\n"
     ]
    },
    {
     "name": "stdout",
     "output_type": "stream",
     "text": [
      "tensor(3.5376, grad_fn=<AddBackward0>)\n",
      "tensor(3.4538, grad_fn=<AddBackward0>)\n"
     ]
    },
    {
     "name": "stderr",
     "output_type": "stream",
     "text": [
      "c:\\Users\\bertr\\miniconda3\\envs\\thesis\\lib\\site-packages\\torch_geometric\\deprecation.py:12: UserWarning: 'dropout_adj' is deprecated, use 'dropout_edge' instead\n",
      "  warnings.warn(out)\n",
      "c:\\Users\\bertr\\miniconda3\\envs\\thesis\\lib\\site-packages\\torch_geometric\\deprecation.py:12: UserWarning: 'dropout_adj' is deprecated, use 'dropout_edge' instead\n",
      "  warnings.warn(out)\n",
      "c:\\Users\\bertr\\miniconda3\\envs\\thesis\\lib\\site-packages\\torch_geometric\\deprecation.py:12: UserWarning: 'dropout_adj' is deprecated, use 'dropout_edge' instead\n",
      "  warnings.warn(out)\n"
     ]
    },
    {
     "name": "stdout",
     "output_type": "stream",
     "text": [
      "tensor(3.6230, grad_fn=<AddBackward0>)\n",
      "tensor(3.4891, grad_fn=<AddBackward0>)\n",
      "tensor(3.5435, grad_fn=<AddBackward0>)\n"
     ]
    },
    {
     "name": "stderr",
     "output_type": "stream",
     "text": [
      "c:\\Users\\bertr\\miniconda3\\envs\\thesis\\lib\\site-packages\\torch_geometric\\deprecation.py:12: UserWarning: 'dropout_adj' is deprecated, use 'dropout_edge' instead\n",
      "  warnings.warn(out)\n",
      "c:\\Users\\bertr\\miniconda3\\envs\\thesis\\lib\\site-packages\\torch_geometric\\deprecation.py:12: UserWarning: 'dropout_adj' is deprecated, use 'dropout_edge' instead\n",
      "  warnings.warn(out)\n",
      "c:\\Users\\bertr\\miniconda3\\envs\\thesis\\lib\\site-packages\\torch_geometric\\deprecation.py:12: UserWarning: 'dropout_adj' is deprecated, use 'dropout_edge' instead\n",
      "  warnings.warn(out)\n"
     ]
    },
    {
     "name": "stdout",
     "output_type": "stream",
     "text": [
      "tensor(3.4807, grad_fn=<AddBackward0>)\n",
      "tensor(3.5315, grad_fn=<AddBackward0>)\n",
      "tensor(3.5261, grad_fn=<AddBackward0>)\n"
     ]
    },
    {
     "name": "stderr",
     "output_type": "stream",
     "text": [
      "c:\\Users\\bertr\\miniconda3\\envs\\thesis\\lib\\site-packages\\torch_geometric\\deprecation.py:12: UserWarning: 'dropout_adj' is deprecated, use 'dropout_edge' instead\n",
      "  warnings.warn(out)\n",
      "c:\\Users\\bertr\\miniconda3\\envs\\thesis\\lib\\site-packages\\torch_geometric\\deprecation.py:12: UserWarning: 'dropout_adj' is deprecated, use 'dropout_edge' instead\n",
      "  warnings.warn(out)\n",
      "c:\\Users\\bertr\\miniconda3\\envs\\thesis\\lib\\site-packages\\torch_geometric\\deprecation.py:12: UserWarning: 'dropout_adj' is deprecated, use 'dropout_edge' instead\n",
      "  warnings.warn(out)\n"
     ]
    },
    {
     "name": "stdout",
     "output_type": "stream",
     "text": [
      "tensor(3.4491, grad_fn=<AddBackward0>)\n",
      "tensor(3.5136, grad_fn=<AddBackward0>)\n",
      "tensor(3.5126, grad_fn=<AddBackward0>)\n"
     ]
    },
    {
     "name": "stderr",
     "output_type": "stream",
     "text": [
      "c:\\Users\\bertr\\miniconda3\\envs\\thesis\\lib\\site-packages\\torch_geometric\\deprecation.py:12: UserWarning: 'dropout_adj' is deprecated, use 'dropout_edge' instead\n",
      "  warnings.warn(out)\n",
      "c:\\Users\\bertr\\miniconda3\\envs\\thesis\\lib\\site-packages\\torch_geometric\\deprecation.py:12: UserWarning: 'dropout_adj' is deprecated, use 'dropout_edge' instead\n",
      "  warnings.warn(out)\n",
      "c:\\Users\\bertr\\miniconda3\\envs\\thesis\\lib\\site-packages\\torch_geometric\\deprecation.py:12: UserWarning: 'dropout_adj' is deprecated, use 'dropout_edge' instead\n",
      "  warnings.warn(out)\n"
     ]
    },
    {
     "name": "stdout",
     "output_type": "stream",
     "text": [
      "tensor(3.5438, grad_fn=<AddBackward0>)\n",
      "tensor(3.5053, grad_fn=<AddBackward0>)\n",
      "tensor(3.5130, grad_fn=<AddBackward0>)\n",
      "tensor(3.5688, grad_fn=<AddBackward0>)\n"
     ]
    },
    {
     "name": "stderr",
     "output_type": "stream",
     "text": [
      "c:\\Users\\bertr\\miniconda3\\envs\\thesis\\lib\\site-packages\\torch_geometric\\deprecation.py:12: UserWarning: 'dropout_adj' is deprecated, use 'dropout_edge' instead\n",
      "  warnings.warn(out)\n",
      "c:\\Users\\bertr\\miniconda3\\envs\\thesis\\lib\\site-packages\\torch_geometric\\deprecation.py:12: UserWarning: 'dropout_adj' is deprecated, use 'dropout_edge' instead\n",
      "  warnings.warn(out)\n"
     ]
    },
    {
     "data": {
      "text/plain": [
       "([15.486917495727539,\n",
       "  14.96762466430664,\n",
       "  12.559062004089355,\n",
       "  11.02665901184082,\n",
       "  11.373835563659668,\n",
       "  10.087130546569824,\n",
       "  9.914985656738281,\n",
       "  9.329959869384766,\n",
       "  9.234305381774902,\n",
       "  8.682376861572266,\n",
       "  8.511859893798828,\n",
       "  8.26390266418457,\n",
       "  8.411825180053711,\n",
       "  8.079158782958984,\n",
       "  7.625940322875977,\n",
       "  7.316616058349609,\n",
       "  7.507457733154297,\n",
       "  7.494594573974609,\n",
       "  7.163559436798096,\n",
       "  7.041815757751465,\n",
       "  6.889572620391846,\n",
       "  6.8301568031311035,\n",
       "  6.633142471313477,\n",
       "  6.7747602462768555,\n",
       "  6.845067024230957,\n",
       "  6.709259033203125,\n",
       "  6.524022579193115,\n",
       "  6.54057502746582,\n",
       "  6.449981689453125,\n",
       "  6.477496147155762,\n",
       "  6.505004405975342,\n",
       "  6.4656596183776855,\n",
       "  6.46336555480957,\n",
       "  6.558968544006348,\n",
       "  6.5407915115356445,\n",
       "  6.553307056427002,\n",
       "  6.33376407623291,\n",
       "  6.424378395080566,\n",
       "  6.521533966064453,\n",
       "  6.382404327392578,\n",
       "  6.454660892486572,\n",
       "  6.3318376541137695,\n",
       "  6.236243724822998,\n",
       "  6.286423683166504,\n",
       "  6.149539470672607,\n",
       "  6.155597686767578,\n",
       "  6.113874435424805,\n",
       "  6.032709121704102,\n",
       "  6.03324031829834,\n",
       "  6.072578430175781,\n",
       "  6.02058744430542,\n",
       "  6.063665866851807,\n",
       "  6.043756008148193,\n",
       "  6.022411346435547,\n",
       "  5.850225448608398,\n",
       "  6.005160331726074,\n",
       "  5.830365180969238,\n",
       "  5.850252628326416,\n",
       "  5.8334760665893555,\n",
       "  5.80171537399292,\n",
       "  5.692158222198486,\n",
       "  5.551054954528809,\n",
       "  5.474557876586914,\n",
       "  5.439380645751953,\n",
       "  5.454424858093262,\n",
       "  5.40760612487793,\n",
       "  5.304901123046875,\n",
       "  5.337256908416748,\n",
       "  5.096429824829102,\n",
       "  5.146177291870117,\n",
       "  5.145136833190918,\n",
       "  5.308963775634766,\n",
       "  4.906671524047852,\n",
       "  4.8079633712768555,\n",
       "  5.053271293640137,\n",
       "  4.85335636138916,\n",
       "  5.1023173332214355,\n",
       "  4.96938943862915,\n",
       "  4.795195579528809,\n",
       "  4.778838634490967,\n",
       "  4.6946611404418945,\n",
       "  4.74498176574707,\n",
       "  4.727817535400391,\n",
       "  4.6523661613464355,\n",
       "  4.8027143478393555,\n",
       "  4.743538856506348,\n",
       "  4.657225131988525,\n",
       "  4.720437049865723,\n",
       "  4.529951572418213,\n",
       "  4.50750732421875,\n",
       "  4.821737766265869,\n",
       "  4.528815269470215,\n",
       "  4.729953765869141,\n",
       "  4.617976665496826,\n",
       "  4.537004470825195,\n",
       "  4.695054531097412,\n",
       "  4.726965427398682,\n",
       "  4.48151969909668,\n",
       "  4.45944881439209,\n",
       "  4.596575736999512,\n",
       "  4.47554874420166,\n",
       "  4.5182671546936035,\n",
       "  4.544841289520264,\n",
       "  4.493310451507568,\n",
       "  4.363681316375732,\n",
       "  4.427091598510742,\n",
       "  4.457254409790039,\n",
       "  4.629257678985596,\n",
       "  4.304525375366211,\n",
       "  4.5358123779296875,\n",
       "  4.420499324798584,\n",
       "  4.488235950469971,\n",
       "  4.4509453773498535,\n",
       "  4.413685321807861,\n",
       "  4.658923149108887,\n",
       "  4.517171382904053,\n",
       "  4.586154937744141,\n",
       "  4.598130702972412,\n",
       "  4.439053058624268,\n",
       "  4.208322525024414,\n",
       "  4.3047051429748535,\n",
       "  4.352137565612793,\n",
       "  4.37756872177124,\n",
       "  4.367933750152588,\n",
       "  4.426592826843262,\n",
       "  4.203042030334473,\n",
       "  4.397276401519775,\n",
       "  4.28935432434082,\n",
       "  4.457850933074951,\n",
       "  4.191934585571289,\n",
       "  4.322725772857666,\n",
       "  4.550666809082031,\n",
       "  4.1730852127075195,\n",
       "  4.2006049156188965,\n",
       "  4.476801872253418,\n",
       "  4.3430609703063965,\n",
       "  4.33394193649292,\n",
       "  4.378599643707275,\n",
       "  4.206928253173828,\n",
       "  4.341159820556641,\n",
       "  4.220264911651611,\n",
       "  4.517850399017334,\n",
       "  4.269482612609863,\n",
       "  4.318933486938477,\n",
       "  4.215694427490234,\n",
       "  4.263833999633789,\n",
       "  4.222374439239502,\n",
       "  4.2701945304870605,\n",
       "  4.151791572570801,\n",
       "  4.1459808349609375,\n",
       "  4.209397315979004,\n",
       "  4.329777717590332,\n",
       "  4.257560729980469,\n",
       "  4.459412097930908,\n",
       "  4.257856369018555,\n",
       "  4.154933929443359,\n",
       "  4.213371276855469,\n",
       "  4.0902934074401855,\n",
       "  4.382258892059326,\n",
       "  4.234838008880615,\n",
       "  4.396266460418701,\n",
       "  4.12813663482666,\n",
       "  4.003753662109375,\n",
       "  4.167329788208008,\n",
       "  4.278912544250488,\n",
       "  4.085700035095215,\n",
       "  4.3911895751953125,\n",
       "  4.177797317504883,\n",
       "  4.067934989929199,\n",
       "  4.170366287231445,\n",
       "  4.176711559295654,\n",
       "  4.093212127685547,\n",
       "  4.129781723022461,\n",
       "  4.135642051696777,\n",
       "  4.062127113342285,\n",
       "  4.1849684715271,\n",
       "  4.281977653503418,\n",
       "  4.142277717590332,\n",
       "  4.090989589691162,\n",
       "  4.177420139312744,\n",
       "  4.122352123260498,\n",
       "  4.18730354309082,\n",
       "  4.072921276092529,\n",
       "  3.9846372604370117,\n",
       "  4.034950256347656,\n",
       "  4.124242782592773,\n",
       "  3.98653507232666,\n",
       "  4.187495231628418,\n",
       "  4.054208278656006,\n",
       "  4.2211012840271,\n",
       "  4.404660224914551,\n",
       "  4.1290388107299805,\n",
       "  4.202639102935791,\n",
       "  4.062933444976807,\n",
       "  4.115867614746094,\n",
       "  4.035710334777832,\n",
       "  4.132261276245117,\n",
       "  4.062737464904785,\n",
       "  4.205014705657959,\n",
       "  4.071183681488037,\n",
       "  4.01478910446167,\n",
       "  4.028509616851807,\n",
       "  4.160175800323486,\n",
       "  4.021317481994629,\n",
       "  4.033324718475342,\n",
       "  4.255809783935547,\n",
       "  4.0495686531066895,\n",
       "  4.094965934753418,\n",
       "  4.1448869705200195,\n",
       "  4.004476070404053,\n",
       "  4.362933158874512,\n",
       "  4.078497409820557,\n",
       "  4.125936031341553,\n",
       "  4.1323041915893555,\n",
       "  3.938671588897705,\n",
       "  4.0069966316223145,\n",
       "  4.233811855316162,\n",
       "  4.095134258270264,\n",
       "  4.13479471206665,\n",
       "  4.035078525543213,\n",
       "  3.95556378364563,\n",
       "  4.168143272399902,\n",
       "  4.025128364562988,\n",
       "  4.078267574310303,\n",
       "  4.0854387283325195,\n",
       "  4.156888484954834,\n",
       "  4.245397567749023,\n",
       "  4.056949615478516,\n",
       "  4.161458969116211,\n",
       "  4.062976837158203,\n",
       "  3.9450080394744873,\n",
       "  4.047525405883789,\n",
       "  3.9460034370422363,\n",
       "  4.032839775085449,\n",
       "  3.9858686923980713,\n",
       "  3.9311444759368896,\n",
       "  4.075349807739258,\n",
       "  3.9373228549957275,\n",
       "  4.036008834838867,\n",
       "  4.059240818023682,\n",
       "  4.009222984313965,\n",
       "  4.0192694664001465,\n",
       "  4.01027250289917,\n",
       "  3.9411656856536865,\n",
       "  4.175998210906982,\n",
       "  3.804145097732544,\n",
       "  4.144697189331055,\n",
       "  4.0907158851623535,\n",
       "  3.9162988662719727,\n",
       "  3.9865400791168213,\n",
       "  3.838460683822632,\n",
       "  4.118833065032959,\n",
       "  3.8972651958465576,\n",
       "  3.932716131210327,\n",
       "  3.971771001815796,\n",
       "  3.9491732120513916,\n",
       "  3.796321392059326,\n",
       "  4.035383701324463,\n",
       "  3.9474234580993652,\n",
       "  3.883408784866333,\n",
       "  3.9159088134765625,\n",
       "  3.9246253967285156,\n",
       "  3.8990767002105713,\n",
       "  3.8593709468841553,\n",
       "  4.205857276916504,\n",
       "  4.074900150299072,\n",
       "  3.992574453353882,\n",
       "  3.9167516231536865,\n",
       "  4.03309440612793,\n",
       "  3.968400001525879,\n",
       "  4.0974555015563965,\n",
       "  3.939180850982666,\n",
       "  3.9340176582336426,\n",
       "  4.119617938995361,\n",
       "  4.01341438293457,\n",
       "  3.888132095336914,\n",
       "  4.029154300689697,\n",
       "  3.9274048805236816,\n",
       "  3.761781930923462,\n",
       "  3.907076835632324,\n",
       "  3.875842571258545,\n",
       "  3.912935972213745,\n",
       "  3.835289239883423,\n",
       "  3.8808484077453613,\n",
       "  3.8276078701019287,\n",
       "  3.9562642574310303,\n",
       "  3.8391361236572266,\n",
       "  3.8687033653259277,\n",
       "  4.1695237159729,\n",
       "  4.069429397583008,\n",
       "  3.836843967437744,\n",
       "  4.063612461090088,\n",
       "  3.883354902267456,\n",
       "  3.962507724761963,\n",
       "  3.9084551334381104,\n",
       "  3.917051315307617,\n",
       "  3.9576005935668945,\n",
       "  3.8853952884674072,\n",
       "  3.9418654441833496,\n",
       "  3.940636396408081,\n",
       "  3.903142213821411,\n",
       "  3.905395269393921,\n",
       "  3.8780181407928467,\n",
       "  4.0127692222595215,\n",
       "  3.9391465187072754,\n",
       "  3.9971261024475098,\n",
       "  3.969036340713501,\n",
       "  3.929514169692993,\n",
       "  3.9020872116088867,\n",
       "  3.9340877532958984,\n",
       "  4.099891185760498,\n",
       "  4.092988967895508,\n",
       "  3.891174793243408,\n",
       "  3.8727076053619385,\n",
       "  3.787012815475464,\n",
       "  3.861506462097168,\n",
       "  3.883730888366699,\n",
       "  3.828906297683716,\n",
       "  3.91861891746521,\n",
       "  3.8384947776794434,\n",
       "  3.961092233657837,\n",
       "  3.9058945178985596,\n",
       "  3.8624885082244873,\n",
       "  3.999499797821045,\n",
       "  3.820131301879883,\n",
       "  3.896958351135254,\n",
       "  3.8731019496917725,\n",
       "  4.0754570960998535,\n",
       "  3.9824631214141846,\n",
       "  3.7953124046325684,\n",
       "  3.8685951232910156,\n",
       "  3.938948154449463,\n",
       "  3.83450984954834,\n",
       "  4.03242826461792,\n",
       "  3.9944369792938232,\n",
       "  3.8724114894866943,\n",
       "  3.9647560119628906,\n",
       "  3.9482614994049072,\n",
       "  3.7966129779815674,\n",
       "  3.80996036529541,\n",
       "  3.929748773574829,\n",
       "  3.8163602352142334,\n",
       "  3.962157964706421,\n",
       "  3.758730888366699,\n",
       "  3.8390238285064697,\n",
       "  3.8718273639678955,\n",
       "  3.774765729904175,\n",
       "  3.997633934020996,\n",
       "  3.817223072052002,\n",
       "  3.856839656829834,\n",
       "  4.012992858886719,\n",
       "  3.975804090499878,\n",
       "  4.010498046875,\n",
       "  3.962102174758911,\n",
       "  3.7157626152038574,\n",
       "  3.829878091812134,\n",
       "  3.9306561946868896,\n",
       "  3.8233118057250977,\n",
       "  3.9713737964630127,\n",
       "  3.7703702449798584,\n",
       "  3.9536192417144775,\n",
       "  3.9463305473327637,\n",
       "  4.015342712402344,\n",
       "  3.844667673110962,\n",
       "  4.008583068847656,\n",
       "  3.8275210857391357,\n",
       "  4.071433067321777,\n",
       "  3.763073682785034,\n",
       "  3.7405214309692383,\n",
       "  3.8530631065368652,\n",
       "  3.789022922515869,\n",
       "  3.867314338684082,\n",
       "  3.9351370334625244,\n",
       "  3.7279255390167236,\n",
       "  3.9612698554992676,\n",
       "  3.749816417694092,\n",
       "  3.8036797046661377,\n",
       "  3.881103754043579,\n",
       "  3.7756569385528564,\n",
       "  3.8107430934906006,\n",
       "  3.97651743888855,\n",
       "  3.903836965560913,\n",
       "  3.791764259338379,\n",
       "  3.864504098892212,\n",
       "  3.795471668243408,\n",
       "  3.887953519821167,\n",
       "  3.8009626865386963,\n",
       "  3.9736526012420654,\n",
       "  3.907270669937134,\n",
       "  3.774433135986328,\n",
       "  3.904585123062134,\n",
       "  3.991811752319336,\n",
       "  3.874351739883423,\n",
       "  3.805103063583374,\n",
       "  3.9832005500793457,\n",
       "  3.7639262676239014,\n",
       "  3.800243377685547,\n",
       "  4.055797576904297,\n",
       "  3.7718472480773926,\n",
       "  3.8429689407348633,\n",
       "  3.9705824851989746,\n",
       "  3.814282178878784,\n",
       "  3.737107992172241,\n",
       "  3.7284529209136963,\n",
       "  3.807711124420166,\n",
       "  3.780911922454834,\n",
       "  3.9630813598632812,\n",
       "  3.7453970909118652,\n",
       "  3.8604114055633545,\n",
       "  3.8808510303497314,\n",
       "  3.7703897953033447,\n",
       "  3.8802895545959473,\n",
       "  3.8318445682525635,\n",
       "  3.7813801765441895,\n",
       "  3.7197232246398926,\n",
       "  3.9160475730895996,\n",
       "  3.707585334777832,\n",
       "  3.6798462867736816,\n",
       "  3.9205539226531982,\n",
       "  3.9397363662719727,\n",
       "  3.9089112281799316,\n",
       "  3.846931219100952,\n",
       "  3.74322247505188,\n",
       "  3.922400951385498,\n",
       "  3.8448050022125244,\n",
       "  3.7774462699890137,\n",
       "  3.781768560409546,\n",
       "  3.818580150604248,\n",
       "  3.852548837661743,\n",
       "  3.87640643119812,\n",
       "  3.8209753036499023,\n",
       "  3.834838390350342,\n",
       "  3.7696409225463867,\n",
       "  3.927518367767334,\n",
       "  3.824315309524536,\n",
       "  3.9389255046844482,\n",
       "  3.7268712520599365,\n",
       "  3.8649086952209473,\n",
       "  3.861621856689453,\n",
       "  3.6753170490264893,\n",
       "  3.7688543796539307,\n",
       "  3.9734549522399902,\n",
       "  3.8771915435791016,\n",
       "  3.8851404190063477,\n",
       "  3.7818398475646973,\n",
       "  3.7578318119049072,\n",
       "  3.8332810401916504,\n",
       "  3.902437448501587,\n",
       "  3.8415985107421875,\n",
       "  3.8039212226867676,\n",
       "  3.97336483001709,\n",
       "  3.7771928310394287,\n",
       "  3.794464111328125,\n",
       "  3.882850408554077,\n",
       "  3.939854383468628,\n",
       "  3.7287840843200684,\n",
       "  3.7169947624206543,\n",
       "  3.886457681655884,\n",
       "  4.022761821746826,\n",
       "  3.6805837154388428,\n",
       "  3.8307788372039795,\n",
       "  3.730851650238037,\n",
       "  3.818422555923462,\n",
       "  3.9066081047058105,\n",
       "  3.790360689163208,\n",
       "  3.7619926929473877,\n",
       "  3.799091100692749,\n",
       "  3.832029104232788,\n",
       "  3.878769874572754,\n",
       "  3.8519842624664307,\n",
       "  3.728361129760742,\n",
       "  3.9877407550811768,\n",
       "  3.76670503616333,\n",
       "  4.114975929260254,\n",
       "  3.978369951248169,\n",
       "  3.7721972465515137,\n",
       "  4.0307488441467285,\n",
       "  3.800340175628662,\n",
       "  3.7327466011047363,\n",
       "  4.052005290985107,\n",
       "  3.872609853744507,\n",
       "  3.7747244834899902,\n",
       "  3.811730146408081,\n",
       "  3.7657434940338135,\n",
       "  3.9907338619232178,\n",
       "  3.81423282623291,\n",
       "  3.85128116607666,\n",
       "  3.9381906986236572,\n",
       "  3.8491406440734863,\n",
       "  3.8206939697265625,\n",
       "  3.791283369064331,\n",
       "  3.905735969543457,\n",
       "  3.766064405441284,\n",
       "  3.755324602127075,\n",
       "  3.870131015777588,\n",
       "  3.81868052482605,\n",
       "  3.818142890930176,\n",
       "  3.7412195205688477,\n",
       "  3.8927159309387207,\n",
       "  3.8484816551208496],\n",
       " {'accuracy': 0.674,\n",
       "  'f1_micro': 0.674,\n",
       "  'f1_macro': 0.677165290353091,\n",
       "  'rocauc_ovr': 0.8124225387310057,\n",
       "  'rocauc_ovo': 0.8124225387310057,\n",
       "  'logloss': 2.555616202528415},\n",
       " {'accuracy': 0.678,\n",
       "  'f1_micro': 0.678,\n",
       "  'f1_macro': 0.6626011020335065,\n",
       "  'rocauc_ovr': 0.807856948415772,\n",
       "  'rocauc_ovo': 0.807856948415772,\n",
       "  'logloss': 3.0885393895897524})"
      ]
     },
     "execution_count": 7,
     "metadata": {},
     "output_type": "execute_result"
    }
   ],
   "source": [
    "# Training. You can attach a debugger to w/e is needed inside train\n",
    "benchmarker = NNNodeBenchmarkerJL(generator_config=generator_config, model_class=GCN, \n",
    "                benchmark_params=benchmark_params, h_params=h_params, pretext_task=pretext_task)\n",
    "benchmarker.SetMasks(train_mask=dataset.train_mask, val_mask=dataset.val_mask, test_mask=dataset.test_mask)\n",
    "benchmarker.train(data=dataset, tuning_metric=\"rocauc_ovr\", tuning_metric_is_loss=False)"
   ]
  },
  {
   "cell_type": "code",
   "execution_count": null,
   "metadata": {},
   "outputs": [],
   "source": []
  }
 ],
 "metadata": {
  "kernelspec": {
   "display_name": "thesis",
   "language": "python",
   "name": "python3"
  },
  "language_info": {
   "codemirror_mode": {
    "name": "ipython",
    "version": 3
   },
   "file_extension": ".py",
   "mimetype": "text/x-python",
   "name": "python",
   "nbconvert_exporter": "python",
   "pygments_lexer": "ipython3",
   "version": "3.10.9"
  },
  "orig_nbformat": 4,
  "vscode": {
   "interpreter": {
    "hash": "c7ab25521b35298f0c482908cd2836fcd803c6b8449977de01eb4d32cc96d8dc"
   }
  }
 },
 "nbformat": 4,
 "nbformat_minor": 2
}
