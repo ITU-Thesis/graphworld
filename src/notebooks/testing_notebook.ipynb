{
 "cells": [
  {
   "attachments": {},
   "cell_type": "markdown",
   "metadata": {},
   "source": [
    "This file allows for testing the GraphWorld setup with GNN implementations.\n",
    "It is currently set up to test the SSL methods for the JL benchmarker.\n",
    "\n",
    "Through this notebook you can attach a debugger.\n",
    "Note that graph_tool does not work on windows, so we cannot use the graph generators.\n",
    "Instead, we use the standard datasets from PyG."
   ]
  },
  {
   "cell_type": "code",
   "execution_count": 1,
   "metadata": {},
   "outputs": [],
   "source": [
    "import os\n",
    "import sys\n",
    "module_path = os.path.abspath(os.path.join('..'))\n",
    "if module_path not in sys.path:\n",
    "    sys.path.append(module_path)\n",
    "\n",
    "from graph_world.self_supervised_learning.benchmarker_jl import NNNodeBenchmarkerJL\n",
    "from graph_world.models.basic_gnn import GCN\n",
    "from torch_geometric.datasets import Planetoid\n",
    "\n",
    "from graph_world.self_supervised_learning.pretext_tasks import *\n"
   ]
  },
  {
   "cell_type": "code",
   "execution_count": 2,
   "metadata": {},
   "outputs": [],
   "source": [
    "# Parameter setup (for cora)\n",
    "benchmark_params = {\n",
    "    'epochs' : 50,\n",
    "    'lr' : 0.01,\n",
    "    'lambda' : 1\n",
    "}\n",
    "\n",
    "h_params = {\n",
    "    'in_channels' : 1433,\n",
    "    'hidden_channels' : 16,\n",
    "    'num_layers' : 2,\n",
    "    'dropout' : 0.5,\n",
    "    'mask_ratio' : 0.2,\n",
    "}\n",
    "\n",
    "generator_config = {\n",
    "    'num_clusters' : 7\n",
    "}\n",
    "\n",
    "pretext_tasks = [AttributeMask]"
   ]
  },
  {
   "cell_type": "code",
   "execution_count": 3,
   "metadata": {},
   "outputs": [],
   "source": [
    "# Get dataset\n",
    "dataset = Planetoid(root='/tmp/Cora', name='Cora')[0]"
   ]
  },
  {
   "cell_type": "code",
   "execution_count": 4,
   "metadata": {},
   "outputs": [
    {
     "name": "stdout",
     "output_type": "stream",
     "text": [
      "GCN(1433, 16, num_layers=2)\n"
     ]
    },
    {
     "data": {
      "text/plain": [
       "([2.0234243869781494,\n",
       "  2.0018718242645264,\n",
       "  1.9826202392578125,\n",
       "  1.931691288948059,\n",
       "  1.9198863506317139,\n",
       "  1.8536808490753174,\n",
       "  1.7739628553390503,\n",
       "  1.7308712005615234,\n",
       "  1.6951955556869507,\n",
       "  1.6026861667633057,\n",
       "  1.5427693128585815,\n",
       "  1.4847428798675537,\n",
       "  1.4648079872131348,\n",
       "  1.3440848588943481,\n",
       "  1.2330402135849,\n",
       "  1.131735920906067,\n",
       "  1.1569021940231323,\n",
       "  1.0121673345565796,\n",
       "  1.0554866790771484,\n",
       "  1.020753264427185,\n",
       "  1.023772954940796,\n",
       "  1.0299516916275024,\n",
       "  0.9978159070014954,\n",
       "  0.8662304282188416,\n",
       "  0.8221696615219116,\n",
       "  0.7764384746551514,\n",
       "  0.7571204900741577,\n",
       "  0.6370590925216675,\n",
       "  0.7307171821594238,\n",
       "  0.5915895700454712,\n",
       "  0.5667598843574524,\n",
       "  0.5692391395568848,\n",
       "  0.7108919620513916,\n",
       "  0.6071397662162781,\n",
       "  0.5580574870109558,\n",
       "  0.5990827083587646,\n",
       "  0.4678531587123871,\n",
       "  0.4569055438041687,\n",
       "  0.582126796245575,\n",
       "  0.504734992980957,\n",
       "  0.45868372917175293,\n",
       "  0.4689038097858429,\n",
       "  0.43909621238708496,\n",
       "  0.4230664372444153,\n",
       "  0.4358796775341034,\n",
       "  0.42086726427078247,\n",
       "  0.4692300260066986,\n",
       "  0.35060805082321167,\n",
       "  0.5681098103523254,\n",
       "  0.3975473642349243],\n",
       " {'accuracy': 0.764,\n",
       "  'f1_micro': 0.764,\n",
       "  'f1_macro': 0.7507290500723526,\n",
       "  'rocauc_ovr': 0.8722400305707871,\n",
       "  'rocauc_ovo': 0.8722400305707871,\n",
       "  'logloss': 1.6367505498975994},\n",
       " {'accuracy': 0.76,\n",
       "  'f1_micro': 0.76,\n",
       "  'f1_macro': 0.7454637254215889,\n",
       "  'rocauc_ovr': 0.8730516425312701,\n",
       "  'rocauc_ovo': 0.8730516425312701,\n",
       "  'logloss': 1.7007979404505473})"
      ]
     },
     "execution_count": 4,
     "metadata": {},
     "output_type": "execute_result"
    }
   ],
   "source": [
    "# Training. You can attach a debugger to w/e is needed inside train\n",
    "benchmarker = NNNodeBenchmarkerJL(generator_config=generator_config, model_class=GCN, \n",
    "                benchmark_params=benchmark_params, h_params=h_params, pretext_tasks=pretext_tasks)\n",
    "benchmarker.SetMasks(train_mask=dataset.train_mask, val_mask=dataset.val_mask, test_mask=dataset.test_mask)\n",
    "benchmarker.train(data=dataset, tuning_metric=\"rocauc_ovr\", tuning_metric_is_loss=False)"
   ]
  }
 ],
 "metadata": {
  "kernelspec": {
   "display_name": "thesis",
   "language": "python",
   "name": "python3"
  },
  "language_info": {
   "codemirror_mode": {
    "name": "ipython",
    "version": 3
   },
   "file_extension": ".py",
   "mimetype": "text/x-python",
   "name": "python",
   "nbconvert_exporter": "python",
   "pygments_lexer": "ipython3",
   "version": "3.10.9"
  },
  "orig_nbformat": 4,
  "vscode": {
   "interpreter": {
    "hash": "c7ab25521b35298f0c482908cd2836fcd803c6b8449977de01eb4d32cc96d8dc"
   }
  }
 },
 "nbformat": 4,
 "nbformat_minor": 2
}
