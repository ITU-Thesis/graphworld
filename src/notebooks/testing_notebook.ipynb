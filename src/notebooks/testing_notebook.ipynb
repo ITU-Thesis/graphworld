{
 "cells": [
  {
   "attachments": {},
   "cell_type": "markdown",
   "metadata": {},
   "source": [
    "This file allows for testing the GraphWorld setup with GNN implementations.\n",
    "It is currently set up to test the SSL methods for the JL benchmarker.\n",
    "\n",
    "Through this notebook you can attach a debugger.\n",
    "Note that graph_tool does not work on windows, so we cannot use the graph generators.\n",
    "Instead, we use the standard datasets from PyG."
   ]
  },
  {
   "cell_type": "code",
   "execution_count": 1,
   "metadata": {},
   "outputs": [],
   "source": [
    "import os\n",
    "import sys\n",
    "module_path = os.path.abspath(os.path.join('..'))\n",
    "if module_path not in sys.path:\n",
    "    sys.path.append(module_path)\n",
    "\n",
    "from graph_world.self_supervised_learning.benchmarker_jl import NNNodeBenchmarkerJL\n",
    "from graph_world.models.basic_gnn import GCN, SuperGAT\n",
    "from torch_geometric.datasets import Planetoid\n",
    "\n",
    "from graph_world.self_supervised_learning.pretext_tasks.generation_based import *\n"
   ]
  },
  {
   "cell_type": "code",
   "execution_count": 10,
   "metadata": {},
   "outputs": [],
   "source": [
    "# Parameter setup (for cora)\n",
    "benchmark_params = {\n",
    "    'epochs' : 50,\n",
    "    'lr' : 0.01,\n",
    "    'lambda' : 0.5\n",
    "}\n",
    "\n",
    "h_params = {\n",
    "    'in_channels' : 1433,\n",
    "    'hidden_channels' : 16,\n",
    "    'num_layers' : 2,\n",
    "    'dropout' : 0.5,\n",
    "    'discriminator_lr' : 0.001, \n",
    "    'discriminator_epochs': 5\n",
    "}\n",
    "\n",
    "generator_config = {\n",
    "    'num_clusters' : 7,\n",
    "}\n",
    "\n",
    "pretext_tasks = [DenoisingLinkReconstruction]"
   ]
  },
  {
   "cell_type": "code",
   "execution_count": 3,
   "metadata": {},
   "outputs": [],
   "source": [
    "# Get dataset\n",
    "dataset = Planetoid(root='/tmp/Cora', name='Cora')[0]"
   ]
  },
  {
   "cell_type": "code",
   "execution_count": 11,
   "metadata": {},
   "outputs": [
    {
     "name": "stdout",
     "output_type": "stream",
     "text": [
      "GCN(1433, 16, num_layers=2)\n"
     ]
    },
    {
     "data": {
      "text/plain": [
       "([2.6506924629211426,\n",
       "  2.629537582397461,\n",
       "  2.6154730319976807,\n",
       "  2.5767831802368164,\n",
       "  2.5270116329193115,\n",
       "  2.5034937858581543,\n",
       "  2.450047492980957,\n",
       "  2.338500738143921,\n",
       "  2.30855393409729,\n",
       "  2.1948046684265137,\n",
       "  2.0820810794830322,\n",
       "  1.988187551498413,\n",
       "  1.928857445716858,\n",
       "  1.9125081300735474,\n",
       "  1.6752797365188599,\n",
       "  1.6945583820343018,\n",
       "  1.5978014469146729,\n",
       "  1.5676829814910889,\n",
       "  1.480825424194336,\n",
       "  1.4931271076202393,\n",
       "  1.3048415184020996,\n",
       "  1.3343982696533203,\n",
       "  1.3340191841125488,\n",
       "  1.3109612464904785,\n",
       "  1.199074625968933,\n",
       "  1.1645101308822632,\n",
       "  1.1686785221099854,\n",
       "  1.1681190729141235,\n",
       "  1.1064618825912476,\n",
       "  1.0441749095916748,\n",
       "  1.049304723739624,\n",
       "  0.9651296138763428,\n",
       "  1.1524150371551514,\n",
       "  1.0837838649749756,\n",
       "  0.954824686050415,\n",
       "  0.9991564154624939,\n",
       "  0.9706219434738159,\n",
       "  0.915688157081604,\n",
       "  0.9426579475402832,\n",
       "  0.9366066455841064,\n",
       "  0.9674073457717896,\n",
       "  0.9212297201156616,\n",
       "  0.870677649974823,\n",
       "  0.7605818510055542,\n",
       "  0.8756780624389648,\n",
       "  0.9228965640068054,\n",
       "  0.851603627204895,\n",
       "  0.8902989625930786,\n",
       "  0.9181059002876282,\n",
       "  0.8658120632171631],\n",
       " {'accuracy': 0.774,\n",
       "  'f1_micro': 0.774,\n",
       "  'f1_macro': 0.7650465234379796,\n",
       "  'rocauc_ovr': 0.8776237615282989,\n",
       "  'rocauc_ovo': 0.8776237615282989,\n",
       "  'logloss': 2.443717084387217},\n",
       " {'accuracy': 0.766,\n",
       "  'f1_micro': 0.766,\n",
       "  'f1_macro': 0.7535419791513872,\n",
       "  'rocauc_ovr': 0.8716228184389948,\n",
       "  'rocauc_ovo': 0.8716228184389948,\n",
       "  'logloss': 2.531493740969511})"
      ]
     },
     "execution_count": 11,
     "metadata": {},
     "output_type": "execute_result"
    }
   ],
   "source": [
    "# Training. You can attach a debugger to w/e is needed inside train\n",
    "benchmarker = NNNodeBenchmarkerJL(generator_config=generator_config, model_class=GCN, \n",
    "                benchmark_params=benchmark_params, h_params=h_params, pretext_tasks=pretext_tasks)\n",
    "benchmarker.SetMasks(train_mask=dataset.train_mask, val_mask=dataset.val_mask, test_mask=dataset.test_mask)\n",
    "benchmarker.train(data=dataset, tuning_metric=\"rocauc_ovr\", tuning_metric_is_loss=False)"
   ]
  },
  {
   "cell_type": "code",
   "execution_count": null,
   "metadata": {},
   "outputs": [],
   "source": []
  }
 ],
 "metadata": {
  "kernelspec": {
   "display_name": "thesis",
   "language": "python",
   "name": "python3"
  },
  "language_info": {
   "codemirror_mode": {
    "name": "ipython",
    "version": 3
   },
   "file_extension": ".py",
   "mimetype": "text/x-python",
   "name": "python",
   "nbconvert_exporter": "python",
   "pygments_lexer": "ipython3",
   "version": "3.10.9"
  },
  "orig_nbformat": 4,
  "vscode": {
   "interpreter": {
    "hash": "c7ab25521b35298f0c482908cd2836fcd803c6b8449977de01eb4d32cc96d8dc"
   }
  }
 },
 "nbformat": 4,
 "nbformat_minor": 2
}
