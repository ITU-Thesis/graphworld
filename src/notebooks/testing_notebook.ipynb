{
 "cells": [
  {
   "attachments": {},
   "cell_type": "markdown",
   "metadata": {},
   "source": [
    "This file allows for testing the GraphWorld setup with GNN implementations.\n",
    "It is currently set up to test the SSL methods for the JL benchmarker.\n",
    "\n",
    "Through this notebook you can attach a debugger.\n",
    "Note that graph_tool does not work on windows, so we cannot use the graph generators.\n",
    "Instead, we use the standard datasets from PyG."
   ]
  },
  {
   "cell_type": "code",
   "execution_count": 1,
   "metadata": {},
   "outputs": [],
   "source": [
    "import os\n",
    "import sys\n",
    "module_path = os.path.abspath(os.path.join('..'))\n",
    "if module_path not in sys.path:\n",
    "    sys.path.append(module_path)\n",
    "\n",
    "from graph_world.nodeclassification.benchmarker_jl import NNNodeBenchmarkerJL\n",
    "from graph_world.models.basic_gnn import GCN\n",
    "from torch_geometric.datasets import Planetoid\n",
    "\n",
    "from graph_world.self_supervised_learning.pretext_tasks import *\n"
   ]
  },
  {
   "cell_type": "code",
   "execution_count": 5,
   "metadata": {},
   "outputs": [],
   "source": [
    "# Parameter setup (for cora)\n",
    "benchmark_params = {\n",
    "    'epochs' : 50,\n",
    "    'lr' : 0.01,\n",
    "    'lambda' : 0.1\n",
    "}\n",
    "\n",
    "h_params = {\n",
    "    'in_channels' : 1433,\n",
    "    'hidden_channels' : 16,\n",
    "    'num_layers' : 2,\n",
    "    'dropout' : 0.5,\n",
    "}\n",
    "\n",
    "generator_config = {\n",
    "    'num_clusters' : 7\n",
    "}\n",
    "\n",
    "pretext_tasks = [AttributeMask]"
   ]
  },
  {
   "cell_type": "code",
   "execution_count": 3,
   "metadata": {},
   "outputs": [],
   "source": [
    "# Get dataset\n",
    "dataset = Planetoid(root='/tmp/Cora', name='Cora')[0]"
   ]
  },
  {
   "cell_type": "code",
   "execution_count": 6,
   "metadata": {},
   "outputs": [
    {
     "name": "stdout",
     "output_type": "stream",
     "text": [
      "GCN(1433, 16, num_layers=2)\n"
     ]
    },
    {
     "data": {
      "text/plain": [
       "([1.9849555492401123,\n",
       "  1.9673020839691162,\n",
       "  1.9483927488327026,\n",
       "  1.9244647026062012,\n",
       "  1.8810088634490967,\n",
       "  1.856025218963623,\n",
       "  1.8042513132095337,\n",
       "  1.6971006393432617,\n",
       "  1.6066558361053467,\n",
       "  1.5060200691223145,\n",
       "  1.4890999794006348,\n",
       "  1.3490064144134521,\n",
       "  1.2708656787872314,\n",
       "  1.1845380067825317,\n",
       "  1.1998944282531738,\n",
       "  1.0237773656845093,\n",
       "  1.0110236406326294,\n",
       "  1.031519889831543,\n",
       "  0.8806058764457703,\n",
       "  0.9375529289245605,\n",
       "  0.8648079037666321,\n",
       "  0.7715449929237366,\n",
       "  0.8368549942970276,\n",
       "  0.8439077138900757,\n",
       "  0.77946937084198,\n",
       "  0.7955428957939148,\n",
       "  0.7997337579727173,\n",
       "  0.6926248073577881,\n",
       "  0.7038688659667969,\n",
       "  0.6259877681732178,\n",
       "  0.6525872945785522,\n",
       "  0.6286872625350952,\n",
       "  0.5363419055938721,\n",
       "  0.6178522109985352,\n",
       "  0.5755694508552551,\n",
       "  0.5502346754074097,\n",
       "  0.5375290513038635,\n",
       "  0.5349331498146057,\n",
       "  0.5498273372650146,\n",
       "  0.42191004753112793,\n",
       "  0.44041383266448975,\n",
       "  0.5422790050506592,\n",
       "  0.560641348361969,\n",
       "  0.523335337638855,\n",
       "  0.49497076869010925,\n",
       "  0.5568698644638062,\n",
       "  0.47357791662216187,\n",
       "  0.4991830885410309,\n",
       "  0.4589187204837799,\n",
       "  0.4446122348308563],\n",
       " {'accuracy': 0.759,\n",
       "  'f1_micro': 0.7590000000000001,\n",
       "  'f1_macro': 0.7533835663200038,\n",
       "  'rocauc_ovr': 0.8680705065215282,\n",
       "  'rocauc_ovo': 0.8680705065215282,\n",
       "  'logloss': 2.404460009755284},\n",
       " {'accuracy': 0.758,\n",
       "  'f1_micro': 0.7579999999999999,\n",
       "  'f1_macro': 0.7532149788897303,\n",
       "  'rocauc_ovr': 0.8657864294156935,\n",
       "  'rocauc_ovo': 0.8657864294156935,\n",
       "  'logloss': 2.4705164038780034})"
      ]
     },
     "execution_count": 6,
     "metadata": {},
     "output_type": "execute_result"
    }
   ],
   "source": [
    "# Training. You can attach a debugger to w/e is needed inside train\n",
    "benchmarker = NNNodeBenchmarkerJL(generator_config=generator_config, model_class=GCN, \n",
    "                benchmark_params=benchmark_params, h_params=h_params, pretext_tasks=pretext_tasks)\n",
    "benchmarker.SetMasks(train_mask=dataset.train_mask, val_mask=dataset.val_mask, test_mask=dataset.test_mask)\n",
    "benchmarker.train(data=dataset, tuning_metric=\"rocauc_ovr\", tuning_metric_is_loss=False)"
   ]
  }
 ],
 "metadata": {
  "kernelspec": {
   "display_name": "thesis",
   "language": "python",
   "name": "python3"
  },
  "language_info": {
   "codemirror_mode": {
    "name": "ipython",
    "version": 3
   },
   "file_extension": ".py",
   "mimetype": "text/x-python",
   "name": "python",
   "nbconvert_exporter": "python",
   "pygments_lexer": "ipython3",
   "version": "3.10.9"
  },
  "orig_nbformat": 4,
  "vscode": {
   "interpreter": {
    "hash": "c7ab25521b35298f0c482908cd2836fcd803c6b8449977de01eb4d32cc96d8dc"
   }
  }
 },
 "nbformat": 4,
 "nbformat_minor": 2
}
