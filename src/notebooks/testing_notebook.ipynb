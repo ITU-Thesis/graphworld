{
 "cells": [
  {
   "attachments": {},
   "cell_type": "markdown",
   "metadata": {},
   "source": [
    "This file allows for testing the GraphWorld setup with GNN implementations.\n",
    "It is currently set up to test the SSL methods for the JL benchmarker.\n",
    "\n",
    "Through this notebook you can attach a debugger.\n",
    "Note that graph_tool does not work on windows, so we cannot use the graph generators.\n",
    "Instead, we use the standard datasets from PyG."
   ]
  },
  {
   "cell_type": "code",
   "execution_count": 1,
   "metadata": {},
   "outputs": [],
   "source": [
    "import os\n",
    "import sys\n",
    "module_path = os.path.abspath(os.path.join('..'))\n",
    "if module_path not in sys.path:\n",
    "    sys.path.append(module_path)\n",
    "\n",
    "from graph_world.self_supervised_learning.benchmarker_jl import NNNodeBenchmarkerJL\n",
    "from graph_world.models.basic_gnn import GCN\n",
    "from torch_geometric.datasets import Planetoid\n",
    "\n",
    "from graph_world.self_supervised_learning.pretext_tasks import *\n"
   ]
  },
  {
   "cell_type": "code",
   "execution_count": 2,
   "metadata": {},
   "outputs": [],
   "source": [
    "# Parameter setup (for cora)\n",
    "benchmark_params = {\n",
    "    'epochs' : 50,\n",
    "    'lr' : 0.01,\n",
    "    'lambda' : 1\n",
    "}\n",
    "\n",
    "h_params = {\n",
    "    'in_channels' : 1433,\n",
    "    'hidden_channels' : 16,\n",
    "    'num_layers' : 2,\n",
    "    'dropout' : 0.5,\n",
    "    \"embedding_corruption_ratio\" : 0.1, \n",
    "    \"partial_embedding_reconstruction\" : True,\n",
    "    'n_parts': 10\n",
    "}\n",
    "\n",
    "generator_config = {\n",
    "    'num_clusters' : 7,\n",
    "}\n",
    "\n",
    "pretext_tasks = [GraphPartition]"
   ]
  },
  {
   "cell_type": "code",
   "execution_count": 3,
   "metadata": {},
   "outputs": [],
   "source": [
    "# Get dataset\n",
    "dataset = Planetoid(root='/tmp/Cora', name='Cora')[0]"
   ]
  },
  {
   "cell_type": "code",
   "execution_count": 4,
   "metadata": {},
   "outputs": [
    {
     "data": {
      "text/plain": [
       "(2708, 2708)"
      ]
     },
     "execution_count": 4,
     "metadata": {},
     "output_type": "execute_result"
    }
   ],
   "source": [
    "from torch_geometric.utils.convert import to_scipy_sparse_matrix\n",
    "to_scipy_sparse_matrix(dataset.edge_index).shape"
   ]
  },
  {
   "cell_type": "code",
   "execution_count": 5,
   "metadata": {},
   "outputs": [
    {
     "name": "stdout",
     "output_type": "stream",
     "text": [
      "GCN(1433, 16, num_layers=2)\n"
     ]
    },
    {
     "data": {
      "text/plain": [
       "([4.258224010467529,\n",
       "  4.23729944229126,\n",
       "  4.211711883544922,\n",
       "  4.181057453155518,\n",
       "  4.127908706665039,\n",
       "  4.075465202331543,\n",
       "  4.018800735473633,\n",
       "  3.915891170501709,\n",
       "  3.8260979652404785,\n",
       "  3.730095863342285,\n",
       "  3.588977336883545,\n",
       "  3.5155224800109863,\n",
       "  3.348867177963257,\n",
       "  3.319425582885742,\n",
       "  3.25412654876709,\n",
       "  3.170222520828247,\n",
       "  2.9331650733947754,\n",
       "  2.8733530044555664,\n",
       "  2.843259811401367,\n",
       "  2.819999933242798,\n",
       "  2.680835485458374,\n",
       "  2.603970766067505,\n",
       "  2.5460948944091797,\n",
       "  2.3268814086914062,\n",
       "  2.4435184001922607,\n",
       "  2.2844398021698,\n",
       "  2.4464595317840576,\n",
       "  2.362760305404663,\n",
       "  2.2298054695129395,\n",
       "  2.185845375061035,\n",
       "  2.231945037841797,\n",
       "  2.1096572875976562,\n",
       "  2.038662910461426,\n",
       "  2.0659964084625244,\n",
       "  1.9811115264892578,\n",
       "  1.9729278087615967,\n",
       "  1.7731144428253174,\n",
       "  1.8324685096740723,\n",
       "  1.9161958694458008,\n",
       "  1.8205245733261108,\n",
       "  1.7816407680511475,\n",
       "  1.7576696872711182,\n",
       "  1.805443525314331,\n",
       "  1.7843736410140991,\n",
       "  1.6408953666687012,\n",
       "  1.6870307922363281,\n",
       "  1.6735901832580566,\n",
       "  1.6995205879211426,\n",
       "  1.7207802534103394,\n",
       "  1.5890693664550781],\n",
       " {'accuracy': 0.672,\n",
       "  'f1_micro': 0.672,\n",
       "  'f1_macro': 0.6618826016003393,\n",
       "  'rocauc_ovr': 0.8339820177297202,\n",
       "  'rocauc_ovo': 0.8339820177297202,\n",
       "  'logloss': 4.924830409064889},\n",
       " {'accuracy': 0.662,\n",
       "  'f1_micro': 0.662,\n",
       "  'f1_macro': 0.6537451692898025,\n",
       "  'rocauc_ovr': 0.8370733888921077,\n",
       "  'rocauc_ovo': 0.8370733888921077,\n",
       "  'logloss': 5.21314039131999})"
      ]
     },
     "execution_count": 5,
     "metadata": {},
     "output_type": "execute_result"
    }
   ],
   "source": [
    "# Training. You can attach a debugger to w/e is needed inside train\n",
    "benchmarker = NNNodeBenchmarkerJL(generator_config=generator_config, model_class=GCN, \n",
    "                benchmark_params=benchmark_params, h_params=h_params, pretext_tasks=pretext_tasks)\n",
    "benchmarker.SetMasks(train_mask=dataset.train_mask, val_mask=dataset.val_mask, test_mask=dataset.test_mask)\n",
    "benchmarker.train(data=dataset, tuning_metric=\"rocauc_ovr\", tuning_metric_is_loss=False)"
   ]
  },
  {
   "cell_type": "code",
   "execution_count": null,
   "metadata": {},
   "outputs": [],
   "source": []
  }
 ],
 "metadata": {
  "kernelspec": {
   "display_name": "base",
   "language": "python",
   "name": "python3"
  },
  "language_info": {
   "codemirror_mode": {
    "name": "ipython",
    "version": 3
   },
   "file_extension": ".py",
   "mimetype": "text/x-python",
   "name": "python",
   "nbconvert_exporter": "python",
   "pygments_lexer": "ipython3",
   "version": "3.9.13"
  },
  "orig_nbformat": 4,
  "vscode": {
   "interpreter": {
    "hash": "4d9defa72c2715dab9f7f172572cd30a1ab1a2083462d32ef96aadb7c6e0c73b"
   }
  }
 },
 "nbformat": 4,
 "nbformat_minor": 2
}
