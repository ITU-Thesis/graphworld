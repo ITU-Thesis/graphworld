{
 "cells": [
  {
   "attachments": {},
   "cell_type": "markdown",
   "metadata": {},
   "source": [
    "This file allows for testing the GraphWorld setup with GNN implementations.\n",
    "It is currently set up to test the SSL methods for the JL benchmarker.\n",
    "\n",
    "Through this notebook you can attach a debugger.\n",
    "Note that graph_tool does not work on windows, so we cannot use the graph generators.\n",
    "Instead, we use the standard datasets from PyG."
   ]
  },
  {
   "cell_type": "code",
   "execution_count": 1,
   "metadata": {},
   "outputs": [],
   "source": [
    "import os\n",
    "import sys\n",
    "module_path = os.path.abspath(os.path.join('..'))\n",
    "if module_path not in sys.path:\n",
    "    sys.path.append(module_path)\n",
    "\n",
    "from graph_world.self_supervised_learning.benchmarker_jl import NNNodeBenchmarkerJL\n",
    "from graph_world.models.basic_gnn import GCN, SuperGAT\n",
    "from torch_geometric.datasets import Planetoid\n",
    "\n",
    "from graph_world.self_supervised_learning.pretext_tasks.generation_based import *\n"
   ]
  },
  {
   "cell_type": "code",
   "execution_count": 2,
   "metadata": {},
   "outputs": [],
   "source": [
    "# Parameter setup (for cora)\n",
    "benchmark_params = {\n",
    "    'epochs' : 50,\n",
    "    'lr' : 0.01,\n",
    "    'lambda' : 0.5\n",
    "}\n",
    "\n",
    "h_params = {\n",
    "    'in_channels' : 1433,\n",
    "    'hidden_channels' : 16,\n",
    "    'num_layers' : 2,\n",
    "    'dropout' : 0.5,\n",
    "    'edge_mask_ratio' : 0.3\n",
    "}\n",
    "\n",
    "generator_config = {\n",
    "    'num_clusters' : 7,\n",
    "}\n",
    "\n",
    "pretext_tasks = [EdgeMask]"
   ]
  },
  {
   "cell_type": "code",
   "execution_count": 3,
   "metadata": {},
   "outputs": [],
   "source": [
    "# Get dataset\n",
    "dataset = Planetoid(root='/tmp/Cora', name='Cora')[0]"
   ]
  },
  {
   "cell_type": "code",
   "execution_count": 4,
   "metadata": {},
   "outputs": [
    {
     "name": "stdout",
     "output_type": "stream",
     "text": [
      "GCN(1433, 16, num_layers=2)\n"
     ]
    },
    {
     "data": {
      "text/plain": [
       "([2.6537816524505615,\n",
       "  2.624413251876831,\n",
       "  2.5956201553344727,\n",
       "  2.5812158584594727,\n",
       "  2.5307974815368652,\n",
       "  2.4700379371643066,\n",
       "  2.4327988624572754,\n",
       "  2.3743720054626465,\n",
       "  2.3125715255737305,\n",
       "  2.2486112117767334,\n",
       "  2.1161229610443115,\n",
       "  2.039182662963867,\n",
       "  1.9125522375106812,\n",
       "  1.836040735244751,\n",
       "  1.733703851699829,\n",
       "  1.6972777843475342,\n",
       "  1.5582373142242432,\n",
       "  1.5974316596984863,\n",
       "  1.497349739074707,\n",
       "  1.402721643447876,\n",
       "  1.4374160766601562,\n",
       "  1.4730026721954346,\n",
       "  1.3112297058105469,\n",
       "  1.2888453006744385,\n",
       "  1.3025895357131958,\n",
       "  1.2284963130950928,\n",
       "  1.1566731929779053,\n",
       "  1.1827781200408936,\n",
       "  1.2713623046875,\n",
       "  1.0194432735443115,\n",
       "  1.0712332725524902,\n",
       "  1.0471159219741821,\n",
       "  1.0063486099243164,\n",
       "  0.9605315923690796,\n",
       "  0.99690842628479,\n",
       "  0.9155166149139404,\n",
       "  1.039700984954834,\n",
       "  0.9176446199417114,\n",
       "  0.8657811880111694,\n",
       "  0.837931215763092,\n",
       "  0.8789262175559998,\n",
       "  0.9885526895523071,\n",
       "  0.8928833603858948,\n",
       "  0.9445092678070068,\n",
       "  0.9821723699569702,\n",
       "  0.7828702926635742,\n",
       "  0.7874068021774292,\n",
       "  0.8993669748306274,\n",
       "  0.8573846220970154,\n",
       "  0.818376898765564],\n",
       " {'accuracy': 0.736,\n",
       "  'f1_micro': 0.736,\n",
       "  'f1_macro': 0.723969445884672,\n",
       "  'rocauc_ovr': 0.8622193888927115,\n",
       "  'rocauc_ovo': 0.8622193888927115,\n",
       "  'logloss': 2.2170648180120986},\n",
       " {'accuracy': 0.708,\n",
       "  'f1_micro': 0.708,\n",
       "  'f1_macro': 0.6951860187095101,\n",
       "  'rocauc_ovr': 0.8481237230731679,\n",
       "  'rocauc_ovo': 0.8481237230731679,\n",
       "  'logloss': 2.517101273226532})"
      ]
     },
     "execution_count": 4,
     "metadata": {},
     "output_type": "execute_result"
    }
   ],
   "source": [
    "# Training. You can attach a debugger to w/e is needed inside train\n",
    "benchmarker = NNNodeBenchmarkerJL(generator_config=generator_config, model_class=GCN, \n",
    "                benchmark_params=benchmark_params, h_params=h_params, pretext_tasks=pretext_tasks)\n",
    "benchmarker.SetMasks(train_mask=dataset.train_mask, val_mask=dataset.val_mask, test_mask=dataset.test_mask)\n",
    "benchmarker.train(data=dataset, tuning_metric=\"rocauc_ovr\", tuning_metric_is_loss=False)"
   ]
  },
  {
   "cell_type": "code",
   "execution_count": null,
   "metadata": {},
   "outputs": [],
   "source": []
  }
 ],
 "metadata": {
  "kernelspec": {
   "display_name": "thesis",
   "language": "python",
   "name": "python3"
  },
  "language_info": {
   "codemirror_mode": {
    "name": "ipython",
    "version": 3
   },
   "file_extension": ".py",
   "mimetype": "text/x-python",
   "name": "python",
   "nbconvert_exporter": "python",
   "pygments_lexer": "ipython3",
   "version": "3.10.9"
  },
  "orig_nbformat": 4,
  "vscode": {
   "interpreter": {
    "hash": "c7ab25521b35298f0c482908cd2836fcd803c6b8449977de01eb4d32cc96d8dc"
   }
  }
 },
 "nbformat": 4,
 "nbformat_minor": 2
}
