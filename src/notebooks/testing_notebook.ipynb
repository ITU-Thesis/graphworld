{
 "cells": [
  {
   "attachments": {},
   "cell_type": "markdown",
   "metadata": {},
   "source": [
    "This file allows for testing the GraphWorld setup with GNN implementations.\n",
    "It is currently set up to test the SSL methods for the JL benchmarker.\n",
    "\n",
    "Through this notebook you can attach a debugger.\n",
    "Note that graph_tool does not work on windows, so we cannot use the graph generators.\n",
    "Instead, we use the standard datasets from PyG."
   ]
  },
  {
   "cell_type": "code",
   "execution_count": null,
   "metadata": {},
   "outputs": [],
   "source": [
    "import os\n",
    "import sys\n",
    "module_path = os.path.abspath(os.path.join('..'))\n",
    "if module_path not in sys.path:\n",
    "    sys.path.append(module_path)\n",
    "\n",
    "from graph_world.self_supervised_learning.benchmarker_jl import NNNodeBenchmarkerJL\n",
    "from graph_world.models.basic_gnn import GCN\n",
    "from torch_geometric.datasets import Planetoid\n",
    "\n",
    "from graph_world.self_supervised_learning.pretext_tasks import *\n"
   ]
  },
  {
   "cell_type": "code",
   "execution_count": null,
   "metadata": {},
   "outputs": [
    {
     "ename": "NameError",
     "evalue": "name 'CorruptedEmbeddingsReconstruction' is not defined",
     "output_type": "error",
     "traceback": [
      "\u001b[1;31m---------------------------------------------------------------------------\u001b[0m",
      "\u001b[1;31mNameError\u001b[0m                                 Traceback (most recent call last)",
      "\u001b[1;32m~\\AppData\\Local\\Temp\\ipykernel_12956\\1946610490.py\u001b[0m in \u001b[0;36m<module>\u001b[1;34m\u001b[0m\n\u001b[0;32m     19\u001b[0m }\n\u001b[0;32m     20\u001b[0m \u001b[1;33m\u001b[0m\u001b[0m\n\u001b[1;32m---> 21\u001b[1;33m \u001b[0mpretext_tasks\u001b[0m \u001b[1;33m=\u001b[0m \u001b[1;33m[\u001b[0m\u001b[0mCorruptedEmbeddingsReconstruction\u001b[0m\u001b[1;33m]\u001b[0m\u001b[1;33m\u001b[0m\u001b[1;33m\u001b[0m\u001b[0m\n\u001b[0m",
      "\u001b[1;31mNameError\u001b[0m: name 'CorruptedEmbeddingsReconstruction' is not defined"
     ]
    }
   ],
   "source": [
    "# Parameter setup (for cora)\n",
    "benchmark_params = {\n",
    "    'epochs' : 50,\n",
    "    'lr' : 0.01,\n",
    "    'lambda' : 1\n",
    "}\n",
    "\n",
    "h_params = {\n",
    "    'in_channels' : 1433,\n",
    "    'hidden_channels' : 16,\n",
    "    'num_layers' : 2,\n",
    "    'dropout' : 0.5,\n",
    "    \"embedding_corruption_ratio\" : 0.1, \n",
    "    \"partial_embedding_reconstruction\" : True\n",
    "}\n",
    "\n",
    "generator_config = {\n",
    "    'num_clusters' : 7\n",
    "}\n",
    "\n",
    "pretext_tasks = [CorruptedEmbeddingsReconstruction]"
   ]
  },
  {
   "cell_type": "code",
   "execution_count": null,
   "metadata": {},
   "outputs": [],
   "source": [
    "# Get dataset\n",
    "dataset = Planetoid(root='/tmp/Cora', name='Cora')[0]"
   ]
  },
  {
   "cell_type": "code",
   "execution_count": 4,
   "metadata": {},
   "outputs": [
    {
     "name": "stdout",
     "output_type": "stream",
     "text": [
      "GCN(1433, 16, num_layers=2)\n"
     ]
    },
    {
     "data": {
      "text/plain": [
       "([2.0760700702667236,\n",
       "  2.0044093132019043,\n",
       "  1.987534523010254,\n",
       "  1.9458147287368774,\n",
       "  1.9269682168960571,\n",
       "  1.9112441539764404,\n",
       "  1.8772671222686768,\n",
       "  1.8513157367706299,\n",
       "  1.8210457563400269,\n",
       "  1.7912354469299316,\n",
       "  1.7470089197158813,\n",
       "  1.6758590936660767,\n",
       "  1.5912013053894043,\n",
       "  1.5964360237121582,\n",
       "  1.4586825370788574,\n",
       "  1.4656621217727661,\n",
       "  1.411342978477478,\n",
       "  1.3999435901641846,\n",
       "  1.2984179258346558,\n",
       "  1.2486016750335693,\n",
       "  1.137729525566101,\n",
       "  1.0697301626205444,\n",
       "  1.0467299222946167,\n",
       "  0.9827516674995422,\n",
       "  1.006561517715454,\n",
       "  1.1194157600402832,\n",
       "  0.850692093372345,\n",
       "  0.8762112855911255,\n",
       "  0.9030970335006714,\n",
       "  0.7201496362686157,\n",
       "  0.7467393279075623,\n",
       "  0.8658332228660583,\n",
       "  0.8404584527015686,\n",
       "  0.7336710095405579,\n",
       "  0.7520580887794495,\n",
       "  0.5995291471481323,\n",
       "  0.7010443210601807,\n",
       "  0.6454289555549622,\n",
       "  0.5717145800590515,\n",
       "  0.662835419178009,\n",
       "  0.5634177923202515,\n",
       "  0.6238008141517639,\n",
       "  0.41033297777175903,\n",
       "  0.4414980411529541,\n",
       "  0.5541046857833862,\n",
       "  0.5083893537521362,\n",
       "  0.49524155259132385,\n",
       "  0.4856005311012268,\n",
       "  0.5510361790657043,\n",
       "  0.5421011447906494],\n",
       " {'accuracy': 0.756,\n",
       "  'f1_micro': 0.756,\n",
       "  'f1_macro': 0.7458367165993047,\n",
       "  'rocauc_ovr': 0.8619769849632746,\n",
       "  'rocauc_ovo': 0.8619769849632746,\n",
       "  'logloss': 2.178889093794034},\n",
       " {'accuracy': 0.75,\n",
       "  'f1_micro': 0.75,\n",
       "  'f1_macro': 0.7484178672042378,\n",
       "  'rocauc_ovr': 0.865326973838168,\n",
       "  'rocauc_ovo': 0.865326973838168,\n",
       "  'logloss': 2.2913647456284605})"
      ]
     },
     "execution_count": 4,
     "metadata": {},
     "output_type": "execute_result"
    }
   ],
   "source": [
    "# Training. You can attach a debugger to w/e is needed inside train\n",
    "benchmarker = NNNodeBenchmarkerJL(generator_config=generator_config, model_class=GCN, \n",
    "                benchmark_params=benchmark_params, h_params=h_params, pretext_tasks=pretext_tasks)\n",
    "benchmarker.SetMasks(train_mask=dataset.train_mask, val_mask=dataset.val_mask, test_mask=dataset.test_mask)\n",
    "benchmarker.train(data=dataset, tuning_metric=\"rocauc_ovr\", tuning_metric_is_loss=False)"
   ]
  },
  {
   "cell_type": "code",
   "execution_count": null,
   "metadata": {},
   "outputs": [],
   "source": []
  }
 ],
 "metadata": {
  "kernelspec": {
   "display_name": "thesis",
   "language": "python",
   "name": "python3"
  },
  "language_info": {
   "codemirror_mode": {
    "name": "ipython",
    "version": 3
   },
   "file_extension": ".py",
   "mimetype": "text/x-python",
   "name": "python",
   "nbconvert_exporter": "python",
   "pygments_lexer": "ipython3",
   "version": "3.10.9"
  },
  "orig_nbformat": 4,
  "vscode": {
   "interpreter": {
    "hash": "c7ab25521b35298f0c482908cd2836fcd803c6b8449977de01eb4d32cc96d8dc"
   }
  }
 },
 "nbformat": 4,
 "nbformat_minor": 2
}
