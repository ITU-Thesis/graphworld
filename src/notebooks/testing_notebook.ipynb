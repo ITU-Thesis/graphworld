{
 "cells": [
  {
   "attachments": {},
   "cell_type": "markdown",
   "metadata": {},
   "source": [
    "This file allows for testing the GraphWorld setup with GNN implementations.\n",
    "It is currently set up to test the SSL methods for the JL benchmarker.\n",
    "\n",
    "Through this notebook you can attach a debugger.\n",
    "Note that graph_tool does not work on windows, so we cannot use the graph generators.\n",
    "Instead, we use the standard datasets from PyG."
   ]
  },
  {
   "cell_type": "code",
   "execution_count": 1,
   "metadata": {},
   "outputs": [],
   "source": [
    "import os\n",
    "import sys\n",
    "module_path = os.path.abspath(os.path.join('..'))\n",
    "if module_path not in sys.path:\n",
    "    sys.path.append(module_path)\n",
    "\n",
    "from graph_world.self_supervised_learning.benchmarker_jl import NNNodeBenchmarkerJL\n",
    "from graph_world.models.basic_gnn import GCN, SuperGAT\n",
    "from torch_geometric.datasets import Planetoid\n",
    "\n",
    "from graph_world.self_supervised_learning.pretext_tasks.contrastive_based import *\n"
   ]
  },
  {
   "cell_type": "code",
   "execution_count": 2,
   "metadata": {},
   "outputs": [],
   "source": [
    "# Parameter setup (for cora)\n",
    "benchmark_params = {\n",
    "    'epochs' : 50,\n",
    "    'lr' : 0.01,\n",
    "    'lambda' : 1\n",
    "}\n",
    "\n",
    "h_params = {\n",
    "    'in_channels' : 1433,\n",
    "    'hidden_channels' : 16,\n",
    "    'num_layers' : 2,\n",
    "    'dropout' : 0.5,\n",
    "    'alpha' : 0.15\n",
    "}\n",
    "\n",
    "generator_config = {\n",
    "    'num_clusters' : 7,\n",
    "}\n",
    "\n",
    "pretext_task = SelfGNNPPR"
   ]
  },
  {
   "cell_type": "code",
   "execution_count": 3,
   "metadata": {},
   "outputs": [],
   "source": [
    "# Get dataset\n",
    "dataset = Planetoid(root='/tmp/Cora', name='Cora')[0]"
   ]
  },
  {
   "cell_type": "code",
   "execution_count": 4,
   "metadata": {},
   "outputs": [
    {
     "name": "stdout",
     "output_type": "stream",
     "text": [
      "GCN(1433, 16, num_layers=2)\n"
     ]
    },
    {
     "data": {
      "text/plain": [
       "([1.9559522867202759,\n",
       "  1.9413615465164185,\n",
       "  1.9273747205734253,\n",
       "  1.9021227359771729,\n",
       "  1.880773663520813,\n",
       "  1.8432104587554932,\n",
       "  1.8234498500823975,\n",
       "  1.7274941205978394,\n",
       "  1.675790786743164,\n",
       "  1.6333739757537842,\n",
       "  1.533294677734375,\n",
       "  1.4951980113983154,\n",
       "  1.4106639623641968,\n",
       "  1.4075807332992554,\n",
       "  1.2538739442825317,\n",
       "  1.0828132629394531,\n",
       "  1.068031907081604,\n",
       "  1.081271767616272,\n",
       "  0.9871228933334351,\n",
       "  0.9852614402770996,\n",
       "  0.9110754728317261,\n",
       "  0.8105113506317139,\n",
       "  0.6694647669792175,\n",
       "  0.8084251284599304,\n",
       "  0.7721043825149536,\n",
       "  0.755142867565155,\n",
       "  0.5906595587730408,\n",
       "  0.6583021879196167,\n",
       "  0.5190403461456299,\n",
       "  0.6367490291595459,\n",
       "  0.5755116939544678,\n",
       "  0.5187165141105652,\n",
       "  0.5578628182411194,\n",
       "  0.5001803040504456,\n",
       "  0.44542211294174194,\n",
       "  0.4622970521450043,\n",
       "  0.4742157459259033,\n",
       "  0.40356969833374023,\n",
       "  0.4278590977191925,\n",
       "  0.4216104745864868,\n",
       "  0.4633737802505493,\n",
       "  0.3751392364501953,\n",
       "  0.4379461705684662,\n",
       "  0.4109773635864258,\n",
       "  0.3207378387451172,\n",
       "  0.26737162470817566,\n",
       "  0.34000682830810547,\n",
       "  0.4570992588996887,\n",
       "  0.364960253238678,\n",
       "  0.44315198063850403],\n",
       " {'accuracy': 0.762,\n",
       "  'f1_micro': 0.762,\n",
       "  'f1_macro': 0.756672503794318,\n",
       "  'rocauc_ovr': 0.8664205235334383,\n",
       "  'rocauc_ovo': 0.8664205235334383,\n",
       "  'logloss': 2.166734172691088},\n",
       " {'accuracy': 0.742,\n",
       "  'f1_micro': 0.7419999999999999,\n",
       "  'f1_macro': 0.7297959052431027,\n",
       "  'rocauc_ovr': 0.8547642900960897,\n",
       "  'rocauc_ovo': 0.8547642900960897,\n",
       "  'logloss': 2.485113833364669})"
      ]
     },
     "execution_count": 4,
     "metadata": {},
     "output_type": "execute_result"
    }
   ],
   "source": [
    "# Training. You can attach a debugger to w/e is needed inside train\n",
    "benchmarker = NNNodeBenchmarkerJL(generator_config=generator_config, model_class=GCN, \n",
    "                benchmark_params=benchmark_params, h_params=h_params, pretext_task=pretext_task)\n",
    "benchmarker.SetMasks(train_mask=dataset.train_mask, val_mask=dataset.val_mask, test_mask=dataset.test_mask)\n",
    "benchmarker.train(data=dataset, tuning_metric=\"rocauc_ovr\", tuning_metric_is_loss=False)"
   ]
  },
  {
   "cell_type": "code",
   "execution_count": null,
   "metadata": {},
   "outputs": [],
   "source": []
  }
 ],
 "metadata": {
  "kernelspec": {
   "display_name": "thesis",
   "language": "python",
   "name": "python3"
  },
  "language_info": {
   "codemirror_mode": {
    "name": "ipython",
    "version": 3
   },
   "file_extension": ".py",
   "mimetype": "text/x-python",
   "name": "python",
   "nbconvert_exporter": "python",
   "pygments_lexer": "ipython3",
   "version": "3.10.9"
  },
  "orig_nbformat": 4,
  "vscode": {
   "interpreter": {
    "hash": "c7ab25521b35298f0c482908cd2836fcd803c6b8449977de01eb4d32cc96d8dc"
   }
  }
 },
 "nbformat": 4,
 "nbformat_minor": 2
}
