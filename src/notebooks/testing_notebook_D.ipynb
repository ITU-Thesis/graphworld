{
 "cells": [
  {
   "attachments": {},
   "cell_type": "markdown",
   "metadata": {},
   "source": [
    "This file allows for testing the GraphWorld setup with GNN implementations.\n",
    "It is currently set up to test the SSL methods for the JL benchmarker.\n",
    "\n",
    "Through this notebook you can attach a debugger.\n",
    "Note that graph_tool does not work on windows, so we cannot use the graph generators.\n",
    "Instead, we use the standard datasets from PyG."
   ]
  },
  {
   "cell_type": "code",
   "execution_count": 1,
   "metadata": {},
   "outputs": [],
   "source": [
    "import os\n",
    "import sys\n",
    "module_path = os.path.abspath(os.path.join('..'))\n",
    "if module_path not in sys.path:\n",
    "    sys.path.append(module_path)\n",
    "\n",
    "from graph_world.self_supervised_learning.benchmarker_jl import NNNodeBenchmarkerJL\n",
    "from graph_world.models.basic_gnn import GCN\n",
    "from torch_geometric.datasets import Planetoid\n",
    "\n",
    "from graph_world.self_supervised_learning.pretext_tasks.auxiliary_property_based import *"
   ]
  },
  {
   "cell_type": "code",
   "execution_count": 2,
   "metadata": {},
   "outputs": [],
   "source": [
    "# Parameter setup (for cora)\n",
    "benchmark_params = {\n",
    "    'epochs' : 50,\n",
    "    'lr' : 0.01,\n",
    "    'lambda' : 1\n",
    "}\n",
    "\n",
    "h_params = {\n",
    "    'in_channels' : 1433,\n",
    "    'hidden_channels' : 16,\n",
    "    'num_layers' : 2,\n",
    "    'dropout' : 0.5,\n",
    "    \"embedding_corruption_ratio\" : 0.1, \n",
    "    \"partial_embedding_reconstruction\" : True,\n",
    "    'n_parts': 10,\n",
    "    'shortest_path_cutoff': 6,\n",
    "    'N_classes': 4,\n",
    "    'k_largest': 20\n",
    "}\n",
    "\n",
    "generator_config = {\n",
    "    'num_clusters' : 7,\n",
    "}\n",
    "\n",
    "pretext_tasks = [PairwiseAttrSim]"
   ]
  },
  {
   "cell_type": "code",
   "execution_count": 3,
   "metadata": {},
   "outputs": [],
   "source": [
    "# Get dataset\n",
    "dataset = Planetoid(root='/tmp/Cora', name='Cora')[0]\n",
    "# dataset = KarateClub()[0]\n"
   ]
  },
  {
   "cell_type": "code",
   "execution_count": 4,
   "metadata": {},
   "outputs": [],
   "source": [
    "import torch\n",
    "def get_top_k_indices(input: torch.Tensor, k : int, largest : bool = True):\n",
    "    '''\n",
    "    Get the indices of the top K elements.\n",
    "\n",
    "    Params\n",
    "    ------\n",
    "    input:\n",
    "        The tensor to find the top k elements\n",
    "    k:\n",
    "        The number of top elements to find\n",
    "    largest:\n",
    "        Whether to find the largest or smallest\n",
    "\n",
    "    Returns\n",
    "    -------\n",
    "    (row_indices, col_indices) where input[row_indices, col_indices] returns the top k elements.\n",
    "\n",
    "    '''\n",
    "    assert input.dim() == 2\n",
    "    N_cols = input.shape[1]\n",
    "    \n",
    "    top_k_indices = input.view(-1).topk(k=k, largest=largest).indices\n",
    "    \n",
    "    row = torch.div(top_k_indices, N_cols, rounding_mode='floor')\n",
    "    col = top_k_indices % N_cols\n",
    "    return row, col"
   ]
  },
  {
   "cell_type": "code",
   "execution_count": 5,
   "metadata": {},
   "outputs": [],
   "source": [
    "from sklearn.metrics.pairwise import cosine_similarity\n",
    "\n",
    "A = torch.tensor([\n",
    "    [1, 2, 3],\n",
    "    [-1, 2, 3],\n",
    "    [-5, -4, -3]\n",
    "])\n",
    "\n"
   ]
  },
  {
   "cell_type": "code",
   "execution_count": 6,
   "metadata": {},
   "outputs": [
    {
     "name": "stdout",
     "output_type": "stream",
     "text": [
      "GCN(1433, 16, num_layers=2)\n"
     ]
    },
    {
     "data": {
      "text/plain": [
       "([2.563347578048706,\n",
       "  2.530860424041748,\n",
       "  2.490342617034912,\n",
       "  2.4498486518859863,\n",
       "  2.420605182647705,\n",
       "  2.3336455821990967,\n",
       "  2.1527934074401855,\n",
       "  2.1563191413879395,\n",
       "  2.2057878971099854,\n",
       "  1.9645298719406128,\n",
       "  1.9243029356002808,\n",
       "  2.1821017265319824,\n",
       "  1.8355568647384644,\n",
       "  1.8805077075958252,\n",
       "  1.8921842575073242,\n",
       "  1.7479959726333618,\n",
       "  1.6475868225097656,\n",
       "  1.727056622505188,\n",
       "  1.5740995407104492,\n",
       "  1.5220037698745728,\n",
       "  1.4906378984451294,\n",
       "  1.4472354650497437,\n",
       "  1.424708366394043,\n",
       "  1.2783381938934326,\n",
       "  1.2113617658615112,\n",
       "  1.23779296875,\n",
       "  1.1917037963867188,\n",
       "  1.1693215370178223,\n",
       "  1.1046885251998901,\n",
       "  1.0020866394042969,\n",
       "  1.1463239192962646,\n",
       "  1.0595877170562744,\n",
       "  0.9388185143470764,\n",
       "  0.8834372758865356,\n",
       "  1.0160521268844604,\n",
       "  0.8465023636817932,\n",
       "  0.9598731994628906,\n",
       "  0.8512958288192749,\n",
       "  0.9035521745681763,\n",
       "  0.7628231048583984,\n",
       "  0.7518360614776611,\n",
       "  0.7520517110824585,\n",
       "  0.777840793132782,\n",
       "  0.8024308681488037,\n",
       "  0.6934787034988403,\n",
       "  0.6656278371810913,\n",
       "  0.7641135454177856,\n",
       "  0.6898728609085083,\n",
       "  0.6603579521179199,\n",
       "  0.5852707028388977],\n",
       " {'accuracy': 0.714,\n",
       "  'f1_micro': 0.714,\n",
       "  'f1_macro': 0.7141082659654455,\n",
       "  'rocauc_ovr': 0.8483369890403887,\n",
       "  'rocauc_ovo': 0.8483369890403887,\n",
       "  'logloss': 3.2404577227830886},\n",
       " {'accuracy': 0.688,\n",
       "  'f1_micro': 0.688,\n",
       "  'f1_macro': 0.6850789426923223,\n",
       "  'rocauc_ovr': 0.8331544825407071,\n",
       "  'rocauc_ovo': 0.8331544825407071,\n",
       "  'logloss': 3.807246783852577})"
      ]
     },
     "execution_count": 6,
     "metadata": {},
     "output_type": "execute_result"
    }
   ],
   "source": [
    "# Training. You can attach a debugger to w/e is needed inside train\n",
    "benchmarker = NNNodeBenchmarkerJL(generator_config=generator_config, model_class=GCN, \n",
    "                benchmark_params=benchmark_params, h_params=h_params, pretext_tasks=pretext_tasks)\n",
    "# benchmarker.SetMasks(train_mask=dataset.train_mask, val_mask=~dataset.train_mask, test_mask=~dataset.train_mask)\n",
    "benchmarker.SetMasks(train_mask=dataset.train_mask, val_mask=dataset.val_mask, test_mask=dataset.test_mask)\n",
    "benchmarker.train(data=dataset, tuning_metric=\"rocauc_ovr\", tuning_metric_is_loss=False)"
   ]
  },
  {
   "cell_type": "code",
   "execution_count": null,
   "metadata": {},
   "outputs": [],
   "source": []
  }
 ],
 "metadata": {
  "kernelspec": {
   "display_name": "base",
   "language": "python",
   "name": "python3"
  },
  "language_info": {
   "codemirror_mode": {
    "name": "ipython",
    "version": 3
   },
   "file_extension": ".py",
   "mimetype": "text/x-python",
   "name": "python",
   "nbconvert_exporter": "python",
   "pygments_lexer": "ipython3",
   "version": "3.9.13"
  },
  "orig_nbformat": 4,
  "vscode": {
   "interpreter": {
    "hash": "4d9defa72c2715dab9f7f172572cd30a1ab1a2083462d32ef96aadb7c6e0c73b"
   }
  }
 },
 "nbformat": 4,
 "nbformat_minor": 2
}
