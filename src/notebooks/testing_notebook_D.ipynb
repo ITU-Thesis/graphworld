{
 "cells": [
  {
   "attachments": {},
   "cell_type": "markdown",
   "metadata": {},
   "source": [
    "This file allows for testing the GraphWorld setup with GNN implementations.\n",
    "It is currently set up to test the SSL methods for the JL benchmarker.\n",
    "\n",
    "Through this notebook you can attach a debugger.\n",
    "Note that graph_tool does not work on windows, so we cannot use the graph generators.\n",
    "Instead, we use the standard datasets from PyG."
   ]
  },
  {
   "cell_type": "code",
   "execution_count": 1,
   "metadata": {},
   "outputs": [
    {
     "ename": "ModuleNotFoundError",
     "evalue": "No module named 'graphworld'",
     "output_type": "error",
     "traceback": [
      "\u001b[1;31m---------------------------------------------------------------------------\u001b[0m",
      "\u001b[1;31mModuleNotFoundError\u001b[0m                       Traceback (most recent call last)",
      "\u001b[1;32m~\\AppData\\Local\\Temp\\ipykernel_25688\\655908292.py\u001b[0m in \u001b[0;36m<module>\u001b[1;34m\u001b[0m\n\u001b[0;32m     10\u001b[0m \u001b[1;33m\u001b[0m\u001b[0m\n\u001b[0;32m     11\u001b[0m \u001b[1;32mfrom\u001b[0m \u001b[0mgraph_world\u001b[0m\u001b[1;33m.\u001b[0m\u001b[0mself_supervised_learning\u001b[0m\u001b[1;33m.\u001b[0m\u001b[0mpretext_tasks\u001b[0m\u001b[1;33m.\u001b[0m\u001b[0mauxiliary_property_based\u001b[0m \u001b[1;32mimport\u001b[0m \u001b[1;33m*\u001b[0m\u001b[1;33m\u001b[0m\u001b[1;33m\u001b[0m\u001b[0m\n\u001b[1;32m---> 12\u001b[1;33m \u001b[1;32mfrom\u001b[0m \u001b[0mgraph_world\u001b[0m\u001b[1;33m.\u001b[0m\u001b[0mself_supervised_learning\u001b[0m\u001b[1;33m.\u001b[0m\u001b[0mpretext_tasks\u001b[0m\u001b[1;33m.\u001b[0m\u001b[0mcontrastive_based_different_scale\u001b[0m \u001b[1;32mimport\u001b[0m \u001b[1;33m*\u001b[0m\u001b[1;33m\u001b[0m\u001b[1;33m\u001b[0m\u001b[0m\n\u001b[0m",
      "\u001b[1;32mc:\\Users\\danie\\OneDrive\\graphworld\\src\\graph_world\\self_supervised_learning\\pretext_tasks\\contrastive_based_different_scale.py\u001b[0m in \u001b[0;36m<module>\u001b[1;34m\u001b[0m\n\u001b[0;32m      3\u001b[0m \u001b[1;32mimport\u001b[0m \u001b[0mtorch\u001b[0m\u001b[1;33m.\u001b[0m\u001b[0mnn\u001b[0m\u001b[1;33m\u001b[0m\u001b[1;33m\u001b[0m\u001b[0m\n\u001b[0;32m      4\u001b[0m \u001b[1;32mimport\u001b[0m \u001b[0mgin\u001b[0m\u001b[1;33m\u001b[0m\u001b[1;33m\u001b[0m\u001b[0m\n\u001b[1;32m----> 5\u001b[1;33m \u001b[1;32mfrom\u001b[0m \u001b[0mgraphworld\u001b[0m\u001b[1;33m.\u001b[0m\u001b[0msrc\u001b[0m\u001b[1;33m.\u001b[0m\u001b[0mgraph_world\u001b[0m\u001b[1;33m.\u001b[0m\u001b[0mself_supervised_learning\u001b[0m\u001b[1;33m.\u001b[0m\u001b[0mpretext_tasks\u001b[0m\u001b[1;33m.\u001b[0m\u001b[0mbasic_pretext_task\u001b[0m \u001b[1;32mimport\u001b[0m \u001b[0mBasicPretextTask\u001b[0m\u001b[1;33m\u001b[0m\u001b[1;33m\u001b[0m\u001b[0m\n\u001b[0m\u001b[0;32m      6\u001b[0m \u001b[1;33m\u001b[0m\u001b[0m\n\u001b[0;32m      7\u001b[0m \u001b[1;33m\u001b[0m\u001b[0m\n",
      "\u001b[1;31mModuleNotFoundError\u001b[0m: No module named 'graphworld'"
     ]
    }
   ],
   "source": [
    "import os\n",
    "import sys\n",
    "module_path = os.path.abspath(os.path.join('..'))\n",
    "if module_path not in sys.path:\n",
    "    sys.path.append(module_path)\n",
    "\n",
    "from graph_world.self_supervised_learning.benchmarker_jl import NNNodeBenchmarkerJL\n",
    "from graph_world.models.basic_gnn import GCN\n",
    "from torch_geometric.datasets import Planetoid\n",
    "\n",
    "from graph_world.self_supervised_learning.pretext_tasks.auxiliary_property_based import *\n",
    "from graph_world.self_supervised_learning.pretext_tasks.contrastive_based_different_scale import *"
   ]
  },
  {
   "cell_type": "code",
   "execution_count": null,
   "metadata": {},
   "outputs": [],
   "source": [
    "# Parameter setup (for cora)\n",
    "benchmark_params = {\n",
    "    'epochs' : 50,\n",
    "    'lr' : 0.01,\n",
    "    'lambda' : 1\n",
    "}\n",
    "\n",
    "h_params = {\n",
    "    'in_channels' : 1433,\n",
    "    'hidden_channels' : 16,\n",
    "    'num_layers' : 2,\n",
    "    'dropout' : 0.5,\n",
    "    \"embedding_corruption_ratio\" : 0.1, \n",
    "    \"partial_embedding_reconstruction\" : True,\n",
    "    'n_parts': 10,\n",
    "    'shortest_path_cutoff': 6,\n",
    "    'N_classes': 4,\n",
    "    'k_largest': 20\n",
    "}\n",
    "\n",
    "generator_config = {\n",
    "    'num_clusters' : 7,\n",
    "}\n",
    "\n",
    "pretext_tasks = [DeepGraphInfomax]"
   ]
  },
  {
   "cell_type": "code",
   "execution_count": null,
   "metadata": {},
   "outputs": [],
   "source": [
    "# Get dataset\n",
    "dataset = Planetoid(root='/tmp/Cora', name='Cora')[0]\n",
    "# dataset = KarateClub()[0]\n"
   ]
  },
  {
   "cell_type": "code",
   "execution_count": null,
   "metadata": {},
   "outputs": [
    {
     "name": "stdout",
     "output_type": "stream",
     "text": [
      "GCN(1433, 16, num_layers=2)\n"
     ]
    },
    {
     "data": {
      "text/plain": [
       "([2.573589324951172,\n",
       "  2.4835891723632812,\n",
       "  2.3994874954223633,\n",
       "  2.282182216644287,\n",
       "  2.1765356063842773,\n",
       "  2.2234225273132324,\n",
       "  2.1786258220672607,\n",
       "  2.261712074279785,\n",
       "  2.0909698009490967,\n",
       "  2.0249524116516113,\n",
       "  2.070204734802246,\n",
       "  1.9639207124710083,\n",
       "  1.9363347291946411,\n",
       "  1.922866940498352,\n",
       "  1.8904564380645752,\n",
       "  1.7580641508102417,\n",
       "  1.793889045715332,\n",
       "  1.6815543174743652,\n",
       "  1.648980736732483,\n",
       "  1.6251152753829956,\n",
       "  1.6130006313323975,\n",
       "  1.5304874181747437,\n",
       "  1.4397372007369995,\n",
       "  1.394917607307434,\n",
       "  1.2577646970748901,\n",
       "  1.2471213340759277,\n",
       "  1.3332464694976807,\n",
       "  1.1674727201461792,\n",
       "  1.138140082359314,\n",
       "  1.2126522064208984,\n",
       "  1.106448769569397,\n",
       "  0.9683606028556824,\n",
       "  1.0529459714889526,\n",
       "  1.0330358743667603,\n",
       "  1.0828191041946411,\n",
       "  1.0333178043365479,\n",
       "  0.8977891802787781,\n",
       "  0.8997482061386108,\n",
       "  0.8376862406730652,\n",
       "  0.9061324596405029,\n",
       "  0.759553074836731,\n",
       "  0.8016982078552246,\n",
       "  0.762355625629425,\n",
       "  0.7039662599563599,\n",
       "  0.7855474948883057,\n",
       "  0.661488950252533,\n",
       "  0.7492747902870178,\n",
       "  0.6647112369537354,\n",
       "  0.8472741842269897,\n",
       "  0.6738260984420776],\n",
       " {'accuracy': 0.685,\n",
       "  'f1_micro': 0.685,\n",
       "  'f1_macro': 0.6940632592544459,\n",
       "  'rocauc_ovr': 0.8393219567434214,\n",
       "  'rocauc_ovo': 0.8393219567434214,\n",
       "  'logloss': 4.007309592276812},\n",
       " {'accuracy': 0.678,\n",
       "  'f1_micro': 0.678,\n",
       "  'f1_macro': 0.6788237505708514,\n",
       "  'rocauc_ovr': 0.8327183688665011,\n",
       "  'rocauc_ovo': 0.8327183688665011,\n",
       "  'logloss': 3.926102755367756})"
      ]
     },
     "execution_count": 6,
     "metadata": {},
     "output_type": "execute_result"
    }
   ],
   "source": [
    "# Training. You can attach a debugger to w/e is needed inside train\n",
    "benchmarker = NNNodeBenchmarkerJL(generator_config=generator_config, model_class=GCN, \n",
    "                benchmark_params=benchmark_params, h_params=h_params, pretext_tasks=pretext_tasks)\n",
    "# benchmarker.SetMasks(train_mask=dataset.train_mask, val_mask=~dataset.train_mask, test_mask=~dataset.train_mask)\n",
    "benchmarker.SetMasks(train_mask=dataset.train_mask, val_mask=dataset.val_mask, test_mask=dataset.test_mask)\n",
    "benchmarker.train(data=dataset, tuning_metric=\"rocauc_ovr\", tuning_metric_is_loss=False)"
   ]
  },
  {
   "cell_type": "code",
   "execution_count": 36,
   "metadata": {},
   "outputs": [
    {
     "data": {
      "text/plain": [
       "tensor([[ 1.,  2.,  3.],\n",
       "        [ 0.,  0.,  0.],\n",
       "        [-1., -2., -3.]])"
      ]
     },
     "execution_count": 36,
     "metadata": {},
     "output_type": "execute_result"
    }
   ],
   "source": [
    "x = torch.tensor([\n",
    "    [-1., -2., -3.],\n",
    "    [1., 2., 3.],\n",
    "    [0., 0., 0.]\n",
    "])\n",
    "x[torch.randperm(x.size()[0]),:]"
   ]
  }
 ],
 "metadata": {
  "kernelspec": {
   "display_name": "base",
   "language": "python",
   "name": "python3"
  },
  "language_info": {
   "codemirror_mode": {
    "name": "ipython",
    "version": 3
   },
   "file_extension": ".py",
   "mimetype": "text/x-python",
   "name": "python",
   "nbconvert_exporter": "python",
   "pygments_lexer": "ipython3",
   "version": "3.9.13"
  },
  "orig_nbformat": 4,
  "vscode": {
   "interpreter": {
    "hash": "4d9defa72c2715dab9f7f172572cd30a1ab1a2083462d32ef96aadb7c6e0c73b"
   }
  }
 },
 "nbformat": 4,
 "nbformat_minor": 2
}
