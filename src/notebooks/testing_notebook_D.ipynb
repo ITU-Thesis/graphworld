{
 "cells": [
  {
   "attachments": {},
   "cell_type": "markdown",
   "metadata": {},
   "source": [
    "This file allows for testing the GraphWorld setup with GNN implementations.\n",
    "It is currently set up to test the SSL methods for the JL benchmarker.\n",
    "\n",
    "Through this notebook you can attach a debugger.\n",
    "Note that graph_tool does not work on windows, so we cannot use the graph generators.\n",
    "Instead, we use the standard datasets from PyG."
   ]
  },
  {
   "cell_type": "code",
   "execution_count": 2,
   "metadata": {},
   "outputs": [],
   "source": [
    "import os\n",
    "import sys\n",
    "module_path = os.path.abspath(os.path.join('..'))\n",
    "if module_path not in sys.path:\n",
    "    sys.path.append(module_path)\n",
    "\n",
    "from graph_world.self_supervised_learning.benchmarker_jl import NNNodeBenchmarkerJL\n",
    "from graph_world.models.basic_gnn import GCN\n",
    "from torch_geometric.datasets import Planetoid\n",
    "\n",
    "from graph_world.self_supervised_learning.pretext_tasks.auxiliary_property_based import *\n",
    "from graph_world.self_supervised_learning.pretext_tasks.contrastive_based_different_scale import *\n",
    "from graph_world.self_supervised_learning.tensor_utils import get_top_k_indices"
   ]
  },
  {
   "cell_type": "code",
   "execution_count": 105,
   "metadata": {},
   "outputs": [
    {
     "name": "stderr",
     "output_type": "stream",
     "text": [
      "Using maximize_memory_utilization on non-CUDA tensors. This may lead to undocumented crashes due to CPU OOM killer.\n"
     ]
    },
    {
     "data": {
      "text/plain": [
       "(tensor([[1, 0],\n",
       "         [1, 2],\n",
       "         [2, 1],\n",
       "         [1, 3],\n",
       "         [2, 1]]),\n",
       " tensor([[0.2158, 0.3861, 0.1946, 0.1158, 0.0876],\n",
       "         [0.1287, 0.4289, 0.2163, 0.1287, 0.0973],\n",
       "         [0.0973, 0.3245, 0.3316, 0.0973, 0.1493],\n",
       "         [0.1158, 0.3861, 0.1946, 0.2158, 0.0876],\n",
       "         [0.0876, 0.2920, 0.2985, 0.0876, 0.2343]]))"
      ]
     },
     "execution_count": 105,
     "metadata": {},
     "output_type": "execute_result"
    }
   ],
   "source": [
    "import torch\n",
    "from torch_ppr import personalized_page_rank\n",
    "edge_index = torch.as_tensor(data=[(0, 1), (1, 2), (1, 3), (2, 4)]).t()\n",
    "device = torch.device('cpu')\n",
    "S = personalized_page_rank(edge_index=edge_index, alpha=0.1, device=device)\n",
    "I = S.topk(2, dim=1).indices\n",
    "I, S"
   ]
  },
  {
   "cell_type": "code",
   "execution_count": 124,
   "metadata": {},
   "outputs": [
    {
     "data": {
      "text/plain": [
       "tensor([ True,  True, False,  True,  True])"
      ]
     },
     "execution_count": 124,
     "metadata": {},
     "output_type": "execute_result"
    }
   ],
   "source": [
    "X = torch.tensor([\n",
    "    [1, 1, 1],\n",
    "    [1, 1, 1],\n",
    "    [2, 2, 2],\n",
    "    [3, 3, 3],\n",
    "    [4, 4, 4]\n",
    "])\n",
    "\n",
    "indices = torch.tensor([True] * 5)\n",
    "i = [2]\n",
    "\n",
    "indices[i] = False\n",
    "X[indices, :] = 0\n",
    "indices.clone()"
   ]
  },
  {
   "cell_type": "code",
   "execution_count": 125,
   "metadata": {},
   "outputs": [
    {
     "data": {
      "text/plain": [
       "tensor([True, True, True, True, True])"
      ]
     },
     "execution_count": 125,
     "metadata": {},
     "output_type": "execute_result"
    }
   ],
   "source": [
    "torch.ones(5, dtype=torch.bool)"
   ]
  },
  {
   "cell_type": "code",
   "execution_count": null,
   "metadata": {},
   "outputs": [],
   "source": [
    "import torch_geometric\n",
    "\n"
   ]
  },
  {
   "cell_type": "code",
   "execution_count": 128,
   "metadata": {},
   "outputs": [
    {
     "name": "stdout",
     "output_type": "stream",
     "text": [
      "tensor([False,  True, False,  True])\n"
     ]
    }
   ],
   "source": [
    "from torch_geometric.utils import subgraph\n",
    "\n",
    "K = 5\n",
    "for i in range(5):\n",
    "    idx, _, mask = subgraph([4, 2, 1], edge_index=edge_index, num_nodes=K, return_edge_mask=True)\n",
    "    \n",
    "    print(mask)\n",
    "    break"
   ]
  },
  {
   "cell_type": "code",
   "execution_count": 79,
   "metadata": {},
   "outputs": [
    {
     "ename": "IndexError",
     "evalue": "index 2 is out of bounds for dimension 0 with size 2",
     "output_type": "error",
     "traceback": [
      "\u001b[1;31m---------------------------------------------------------------------------\u001b[0m",
      "\u001b[1;31mIndexError\u001b[0m                                Traceback (most recent call last)",
      "\u001b[1;32m~\\AppData\\Local\\Temp\\ipykernel_24896\\419163696.py\u001b[0m in \u001b[0;36m<module>\u001b[1;34m\u001b[0m\n\u001b[1;32m----> 1\u001b[1;33m \u001b[0mX\u001b[0m\u001b[1;33m[\u001b[0m\u001b[0mmask_\u001b[0m\u001b[1;33m]\u001b[0m\u001b[1;33m\u001b[0m\u001b[1;33m\u001b[0m\u001b[0m\n\u001b[0m",
      "\u001b[1;31mIndexError\u001b[0m: index 2 is out of bounds for dimension 0 with size 2"
     ]
    }
   ],
   "source": [
    "torch.select(X; )"
   ]
  },
  {
   "cell_type": "code",
   "execution_count": 70,
   "metadata": {},
   "outputs": [
    {
     "name": "stdout",
     "output_type": "stream",
     "text": [
      "tensor([[[0.2158, 0.3861, 0.1946, 0.1158, 0.0876],\n",
      "         [0.1287, 0.4289, 0.2163, 0.1287, 0.0973],\n",
      "         [0.0973, 0.3245, 0.3316, 0.0973, 0.1493],\n",
      "         [0.1158, 0.3861, 0.1946, 0.2158, 0.0876],\n",
      "         [0.0876, 0.2920, 0.2985, 0.0876, 0.2343]],\n",
      "\n",
      "        [[0.2158, 0.3861, 0.1946, 0.1158, 0.0876],\n",
      "         [0.1287, 0.4289, 0.2163, 0.1287, 0.0973],\n",
      "         [0.0973, 0.3245, 0.3316, 0.0973, 0.1493],\n",
      "         [0.1158, 0.3861, 0.1946, 0.2158, 0.0876],\n",
      "         [0.0876, 0.2920, 0.2985, 0.0876, 0.2343]]])\n",
      "Mask:  tensor([[1, 1, 2, 1, 2],\n",
      "        [0, 2, 1, 3, 1]])\n",
      "tensor([[[1, 1, 1, 1, 1],\n",
      "         [1, 1, 1, 1, 1],\n",
      "         [2, 2, 2, 2, 2],\n",
      "         [1, 1, 1, 1, 1],\n",
      "         [2, 2, 2, 2, 2]],\n",
      "\n",
      "        [[0, 0, 0, 0, 0],\n",
      "         [2, 2, 2, 2, 2],\n",
      "         [1, 1, 1, 1, 1],\n",
      "         [3, 3, 3, 3, 3],\n",
      "         [1, 1, 1, 1, 1]]])\n",
      "tensor([0.2158, 0.3861, 0.1946, 0.1158, 0.0876, 0.1287, 0.4289, 0.2163, 0.1287,\n",
      "        0.0973, 0.1158, 0.3861, 0.1946, 0.2158, 0.0876, 0.0973, 0.3245, 0.3316,\n",
      "        0.0973, 0.1493, 0.0876, 0.2920, 0.2985, 0.0876, 0.2343])\n"
     ]
    }
   ],
   "source": [
    "X = S.repeat(2, 1, 1)\n",
    "print(X)\n",
    "\n",
    "mask = I.t()  # or dtype=torch.ByteTensor\n",
    "print('Mask: ', mask)\n",
    "\n",
    "# Add a dimension to the mask tensor and expand it to the size of original tensor\n",
    "mask_ = mask.unsqueeze(-1).expand(X.size())\n",
    "print(mask_)\n",
    "\n",
    "# Select based on the new expanded mask\n",
    "Y = torch.masked_select(X, (mask_ == 1)) # does not preserve the dims\n",
    "print(Y)."
   ]
  },
  {
   "cell_type": "code",
   "execution_count": 62,
   "metadata": {},
   "outputs": [
    {
     "data": {
      "text/plain": [
       "tensor([[[1, 1],\n",
       "         [0, 0],\n",
       "         [0, 0]],\n",
       "\n",
       "        [[0, 0],\n",
       "         [1, 1],\n",
       "         [0, 0]],\n",
       "\n",
       "        [[0, 0],\n",
       "         [0, 0],\n",
       "         [0, 0]],\n",
       "\n",
       "        [[1, 1],\n",
       "         [0, 0],\n",
       "         [0, 0]]])"
      ]
     },
     "execution_count": 62,
     "metadata": {},
     "output_type": "execute_result"
    }
   ],
   "source": [
    "mask_"
   ]
  },
  {
   "cell_type": "code",
   "execution_count": 60,
   "metadata": {},
   "outputs": [
    {
     "data": {
      "text/plain": [
       "tensor([[[0.2158, 0.3861, 0.1946, 0.1158, 0.0876],\n",
       "         [0.1287, 0.4289, 0.2163, 0.1287, 0.0973],\n",
       "         [0.0973, 0.3245, 0.3316, 0.0973, 0.1493],\n",
       "         [0.1158, 0.3861, 0.1946, 0.2158, 0.0876],\n",
       "         [0.0876, 0.2920, 0.2985, 0.0876, 0.2343]],\n",
       "\n",
       "        [[0.2158, 0.3861, 0.1946, 0.1158, 0.0876],\n",
       "         [0.1287, 0.4289, 0.2163, 0.1287, 0.0973],\n",
       "         [0.0973, 0.3245, 0.3316, 0.0973, 0.1493],\n",
       "         [0.1158, 0.3861, 0.1946, 0.2158, 0.0876],\n",
       "         [0.0876, 0.2920, 0.2985, 0.0876, 0.2343]]])"
      ]
     },
     "execution_count": 60,
     "metadata": {},
     "output_type": "execute_result"
    }
   ],
   "source": [
    "S.repeat(2, 1, 1)"
   ]
  },
  {
   "cell_type": "code",
   "execution_count": 2,
   "metadata": {},
   "outputs": [],
   "source": [
    "# Parameter setup (for cora)\n",
    "benchmark_params = {\n",
    "    'epochs' : 50,\n",
    "    'lr' : 0.01,\n",
    "    'lambda' : 1\n",
    "}\n",
    "\n",
    "h_params = {\n",
    "    'in_channels' : 1433,\n",
    "    'hidden_channels' : 16,\n",
    "    'num_layers' : 2,\n",
    "    'dropout' : 0.5,\n",
    "    \"embedding_corruption_ratio\" : 0.1, \n",
    "    \"partial_embedding_reconstruction\" : True,\n",
    "    'n_parts': 10,\n",
    "    'shortest_path_cutoff': 6,\n",
    "    'N_classes': 4,\n",
    "    'k_largest': 20,\n",
    "    'k': 30,\n",
    "    'temperature': 1,\n",
    "    'num_cluster_iter': 500,\n",
    "    'alpha': 1/2,\n",
    "}\n",
    "\n",
    "generator_config = {\n",
    "    'num_clusters' : 7,\n",
    "}\n",
    "\n",
    "pretext_tasks = [DeepGraphInfomax]"
   ]
  },
  {
   "cell_type": "code",
   "execution_count": 3,
   "metadata": {},
   "outputs": [],
   "source": [
    "# Get dataset\n",
    "dataset = Planetoid(root='/tmp/Cora', name='Cora')[0]\n",
    "# dataset = KarateClub()[0]\n"
   ]
  },
  {
   "cell_type": "code",
   "execution_count": 4,
   "metadata": {},
   "outputs": [
    {
     "name": "stdout",
     "output_type": "stream",
     "text": [
      "GCN(1433, 16, num_layers=2)\n"
     ]
    },
    {
     "data": {
      "text/plain": [
       "([3.3405697345733643,\n",
       "  3.3243794441223145,\n",
       "  3.306535005569458,\n",
       "  3.2765321731567383,\n",
       "  3.236759662628174,\n",
       "  3.2011375427246094,\n",
       "  3.120988607406616,\n",
       "  3.0833921432495117,\n",
       "  2.955915927886963,\n",
       "  2.941879987716675,\n",
       "  2.8654351234436035,\n",
       "  2.795201539993286,\n",
       "  2.671541690826416,\n",
       "  2.683580160140991,\n",
       "  2.4859378337860107,\n",
       "  2.4457130432128906,\n",
       "  2.467940330505371,\n",
       "  2.412355899810791,\n",
       "  2.308687210083008,\n",
       "  2.186960458755493,\n",
       "  2.2213480472564697,\n",
       "  2.1361312866210938,\n",
       "  2.1299047470092773,\n",
       "  2.1119649410247803,\n",
       "  2.090444564819336,\n",
       "  2.0715558528900146,\n",
       "  1.9986580610275269,\n",
       "  2.0037200450897217,\n",
       "  1.8863670825958252,\n",
       "  1.953214406967163,\n",
       "  1.7313849925994873,\n",
       "  1.8875255584716797,\n",
       "  1.7715727090835571,\n",
       "  1.828615427017212,\n",
       "  1.7530622482299805,\n",
       "  1.6012623310089111,\n",
       "  1.6210243701934814,\n",
       "  1.6686795949935913,\n",
       "  1.6426074504852295,\n",
       "  1.6730304956436157,\n",
       "  1.596615195274353,\n",
       "  1.5263845920562744,\n",
       "  1.5755417346954346,\n",
       "  1.439550518989563,\n",
       "  1.3799687623977661,\n",
       "  1.3692924976348877,\n",
       "  1.3067119121551514,\n",
       "  1.377837896347046,\n",
       "  1.3737807273864746,\n",
       "  1.2617768049240112],\n",
       " {'accuracy': 0.752,\n",
       "  'f1_micro': 0.752,\n",
       "  'f1_macro': 0.7501394487718799,\n",
       "  'rocauc_ovr': 0.8642179512085172,\n",
       "  'rocauc_ovo': 0.8642179512085172,\n",
       "  'logloss': 4.132391666166485},\n",
       " {'accuracy': 0.758,\n",
       "  'f1_micro': 0.7579999999999999,\n",
       "  'f1_macro': 0.7567135363542687,\n",
       "  'rocauc_ovr': 0.8668227257189717,\n",
       "  'rocauc_ovo': 0.8668227257189717,\n",
       "  'logloss': 3.5523777675330637})"
      ]
     },
     "execution_count": 4,
     "metadata": {},
     "output_type": "execute_result"
    }
   ],
   "source": [
    "# Training. You can attach a debugger to w/e is needed inside train\n",
    "benchmarker = NNNodeBenchmarkerJL(generator_config=generator_config, model_class=GCN, \n",
    "                benchmark_params=benchmark_params, h_params=h_params, pretext_tasks=pretext_tasks)\n",
    "# benchmarker.SetMasks(train_mask=dataset.train_mask, val_mask=~dataset.train_mask, test_mask=~dataset.train_mask)\n",
    "benchmarker.SetMasks(train_mask=dataset.train_mask, val_mask=dataset.val_mask, test_mask=dataset.test_mask)\n",
    "benchmarker.train(data=dataset, tuning_metric=\"rocauc_ovr\", tuning_metric_is_loss=False)"
   ]
  }
 ],
 "metadata": {
  "kernelspec": {
   "display_name": "base",
   "language": "python",
   "name": "python3"
  },
  "language_info": {
   "codemirror_mode": {
    "name": "ipython",
    "version": 3
   },
   "file_extension": ".py",
   "mimetype": "text/x-python",
   "name": "python",
   "nbconvert_exporter": "python",
   "pygments_lexer": "ipython3",
   "version": "3.9.13"
  },
  "orig_nbformat": 4,
  "vscode": {
   "interpreter": {
    "hash": "4d9defa72c2715dab9f7f172572cd30a1ab1a2083462d32ef96aadb7c6e0c73b"
   }
  }
 },
 "nbformat": 4,
 "nbformat_minor": 2
}
