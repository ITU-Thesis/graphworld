{
 "cells": [
  {
   "attachments": {},
   "cell_type": "markdown",
   "metadata": {},
   "source": [
    "This file allows for testing the GraphWorld setup with GNN implementations.\n",
    "It is currently set up to test the SSL methods for the JL benchmarker.\n",
    "\n",
    "Through this notebook you can attach a debugger.\n",
    "Note that graph_tool does not work on windows, so we cannot use the graph generators.\n",
    "Instead, we use the standard datasets from PyG."
   ]
  },
  {
   "cell_type": "code",
   "execution_count": 1,
   "metadata": {},
   "outputs": [],
   "source": [
    "import os\n",
    "import sys\n",
    "module_path = os.path.abspath(os.path.join('..'))\n",
    "if module_path not in sys.path:\n",
    "    sys.path.append(module_path)\n",
    "\n",
    "from graph_world.self_supervised_learning.benchmarker_jl import NNNodeBenchmarkerJL\n",
    "from graph_world.models.basic_gnn import GCN\n",
    "from torch_geometric.datasets import Planetoid\n",
    "\n",
    "from graph_world.self_supervised_learning.pretext_tasks.auxiliary_property_based import *"
   ]
  },
  {
   "cell_type": "code",
   "execution_count": 2,
   "metadata": {},
   "outputs": [],
   "source": [
    "# Parameter setup (for cora)\n",
    "benchmark_params = {\n",
    "    'epochs' : 50,\n",
    "    'lr' : 0.01,\n",
    "    'lambda' : 1\n",
    "}\n",
    "\n",
    "h_params = {\n",
    "    'in_channels' : 1433,\n",
    "    'hidden_channels' : 16,\n",
    "    'num_layers' : 2,\n",
    "    'dropout' : 0.5,\n",
    "    \"embedding_corruption_ratio\" : 0.1, \n",
    "    \"partial_embedding_reconstruction\" : True,\n",
    "    'n_parts': 10,\n",
    "    'shortest_path_cutoff': 6,\n",
    "    'N_classes': 4,\n",
    "    # 'reduction': 'mean'\n",
    "}\n",
    "\n",
    "generator_config = {\n",
    "    'num_clusters' : 7,\n",
    "}\n",
    "\n",
    "pretext_tasks = [S2GRL]"
   ]
  },
  {
   "cell_type": "code",
   "execution_count": 3,
   "metadata": {},
   "outputs": [],
   "source": [
    "# Get dataset\n",
    "dataset = Planetoid(root='/tmp/Cora', name='Cora')[0]\n",
    "# dataset = KarateClub()[0]\n"
   ]
  },
  {
   "cell_type": "code",
   "execution_count": 4,
   "metadata": {},
   "outputs": [
    {
     "name": "stdout",
     "output_type": "stream",
     "text": [
      "GCN(1433, 16, num_layers=2)\n"
     ]
    },
    {
     "data": {
      "text/plain": [
       "([3.3792810440063477,\n",
       "  3.3626699447631836,\n",
       "  3.3346269130706787,\n",
       "  3.3084051609039307,\n",
       "  3.255091428756714,\n",
       "  3.2273781299591064,\n",
       "  3.134922504425049,\n",
       "  3.0708138942718506,\n",
       "  3.0091094970703125,\n",
       "  2.90523362159729,\n",
       "  2.81680965423584,\n",
       "  2.680367946624756,\n",
       "  2.608185052871704,\n",
       "  2.5221869945526123,\n",
       "  2.4277851581573486,\n",
       "  2.306387424468994,\n",
       "  2.165422201156616,\n",
       "  2.1347429752349854,\n",
       "  2.038822650909424,\n",
       "  1.893437147140503,\n",
       "  1.889743447303772,\n",
       "  1.73915696144104,\n",
       "  1.6906553506851196,\n",
       "  1.5751882791519165,\n",
       "  1.7056318521499634,\n",
       "  1.5064228773117065,\n",
       "  1.5681618452072144,\n",
       "  1.5326464176177979,\n",
       "  1.3301678895950317,\n",
       "  1.2714948654174805,\n",
       "  1.3921380043029785,\n",
       "  1.260938286781311,\n",
       "  1.2827011346817017,\n",
       "  1.262040376663208,\n",
       "  1.266492247581482,\n",
       "  1.1822810173034668,\n",
       "  1.1579549312591553,\n",
       "  1.212018370628357,\n",
       "  1.275800347328186,\n",
       "  1.2249562740325928,\n",
       "  1.1714838743209839,\n",
       "  1.128515601158142,\n",
       "  1.126447319984436,\n",
       "  1.2630610466003418,\n",
       "  1.0780234336853027,\n",
       "  1.0473324060440063,\n",
       "  1.135177493095398,\n",
       "  1.2486186027526855,\n",
       "  1.17583429813385,\n",
       "  1.1119130849838257],\n",
       " {'accuracy': 0.753,\n",
       "  'f1_micro': 0.753,\n",
       "  'f1_macro': 0.7500331129018366,\n",
       "  'rocauc_ovr': 0.8696469253871394,\n",
       "  'rocauc_ovo': 0.8696469253871394,\n",
       "  'logloss': 2.9747188849449158},\n",
       " {'accuracy': 0.758,\n",
       "  'f1_micro': 0.7579999999999999,\n",
       "  'f1_macro': 0.753138750202417,\n",
       "  'rocauc_ovr': 0.8722352522390245,\n",
       "  'rocauc_ovo': 0.8722352522390245,\n",
       "  'logloss': 3.0005224304795264})"
      ]
     },
     "execution_count": 4,
     "metadata": {},
     "output_type": "execute_result"
    }
   ],
   "source": [
    "# Training. You can attach a debugger to w/e is needed inside train\n",
    "benchmarker = NNNodeBenchmarkerJL(generator_config=generator_config, model_class=GCN, \n",
    "                benchmark_params=benchmark_params, h_params=h_params, pretext_tasks=pretext_tasks)\n",
    "# benchmarker.SetMasks(train_mask=dataset.train_mask, val_mask=~dataset.train_mask, test_mask=~dataset.train_mask)\n",
    "benchmarker.SetMasks(train_mask=dataset.train_mask, val_mask=dataset.val_mask, test_mask=dataset.test_mask)\n",
    "benchmarker.train(data=dataset, tuning_metric=\"rocauc_ovr\", tuning_metric_is_loss=False)"
   ]
  },
  {
   "cell_type": "code",
   "execution_count": null,
   "metadata": {},
   "outputs": [],
   "source": []
  }
 ],
 "metadata": {
  "kernelspec": {
   "display_name": "base",
   "language": "python",
   "name": "python3"
  },
  "language_info": {
   "codemirror_mode": {
    "name": "ipython",
    "version": 3
   },
   "file_extension": ".py",
   "mimetype": "text/x-python",
   "name": "python",
   "nbconvert_exporter": "python",
   "pygments_lexer": "ipython3",
   "version": "3.9.13"
  },
  "orig_nbformat": 4,
  "vscode": {
   "interpreter": {
    "hash": "4d9defa72c2715dab9f7f172572cd30a1ab1a2083462d32ef96aadb7c6e0c73b"
   }
  }
 },
 "nbformat": 4,
 "nbformat_minor": 2
}
