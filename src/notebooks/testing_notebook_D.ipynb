{
 "cells": [
  {
   "attachments": {},
   "cell_type": "markdown",
   "metadata": {},
   "source": [
    "This file allows for testing the GraphWorld setup with GNN implementations.\n",
    "It is currently set up to test the SSL methods for the JL benchmarker.\n",
    "\n",
    "Through this notebook you can attach a debugger.\n",
    "Note that graph_tool does not work on windows, so we cannot use the graph generators.\n",
    "Instead, we use the standard datasets from PyG."
   ]
  },
  {
   "cell_type": "code",
   "execution_count": 1,
   "metadata": {},
   "outputs": [],
   "source": [
    "import os\n",
    "import sys\n",
    "module_path = os.path.abspath(os.path.join('..'))\n",
    "if module_path not in sys.path:\n",
    "    sys.path.append(module_path)\n",
    "\n",
    "from graph_world.self_supervised_learning.benchmarker_jl import NNNodeBenchmarkerJL\n",
    "from graph_world.models.basic_gnn import GCN\n",
    "from torch_geometric.datasets import Planetoid\n",
    "\n",
    "from graph_world.self_supervised_learning.pretext_tasks.auxiliary_property_based import *\n",
    "from graph_world.self_supervised_learning.pretext_tasks.contrastive_based_different_scale import *"
   ]
  },
  {
   "cell_type": "code",
   "execution_count": 2,
   "metadata": {},
   "outputs": [],
   "source": [
    "# Parameter setup (for cora)\n",
    "benchmark_params = {\n",
    "    'epochs' : 50,\n",
    "    'lr' : 0.01,\n",
    "    'lambda' : 1\n",
    "}\n",
    "\n",
    "h_params = {\n",
    "    'in_channels' : 1433,\n",
    "    'hidden_channels' : 16,\n",
    "    'num_layers' : 2,\n",
    "    'dropout' : 0.5,\n",
    "    \"embedding_corruption_ratio\" : 0.1, \n",
    "    \"partial_embedding_reconstruction\" : True,\n",
    "    'n_parts': 10,\n",
    "    'shortest_path_cutoff': 6,\n",
    "    'N_classes': 4,\n",
    "    'k_largest': 20,\n",
    "    'k': 30,\n",
    "    'temperature': 1,\n",
    "    'num_cluster_iter': 500,\n",
    "    'alpha': 1/2,\n",
    "}\n",
    "\n",
    "generator_config = {\n",
    "    'num_clusters' : 7,\n",
    "}\n",
    "\n",
    "pretext_tasks = [DeepGraphInfomax]"
   ]
  },
  {
   "cell_type": "code",
   "execution_count": 3,
   "metadata": {},
   "outputs": [],
   "source": [
    "# Get dataset\n",
    "dataset = Planetoid(root='/tmp/Cora', name='Cora')[0]\n",
    "# dataset = KarateClub()[0]\n"
   ]
  },
  {
   "cell_type": "code",
   "execution_count": 4,
   "metadata": {},
   "outputs": [
    {
     "name": "stdout",
     "output_type": "stream",
     "text": [
      "GCN(1433, 16, num_layers=2)\n"
     ]
    },
    {
     "data": {
      "text/plain": [
       "([3.3655548095703125,\n",
       "  3.346027135848999,\n",
       "  3.323378324508667,\n",
       "  3.3061251640319824,\n",
       "  3.287874698638916,\n",
       "  3.2440505027770996,\n",
       "  3.21744441986084,\n",
       "  3.175692081451416,\n",
       "  3.1030092239379883,\n",
       "  3.05141019821167,\n",
       "  3.010465145111084,\n",
       "  2.85969877243042,\n",
       "  2.767476797103882,\n",
       "  2.7520740032196045,\n",
       "  2.6022558212280273,\n",
       "  2.4649972915649414,\n",
       "  2.5061068534851074,\n",
       "  2.379119396209717,\n",
       "  2.2064173221588135,\n",
       "  2.208646297454834,\n",
       "  2.2702436447143555,\n",
       "  2.049992322921753,\n",
       "  2.050178050994873,\n",
       "  1.9608789682388306,\n",
       "  1.9157602787017822,\n",
       "  1.8975427150726318,\n",
       "  1.8696902990341187,\n",
       "  1.877431869506836,\n",
       "  1.9164886474609375,\n",
       "  1.7319846153259277,\n",
       "  1.7941980361938477,\n",
       "  1.6182336807250977,\n",
       "  1.7816150188446045,\n",
       "  1.6129528284072876,\n",
       "  1.65058434009552,\n",
       "  1.5543462038040161,\n",
       "  1.6200861930847168,\n",
       "  1.469253420829773,\n",
       "  1.5334885120391846,\n",
       "  1.5863773822784424,\n",
       "  1.3787736892700195,\n",
       "  1.4250421524047852,\n",
       "  1.4481585025787354,\n",
       "  1.381965160369873,\n",
       "  1.4474475383758545,\n",
       "  1.2284601926803589,\n",
       "  1.239387035369873,\n",
       "  1.338626742362976,\n",
       "  1.2483985424041748,\n",
       "  1.315215826034546],\n",
       " {'accuracy': 0.79,\n",
       "  'f1_micro': 0.79,\n",
       "  'f1_macro': 0.7783445347588873,\n",
       "  'rocauc_ovr': 0.8874379742778853,\n",
       "  'rocauc_ovo': 0.8874379742778853,\n",
       "  'logloss': 3.219656364955008},\n",
       " {'accuracy': 0.766,\n",
       "  'f1_micro': 0.766,\n",
       "  'f1_macro': 0.750686718013094,\n",
       "  'rocauc_ovr': 0.8799843534832,\n",
       "  'rocauc_ovo': 0.8799843534832,\n",
       "  'logloss': 3.8293886714428664})"
      ]
     },
     "execution_count": 4,
     "metadata": {},
     "output_type": "execute_result"
    }
   ],
   "source": [
    "# Training. You can attach a debugger to w/e is needed inside train\n",
    "benchmarker = NNNodeBenchmarkerJL(generator_config=generator_config, model_class=GCN, \n",
    "                benchmark_params=benchmark_params, h_params=h_params, pretext_tasks=pretext_tasks)\n",
    "# benchmarker.SetMasks(train_mask=dataset.train_mask, val_mask=~dataset.train_mask, test_mask=~dataset.train_mask)\n",
    "benchmarker.SetMasks(train_mask=dataset.train_mask, val_mask=dataset.val_mask, test_mask=dataset.test_mask)\n",
    "benchmarker.train(data=dataset, tuning_metric=\"rocauc_ovr\", tuning_metric_is_loss=False)"
   ]
  }
 ],
 "metadata": {
  "kernelspec": {
   "display_name": "base",
   "language": "python",
   "name": "python3"
  },
  "language_info": {
   "codemirror_mode": {
    "name": "ipython",
    "version": 3
   },
   "file_extension": ".py",
   "mimetype": "text/x-python",
   "name": "python",
   "nbconvert_exporter": "python",
   "pygments_lexer": "ipython3",
   "version": "3.9.13"
  },
  "orig_nbformat": 4,
  "vscode": {
   "interpreter": {
    "hash": "4d9defa72c2715dab9f7f172572cd30a1ab1a2083462d32ef96aadb7c6e0c73b"
   }
  }
 },
 "nbformat": 4,
 "nbformat_minor": 2
}
