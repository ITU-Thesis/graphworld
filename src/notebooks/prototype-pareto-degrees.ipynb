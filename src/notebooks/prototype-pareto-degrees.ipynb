{
 "cells": [
  {
   "cell_type": "code",
   "execution_count": 1,
   "id": "1fa947de",
   "metadata": {},
   "outputs": [
    {
     "name": "stderr",
     "output_type": "stream",
     "text": [
      "/usr/lib/python3/dist-packages/graph_tool/draw/cairo_draw.py:1501: RuntimeWarning: Error importing Gtk module: No module named 'gi'; GTK+ drawing will not work.\n",
      "  warnings.warn(msg, RuntimeWarning)\n"
     ]
    }
   ],
   "source": [
    "%matplotlib inline\n",
    "import numpy as np\n",
    "import matplotlib.pyplot as plt\n",
    "from graph_world.sbm.sbm_simulator import _GenerateNodeMemberships, _ComputeExpectedEdgeCounts, StochasticBlockModel\n",
    "import graph_tool.all as gt"
   ]
  },
  {
   "cell_type": "code",
   "execution_count": 2,
   "id": "ce9bdd9b",
   "metadata": {},
   "outputs": [],
   "source": [
    "def SimulateSbm(sbm_data,\n",
    "                num_vertices,\n",
    "                num_edges,\n",
    "                pi,\n",
    "                prop_mat,\n",
    "                out_degs=None):\n",
    "  \"\"\"Generates a stochastic block model, storing data in sbm_data.graph.\n",
    "  This function uses graph_tool.generate_sbm. Refer to that\n",
    "  documentation for more information on the model and parameters.\n",
    "  Args:\n",
    "    sbm_data: StochasticBlockModel dataclass to store result data.\n",
    "    num_vertices: (int) number of nodes in the graph.\n",
    "    num_edges: (int) expected number of edges in the graph.\n",
    "    pi: iterable of non-zero community size proportions. Must sum to 1.0.\n",
    "    prop_mat: square, symmetric matrix of community edge count rates.\n",
    "    out_degs: Out-degree propensity for each node. If not provided, a constant\n",
    "      value will be used. Note that the values will be normalized inside each\n",
    "      group, if they are not already so.\n",
    "  Returns: (none)\n",
    "  \"\"\"\n",
    "  if round(abs(np.sum(pi) - 1.0), 12) != 0:\n",
    "    raise ValueError(\"entries of pi ( must sum to 1.0\")\n",
    "  if prop_mat.shape[0] != len(pi) or prop_mat.shape[1] != len(pi):\n",
    "    raise ValueError(\"prop_mat must be k x k where k = len(pi)\")\n",
    "  sbm_data.graph_memberships = _GenerateNodeMemberships(num_vertices, pi)\n",
    "  edge_counts = _ComputeExpectedEdgeCounts(num_edges, num_vertices, pi,\n",
    "                                           prop_mat)\n",
    "  sbm_data.graph = graph_tool.generation.generate_sbm(\n",
    "    sbm_data.graph_memberships, edge_counts, out_degs)\n",
    "  graph_tool.stats.remove_self_loops(sbm_data.graph)\n",
    "  graph_tool.stats.remove_parallel_edges(sbm_data.graph)\n",
    "  sbm_data.graph.reindex_edges()"
   ]
  },
  {
   "cell_type": "code",
   "execution_count": 3,
   "id": "533e2d31",
   "metadata": {},
   "outputs": [],
   "source": [
    "from scipy.stats import pareto"
   ]
  },
  {
   "cell_type": "code",
   "execution_count": 4,
   "id": "c18d50b5",
   "metadata": {},
   "outputs": [],
   "source": [
    "def _get_pareto_exponent(degrees, offset=0.0):\n",
    "  degrees = np.array(degrees)\n",
    "  n = len(degrees)\n",
    "  dmin = np.min(degrees)\n",
    "  alpha = n / np.sum(np.log((degrees + offset) / (dmin + offset)))\n",
    "  return alpha"
   ]
  },
  {
   "cell_type": "code",
   "execution_count": 5,
   "id": "56dcaae5",
   "metadata": {},
   "outputs": [],
   "source": [
    "num_vertices = 500\n",
    "k = 2\n",
    "p_to_q_ratio = 1.0\n",
    "pareto_exponent = 10.0\n",
    "avg_degree = 5.0\n",
    "\n",
    "\n",
    "pi = np.ones(shape=(k)) / k\n",
    "prop_mat = np.ones(shape=(k, k)) + np.identity(k) * (p_to_q_ratio - 1.0)\n",
    "num_edges = num_vertices * avg_degree\n",
    "out_degs = pareto.rvs(pareto_exponent, size=num_vertices)"
   ]
  },
  {
   "cell_type": "code",
   "execution_count": 6,
   "id": "1322b7af",
   "metadata": {},
   "outputs": [
    {
     "data": {
      "text/plain": [
       "(array([333., 103.,  38.,  15.,   5.,   4.,   1.,   0.,   0.,   1.]),\n",
       " array([1.0003226 , 1.11499398, 1.22966536, 1.34433674, 1.45900812,\n",
       "        1.57367951, 1.68835089, 1.80302227, 1.91769365, 2.03236503,\n",
       "        2.14703641]),\n",
       " <BarContainer object of 10 artists>)"
      ]
     },
     "execution_count": 6,
     "metadata": {},
     "output_type": "execute_result"
    },
    {
     "data": {
      "image/png": "[encoded data removed]",
      "text/plain": [
       "<Figure size 432x288 with 1 Axes>"
      ]
     },
     "metadata": {
      "needs_background": "light"
     },
     "output_type": "display_data"
    }
   ],
   "source": [
    "plt.hist(out_degs)"
   ]
  },
  {
   "cell_type": "code",
   "execution_count": 7,
   "id": "6e2ae593",
   "metadata": {},
   "outputs": [
    {
     "data": {
      "text/plain": [
       "9.75427740655056"
      ]
     },
     "execution_count": 7,
     "metadata": {},
     "output_type": "execute_result"
    }
   ],
   "source": [
    "_get_pareto_exponent(out_degs)"
   ]
  },
  {
   "cell_type": "code",
   "execution_count": 8,
   "id": "f8f364a4",
   "metadata": {},
   "outputs": [
    {
     "data": {
      "text/plain": [
       "9.754277406550559"
      ]
     },
     "execution_count": 8,
     "metadata": {},
     "output_type": "execute_result"
    }
   ],
   "source": [
    "_get_pareto_exponent(out_degs / np.sum(out_degs))"
   ]
  },
  {
   "cell_type": "code",
   "execution_count": 9,
   "id": "b997bc0f",
   "metadata": {},
   "outputs": [
    {
     "name": "stdout",
     "output_type": "stream",
     "text": [
      "[ 8  1  9  5  8  5  5 13  7  8  7  0  5  3  4  4  5  1  8 10  5 10  2  2\n",
      "  7  5  2  6  7  5  2  7  4  4  2  5  9  5  4  2  4  5  7  4  4  3  4  7\n",
      "  2  4  4  1  3  4  8  8  6  8  3  9  2  4  5  3  9  5  3  4  6  5  4  0\n",
      "  5  8  5  4  1  5  8  3  4  5  3  2  7  6  3  2  5  5  9  3  6  6  4  5\n",
      "  6  7  7  8  7  4  4  4  5  7  5  4  4  6  1  4  4  2  5  3  5  5  3  3\n",
      "  8  6  1  8  3  2  4  3  5  4  5  6  5  3  5  6  0  6  2  2  7  4  6  2\n",
      "  3  2  4  2  3  5  3  3 10  5  5  4  6  4  5  3  4  4  8  5  3  1  6  6\n",
      "  5  5  5  2  3  7  3  2  5 10  8  4  8  7  7  4  8  3  3  4  5  7  7  6\n",
      "  4  4  4  9  6  6  5  3  6  9  4  5  6  4  5  7  6  4  9 10  4  6  4  2\n",
      "  6  4  6  4  4  4  8  3  2  5  6  7  7  5  3  4  4  1  5  5  4  7  6  5\n",
      "  3  4 11  4  8  9  3  4  4  6  4  7  7  2  6  3  4  8  9  6  5  2  3  5\n",
      "  8 13  6  5  4  5  3  5  7  2  6  8  2  6  7  2  7  5  8  4  3  6  3  6\n",
      "  1  8  4  5  5  6  4  6  4  5  5  3  2  5  5  4 10  3  6  3  7 10  8  4\n",
      "  9  3  2  5  3  4  7  8  5  5  6  4  5  3  5  2 10  6  7  5  7  7  3  4\n",
      "  4 11  5  7  3  8  5  2  5  1  6  8  5  3  6  4  5  1  2  4  8  7  4  9\n",
      "  2  5  2  3 10  4  0  6  2  3  4  1  5  7  7  2  8  6  2  2  4  4  4  5\n",
      "  7  6  5  5  2  5  8  4  4 10  3  8  8  6  6  4  3  4  3  7  6  3  3  3\n",
      "  2  3  5  4  6  5  1  7  5  7 12  5  6  9  6  4  6  7  1  6  5  7  3  5\n",
      "  8  2  6 10  7  4  4  8  3  4  9  6  6  4  5  6  4  8  8  5  5  5  5  5\n",
      "  2  7  3  6  7  5  5  7  3  3  3  4  5  2  7  7  5  4  6  7  6 10  9  7\n",
      "  4  4  3  3  5  8  1  5  6  7  5  5  4  8  8  6  5  7  8  6]\n",
      "0.580795259163634\n",
      "5.04\n"
     ]
    },
    {
     "data": {
      "image/png": "[encoded data removed]",
      "text/plain": [
       "<Figure size 432x288 with 1 Axes>"
      ]
     },
     "metadata": {
      "needs_background": "light"
     },
     "output_type": "display_data"
    }
   ],
   "source": [
    "sbm_data = StochasticBlockModel()\n",
    "sbm_data.graph_memberships = _GenerateNodeMemberships(num_vertices, pi)\n",
    "edge_counts = _ComputeExpectedEdgeCounts(\n",
    "    num_edges, num_vertices, pi, prop_mat)\n",
    "sbm_data.graph = gt.generate_sbm(\n",
    "        sbm_data.graph_memberships, edge_counts, out_degs)\n",
    "\n",
    "degrees = sbm_data.graph.get_out_degrees(sbm_data.graph.get_vertices())\n",
    "print(degrees)\n",
    "plt.hist(degrees)\n",
    "print(_get_pareto_exponent(degrees, 1.0))\n",
    "print(np.mean(degrees))"
   ]
  },
  {
   "cell_type": "code",
   "execution_count": 10,
   "id": "df7fe667",
   "metadata": {},
   "outputs": [],
   "source": [
    "from math import floor\n",
    "from scipy.stats import gaussian_kde\n",
    "\n",
    "def get_pareto_distribution(n, b, idealized=False):\n",
    "    if idealized:\n",
    "        quantiles = np.arange(1, n + 1) / (n + 1)\n",
    "        samples = pareto.isf(quantiles, b=b)\n",
    "    else:\n",
    "        samples = pareto.rvs(b, size=n)\n",
    "    return samples\n",
    "\n",
    "def density_plot(data):\n",
    "    density = gaussian_kde(data)\n",
    "    xs = np.linspace(1,5,200)\n",
    "    plt.plot(xs,density(xs))\n",
    "    plt.show()\n",
    "    \n",
    "def convert_vector_to_expected_degrees(v, num_edges):\n",
    "    v = v / np.sum(v)\n",
    "    v = v * num_edges\n",
    "    return v\n",
    "    \n",
    "def plot_pareto(n, b, idealized=False):\n",
    "    x = get_pareto_distribution(n, b, idealized=idealized)\n",
    "    density_plot(x)\n",
    "    plt.hist(x)\n",
    "    plt.show()\n",
    "    print(_get_pareto_exponent(x))"
   ]
  },
  {
   "cell_type": "code",
   "execution_count": 11,
   "id": "d3795a75",
   "metadata": {},
   "outputs": [
    {
     "data": {
      "image/png": "[encoded data removed]",
      "text/plain": [
       "<Figure size 432x288 with 1 Axes>"
      ]
     },
     "metadata": {
      "needs_background": "light"
     },
     "output_type": "display_data"
    },
    {
     "data": {
      "image/png": "[encoded data removed]",
      "text/plain": [
       "<Figure size 432x288 with 1 Axes>"
      ]
     },
     "metadata": {
      "needs_background": "light"
     },
     "output_type": "display_data"
    },
    {
     "name": "stdout",
     "output_type": "stream",
     "text": [
      "10.081181928315246\n"
     ]
    }
   ],
   "source": [
    "plot_pareto(500, 10.0, idealized=True)"
   ]
  },
  {
   "cell_type": "code",
   "execution_count": 27,
   "id": "9ba17106",
   "metadata": {},
   "outputs": [],
   "source": [
    "def convert_edgelist_to_graph(edgelist, N):\n",
    "    gt_graph = gt.Graph(directed=False)\n",
    "    _ = gt_graph.add_vertex(N)\n",
    "    gt_graph.add_edge_list(edgelist)\n",
    "    return gt_graph\n",
    "\n",
    "def generate_degree_graph_slow(degrees, random_seed=12345):\n",
    "\n",
    "    np.random.seed(random_seed)\n",
    "    degrees = sorted(degrees, reverse=True)\n",
    "    E = []\n",
    "    S = np.sum(degrees) * 2.0\n",
    "    N = len(degrees)\n",
    "    \n",
    "    for u in range(N - 1):\n",
    "        for v in range(u, N):\n",
    "            r = np.random.uniform()\n",
    "            if r < min(degrees[u] * degrees[v] / S, 1.0):\n",
    "                E.append((u, v))\n",
    "                E.append((v, u))\n",
    "                \n",
    "    gt_graph = convert_edgelist_to_graph(E, N)\n",
    "    return gt_graph\n",
    "        \n",
    "\n",
    "def generate_degree_graph(degrees, random_seed=12345):\n",
    "\n",
    "    np.random.seed(random_seed)\n",
    "    degrees = sorted(degrees, reverse=True)\n",
    "    E = []\n",
    "    S = np.sum(degrees) * 2.0\n",
    "    N = len(degrees)\n",
    "    for u in range(0, N - 1):\n",
    "        v = u + 1\n",
    "        p = min(degrees[u] * degrees[v] / S, 1.0)\n",
    "        while v < N and p > 0:\n",
    "            if p != 1.0:\n",
    "                r = np.random.uniform()\n",
    "                v = v + floor(np.log(r) / np.log(1 - p))\n",
    "            if v < N:\n",
    "                q = min(degrees[u] * degrees[v] / S, 1.0)\n",
    "                r = np.random.uniform()\n",
    "                if r < q / p:\n",
    "                    E.append((u, v))\n",
    "                    E.append((v, u))\n",
    "                p = q\n",
    "                v = v + 1\n",
    "\n",
    "    gt_graph = convert_edgelist_to_graph(E, N)\n",
    "    return gt_graph\n",
    "\n",
    "def generate_degree_graph_gt(degrees):\n",
    "    \n",
    "    num_vertices = len(degrees)\n",
    "    k = 2\n",
    "    p_to_q_ratio = 1.0\n",
    "    pi = np.ones(shape=(k)) / k\n",
    "    prop_mat = np.ones(shape=(k, k)) + np.identity(k) * (p_to_q_ratio - 1.0)\n",
    "    num_edges = np.sum(degrees)\n",
    "    \n",
    "    sbm_data = StochasticBlockModel()\n",
    "    sbm_data.graph_memberships = _GenerateNodeMemberships(num_vertices, pi)\n",
    "    edge_counts = _ComputeExpectedEdgeCounts(\n",
    "        num_edges, num_vertices, pi, prop_mat)\n",
    "    sbm_data.graph = gt.generate_sbm(\n",
    "            sbm_data.graph_memberships, edge_counts, out_degs)\n",
    "    \n",
    "    return sbm_data.graph\n",
    "\n",
    "def sample_graph_degrees_gt(degrees):\n",
    "    \n",
    "    gt_graph = generate_degree_graph_gt(degrees)\n",
    "    sampled_degrees = gt_graph.get_out_degrees(gt_graph.get_vertices())\n",
    "    return sampled_degrees\n",
    "    \n",
    "def gini(array):\n",
    "    array = array.astype(np.float32)\n",
    "    array += np.finfo(np.float32).eps\n",
    "    array = np.sort(array)\n",
    "    n = array.shape[0]\n",
    "    index = np.arange(1, n + 1)\n",
    "    return ((np.sum((2 * index - n  - 1) * array)) / (n * np.sum(array)))"
   ]
  },
  {
   "cell_type": "code",
   "execution_count": 44,
   "id": "d2e9a4e9",
   "metadata": {},
   "outputs": [],
   "source": [
    "paretos = np.linspace(1.0, 10.0, 50)\n",
    "num_samples = 10\n",
    "num_vertices = 500\n",
    "\n",
    "gini_avgs = np.zeros(shape=(len(paretos)))\n",
    "gini_true = np.zeros(shape=(len(paretos)))\n",
    "\n",
    "for i, b in enumerate(paretos):\n",
    "    gini_values = []\n",
    "    true_degrees = get_pareto_distribution(num_vertices, b, idealized=True)\n",
    "    true_degrees = convert_vector_to_expected_degrees(true_degrees, 5000.0)\n",
    "    gini_true[i] = gini(true_degrees)\n",
    "    \n",
    "    for _ in range(num_samples):\n",
    "        \n",
    "        degrees = sample_graph_degrees_gt(true_degrees)\n",
    "        gini_values.append(gini(degrees))\n",
    "    \n",
    "    gini_avgs[i] = np.mean(gini_values)"
   ]
  },
  {
   "cell_type": "code",
   "execution_count": 45,
   "id": "2578333f",
   "metadata": {},
   "outputs": [
    {
     "data": {
      "image/png": "[encoded data removed]",
      "text/plain": [
       "<Figure size 432x288 with 1 Axes>"
      ]
     },
     "metadata": {
      "needs_background": "light"
     },
     "output_type": "display_data"
    },
    {
     "data": {
      "image/png": "[encoded data removed]",
      "text/plain": [
       "<Figure size 432x288 with 1 Axes>"
      ]
     },
     "metadata": {
      "needs_background": "light"
     },
     "output_type": "display_data"
    },
    {
     "data": {
      "image/png": "[encoded data removed]",
      "text/plain": [
       "<Figure size 432x288 with 1 Axes>"
      ]
     },
     "metadata": {
      "needs_background": "light"
     },
     "output_type": "display_data"
    }
   ],
   "source": [
    "plt.scatter(paretos, gini_true)\n",
    "plt.show()\n",
    "plt.scatter(paretos, gini_avgs)\n",
    "plt.show()\n",
    "plt.scatter(gini_true, gini_avgs)\n",
    "plt.show()"
   ]
  },
  {
   "cell_type": "code",
   "execution_count": 43,
   "id": "0c35b832",
   "metadata": {},
   "outputs": [
    {
     "data": {
      "image/png": "[encoded data removed]",
      "text/plain": [
       "<Figure size 432x288 with 1 Axes>"
      ]
     },
     "metadata": {
      "needs_background": "light"
     },
     "output_type": "display_data"
    },
    {
     "data": {
      "image/png": "[encoded data removed]",
      "text/plain": [
       "<Figure size 432x288 with 1 Axes>"
      ]
     },
     "metadata": {
      "needs_background": "light"
     },
     "output_type": "display_data"
    }
   ],
   "source": [
    "plt.hist(degrees)\n",
    "plt.show()\n",
    "plt.hist(true_degrees)\n",
    "plt.show()"
   ]
  },
  {
   "cell_type": "code",
   "execution_count": 46,
   "id": "625039e7",
   "metadata": {},
   "outputs": [
    {
     "data": {
      "image/png": "[encoded data removed]",
      "text/plain": [
       "<Figure size 432x288 with 1 Axes>"
      ]
     },
     "metadata": {
      "needs_background": "light"
     },
     "output_type": "display_data"
    },
    {
     "data": {
      "image/png": "[encoded data removed]",
      "text/plain": [
       "<Figure size 432x288 with 1 Axes>"
      ]
     },
     "metadata": {
      "needs_background": "light"
     },
     "output_type": "display_data"
    }
   ],
   "source": [
    "plt.hist(degrees)\n",
    "plt.show()\n",
    "plt.hist(true_degrees)\n",
    "plt.show()"
   ]
  },
  {
   "cell_type": "code",
   "execution_count": 19,
   "id": "52ad55b2",
   "metadata": {
    "scrolled": true
   },
   "outputs": [
    {
     "data": {
      "image/png": "[encoded data removed]",
      "text/plain": [
       "<Figure size 432x288 with 1 Axes>"
      ]
     },
     "metadata": {
      "needs_background": "light"
     },
     "output_type": "display_data"
    },
    {
     "data": {
      "image/png": "[encoded data removed]",
      "text/plain": [
       "<Figure size 432x288 with 1 Axes>"
      ]
     },
     "metadata": {
      "needs_background": "light"
     },
     "output_type": "display_data"
    },
    {
     "data": {
      "image/png": "[encoded data removed]",
      "text/plain": [
       "<Figure size 432x288 with 1 Axes>"
      ]
     },
     "metadata": {
      "needs_background": "light"
     },
     "output_type": "display_data"
    },
    {
     "data": {
      "image/png": "[encoded data removed]",
      "text/plain": [
       "<Figure size 432x288 with 1 Axes>"
      ]
     },
     "metadata": {
      "needs_background": "light"
     },
     "output_type": "display_data"
    }
   ],
   "source": [
    "n = 500\n",
    "avg_degree = 10.0\n",
    "b = 20.0\n",
    "\n",
    "true_degrees = convert_vector_to_expected_degrees(\n",
    "    get_pareto_distribution(n, b, idealized=True), n * avg_degree)\n",
    "plt.hist(true_degrees)\n",
    "plt.show()\n",
    "\n",
    "gt_graph = generate_degree_graph(true_degrees)\n",
    "degrees = gt_graph.get_out_degrees(gt_graph.get_vertices())\n",
    "plt.hist(degrees)\n",
    "plt.show()\n",
    "\n",
    "gt_graph_slow = generate_degree_graph_slow(true_degrees)\n",
    "degrees_slow = gt_graph_slow.get_out_degrees(gt_graph_slow.get_vertices())\n",
    "plt.hist(degrees_slow)\n",
    "plt.show()\n",
    "\n",
    "gt_graph_gt = generate_degree_graph_gt(true_degrees)\n",
    "degrees_gt = gt_graph_gt.get_out_degrees(gt_graph_gt.get_vertices())\n",
    "plt.hist(degrees_gt)\n",
    "plt.show()"
   ]
  },
  {
   "cell_type": "code",
   "execution_count": 169,
   "id": "944fbbbf",
   "metadata": {},
   "outputs": [
    {
     "data": {
      "image/png": "[encoded data removed]",
      "text/plain": [
       "<Figure size 432x288 with 1 Axes>"
      ]
     },
     "metadata": {
      "needs_background": "light"
     },
     "output_type": "display_data"
    },
    {
     "data": {
      "image/png": "[encoded data removed]",
      "text/plain": [
       "<Figure size 432x288 with 1 Axes>"
      ]
     },
     "metadata": {
      "needs_background": "light"
     },
     "output_type": "display_data"
    }
   ],
   "source": [
    "n = 500\n",
    "avg_degree = 10.0\n",
    "b = 10.0\n",
    "\n",
    "weights = convert_vector_to_expected_degrees(\n",
    "    get_pareto_distribution(n, b, idealized=True), n * avg_degree)\n",
    "gt_graph = generate_degree_graph_slow(weights)\n",
    "degrees = gt_graph.get_out_degrees(gt_graph.get_vertices())\n",
    "plt.hist(weights)\n",
    "plt.show()\n",
    "plt.hist(degrees)\n",
    "plt.show()"
   ]
  },
  {
   "cell_type": "code",
   "execution_count": 174,
   "id": "b75ac28a",
   "metadata": {},
   "outputs": [
    {
     "data": {
      "text/plain": [
       "array([  0,   1,   2,   3,   4,   5,   6,   7,   8,   9,  10,  11,  12,\n",
       "        13,  14,  15,  16,  17,  18,  19,  20,  21,  22,  23,  24,  25,\n",
       "        26,  27,  28,  29,  30,  31,  32,  33,  34,  35,  36,  37,  38,\n",
       "        39,  40,  41,  42,  43,  44,  45,  46,  47,  48,  49,  50,  51,\n",
       "        52,  53,  54,  55,  56,  57,  58,  59,  60,  61,  62,  63,  64,\n",
       "        65,  66,  67,  68,  69,  70,  71,  72,  73,  74,  75,  76,  77,\n",
       "        78,  79,  80,  81,  82,  83,  84,  85,  86,  87,  88,  89,  90,\n",
       "        91,  92,  93,  94,  95,  96,  97,  98,  99, 100, 101, 102, 103,\n",
       "       104, 105, 106, 107, 108, 109, 110, 111, 112, 113, 114, 115, 116,\n",
       "       117, 118, 119, 120, 121, 122, 123, 124, 125, 126, 127, 128, 129,\n",
       "       130, 131, 132, 133, 134, 135, 136, 137, 138, 139, 140, 141, 142,\n",
       "       143, 144, 145, 146, 147, 148, 149, 150, 151, 152, 153, 154, 155,\n",
       "       156, 157, 158, 159, 160, 161, 162, 163, 164, 165, 166, 167, 168,\n",
       "       169, 170, 171, 172, 173, 174, 175, 176, 177, 178, 179, 180, 181,\n",
       "       182, 183, 184, 185, 186, 187, 188, 189, 190, 191, 192, 193, 194,\n",
       "       195, 196, 197, 198, 199, 200, 201, 202, 203, 204, 205, 206, 207,\n",
       "       208, 209, 210, 211, 212, 213, 214, 215, 216, 217, 218, 219, 220,\n",
       "       221, 222, 223, 224, 225, 226, 227, 228, 229, 230, 231, 232, 233,\n",
       "       234, 235, 236, 237, 238, 239, 240, 241, 242, 243, 244, 245, 246,\n",
       "       247, 248, 249, 250, 251, 252, 253, 254, 255, 256, 257, 258, 259,\n",
       "       260, 261, 262, 263, 264, 265, 266, 267, 268, 269, 270, 271, 272,\n",
       "       273, 274, 275, 276, 277, 278, 279, 280, 281, 282, 283, 284, 285,\n",
       "       286, 287, 288, 289, 290, 291, 292, 293, 294, 295, 296, 297, 298,\n",
       "       299, 300, 301, 302, 303, 304, 305, 306, 307, 308, 309, 310, 311,\n",
       "       312, 313, 314, 315, 316, 317, 318, 319, 320, 321, 322, 323, 324,\n",
       "       325, 326, 327, 328, 329, 330, 331, 332, 333, 334, 335, 336, 337,\n",
       "       338, 339, 340, 341, 342, 343, 344, 345, 346, 347, 348, 349, 350,\n",
       "       351, 352, 353, 354, 355, 356, 357, 358, 359, 360, 361, 362, 363,\n",
       "       364, 365, 366, 367, 368, 369, 370, 371, 372, 373, 374, 375, 376,\n",
       "       377, 378, 379, 380, 381, 382, 383, 384, 385, 386, 387, 388, 389,\n",
       "       390, 391, 392, 393, 394, 395, 396, 397, 398, 399, 400, 401, 402,\n",
       "       403, 404, 405, 406, 407, 408, 409, 410, 411, 412, 413, 414, 415,\n",
       "       416, 417, 418, 419, 420, 421, 422, 423, 424, 425, 426, 427, 428,\n",
       "       429, 430, 431, 432, 433, 434, 435, 436, 437, 438, 439, 440, 441,\n",
       "       442, 443, 444, 445, 446, 447, 448, 449, 450, 451, 452, 453, 454,\n",
       "       455, 456, 457, 458, 459, 460, 461, 462, 463, 464, 465, 466, 467,\n",
       "       468, 469, 470, 471, 472, 473, 474, 475, 476, 477, 478, 479, 480,\n",
       "       481, 482, 483, 484, 485, 486, 487, 488, 489, 490, 491, 492, 493,\n",
       "       494, 495, 496, 497, 498, 499])"
      ]
     },
     "execution_count": 174,
     "metadata": {},
     "output_type": "execute_result"
    }
   ],
   "source": [
    "gt_graph.get_vertices()"
   ]
  },
  {
   "cell_type": "code",
   "execution_count": 153,
   "id": "e37380c1",
   "metadata": {},
   "outputs": [
    {
     "data": {
      "text/plain": [
       "5196"
      ]
     },
     "execution_count": 153,
     "metadata": {},
     "output_type": "execute_result"
    }
   ],
   "source": [
    "len(E)"
   ]
  },
  {
   "cell_type": "code",
   "execution_count": 139,
   "id": "e6349e49",
   "metadata": {},
   "outputs": [
    {
     "data": {
      "text/plain": [
       "0.31818949537898944"
      ]
     },
     "execution_count": 139,
     "metadata": {},
     "output_type": "execute_result"
    }
   ],
   "source": [
    "np.random.uniform()"
   ]
  },
  {
   "cell_type": "code",
   "execution_count": 138,
   "id": "58c56414",
   "metadata": {},
   "outputs": [
    {
     "data": {
      "text/plain": [
       "5000.0"
      ]
     },
     "execution_count": 138,
     "metadata": {},
     "output_type": "execute_result"
    }
   ],
   "source": [
    "np.sum(weights)"
   ]
  },
  {
   "cell_type": "code",
   "execution_count": null,
   "id": "b2f3963b",
   "metadata": {},
   "outputs": [],
   "source": []
  },
  {
   "cell_type": "code",
   "execution_count": 3,
   "id": "9555e10b",
   "metadata": {},
   "outputs": [
    {
     "name": "stdout",
     "output_type": "stream",
     "text": [
      "[(0.12156862745098039, 0.4666666666666667, 0.7058823529411765, 1.0), (1.0, 0.4980392156862745, 0.054901960784313725, 1.0), (0.17254901960784313, 0.6274509803921569, 0.17254901960784313, 1.0), (0.8392156862745098, 0.15294117647058825, 0.1568627450980392, 1.0), (0.5803921568627451, 0.403921568627451, 0.7411764705882353, 1.0), (0.5490196078431373, 0.33725490196078434, 0.29411764705882354, 1.0), (0.8901960784313725, 0.4666666666666667, 0.7607843137254902, 1.0), (0.4980392156862745, 0.4980392156862745, 0.4980392156862745, 1.0), (0.7372549019607844, 0.7411764705882353, 0.13333333333333333, 1.0), (0.09019607843137255, 0.7450980392156863, 0.8117647058823529, 1.0)]\n"
     ]
    }
   ],
   "source": [
    "nsamples = 4\n",
    "graph_samples = [GenerateStochasticBlockModelWithFeatures(\n",
    "            num_vertices = 50,\n",
    "            num_edges = 400,\n",
    "            pi = np.array([0.25, 0.25, 0.25, 0.25]),\n",
    "            prop_mat = np.ones((4, 4)) + 25.0 * np.diag([1,1,1,1]),\n",
    "            feature_center_distance = 2.0,\n",
    "            feature_dim = 16,\n",
    "            edge_center_distance = 2.0,\n",
    "            edge_feature_dim = 4) for i in range(nsamples)]\n",
    "\n",
    "# colors = {0: [0, 0, 1, 1],\n",
    "#           1: [0, 1, 0, 1],\n",
    "#           2: [1, 0, 0, 1],\n",
    "#           3: [1, 1, 0, 1]}\n",
    "cmap = plt.cm.tab10\n",
    "cmaplist = [cmap(i) for i in range(cmap.N)]\n",
    "print(cmaplist)\n",
    "\n",
    "pmaps = []\n",
    "for graph_wrapper in graph_samples:\n",
    "    memberships = graph_wrapper.graph_memberships\n",
    "    pmap = graph_wrapper.graph.new_vertex_property(\"vector<double>\")\n",
    "    for v in graph_wrapper.graph.vertices():\n",
    "        member = memberships[int(v)]\n",
    "        pmap[v] = cmaplist[member]\n",
    "        \n",
    "    pmaps.append(pmap)"
   ]
  },
  {
   "cell_type": "code",
   "execution_count": 4,
   "id": "fefa79a2",
   "metadata": {},
   "outputs": [],
   "source": [
    "import os\n",
    "outdir=\"/tmp/sbm/notebook\"\n",
    "if not os.path.isdir(outdir):\n",
    "    os.makedirs(outdir)\n",
    "for i, graph in enumerate(graph_samples):\n",
    "    gt.graph_draw(graph.graph, vertex_fill_color=pmaps[i], output=outdir + \"/graph_{0:03d}.png\".format(i))"
   ]
  },
  {
   "cell_type": "code",
   "execution_count": 55,
   "id": "73e32956",
   "metadata": {},
   "outputs": [],
   "source": [
    "num_vertices = 500\n",
    "p_to_q_ratio = 3.0\n",
    "pi = np.array([3.0, 1.0])\n",
    "pi = np.array([1.0, 1.0])\n",
    "num_edges = 5000\n",
    "\n",
    "pi = pi / np.sum(pi)\n",
    "degrees = np.ones(shape=(num_vertices))\n",
    "degrees = num_edges * degrees / np.sum(degrees)\n",
    "\n",
    "k = len(pi)\n",
    "prop_mat = [[2.0, 1.0], [1.0, 2.0]]\n",
    "num_vertices = len(degrees)\n",
    "prop_mat = np.ones(shape=(k, k)) + np.identity(k) * (p_to_q_ratio - 1.0)\n",
    "num_edges = np.sum(degrees)\n",
    "\n",
    "memberships = _GenerateNodeMemberships(num_vertices, pi)\n",
    "edge_counts = _ComputeExpectedEdgeCounts(\n",
    "    num_edges, num_vertices, pi, prop_mat)\n"
   ]
  },
  {
   "cell_type": "code",
   "execution_count": 56,
   "id": "fe38f3c1",
   "metadata": {},
   "outputs": [
    {
     "data": {
      "text/plain": [
       "array([[1875.,  625.],\n",
       "       [ 625., 1875.]])"
      ]
     },
     "execution_count": 56,
     "metadata": {},
     "output_type": "execute_result"
    }
   ],
   "source": [
    "edge_counts"
   ]
  },
  {
   "cell_type": "code",
   "execution_count": 52,
   "id": "dcde5480",
   "metadata": {},
   "outputs": [
    {
     "data": {
      "text/plain": [
       "500.0"
      ]
     },
     "execution_count": 52,
     "metadata": {},
     "output_type": "execute_result"
    }
   ],
   "source": [
    "num_edges"
   ]
  }
 ],
 "metadata": {
  "kernelspec": {
   "display_name": "Python 3",
   "language": "python",
   "name": "python3"
  },
  "language_info": {
   "codemirror_mode": {
    "name": "ipython",
    "version": 3
   },
   "file_extension": ".py",
   "mimetype": "text/x-python",
   "name": "python",
   "nbconvert_exporter": "python",
   "pygments_lexer": "ipython3",
   "version": "3.6.9"
  }
 },
 "nbformat": 4,
 "nbformat_minor": 5
}
