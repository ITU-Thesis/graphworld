{
 "cells": [
  {
   "cell_type": "code",
   "execution_count": 1,
   "id": "bf0cd1a6",
   "metadata": {},
   "outputs": [],
   "source": [
    "# Imports\n",
    "import json\n",
    "import os\n",
    "\n",
    "import numpy as np\n",
    "import pandas as pd"
   ]
  },
  {
   "cell_type": "code",
   "execution_count": 2,
   "id": "07b735da",
   "metadata": {},
   "outputs": [],
   "source": [
    "# Constants\n",
    "NSHARDS = 10\n",
    "RESULTS_DIR = '/tmp/mwe'\n",
    "LOCALDIR = '/tmp'\n",
    "\n",
    "MODELS = ['GCN_AttributeMask', 'GCN_', 'GraphSAGE_', 'GraphSAGE_AttributeMask', \n",
    "          'GCN_CorruptedEmbeddingsReconstruction', 'GCN_CorruptedFeaturesReconstruction', 'GCN_AutoEncoding']\n",
    "METRIC = 'test_rocauc_ovr'"
   ]
  },
  {
   "cell_type": "code",
   "execution_count": 3,
   "id": "d647c92a",
   "metadata": {},
   "outputs": [
    {
     "name": "stdout",
     "output_type": "stream",
     "text": [
      "results.ndjson-00000-of-00010\n",
      "results.ndjson-00001-of-00010\n",
      "results.ndjson-00002-of-00010\n",
      "results.ndjson-00003-of-00010\n",
      "results.ndjson-00004-of-00010\n",
      "results.ndjson-00005-of-00010\n",
      "results.ndjson-00006-of-00010\n",
      "results.ndjson-00007-of-00010\n",
      "results.ndjson-00008-of-00010\n",
      "results.ndjson-00009-of-00010\n"
     ]
    }
   ],
   "source": [
    "dfs = []\n",
    "for shard_idx in range(NSHARDS):\n",
    "  filename = 'results.ndjson-%s-of-%s' % (str(shard_idx).zfill(5), str(NSHARDS).zfill(5))\n",
    "  print(filename)\n",
    "\n",
    "  with open(f'{RESULTS_DIR}/{filename}', 'r') as f:\n",
    "    lines = f.readlines()\n",
    "    records = map(json.loads, lines)\n",
    "    dfs.append(pd.DataFrame.from_records(records))\n",
    "\n",
    "# Construct df and remove nans\n",
    "results_df = pd.concat(dfs)\n",
    "results_df.drop(['marginal_param', 'fixed_params'], axis=1, inplace=True)\n",
    "results_df.dropna(axis=0, inplace=True)\n",
    "del dfs"
   ]
  },
  {
   "cell_type": "code",
   "execution_count": 4,
   "id": "7e49f671",
   "metadata": {},
   "outputs": [
    {
     "data": {
      "text/plain": [
       "Index(['nvertex', 'avg_degree', 'feature_center_distance', 'feature_dim',\n",
       "       'edge_center_distance', 'edge_feature_dim', 'p_to_q_ratio',\n",
       "       'num_clusters', 'cluster_size_slope', 'power_exponent',\n",
       "       ...\n",
       "       'GCN__test_rocauc_ovo', 'GCN__test_logloss', 'GCN__train_epochs',\n",
       "       'GCN__train_lr', 'GCN__train_lambda', 'GCN__model_in_channels',\n",
       "       'GCN__model_hidden_channels', 'GCN__model_num_layers',\n",
       "       'GCN__model_dropout', 'GCN__model_out_channels'],\n",
       "      dtype='object', length=147)"
      ]
     },
     "execution_count": 4,
     "metadata": {},
     "output_type": "execute_result"
    }
   ],
   "source": [
    "results_df.columns"
   ]
  },
  {
   "cell_type": "code",
   "execution_count": 5,
   "id": "d93d6fa1",
   "metadata": {},
   "outputs": [
    {
     "data": {
      "text/plain": [
       "numpy.bool_"
      ]
     },
     "execution_count": 5,
     "metadata": {},
     "output_type": "execute_result"
    }
   ],
   "source": [
    "type(results_df['GCN_CorruptedFeaturesReconstruction_model_partial_feature_reconstruction'][0])"
   ]
  },
  {
   "cell_type": "code",
   "execution_count": 6,
   "id": "11bb7184",
   "metadata": {},
   "outputs": [],
   "source": [
    "# Function for 1D lineplot\n",
    "from mpl_toolkits.mplot3d import Axes3D\n",
    "import matplotlib.pyplot as plt\n",
    "import pandas as pd\n",
    "import seaborn as sns\n",
    "import numpy as np\n",
    "\n",
    "def bucket_response_surface1d(results_df, xvar, metric='test_accuracy',\n",
    "                              group=False, ngrid=25, custom_range=None):\n",
    "  # BAD_VALS = [np.nan, np.inf, -np.inf]\n",
    "  # results_df_inner = results_df[~results_df.isin(BAD_VALS).any(1)]\n",
    "  results_df_inner = results_df.copy(deep=True)\n",
    "  if custom_range is None:\n",
    "    min_xvar = np.min(results_df_inner[xvar])\n",
    "    max_xvar = np.max(results_df_inner[xvar])\n",
    "  else:\n",
    "    min_xvar = custom_range[0]\n",
    "    max_xvar = custom_range[1]\n",
    "  xrange = np.linspace(min_xvar, max_xvar, ngrid)\n",
    "  def convert_value(z, range):\n",
    "    return range[np.argmin(np.abs(range - z))]\n",
    "  results_df_inner[xvar] = results_df_inner[xvar].apply(convert_value,\n",
    "                                                        range=xrange)\n",
    "  if group:\n",
    "    return results_df_inner.groupby([xvar])[[xvar, metric]].mean()\n",
    "  else:\n",
    "    return results_df_inner\n",
    "\n",
    "def plot_response_surface1d(param, metric, results_df,\n",
    "                            models=MODELS,\n",
    "                            reverse_x=False, ci=99):\n",
    "  bucketed_dfs = []\n",
    "  index_pos = 0\n",
    "  grouped_index_pos = 0\n",
    "  grouped_bucketed_dfs = []\n",
    "  for model in models:\n",
    "    model_metric = '%s_%s' % (model, metric)\n",
    "    if model_metric not in results_df.columns:\n",
    "      continue\n",
    "\n",
    "    # Get and store ungrouped bucketed df\n",
    "    bucketed_df = bucket_response_surface1d(results_df, param,\n",
    "                                            metric=model_metric,\n",
    "                                            group=False)\n",
    "    bucketed_df = bucketed_df.rename(columns={model_metric: metric})\n",
    "    bucketed_df['model'] = model\n",
    "    new_index = list(range(index_pos, index_pos + bucketed_df.shape[0]))\n",
    "    bucketed_df.index = new_index\n",
    "    bucketed_dfs.append(bucketed_df)\n",
    "    index_pos += bucketed_df.shape[0]\n",
    "\n",
    "    # Get and store grouped bucketed df\n",
    "    grouped_bucketed_df = bucket_response_surface1d(results_df, param,\n",
    "                                                    metric=model_metric,\n",
    "                                                    group=True)\n",
    "    grouped_bucketed_df = grouped_bucketed_df.rename(\n",
    "        columns={model_metric: metric})\n",
    "    grouped_bucketed_df['model'] = model\n",
    "    grouped_new_index = list(range(\n",
    "        grouped_index_pos, grouped_index_pos + grouped_bucketed_df.shape[0]))\n",
    "    grouped_bucketed_df.index = grouped_new_index\n",
    "    grouped_bucketed_dfs.append(grouped_bucketed_df)\n",
    "    grouped_index_pos += grouped_bucketed_df.shape[0]\n",
    "\n",
    "    \n",
    "    \n",
    "  plot_df = pd.concat(bucketed_dfs, axis=0)\n",
    "\n",
    "  # Make the plot\n",
    "  fig = plt.figure(figsize=(10, 10))\n",
    "\n",
    "  range_x = (np.min(results_df[param]), np.max(results_df[param]))\n",
    "  if reverse_x:\n",
    "    range_x = (range_x[1], range_x[0])\n",
    "\n",
    "  sns.lineplot(data=plot_df, x=param, y=metric, hue=\"model\", ci=ci)\n",
    "  plt.title('%s vs %s' % (metric, param))\n",
    "  plt.show()"
   ]
  },
  {
   "cell_type": "code",
   "execution_count": 7,
   "id": "f7f75327",
   "metadata": {},
   "outputs": [
    {
     "data": {
      "text/html": [
       "<div>\n",
       "<style scoped>\n",
       "    .dataframe tbody tr th:only-of-type {\n",
       "        vertical-align: middle;\n",
       "    }\n",
       "\n",
       "    .dataframe tbody tr th {\n",
       "        vertical-align: top;\n",
       "    }\n",
       "\n",
       "    .dataframe thead th {\n",
       "        text-align: right;\n",
       "    }\n",
       "</style>\n",
       "<table border=\"1\" class=\"dataframe\">\n",
       "  <thead>\n",
       "    <tr style=\"text-align: right;\">\n",
       "      <th></th>\n",
       "      <th>nvertex</th>\n",
       "      <th>avg_degree</th>\n",
       "      <th>feature_center_distance</th>\n",
       "      <th>feature_dim</th>\n",
       "      <th>edge_center_distance</th>\n",
       "      <th>edge_feature_dim</th>\n",
       "      <th>p_to_q_ratio</th>\n",
       "      <th>num_clusters</th>\n",
       "      <th>cluster_size_slope</th>\n",
       "      <th>power_exponent</th>\n",
       "      <th>...</th>\n",
       "      <th>GCN__test_rocauc_ovo</th>\n",
       "      <th>GCN__test_logloss</th>\n",
       "      <th>GCN__train_epochs</th>\n",
       "      <th>GCN__train_lr</th>\n",
       "      <th>GCN__train_lambda</th>\n",
       "      <th>GCN__model_in_channels</th>\n",
       "      <th>GCN__model_hidden_channels</th>\n",
       "      <th>GCN__model_num_layers</th>\n",
       "      <th>GCN__model_dropout</th>\n",
       "      <th>GCN__model_out_channels</th>\n",
       "    </tr>\n",
       "  </thead>\n",
       "  <tbody>\n",
       "    <tr>\n",
       "      <th>0</th>\n",
       "      <td>267</td>\n",
       "      <td>11.520599</td>\n",
       "      <td>2.710736</td>\n",
       "      <td>16</td>\n",
       "      <td>2.0</td>\n",
       "      <td>2</td>\n",
       "      <td>35.24494</td>\n",
       "      <td>4</td>\n",
       "      <td>0.677186</td>\n",
       "      <td>3.0</td>\n",
       "      <td>...</td>\n",
       "      <td>1.0</td>\n",
       "      <td>0.86006</td>\n",
       "      <td>50</td>\n",
       "      <td>0.01</td>\n",
       "      <td>1000</td>\n",
       "      <td>16</td>\n",
       "      <td>16</td>\n",
       "      <td>4</td>\n",
       "      <td>0</td>\n",
       "      <td>4</td>\n",
       "    </tr>\n",
       "  </tbody>\n",
       "</table>\n",
       "<p>1 rows × 147 columns</p>\n",
       "</div>"
      ],
      "text/plain": [
       "   nvertex  avg_degree  feature_center_distance  feature_dim  \\\n",
       "0      267   11.520599                 2.710736           16   \n",
       "\n",
       "   edge_center_distance  edge_feature_dim  p_to_q_ratio  num_clusters  \\\n",
       "0                   2.0                 2      35.24494             4   \n",
       "\n",
       "   cluster_size_slope  power_exponent  ...  GCN__test_rocauc_ovo  \\\n",
       "0            0.677186             3.0  ...                   1.0   \n",
       "\n",
       "  GCN__test_logloss  GCN__train_epochs  GCN__train_lr  GCN__train_lambda  \\\n",
       "0           0.86006                 50           0.01               1000   \n",
       "\n",
       "   GCN__model_in_channels  GCN__model_hidden_channels  GCN__model_num_layers  \\\n",
       "0                      16                          16                      4   \n",
       "\n",
       "   GCN__model_dropout  GCN__model_out_channels  \n",
       "0                   0                        4  \n",
       "\n",
       "[1 rows x 147 columns]"
      ]
     },
     "execution_count": 7,
     "metadata": {},
     "output_type": "execute_result"
    }
   ],
   "source": [
    "results_df"
   ]
  },
  {
   "cell_type": "raw",
   "id": "4b42b8d8",
   "metadata": {},
   "source": []
  },
  {
   "cell_type": "code",
   "execution_count": 8,
   "id": "4c993a10",
   "metadata": {},
   "outputs": [
    {
     "data": {
      "image/png": "[encoded data removed]",
      "text/plain": [
       "<Figure size 720x720 with 1 Axes>"
      ]
     },
     "metadata": {
      "needs_background": "light"
     },
     "output_type": "display_data"
    }
   ],
   "source": [
    "plot_response_surface1d('p_to_q_ratio', METRIC, results_df)"
   ]
  },
  {
   "cell_type": "code",
   "execution_count": null,
   "id": "75f84f10",
   "metadata": {},
   "outputs": [],
   "source": []
  }
 ],
 "metadata": {
  "kernelspec": {
   "display_name": "Python 3",
   "language": "python",
   "name": "python3"
  },
  "language_info": {
   "codemirror_mode": {
    "name": "ipython",
    "version": 3
   },
   "file_extension": ".py",
   "mimetype": "text/x-python",
   "name": "python",
   "nbconvert_exporter": "python",
   "pygments_lexer": "ipython3",
   "version": "3.6.9"
  }
 },
 "nbformat": 4,
 "nbformat_minor": 5
}
