{
 "cells": [
  {
   "cell_type": "code",
   "execution_count": 1,
   "id": "1fa947de",
   "metadata": {},
   "outputs": [
    {
     "name": "stderr",
     "output_type": "stream",
     "text": [
      "/usr/lib/python3/dist-packages/graph_tool/draw/cairo_draw.py:1501: RuntimeWarning: Error importing Gtk module: No module named 'gi'; GTK+ drawing will not work.\n",
      "  warnings.warn(msg, RuntimeWarning)\n"
     ]
    }
   ],
   "source": [
    "%matplotlib inline\n",
    "import numpy as np\n",
    "import matplotlib.pyplot as plt\n",
    "from sbm.sbm_simulator import GenerateStochasticBlockModelWithFeatures\n",
    "import graph_tool.all as gt"
   ]
  },
  {
   "cell_type": "code",
   "execution_count": 2,
   "id": "9555e10b",
   "metadata": {},
   "outputs": [
    {
     "name": "stdout",
     "output_type": "stream",
     "text": [
      "[(0.12156862745098039, 0.4666666666666667, 0.7058823529411765, 1.0), (1.0, 0.4980392156862745, 0.054901960784313725, 1.0), (0.17254901960784313, 0.6274509803921569, 0.17254901960784313, 1.0), (0.8392156862745098, 0.15294117647058825, 0.1568627450980392, 1.0), (0.5803921568627451, 0.403921568627451, 0.7411764705882353, 1.0), (0.5490196078431373, 0.33725490196078434, 0.29411764705882354, 1.0), (0.8901960784313725, 0.4666666666666667, 0.7607843137254902, 1.0), (0.4980392156862745, 0.4980392156862745, 0.4980392156862745, 1.0), (0.7372549019607844, 0.7411764705882353, 0.13333333333333333, 1.0), (0.09019607843137255, 0.7450980392156863, 0.8117647058823529, 1.0)]\n"
     ]
    }
   ],
   "source": [
    "nsamples = 4\n",
    "graph_samples = [GenerateStochasticBlockModelWithFeatures(\n",
    "            num_vertices = 50,\n",
    "            num_edges = 400,\n",
    "            pi = np.array([0.25, 0.25, 0.25, 0.25]),\n",
    "            prop_mat = np.ones((4, 4)) + 25.0 * np.diag([1,1,1,1]),\n",
    "            feature_center_distance = 2.0,\n",
    "            feature_dim = 16,\n",
    "            edge_center_distance = 2.0,\n",
    "            edge_feature_dim = 4) for i in range(nsamples)]\n",
    "\n",
    "# colors = {0: [0, 0, 1, 1],\n",
    "#           1: [0, 1, 0, 1],\n",
    "#           2: [1, 0, 0, 1],\n",
    "#           3: [1, 1, 0, 1]}\n",
    "cmap = plt.cm.tab10\n",
    "cmaplist = [cmap(i) for i in range(cmap.N)]\n",
    "print(cmaplist)\n",
    "\n",
    "pmaps = []\n",
    "for graph_wrapper in graph_samples:\n",
    "    memberships = graph_wrapper.graph_memberships\n",
    "    pmap = graph_wrapper.graph.new_vertex_property(\"vector<double>\")\n",
    "    for v in graph_wrapper.graph.vertices():\n",
    "        member = memberships[int(v)]\n",
    "        pmap[v] = cmaplist[member]\n",
    "        \n",
    "    pmaps.append(pmap)"
   ]
  },
  {
   "cell_type": "code",
   "execution_count": 10,
   "id": "fefa79a2",
   "metadata": {},
   "outputs": [],
   "source": [
    "import os\n",
    "outdir=\"/tmp/sbm/notebook\"\n",
    "if not os.path.isdir(outdir):\n",
    "    os.makedirs(outdir)\n",
    "for i, graph in enumerate(graph_samples):\n",
    "    gt.graph_draw(graph.graph, vertex_fill_color=pmaps[i], output=outdir + \"/graph_{0:03d}.png\".format(i))"
   ]
  },
  {
   "cell_type": "code",
   "execution_count": null,
   "id": "73e32956",
   "metadata": {},
   "outputs": [],
   "source": []
  }
 ],
 "metadata": {
  "kernelspec": {
   "display_name": "Python 3",
   "language": "python",
   "name": "python3"
  },
  "language_info": {
   "codemirror_mode": {
    "name": "ipython",
    "version": 3
   },
   "file_extension": ".py",
   "mimetype": "text/x-python",
   "name": "python",
   "nbconvert_exporter": "python",
   "pygments_lexer": "ipython3",
   "version": "3.6.9"
  }
 },
 "nbformat": 4,
 "nbformat_minor": 5
}
